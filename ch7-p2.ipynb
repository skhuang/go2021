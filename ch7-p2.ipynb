{
 "cells": [
  {
   "cell_type": "markdown",
   "metadata": {
    "toc": true
   },
   "source": [
    "<h1>Table of Contents<span class=\"tocSkip\"></span></h1>\n",
    "<div class=\"toc\"><ul class=\"toc-item\"><li><span><a href=\"#Interfaces\" data-toc-modified-id=\"Interfaces-7\"><span class=\"toc-item-num\">7&nbsp;&nbsp;</span>Interfaces</a></span><ul class=\"toc-item\"><li><span><a href=\"#Interfaces-as-Contracts\" data-toc-modified-id=\"Interfaces-as-Contracts-7.1\"><span class=\"toc-item-num\">7.1&nbsp;&nbsp;</span>Interfaces as Contracts</a></span></li><li><span><a href=\"#Interface-Types\" data-toc-modified-id=\"Interface-Types-7.2\"><span class=\"toc-item-num\">7.2&nbsp;&nbsp;</span>Interface Types</a></span></li><li><span><a href=\"#Interface-Satisfaction\" data-toc-modified-id=\"Interface-Satisfaction-7.3\"><span class=\"toc-item-num\">7.3&nbsp;&nbsp;</span>Interface Satisfaction</a></span></li><li><span><a href=\"#Parsing-Flags-with-flag.Value\" data-toc-modified-id=\"Parsing-Flags-with-flag.Value-7.4\"><span class=\"toc-item-num\">7.4&nbsp;&nbsp;</span>Parsing Flags with flag.Value</a></span></li><li><span><a href=\"#Interface-Values\" data-toc-modified-id=\"Interface-Values-7.5\"><span class=\"toc-item-num\">7.5&nbsp;&nbsp;</span>Interface Values</a></span></li><li><span><a href=\"#Sorting-with-sort.Interface\" data-toc-modified-id=\"Sorting-with-sort.Interface-7.6\"><span class=\"toc-item-num\">7.6&nbsp;&nbsp;</span>Sorting with sort.Interface</a></span></li><li><span><a href=\"#The-http.Handler-Interface\" data-toc-modified-id=\"The-http.Handler-Interface-7.7\"><span class=\"toc-item-num\">7.7&nbsp;&nbsp;</span>The http.Handler Interface</a></span></li><li><span><a href=\"#The-error-Interface\" data-toc-modified-id=\"The-error-Interface-7.8\"><span class=\"toc-item-num\">7.8&nbsp;&nbsp;</span>The error Interface</a></span></li><li><span><a href=\"#Example:-Expression-Evaluator\" data-toc-modified-id=\"Example:-Expression-Evaluator-7.9\"><span class=\"toc-item-num\">7.9&nbsp;&nbsp;</span>Example: Expression Evaluator</a></span></li><li><span><a href=\"#Type-Assertions\" data-toc-modified-id=\"Type-Assertions-7.10\"><span class=\"toc-item-num\">7.10&nbsp;&nbsp;</span>Type Assertions</a></span></li><li><span><a href=\"#Discriminating-Errors-with-Type-Assertions\" data-toc-modified-id=\"Discriminating-Errors-with-Type-Assertions-7.11\"><span class=\"toc-item-num\">7.11&nbsp;&nbsp;</span>Discriminating Errors with Type Assertions</a></span></li><li><span><a href=\"#Querying-Behaviors-with-Interface-Type-Assertions\" data-toc-modified-id=\"Querying-Behaviors-with-Interface-Type-Assertions-7.12\"><span class=\"toc-item-num\">7.12&nbsp;&nbsp;</span>Querying Behaviors with Interface Type Assertions</a></span></li><li><span><a href=\"#Type-Switches\" data-toc-modified-id=\"Type-Switches-7.13\"><span class=\"toc-item-num\">7.13&nbsp;&nbsp;</span>Type Switches</a></span></li><li><span><a href=\"#Example:-Token-Based-XML-Decoding\" data-toc-modified-id=\"Example:-Token-Based-XML-Decoding-7.14\"><span class=\"toc-item-num\">7.14&nbsp;&nbsp;</span>Example: Token-Based XML Decoding</a></span></li></ul></li></ul></div>"
   ]
  },
  {
   "cell_type": "markdown",
   "metadata": {
    "slideshow": {
     "slide_type": "slide"
    }
   },
   "source": [
    "# Interfaces\n",
    "\n",
    "## Interfaces as Contracts\n",
    "\n",
    "* Concrete type specifies the exact representation of its values and exposes the intrinsic operations of tht representation\n",
    "* Interface is an abstract type"
   ]
  },
  {
   "cell_type": "markdown",
   "metadata": {
    "slideshow": {
     "slide_type": "subslide"
    }
   },
   "source": [
    "* Writer is the interface that wraps the basic Write method\n",
    "* Write writes len(p) bytes from p to the underlying data stream.\n",
    "* Returns the number of bytes from p (0 $\\le$ n $\\le$ len(p))\n",
    "* Write must return a non-nil error if returns n < len(p)\n",
    "* Write must not modify the slice data, even temporarily"
   ]
  },
  {
   "cell_type": "markdown",
   "metadata": {
    "slideshow": {
     "slide_type": "slide"
    }
   },
   "source": [
    "## Interface Types\n",
    "* An interface type specifies a set of metods that a concrete type must possess to be considered an instance of that interface "
   ]
  },
  {
   "cell_type": "markdown",
   "metadata": {
    "slideshow": {
     "slide_type": "slide"
    }
   },
   "source": [
    "## Interface Satisfaction\n",
    "* A type satisfies an interface if it possesses all the methods the interface requires\n",
    "* An expression may be assigned to an interface only if its type satisfies the interface"
   ]
  },
  {
   "cell_type": "markdown",
   "metadata": {
    "slideshow": {
     "slide_type": "subslide"
    }
   },
   "source": [
    "* the type interface{} has no methods \n",
    "* the empty interface type places no demands on the types that satisfy it\n",
    "* We can assign any value to the empty interface\n",
    "* fmt.Println or errorf to accept arguments of any type"
   ]
  },
  {
   "cell_type": "markdown",
   "metadata": {
    "slideshow": {
     "slide_type": "subslide"
    }
   },
   "source": [
    "* A concrete type may satisfy many unrelated interfaces\n",
    "* We may define the following set of concrete types:\n",
    "  * Album\n",
    "  * Book\n",
    "  * Movie\n",
    "  * Magazine\n",
    "  * Podcast\n",
    "  * TVEpisode\n",
    "  * Track"
   ]
  },
  {
   "cell_type": "markdown",
   "metadata": {
    "slideshow": {
     "slide_type": "subslide"
    }
   },
   "source": [
    "* We can express each abstration of interest as ann interface\n",
    "* Some properties are common to all artifacts, such as title, a creation date, and a list of "
   ]
  },
  {
   "cell_type": "markdown",
   "metadata": {
    "slideshow": {
     "slide_type": "subslide"
    }
   },
   "source": [
    "* Each grouping of concrete ypes based on the shared behaviors can be expressed as an interface type\n",
    "* Set of interfaces satisfied by a class in class-based languages are explicit\n",
    "* In Golang, we can define new abstractions or groupings of interest when we need them, without modifying the declaration of the concrete type"
   ]
  },
  {
   "cell_type": "markdown",
   "metadata": {
    "slideshow": {
     "slide_type": "slide"
    }
   },
   "source": [
    "## Parsing Flags with flag.Value"
   ]
  },
  {
   "cell_type": "markdown",
   "metadata": {
    "slideshow": {
     "slide_type": "subslide"
    }
   },
   "source": [
    "<code>\n",
    "    package flag\n",
    "    //Value is the interface to the value stored in a flag\n",
    "    type Value interface {\n",
    "      String() string\n",
    "      Set(string) error\n",
    "    }\n",
    "</code>"
   ]
  },
  {
   "cell_type": "markdown",
   "metadata": {
    "slideshow": {
     "slide_type": "slide"
    }
   },
   "source": [
    "## Interface Values"
   ]
  },
  {
   "cell_type": "markdown",
   "metadata": {
    "slideshow": {
     "slide_type": "slide"
    }
   },
   "source": [
    "## Sorting with sort.Interface"
   ]
  },
  {
   "cell_type": "markdown",
   "metadata": {
    "slideshow": {
     "slide_type": "slide"
    }
   },
   "source": [
    "## The http.Handler Interface"
   ]
  },
  {
   "cell_type": "markdown",
   "metadata": {
    "slideshow": {
     "slide_type": "slide"
    }
   },
   "source": [
    "## The error Interface"
   ]
  },
  {
   "cell_type": "markdown",
   "metadata": {
    "slideshow": {
     "slide_type": "subslide"
    }
   },
   "source": [
    "* the predeclaraed error type is an interface type \n",
    "  * with a single method returning an error message\n",
    "<code>\n",
    "type error interface {\n",
    "    Error() string\n",
    "}\n",
    "</code>\n",
    "<code>\n",
    "package errors\n",
    "    func New(text string) error {return &errorString{text}}\n",
    "    type errorString struct { text string }\n",
    "    func (e *errorString) Error() string { return e.text }\n",
    "</code>"
   ]
  },
  {
   "cell_type": "code",
   "execution_count": 5,
   "metadata": {
    "slideshow": {
     "slide_type": "subslide"
    }
   },
   "outputs": [],
   "source": [
    "//package fmt\n",
    "import \"errors\"\n",
    "func Error(format string, args ...interface{}) error {\n",
    "    return errors.New(fmt.Sprintf(format, args...))\n",
    "}"
   ]
  },
  {
   "cell_type": "code",
   "execution_count": 8,
   "metadata": {
    "slideshow": {
     "slide_type": "subslide"
    }
   },
   "outputs": [],
   "source": [
    "//package syscall\n",
    "type Errno uintptr // operating system error code\n",
    "var errors = [...]string {\n",
    "    1: \"operation not permitted\", // EPERM\n",
    "    2: \"no such file or directory\", // ENOENT\n",
    "    3: \"no such process\",           // ESRCH\n",
    "}\n",
    "\n",
    "func (e Errno) Error() string {\n",
    "    if 0 <= int(e) && int(e) < len(errors) {\n",
    "        return errors[e]\n",
    "    }\n",
    "    return fmt.Sprintf(\"errno %d\",e)\n",
    "}"
   ]
  },
  {
   "cell_type": "code",
   "execution_count": 6,
   "metadata": {
    "slideshow": {
     "slide_type": "subslide"
    }
   },
   "outputs": [
    {
     "name": "stdout",
     "output_type": "stream",
     "text": [
      "no such file or directory\n",
      "no such file or directory\n"
     ]
    },
    {
     "data": {
      "text/plain": [
       "26 <nil>"
      ]
     },
     "execution_count": 6,
     "metadata": {},
     "output_type": "execute_result"
    }
   ],
   "source": [
    "import \"syscall\"\n",
    "var err error = syscall.Errno(2)\n",
    "fmt.Println(err.Error())  // \"no such file or directory\"\n",
    "fmt.Println(err)          // \"no such file or directory\""
   ]
  },
  {
   "cell_type": "markdown",
   "metadata": {
    "slideshow": {
     "slide_type": "slide"
    }
   },
   "source": [
    "## Example: Expression Evaluator"
   ]
  },
  {
   "cell_type": "code",
   "execution_count": 7,
   "metadata": {
    "code_folding": [],
    "slideshow": {
     "slide_type": "slide"
    }
   },
   "outputs": [],
   "source": [
    "// Copyright © 2016 Alan A. A. Donovan & Brian W. Kernighan.\n",
    "// License: https://creativecommons.org/licenses/by-nc-sa/4.0/\n",
    "\n",
    "//package eval\n",
    "\n",
    "// An Expr is an arithmetic expression.\n",
    "type Expr interface {\n",
    "\t// Eval returns the value of this Expr in the environment env.\n",
    "\tEval(env Env) float64\n",
    "\t// Check reports errors in this Expr and adds its Vars to the set.\n",
    "\tCheck(vars map[Var]bool) error\n",
    "}\n",
    "\n",
    "//!+ast\n",
    "\n",
    "// A Var identifies a variable, e.g., x.\n",
    "type Var string\n",
    "\n",
    "// A literal is a numeric constant, e.g., 3.141.\n",
    "type literal float64\n",
    "\n",
    "// A unary represents a unary operator expression, e.g., -x.\n",
    "type unary struct {\n",
    "\top rune // one of '+', '-'\n",
    "\tx  Expr\n",
    "}\n",
    "\n",
    "// A binary represents a binary operator expression, e.g., x+y.\n",
    "type binary struct {\n",
    "\top   rune // one of '+', '-', '*', '/'\n",
    "\tx, y Expr\n",
    "}\n",
    "\n",
    "// A call represents a function call expression, e.g., sin(x).\n",
    "type call struct {\n",
    "\tfn   string // one of \"pow\", \"sin\", \"sqrt\"\n",
    "\targs []Expr\n",
    "}\n",
    "\n",
    "//!-ast"
   ]
  },
  {
   "cell_type": "code",
   "execution_count": 4,
   "metadata": {
    "code_folding": [],
    "slideshow": {
     "slide_type": "slide"
    }
   },
   "outputs": [],
   "source": [
    "// Copyright © 2016 Alan A. A. Donovan & Brian W. Kernighan.\n",
    "// License: https://creativecommons.org/licenses/by-nc-sa/4.0/\n",
    "\n",
    "// See page 198.\n",
    "\n",
    "// Package eval provides an expression evaluator.\n",
    "//package eval\n",
    "\n",
    "import (\n",
    "\t\"fmt\"\n",
    "\t\"math\"\n",
    ")\n",
    "\n",
    "//!+env\n",
    "\n",
    "type Env map[Var]float64\n",
    "\n",
    "//!-env\n",
    "\n",
    "//!+Eval1\n",
    "\n",
    "func (v Var) Eval(env Env) float64 {\n",
    "\treturn env[v]\n",
    "}\n",
    "\n",
    "func (l literal) Eval(_ Env) float64 {\n",
    "\treturn float64(l)\n",
    "}\n",
    "\n",
    "//!-Eval1\n",
    "\n",
    "//!+Eval2\n",
    "\n",
    "func (u unary) Eval(env Env) float64 {\n",
    "\tswitch u.op {\n",
    "\tcase '+':\n",
    "\t\treturn +u.x.Eval(env)\n",
    "\tcase '-':\n",
    "\t\treturn -u.x.Eval(env)\n",
    "\t}\n",
    "\tpanic(fmt.Sprintf(\"unsupported unary operator: %q\", u.op))\n",
    "}\n",
    "\n",
    "func (b binary) Eval(env Env) float64 {\n",
    "\tswitch b.op {\n",
    "\tcase '+':\n",
    "\t\treturn b.x.Eval(env) + b.y.Eval(env)\n",
    "\tcase '-':\n",
    "\t\treturn b.x.Eval(env) - b.y.Eval(env)\n",
    "\tcase '*':\n",
    "\t\treturn b.x.Eval(env) * b.y.Eval(env)\n",
    "\tcase '/':\n",
    "\t\treturn b.x.Eval(env) / b.y.Eval(env)\n",
    "\t}\n",
    "\tpanic(fmt.Sprintf(\"unsupported binary operator: %q\", b.op))\n",
    "}\n",
    "\n",
    "func (c call) Eval(env Env) float64 {\n",
    "\tswitch c.fn {\n",
    "\tcase \"pow\":\n",
    "\t\treturn math.Pow(c.args[0].Eval(env), c.args[1].Eval(env))\n",
    "\tcase \"sin\":\n",
    "\t\treturn math.Sin(c.args[0].Eval(env))\n",
    "\tcase \"sqrt\":\n",
    "\t\treturn math.Sqrt(c.args[0].Eval(env))\n",
    "\t}\n",
    "\tpanic(fmt.Sprintf(\"unsupported function call: %s\", c.fn))\n",
    "}\n",
    "\n",
    "//!-Eval2"
   ]
  },
  {
   "cell_type": "code",
   "execution_count": null,
   "metadata": {
    "slideshow": {
     "slide_type": "slide"
    }
   },
   "outputs": [],
   "source": []
  },
  {
   "cell_type": "markdown",
   "metadata": {
    "slideshow": {
     "slide_type": "slide"
    }
   },
   "source": [
    "## Type Assertions"
   ]
  },
  {
   "cell_type": "markdown",
   "metadata": {
    "slideshow": {
     "slide_type": "slide"
    }
   },
   "source": [
    "## Discriminating Errors with Type Assertions"
   ]
  },
  {
   "cell_type": "markdown",
   "metadata": {
    "slideshow": {
     "slide_type": "slide"
    }
   },
   "source": [
    "## Querying Behaviors with Interface Type Assertions"
   ]
  },
  {
   "cell_type": "markdown",
   "metadata": {
    "slideshow": {
     "slide_type": "slide"
    }
   },
   "source": [
    "## Type Switches"
   ]
  },
  {
   "cell_type": "markdown",
   "metadata": {
    "slideshow": {
     "slide_type": "slide"
    }
   },
   "source": [
    "## Example: Token-Based XML Decoding"
   ]
  }
 ],
 "metadata": {
  "celltoolbar": "Slideshow",
  "kernelspec": {
   "display_name": "Go",
   "language": "go",
   "name": "gophernotes"
  },
  "language_info": {
   "codemirror_mode": "",
   "file_extension": ".go",
   "mimetype": "",
   "name": "go",
   "nbconvert_exporter": "",
   "pygments_lexer": "",
   "version": "go1.17.1"
  },
  "latex_envs": {
   "LaTeX_envs_menu_present": true,
   "autoclose": false,
   "autocomplete": true,
   "bibliofile": "biblio.bib",
   "cite_by": "apalike",
   "current_citInitial": 1,
   "eqLabelWithNumbers": true,
   "eqNumInitial": 1,
   "hotkeys": {
    "equation": "Ctrl-E",
    "itemize": "Ctrl-I"
   },
   "labels_anchors": false,
   "latex_user_defs": false,
   "report_style_numbering": false,
   "user_envs_cfg": false
  },
  "rise": {
   "enable_chalkboard": true,
   "scroll": true
  },
  "toc": {
   "base_numbering": "7",
   "nav_menu": {},
   "number_sections": true,
   "sideBar": true,
   "skip_h1_title": false,
   "title_cell": "Table of Contents",
   "title_sidebar": "Contents",
   "toc_cell": true,
   "toc_position": {},
   "toc_section_display": true,
   "toc_window_display": false
  }
 },
 "nbformat": 4,
 "nbformat_minor": 2
}
