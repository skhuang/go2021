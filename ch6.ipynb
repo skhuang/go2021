{
 "cells": [
  {
   "cell_type": "markdown",
   "metadata": {
    "slideshow": {
     "slide_type": "skip"
    },
    "toc": true
   },
   "source": [
    "<h1>Table of Contents<span class=\"tocSkip\"></span></h1>\n",
    "<div class=\"toc\"><ul class=\"toc-item\"><li><span><a href=\"#Methods\" data-toc-modified-id=\"Methods-6\"><span class=\"toc-item-num\">6&nbsp;&nbsp;</span>Methods</a></span><ul class=\"toc-item\"><li><span><a href=\"#Method-Declarations\" data-toc-modified-id=\"Method-Declarations-6.1\"><span class=\"toc-item-num\">6.1&nbsp;&nbsp;</span>Method Declarations</a></span></li><li><span><a href=\"#Methods-with-a-Pointer-Receiver\" data-toc-modified-id=\"Methods-with-a-Pointer-Receiver-6.2\"><span class=\"toc-item-num\">6.2&nbsp;&nbsp;</span>Methods with a Pointer Receiver</a></span><ul class=\"toc-item\"><li><span><a href=\"#Nil-is-a-Valid-Receiver-Value\" data-toc-modified-id=\"Nil-is-a-Valid-Receiver-Value-6.2.1\"><span class=\"toc-item-num\">6.2.1&nbsp;&nbsp;</span>Nil is a Valid Receiver Value</a></span></li></ul></li><li><span><a href=\"#Composing-Types-by-Struct-Embedding\" data-toc-modified-id=\"Composing-Types-by-Struct-Embedding-6.3\"><span class=\"toc-item-num\">6.3&nbsp;&nbsp;</span>Composing Types by Struct Embedding</a></span></li><li><span><a href=\"#Method-Values-and-Expressions\" data-toc-modified-id=\"Method-Values-and-Expressions-6.4\"><span class=\"toc-item-num\">6.4&nbsp;&nbsp;</span>Method Values and Expressions</a></span></li><li><span><a href=\"#Example:-Bit-Vector-Type\" data-toc-modified-id=\"Example:-Bit-Vector-Type-6.5\"><span class=\"toc-item-num\">6.5&nbsp;&nbsp;</span>Example: Bit Vector Type</a></span></li><li><span><a href=\"#Encapsulation\" data-toc-modified-id=\"Encapsulation-6.6\"><span class=\"toc-item-num\">6.6&nbsp;&nbsp;</span>Encapsulation</a></span></li></ul></li></ul></div>"
   ]
  },
  {
   "cell_type": "markdown",
   "metadata": {
    "slideshow": {
     "slide_type": "slide"
    }
   },
   "source": [
    "# Methods"
   ]
  },
  {
   "cell_type": "markdown",
   "metadata": {
    "slideshow": {
     "slide_type": "fragment"
    }
   },
   "source": [
    "* Object-oriente programming (OOP) \n",
    "  * an object: a value or variable with methods\n",
    "  * a method: a function associated with a particular type\n",
    "* OO program uses methods to express the properties and operations of each data structure \n",
    "  * client need not access the object's representation directly"
   ]
  },
  {
   "cell_type": "code",
   "execution_count": 1,
   "metadata": {
    "slideshow": {
     "slide_type": "subslide"
    }
   },
   "outputs": [
    {
     "name": "stdout",
     "output_type": "stream",
     "text": [
      "time.Duration\n",
      "86400\n"
     ]
    },
    {
     "data": {
      "text/plain": [
       "6 <nil>"
      ]
     },
     "execution_count": 1,
     "metadata": {},
     "output_type": "execute_result"
    }
   ],
   "source": [
    "import (\"time\";\"fmt\")\n",
    "const day = 24 * time.Hour\n",
    "fmt.Printf(\"%T\\n\", day)\n",
    "fmt.Println(day.Seconds())"
   ]
  },
  {
   "cell_type": "code",
   "execution_count": 2,
   "metadata": {
    "slideshow": {
     "slide_type": "fragment"
    }
   },
   "outputs": [
    {
     "data": {
      "text/plain": [
       "36°C"
      ]
     },
     "execution_count": 2,
     "metadata": {},
     "output_type": "execute_result"
    }
   ],
   "source": [
    "type Celsius float32\n",
    "func (c Celsius) String() string { return fmt.Sprintf(\"%g°C\",c)}\n",
    "//func String() string { return fmt.Sprintf(\"%g°C\",c)}\n",
    "\n",
    "c := Celsius(36.0)\n",
    "c.String()"
   ]
  },
  {
   "cell_type": "markdown",
   "metadata": {
    "slideshow": {
     "slide_type": "slide"
    }
   },
   "source": [
    "## Method Declarations\n",
    "* A method is declared with a variant of the ordinary function declaration in which an extra parameter appears before the function name\n",
    "* The parameter attaches the function to the type of that parameter"
   ]
  },
  {
   "cell_type": "code",
   "execution_count": 3,
   "metadata": {
    "code_folding": [
     0
    ],
    "slideshow": {
     "slide_type": "fragment"
    }
   },
   "outputs": [
    {
     "name": "stdout",
     "output_type": "stream",
     "text": [
      "3.6055512754639896\n",
      "3.6055512754639896\n"
     ]
    },
    {
     "data": {
      "text/plain": [
       "19 <nil>"
      ]
     },
     "execution_count": 3,
     "metadata": {},
     "output_type": "execute_result"
    }
   ],
   "source": [
    "//gopl.io/ch6/geometry\n",
    "//Package geometry\n",
    "import (\"math\"\n",
    "        \"fmt\")\n",
    "type Point struct{X,Y float64}\n",
    "// tradtional function\n",
    "func Distance(p, q Point) float64 {\n",
    "    return math.Hypot(q.X-p.X, q.Y-p.Y)\n",
    "}\n",
    "// same thing, but as a method of the Point type\n",
    "func (p Point) Distance(q Point) float64 {\n",
    "    return math.Hypot(q.X-p.X, q.Y-p.Y)\n",
    "}\n",
    "\n",
    "p := Point{3,2}\n",
    "q := Point{6,4}\n",
    "fmt.Println(Distance(p,q)) // function call\n",
    "fmt.Println(p.Distance(q)) // method call"
   ]
  },
  {
   "cell_type": "code",
   "execution_count": 2,
   "metadata": {
    "slideshow": {
     "slide_type": "skip"
    }
   },
   "outputs": [],
   "source": [
    "import (\n",
    "    \"bytes\"\n",
    "    \"github.com/wcharczuk/go-chart\" //exposes \"chart\"\n",
    ")\n",
    "\n",
    "graph := chart.Chart{\n",
    "    Series: []chart.Series{\n",
    "        chart.ContinuousSeries{\n",
    "            XValues: []float64{1.0, 2.0, 3.0, 4.0},\n",
    "            YValues: []float64{1.0, 2.0, 3.0, 4.0},\n",
    "        },\n",
    "    },\n",
    "}\n",
    "\n",
    "buffer := bytes.NewBuffer([]byte{})\n",
    "err := graph.Render(chart.PNG, buffer)"
   ]
  },
  {
   "cell_type": "markdown",
   "metadata": {
    "slideshow": {
     "slide_type": "skip"
    }
   },
   "source": [
    "\\textit{test}\n",
    "\\begin{proof} Demo\n",
    "% This is a comment\n",
    "\\begin{enumerate}\n",
    "\\item $$ \\left \\{ p_1, p_2, p_3 \\ldots p_n \\right \\} $$\n",
    "\\item second item\n",
    "\\begin{enumerate}\n",
    "\\item\n",
    "\\end{enumerate}\n",
    "\\end{enumerate}\n",
    "\\end{proof}"
   ]
  },
  {
   "cell_type": "code",
   "execution_count": 4,
   "metadata": {
    "code_folding": [
     0
    ],
    "slideshow": {
     "slide_type": "fragment"
    }
   },
   "outputs": [
    {
     "name": "stdout",
     "output_type": "stream",
     "text": [
      "12\n"
     ]
    },
    {
     "data": {
      "text/plain": [
       "3 <nil>"
      ]
     },
     "execution_count": 4,
     "metadata": {},
     "output_type": "execute_result"
    }
   ],
   "source": [
    "//A Path is a journey connecting the points with straight lines\n",
    "type Path []Point\n",
    "//Distance returns the distance traveled along the path\n",
    "func PathDistance(path Path) float64 {\n",
    "    sum := 0.0\n",
    "    for i:= range path {\n",
    "        if i > 0 {\n",
    "            sum += path[i-1].Distance(path[i])\n",
    "        }\n",
    "    }\n",
    "    return sum\n",
    "}\n",
    "\n",
    "func (path Path) Distance() float64 {\n",
    "    sum := 0.0\n",
    "    for i:= range path {\n",
    "        if i > 0 {\n",
    "            sum += path[i-1].Distance(path[i])\n",
    "        }\n",
    "    }\n",
    "    return sum\n",
    "}\n",
    "perim := Path {\n",
    "    {1,1},\n",
    "    {5,1},\n",
    "    {5,4},\n",
    "    {1,1},\n",
    "}\n",
    "fmt.Println(perim.Distance())"
   ]
  },
  {
   "cell_type": "code",
   "execution_count": 5,
   "metadata": {
    "code_folding": [
     0
    ],
    "slideshow": {
     "slide_type": "fragment"
    }
   },
   "outputs": [
    {
     "name": "stdout",
     "output_type": "stream",
     "text": [
      "12\n",
      "12\n"
     ]
    },
    {
     "data": {
      "text/plain": [
       "3 <nil>"
      ]
     },
     "execution_count": 5,
     "metadata": {},
     "output_type": "execute_result"
    }
   ],
   "source": [
    "//method of geometry.Path\n",
    "import (\n",
    " \"gopl.io/ch6/geometry\"\n",
    " \"fmt\"\n",
    ")\n",
    "perim := geometry.Path{{1,1},{5,1},{5,4},{1,1}}\n",
    "fmt.Println(geometry.PathDistance(perim))\n",
    "fmt.Println(perim.Distance())"
   ]
  },
  {
   "cell_type": "markdown",
   "metadata": {
    "slideshow": {
     "slide_type": "slide"
    }
   },
   "source": [
    "## Methods with a Pointer Receiver"
   ]
  },
  {
   "cell_type": "code",
   "execution_count": 1,
   "metadata": {
    "code_folding": [],
    "slideshow": {
     "slide_type": "subslide"
    }
   },
   "outputs": [
    {
     "name": "stdout",
     "output_type": "stream",
     "text": [
      "p.ScaleBy {2 4}\n",
      "{2 4}\n",
      "&{7 4}\n",
      "[1]\n"
     ]
    },
    {
     "data": {
      "text/plain": [
       "4 <nil>"
      ]
     },
     "execution_count": 1,
     "metadata": {},
     "output_type": "execute_result"
    }
   ],
   "source": [
    "import \"gopl.io/ch6/geometry\"\n",
    "import \"fmt\"\n",
    "type Point struct{X,Y float64}\n",
    "type Pint []int\n",
    "func (p *Point) ScaleBy(factor float64) {\n",
    "    p.X *= factor\n",
    "    p.Y *= factor\n",
    "}\n",
    "type IntList struct{X float64}\n",
    "    //Tail *IntList\n",
    "\n",
    "func (p *IntList) Sum1(f float64) {\n",
    "    p.X *= f\n",
    "   // if (list == nil) {\n",
    "       // return \n",
    "    //}\n",
    "    //return list.Value + list.Tail.Sum()\n",
    "    //tail := list.Tail\n",
    "   // return list.Value \n",
    "}\n",
    "\n",
    "p := Point{1,2}\n",
    "p.ScaleBy(2)\n",
    "fmt.Println(\"p.ScaleBy\",p)\n",
    "\n",
    "p2 := IntList{10}\n",
    "p2.Sum1(2)\n",
    "\n",
    "r := &Point{1,2}\n",
    "r.ScaleBy(2)\n",
    "fmt.Println(*r)\n",
    "func (c *Point) Write(p []byte) (int, error) {\n",
    "    c.X += float64(len(p))\n",
    "    return len(p), nil\n",
    "}\n",
    "func (c *Pint) Write(p []byte) (int, error) {\n",
    "    return len(p), nil\n",
    "}\n",
    "r1 := Pint{1}\n",
    "pr1 := &r1\n",
    "r.Write([]byte(\"hello\"))\n",
    "r1.Write([]byte(\"hello\"))\n",
    "fmt.Println(r)\n",
    "fmt.Println(r1)"
   ]
  },
  {
   "cell_type": "code",
   "execution_count": 39,
   "metadata": {
    "slideshow": {
     "slide_type": "subslide"
    }
   },
   "outputs": [
    {
     "name": "stdout",
     "output_type": "stream",
     "text": [
      "pptr.ScaleBy {2 4}\n"
     ]
    },
    {
     "data": {
      "text/plain": [
       "19 <nil>"
      ]
     },
     "execution_count": 39,
     "metadata": {},
     "output_type": "execute_result"
    }
   ],
   "source": [
    "p := Point{1,2}\n",
    "pptr := &p\n",
    "pptr.ScaleBy(2)\n",
    "fmt.Println(\"pptr.ScaleBy\",p)\n"
   ]
  },
  {
   "cell_type": "code",
   "execution_count": 40,
   "metadata": {
    "slideshow": {
     "slide_type": "fragment"
    }
   },
   "outputs": [
    {
     "name": "stdout",
     "output_type": "stream",
     "text": [
      "(&p).ScaleBy {2 4}\n"
     ]
    }
   ],
   "source": [
    "p := Point{1,2}\n",
    "(&p).ScaleBy(2)\n",
    "fmt.Println(\"(&p).ScaleBy\",p)\n",
    "\n",
    "p1:= IntList{10}\n",
    "(&p1).Sum1(10)\n"
   ]
  },
  {
   "cell_type": "code",
   "execution_count": 41,
   "metadata": {
    "slideshow": {
     "slide_type": "fragment"
    }
   },
   "outputs": [
    {
     "name": "stdout",
     "output_type": "stream",
     "text": [
      "p.ScaleBy {2 4}\n"
     ]
    }
   ],
   "source": [
    "p := Point{1,2}\n",
    "p.ScaleBy(2)\n",
    "fmt.Println(\"p.ScaleBy\",p)\n",
    "\n",
    "p2 := IntList{10}\n",
    "p2.Sum1(10)"
   ]
  },
  {
   "cell_type": "code",
   "execution_count": 42,
   "metadata": {
    "slideshow": {
     "slide_type": "fragment"
    }
   },
   "outputs": [],
   "source": [
    "Point{1,2}.ScaleBy(2)"
   ]
  },
  {
   "cell_type": "code",
   "execution_count": 7,
   "metadata": {
    "slideshow": {
     "slide_type": "subslide"
    }
   },
   "outputs": [
    {
     "name": "stdout",
     "output_type": "stream",
     "text": [
      "2.8284271247461903\n",
      "2.8284271247461903\n",
      "2.8284271247461903\n"
     ]
    },
    {
     "data": {
      "text/plain": [
       "19 <nil>"
      ]
     },
     "execution_count": 7,
     "metadata": {},
     "output_type": "execute_result"
    }
   ],
   "source": [
    "import \"gopl.io/ch6/geometry\"\n",
    "import \"math\"\n",
    "func (p Point) Distance(q Point) float64 {\n",
    "    return math.Hypot(q.X-p.X, q.Y-p.Y)\n",
    "}\n",
    "q := Point{3,4}\n",
    "pptr := &Point{1,2}\n",
    "fmt.Println(q.Distance(*pptr))\n",
    "fmt.Println(pptr.Distance(q))\n",
    "fmt.Println((*pptr).Distance(q))"
   ]
  },
  {
   "cell_type": "code",
   "execution_count": 44,
   "metadata": {
    "slideshow": {
     "slide_type": "fragment"
    }
   },
   "outputs": [
    {
     "data": {
      "text/plain": [
       "2.8284271247461903"
      ]
     },
     "execution_count": 44,
     "metadata": {},
     "output_type": "execute_result"
    }
   ],
   "source": [
    "p.ScaleBy(2)  // implicit (&p)\n",
    "pptr.Distance(q) //implict (*pptr)"
   ]
  },
  {
   "cell_type": "markdown",
   "metadata": {
    "slideshow": {
     "slide_type": "slide"
    }
   },
   "source": [
    "### Nil is a Valid Receiver Value\n",
    "* functions allow nil pointers as arguments, and methods allow nil for their receiver"
   ]
  },
  {
   "cell_type": "code",
   "execution_count": 6,
   "metadata": {
    "slideshow": {
     "slide_type": "subslide"
    }
   },
   "outputs": [
    {
     "ename": "ERROR",
     "evalue": "reflect.Value.Call: call of nil function",
     "output_type": "error",
     "traceback": [
      "reflect.Value.Call: call of nil function"
     ]
    }
   ],
   "source": [
    "// An IntList is a link list of integers\n",
    "// A nil *IntList represents the empty list\n",
    "import \"fmt\"\n",
    "type IntList struct {\n",
    "    Value int\n",
    "    Tail *IntList\n",
    "}\n",
    "\n",
    "func (list *IntList) Sum1() int {\n",
    "    if (list == nil) {\n",
    "        return 0\n",
    "    }\n",
    "    //tail := list.Tail\n",
    "    //return list.Value + tail.Sum1()\n",
    "    //tail := list.Tail\n",
    "    return list.Value \n",
    "}\n",
    "\n",
    "p := IntList{10,nil}\n",
    "q := IntList{20,nil}\n",
    "ptr := &p\n",
    "fmt.Println(p.Value, ptr.Sum1(), p.Sum1())\n",
    "//fmt.Printf(\"%T\\n%T\",p.Tail , q)\n",
    "//p.Tail = &q\n",
    "//fmt.Println(p.Sum())"
   ]
  },
  {
   "cell_type": "code",
   "execution_count": 47,
   "metadata": {
    "slideshow": {
     "slide_type": "subslide"
    }
   },
   "outputs": [],
   "source": [
    "//net/url\n",
    "//package url\n",
    "type Values map[string][]string\n",
    "func (v Values) Get(key string) string {\n",
    "    if vs := v[key]; len(vs) > 0 {\n",
    "        return vs[0]\n",
    "    }\n",
    "    return \"\"\n",
    "}\n",
    "\n",
    "func (v Values) Add(key, value string) {\n",
    "    v[key] = append(v[key], value)\n",
    "}"
   ]
  },
  {
   "cell_type": "code",
   "execution_count": 48,
   "metadata": {
    "slideshow": {
     "slide_type": "subslide"
    }
   },
   "outputs": [
    {
     "name": "stdout",
     "output_type": "stream",
     "text": [
      "en\n",
      "\n",
      "1\n",
      "[1 2] true\n",
      "\n"
     ]
    },
    {
     "ename": "ERROR",
     "evalue": "assignment to entry in nil map",
     "output_type": "error",
     "traceback": [
      "assignment to entry in nil map"
     ]
    }
   ],
   "source": [
    "import \"net/url\"\n",
    "m := url.Values{\"lang\":{\"en\"}}\n",
    "m.Add(\"item\",\"1\")\n",
    "m.Add(\"item\",\"2\")\n",
    "fmt.Println(m.Get(\"lang\"))\n",
    "fmt.Println(m.Get(\"q\"))\n",
    "fmt.Println(m.Get(\"item\"))\n",
    "fmt.Println(m[\"item\"])\n",
    "m = nil\n",
    "fmt.Println(m.Get(\"item\"))\n",
    "m.Add(\"item\",\"3\")"
   ]
  },
  {
   "cell_type": "markdown",
   "metadata": {
    "slideshow": {
     "slide_type": "slide"
    }
   },
   "source": [
    "## Composing Types by Struct Embedding"
   ]
  },
  {
   "cell_type": "code",
   "execution_count": 8,
   "metadata": {
    "slideshow": {
     "slide_type": "subslide"
    }
   },
   "outputs": [
    {
     "name": "stdout",
     "output_type": "stream",
     "text": [
      "1\n",
      "2\n"
     ]
    },
    {
     "data": {
      "text/plain": [
       "2 <nil>"
      ]
     },
     "execution_count": 8,
     "metadata": {},
     "output_type": "execute_result"
    }
   ],
   "source": [
    "//gopl.io/ch6/coloredpoint\n",
    "import \"fmt\"\n",
    "import \"image/color\"\n",
    "type Point struct {X, Y float64}\n",
    "type ColoredPoint struct {\n",
    "    Point\n",
    "    Color color.RGBA\n",
    "}\n",
    "var cp ColoredPoint\n",
    "cp.X = 1\n",
    "fmt.Println( cp.Point.X)\n",
    "cp.Point.Y = 2\n",
    "fmt.Println(cp.Y)"
   ]
  },
  {
   "cell_type": "code",
   "execution_count": 16,
   "metadata": {
    "slideshow": {
     "slide_type": "subslide"
    }
   },
   "outputs": [
    {
     "name": "stdout",
     "output_type": "stream",
     "text": [
      "5\n",
      "10\n"
     ]
    },
    {
     "data": {
      "text/plain": [
       "3 <nil>"
      ]
     },
     "execution_count": 16,
     "metadata": {},
     "output_type": "execute_result"
    }
   ],
   "source": [
    "red := color.RGBA{255,0,0,255}\n",
    "blue := color.RGBA{0,0,255,255}\n",
    "var p = ColoredPoint{Point{1,1},red}\n",
    "var q = ColoredPoint{Point{5,4},blue}\n",
    "fmt.Println(p.Distance(q.Point))\n",
    "p.ScaleBy(2)\n",
    "q.ScaleBy(2)\n",
    "fmt.Println(p.Distance(q.Point))"
   ]
  },
  {
   "cell_type": "code",
   "execution_count": 19,
   "metadata": {
    "slideshow": {
     "slide_type": "subslide"
    }
   },
   "outputs": [
    {
     "ename": "ERROR",
     "evalue": "repl.go:1:12: cannot use <main.ColoredPoint> as <main.Point> in argument to p.Distance",
     "output_type": "error",
     "traceback": [
      "repl.go:1:12: cannot use <main.ColoredPoint> as <main.Point> in argument to p.Distance"
     ]
    }
   ],
   "source": [
    "p.Distance(q) // cannot use q as Point"
   ]
  },
  {
   "cell_type": "code",
   "execution_count": 21,
   "metadata": {
    "slideshow": {
     "slide_type": "subslide"
    }
   },
   "outputs": [
    {
     "name": "stdout",
     "output_type": "stream",
     "text": [
      "5\n",
      "{2 2} {2 2}\n"
     ]
    },
    {
     "data": {
      "text/plain": [
       "12 <nil>"
      ]
     },
     "execution_count": 21,
     "metadata": {},
     "output_type": "execute_result"
    }
   ],
   "source": [
    "type ColoredPoint struct {\n",
    "    *Point\n",
    "    Color color.RGBA\n",
    "}\n",
    "p := ColoredPoint{&Point{1,1}, red}\n",
    "q := ColoredPoint{&Point{5,4}, blue}\n",
    "fmt.Println(p.Distance(*q.Point))\n",
    "q.Point = p.Point\n",
    "p.ScaleBy(2)\n",
    "fmt.Println(*p.Point, *q.Point)\n"
   ]
  },
  {
   "cell_type": "code",
   "execution_count": 21,
   "metadata": {
    "slideshow": {
     "slide_type": "subslide"
    }
   },
   "outputs": [],
   "source": [
    "import \"sync\"\n",
    "var (\n",
    "    mu sync.Mutex\n",
    "    mapping = make(map[string]string)\n",
    ")\n",
    "func Lookup(key string) string {\n",
    "    mu.Lock()\n",
    "    v := mapping[key]\n",
    "    mu.Unlock()\n",
    "    return v\n",
    "}"
   ]
  },
  {
   "cell_type": "code",
   "execution_count": 22,
   "metadata": {
    "slideshow": {
     "slide_type": "subslide"
    }
   },
   "outputs": [
    {
     "ename": "ERROR",
     "evalue": "repl.go:9:5: not a package: \"cache\" in cache.Lock <*ast.SelectorExpr>",
     "output_type": "error",
     "traceback": [
      "repl.go:9:5: not a package: \"cache\" in cache.Lock <*ast.SelectorExpr>"
     ]
    }
   ],
   "source": [
    "import \"sync\"\n",
    "var cache = struct {\n",
    "    sync.Mutex\n",
    "    mapping map[string]string\n",
    "} {\n",
    "    mapping: make(map[string]string),\n",
    "}\n",
    "func Lookup(key string)string {\n",
    "    cache.Lock()\n",
    "    v := cache.mapping[key]\n",
    "    cache.Unlock()\n",
    "    return v\n",
    "}"
   ]
  },
  {
   "cell_type": "markdown",
   "metadata": {
    "slideshow": {
     "slide_type": "slide"
    }
   },
   "source": [
    "## Method Values and Expressions"
   ]
  },
  {
   "cell_type": "code",
   "execution_count": 23,
   "metadata": {
    "slideshow": {
     "slide_type": "subslide"
    }
   },
   "outputs": [
    {
     "name": "stdout",
     "output_type": "stream",
     "text": [
      "5\n",
      "2.23606797749979\n",
      "{120 240}\n"
     ]
    },
    {
     "data": {
      "text/plain": [
       "10 <nil>"
      ]
     },
     "execution_count": 23,
     "metadata": {},
     "output_type": "execute_result"
    }
   ],
   "source": [
    "p := Point{1,2}\n",
    "q := Point{4,6}\n",
    "distanceFromP := p.Distance // method value\n",
    "fmt.Println(distanceFromP(q))\n",
    "var origin Point\n",
    "fmt.Println(distanceFromP(origin))\n",
    "\n",
    "scaleP := p.ScaleBy   // method value\n",
    "scaleP(2)\n",
    "scaleP(3)\n",
    "scaleP(10)\n",
    "scaleP(2)\n",
    "fmt.Println(p)"
   ]
  },
  {
   "cell_type": "code",
   "execution_count": 24,
   "metadata": {
    "slideshow": {
     "slide_type": "subslide"
    }
   },
   "outputs": [
    {
     "data": {
      "text/plain": [
       "&{<nil> {42481824 1 54864915842700 0 0xaca6a0 0xa98950 0}}"
      ]
     },
     "execution_count": 24,
     "metadata": {},
     "output_type": "execute_result"
    }
   ],
   "source": [
    "import \"time\"\n",
    "type Rocket struct {}\n",
    "func (r *Rocket) Launch() {}\n",
    "r := new(Rocket)\n",
    "time.AfterFunc(10 * time.Second, func(){ r.Launch()})\n",
    "time.AfterFunc(10 * time.Second, r.Launch)"
   ]
  },
  {
   "cell_type": "code",
   "execution_count": 25,
   "metadata": {
    "slideshow": {
     "slide_type": "slide"
    }
   },
   "outputs": [],
   "source": [
    "type Point struct {X, Y float64}\n",
    "func (p Point) Add(q Point) Point { return Point{p.X+q.X, p.Y + q.Y}}\n",
    "func (p Point) Sub(q Point) Point { return Point{p.X-q.X, p.Y - q.Y}}\n",
    "type Path []Point\n",
    "func (path Path) TranslateBy(offset Point, add bool) {\n",
    "    var op func(p, q Point) Point\n",
    "    if add {\n",
    "        op = Point.Add\n",
    "    } else {\n",
    "        op = Point.Sub\n",
    "    }\n",
    "    for i := range path {\n",
    "        path[i] = op(path[i], offset)\n",
    "    }\n",
    "}"
   ]
  },
  {
   "cell_type": "code",
   "execution_count": 27,
   "metadata": {
    "slideshow": {
     "slide_type": "subslide"
    }
   },
   "outputs": [],
   "source": [
    "// Copyright © 2016 Alan A. A. Donovan & Brian W. Kernighan.\n",
    "// License: https://creativecommons.org/licenses/by-nc-sa/4.0/\n",
    "\n",
    "// See page 165.\n",
    "\n",
    "// Package intset provides a set of integers based on a bit vector.\n",
    "//package intset\n",
    "\n",
    "import (\n",
    "\t\"bytes\"\n",
    "\t\"fmt\"\n",
    ")\n",
    "\n",
    "//!+intset\n",
    "\n",
    "// An IntSet is a set of small non-negative integers.\n",
    "// Its zero value represents the empty set.\n",
    "type IntSet struct {\n",
    "\twords []uint64\n",
    "}\n",
    "\n",
    "// Has reports whether the set contains the non-negative value x.\n",
    "func (s *IntSet) Has(x int) bool {\n",
    "\tword, bit := x/64, uint(x%64)\n",
    "\treturn word < len(s.words) && s.words[word]&uint64(1<<bit) != 0\n",
    "}\n",
    "\n",
    "// Add adds the non-negative value x to the set.\n",
    "func (s *IntSet) Add(x int) {\n",
    "\tword, bit := x/64, uint(x%64)\n",
    "\tfor word >= len(s.words) {\n",
    "\t\ts.words = append(s.words, 0)\n",
    "\t}\n",
    "    s.words[word] |= uint64(1 << bit)\n",
    "}\n",
    "\n",
    "// UnionWith sets s to the union of s and t.\n",
    "func (s *IntSet) UnionWith(t *IntSet) {\n",
    "\tfor i, tword := range t.words {\n",
    "\t\tif i < len(s.words) {\n",
    "\t\t\ts.words[i] |= tword\n",
    "\t\t} else {\n",
    "\t\t\ts.words = append(s.words, tword)\n",
    "\t\t}\n",
    "\t}\n",
    "}\n",
    "\n",
    "//!-intset\n",
    "\n",
    "//!+string\n",
    "\n",
    "// String returns the set as a string of the form \"{1 2 3}\".\n",
    "func (s *IntSet) String() string {\n",
    "\tvar buf bytes.Buffer\n",
    "\tbuf.WriteByte('{')\n",
    "\tfor i, word := range s.words {\n",
    "\t\tif word == 0 {\n",
    "\t\t\tcontinue\n",
    "\t\t}\n",
    "\t\tfor j := 0; j < 64; j++ {\n",
    "\t\t\tif word&uint64(1<<uint(j)) != 0 {\n",
    "\t\t\t\tif buf.Len() > len(\"{\") {\n",
    "\t\t\t\t\tbuf.WriteByte(' ')\n",
    "\t\t\t\t}\n",
    "\t\t\t\tfmt.Fprintf(&buf, \"%d\", 64*i+j)\n",
    "\t\t\t}\n",
    "\t\t}\n",
    "\t}\n",
    "\tbuf.WriteByte('}')\n",
    "\treturn buf.String()\n",
    "}\n",
    "\n",
    "//!-string"
   ]
  },
  {
   "cell_type": "code",
   "execution_count": 30,
   "metadata": {
    "slideshow": {
     "slide_type": "subslide"
    }
   },
   "outputs": [
    {
     "name": "stdout",
     "output_type": "stream",
     "text": [
      "{1 9 144}\n",
      "{9 42}\n",
      "{1 9 42 144}\n",
      "true false\n",
      "&{[4398046511618 0 65536]}\n",
      "{1 9 42 144}\n",
      "{[4398046511618 0 65536]}\n",
      "{1 9 42 144}\n"
     ]
    },
    {
     "data": {
      "text/plain": [
       "13 <nil>"
      ]
     },
     "execution_count": 30,
     "metadata": {},
     "output_type": "execute_result"
    }
   ],
   "source": [
    "var x,y IntSet\n",
    "x.Add(1)\n",
    "x.Add(144)\n",
    "x.Add(9)\n",
    "fmt.Println(x.String())\n",
    "y.Add(9)\n",
    "y.Add(42)\n",
    "fmt.Println(y.String())\n",
    "x.UnionWith(&y)\n",
    "fmt.Println(x.String())\n",
    "fmt.Println(x.Has(9), x.Has(123))\n",
    "\n",
    "fmt.Println(&x)\n",
    "fmt.Println(x.String())\n",
    "fmt.Println(x)\n",
    "fmt.Printf(\"%s\\n\",x.String())"
   ]
  },
  {
   "cell_type": "markdown",
   "metadata": {
    "slideshow": {
     "slide_type": "slide"
    }
   },
   "source": [
    "## Example: Bit Vector Type"
   ]
  },
  {
   "cell_type": "code",
   "execution_count": 18,
   "metadata": {
    "code_folding": [
     17
    ],
    "slideshow": {
     "slide_type": "subslide"
    }
   },
   "outputs": [],
   "source": [
    "// Copyright © 2016 Alan A. A. Donovan & Brian W. Kernighan.\n",
    "// License: https://creativecommons.org/licenses/by-nc-sa/4.0/\n",
    "\n",
    "// See page 165.\n",
    "\n",
    "// Package intset provides a set of integers based on a bit vector.\n",
    "//package intset\n",
    "\n",
    "import (\n",
    "\t\"bytes\"\n",
    "\t\"fmt\"\n",
    ")\n",
    "\n",
    "//!+intset\n",
    "\n",
    "// An IntSet is a set of small non-negative integers.\n",
    "// Its zero value represents the empty set.\n",
    "type IntSet struct {\n",
    "\twords []uint64\n",
    "}"
   ]
  },
  {
   "cell_type": "code",
   "execution_count": 19,
   "metadata": {
    "code_folding": [
     1,
     7,
     16
    ],
    "slideshow": {
     "slide_type": "subslide"
    }
   },
   "outputs": [],
   "source": [
    "// Has reports whether the set contains the non-negative value x.\n",
    "func (s *IntSet) Has(x int) bool {\n",
    "\tword, bit := x/64, uint(x%64)\n",
    "\treturn word < len(s.words) && s.words[word]&uint64(1<<bit) != 0\n",
    "}\n",
    "\n",
    "// Add adds the non-negative value x to the set.\n",
    "func (s *IntSet) Add(x int) {\n",
    "\tword, bit := x/64, uint(x%64)\n",
    "\tfor word >= len(s.words) {\n",
    "\t\ts.words = append(s.words, 0)\n",
    "\t}\n",
    "    s.words[word] |= uint64(1 << bit)\n",
    "}\n",
    "\n",
    "// UnionWith sets s to the union of s and t.\n",
    "func (s *IntSet) UnionWith(t *IntSet) {\n",
    "\tfor i, tword := range t.words {\n",
    "\t\tif i < len(s.words) {\n",
    "\t\t\ts.words[i] |= tword\n",
    "\t\t} else {\n",
    "\t\t\ts.words = append(s.words, tword)\n",
    "\t\t}\n",
    "\t}\n",
    "}\n",
    "\n"
   ]
  },
  {
   "cell_type": "code",
   "execution_count": 17,
   "metadata": {
    "code_folding": [
     1
    ],
    "slideshow": {
     "slide_type": "subslide"
    }
   },
   "outputs": [],
   "source": [
    "// String returns the set as a string of the form \"{1 2 3}\".\n",
    "func (s *IntSet) String() string {\n",
    "\tvar buf bytes.Buffer\n",
    "\tbuf.WriteByte('{')\n",
    "\tfor i, word := range s.words {\n",
    "\t\tif word == 0 {\n",
    "\t\t\tcontinue\n",
    "\t\t}\n",
    "\t\tfor j := 0; j < 64; j++ {\n",
    "\t\t\tif word&uint64(1<<uint(j)) != 0 {\n",
    "\t\t\t\tif buf.Len() > len(\"{\") {\n",
    "\t\t\t\t\tbuf.WriteByte(' ')\n",
    "\t\t\t\t}\n",
    "\t\t\t\tfmt.Fprintf(&buf, \"%d\", 64*i+j)\n",
    "\t\t\t}\n",
    "\t\t}\n",
    "\t}\n",
    "\tbuf.WriteByte('}')\n",
    "\treturn buf.String()\n",
    "}\n",
    "\n",
    "//!-string"
   ]
  },
  {
   "cell_type": "code",
   "execution_count": 11,
   "metadata": {
    "slideshow": {
     "slide_type": "subslide"
    }
   },
   "outputs": [
    {
     "name": "stdout",
     "output_type": "stream",
     "text": [
      "{1 9 144}\n",
      "{9 42}\n",
      "{1 9 42 144}\n",
      "true false\n"
     ]
    },
    {
     "data": {
      "text/plain": [
       "11 <nil>"
      ]
     },
     "execution_count": 11,
     "metadata": {},
     "output_type": "execute_result"
    }
   ],
   "source": [
    "var x, y IntSet\n",
    "x.Add(1)\n",
    "x.Add(144)\n",
    "x.Add(9)\n",
    "fmt.Println(x.String()) // {1 9 144}\n",
    "y.Add(9)\n",
    "y.Add(42)\n",
    "fmt.Println(y.String()) // {9 42}\n",
    "\n",
    "x.UnionWith(&y)\n",
    "fmt.Println(x.String()) //{1 9 42 144}\n",
    "fmt.Println(x.Has(9), x.Has(123))"
   ]
  },
  {
   "cell_type": "code",
   "execution_count": 16,
   "metadata": {
    "slideshow": {
     "slide_type": "subslide"
    }
   },
   "outputs": [
    {
     "name": "stdout",
     "output_type": "stream",
     "text": [
      "&{[4398046511618 0 65536]}\n",
      "{1 9 42 144}\n",
      "{[4398046511618 0 65536]}\n"
     ]
    },
    {
     "data": {
      "text/plain": [
       "26 <nil>"
      ]
     },
     "execution_count": 16,
     "metadata": {},
     "output_type": "execute_result"
    }
   ],
   "source": [
    "fmt.Println(&x)    // {1 9 42 144}\n",
    "fmt.Println(x.String())\n",
    "fmt.Println(x)"
   ]
  },
  {
   "cell_type": "markdown",
   "metadata": {
    "slideshow": {
     "slide_type": "slide"
    }
   },
   "source": [
    "## Encapsulation"
   ]
  },
  {
   "cell_type": "code",
   "execution_count": 5,
   "metadata": {
    "slideshow": {
     "slide_type": "slide"
    }
   },
   "outputs": [],
   "source": [
    "type Buffer struct {\n",
    "    buf     []byte\n",
    "    initial [64]byte\n",
    "}\n",
    "//Grow expands the buffer's capacity, if necessay,\n",
    "// to guarantee space for another n bytes. [...]\n",
    "func (b *Buffer) Len() int {\n",
    "    return len(b.buf)\n",
    "}\n",
    "func (b *Buffer) Grow(n int) {\n",
    "    if b.buf == nil {\n",
    "        b.buf = b.initial[:0] // use preallocated space initially\n",
    "    }\n",
    "    if len(b.buf)+n > cap(b.buf) {\n",
    "        buf := make([]byte, b.Len(), 2*cap(b.buf)+n)\n",
    "        copy(buf, b.buf)\n",
    "        b.buf = buf\n",
    "    }\n",
    "}"
   ]
  },
  {
   "cell_type": "code",
   "execution_count": 6,
   "metadata": {
    "slideshow": {
     "slide_type": "slide"
    }
   },
   "outputs": [],
   "source": [
    "type Counter struct { n int}\n",
    "func (c *Counter) N() int {return c.n}\n",
    "func (c *Counter) Increment() {c.n++}\n",
    "func (c *Counter) Reset() {c.n = 0}"
   ]
  }
 ],
 "metadata": {
  "celltoolbar": "Slideshow",
  "kernelspec": {
   "display_name": "Go",
   "language": "go",
   "name": "gophernotes"
  },
  "language_info": {
   "codemirror_mode": "",
   "file_extension": ".go",
   "mimetype": "",
   "name": "go",
   "nbconvert_exporter": "",
   "pygments_lexer": "",
   "version": "go1.17.1"
  },
  "latex_envs": {
   "LaTeX_envs_menu_present": true,
   "autoclose": false,
   "autocomplete": true,
   "bibliofile": "biblio.bib",
   "cite_by": "apalike",
   "current_citInitial": 1,
   "eqLabelWithNumbers": true,
   "eqNumInitial": 1,
   "hotkeys": {
    "equation": "Ctrl-E",
    "itemize": "Ctrl-I"
   },
   "labels_anchors": false,
   "latex_user_defs": false,
   "report_style_numbering": false,
   "user_envs_cfg": false
  },
  "rise": {
   "enable_chalkboard": true,
   "scroll": true
  },
  "toc": {
   "base_numbering": "6",
   "nav_menu": {},
   "number_sections": true,
   "sideBar": true,
   "skip_h1_title": false,
   "title_cell": "Table of Contents",
   "title_sidebar": "Contents",
   "toc_cell": true,
   "toc_position": {},
   "toc_section_display": true,
   "toc_window_display": false
  }
 },
 "nbformat": 4,
 "nbformat_minor": 2
}
