{
 "cells": [
  {
   "cell_type": "markdown",
   "metadata": {
    "slideshow": {
     "slide_type": "slide"
    }
   },
   "source": [
    "# Chapter 2. Program Structure"
   ]
  },
  {
   "cell_type": "markdown",
   "metadata": {
    "slideshow": {
     "slide_type": "slide"
    }
   },
   "source": [
    "## 2.1 Names"
   ]
  },
  {
   "cell_type": "markdown",
   "metadata": {
    "slideshow": {
     "slide_type": "subslide"
    }
   },
   "source": [
    "Go has 25 keywords\n",
    "<code>\n",
    "    break    default     func   interface select\n",
    "    case     defer       go     map       struct\n",
    "    chan     else        goto   package   switch\n",
    "    const    fallthrough if     range     type\n",
    "    continue for         import return    var\n",
    "</code>\n",
    "\n",
    "Predefined names for built-in constants, types, and functions\n",
    "<code>\n",
    "Constants:  true false iota nil\n",
    "[Types](https://golang.org/ref/spec#Types):      int int8 int16 int32 int64\n",
    "            unit unit8 unit16 uint32 uint64 uintptr\n",
    "            float32 float64 complex64 complex128\n",
    "            bool byte rune string error\n",
    "[Functions](https://golang.org/ref/spec#Built-in_functions):  make len cap new append copy close delete \n",
    "            complex real imag \n",
    "            panic recover\n",
    "</code>"
   ]
  },
  {
   "cell_type": "code",
   "execution_count": 36,
   "metadata": {
    "slideshow": {
     "slide_type": "subslide"
    }
   },
   "outputs": [
    {
     "name": "stdout",
     "output_type": "stream",
     "text": [
      "11\n",
      "2\n"
     ]
    }
   ],
   "source": [
    "package main\n",
    "import \"fmt\"\n",
    "\n",
    "type 整數 int\n",
    "func 轉換程式(金 整數){\n",
    "    fmt.Println(金)\n",
    "}\n",
    "\n",
    "func main(){\n",
    "    銅 := 2\n",
    "    轉換程式(11)\n",
    "    fmt.Println(銅)\n",
    "}\n",
    "\n",
    "main()\n"
   ]
  },
  {
   "cell_type": "markdown",
   "metadata": {
    "slideshow": {
     "slide_type": "slide"
    }
   },
   "source": [
    "## 2.2 Declarations"
   ]
  },
  {
   "cell_type": "code",
   "execution_count": 39,
   "metadata": {
    "slideshow": {
     "slide_type": "subslide"
    }
   },
   "outputs": [],
   "source": [
    "//gopl.io/ch2/boiling\n",
    "// Boiling prints the boiling point of water\n",
    "package main\n",
    "import \"fmt\"\n",
    "\n",
    "const boilingF = 212.0\n",
    "\n",
    "func main() {\n",
    "        var f = boilingF\n",
    "        var c = (f - 32) * 5 / 9\n",
    "        fmt.Printf(\"boiling point = %g°F or %g°C\\n\", f, c)\n",
    "        // Output:\n",
    "        // boiling point = 212°F or 100°C\n",
    "}"
   ]
  },
  {
   "cell_type": "code",
   "execution_count": 40,
   "metadata": {
    "slideshow": {
     "slide_type": "fragment"
    }
   },
   "outputs": [
    {
     "name": "stdout",
     "output_type": "stream",
     "text": [
      "boiling point = 212°F or 100°C\n"
     ]
    }
   ],
   "source": [
    "main()"
   ]
  },
  {
   "cell_type": "code",
   "execution_count": 41,
   "metadata": {
    "slideshow": {
     "slide_type": "subslide"
    }
   },
   "outputs": [],
   "source": [
    "//gopl.io/ch2/ftoc\n",
    "import \"fmt\"\n",
    "\n",
    "func main() {\n",
    "\tconst freezingF, boilingF = 32.0, 212.0\n",
    "\tfmt.Printf(\"%g°F = %g°C\\n\", freezingF, fToC(freezingF)) // \"32°F = 0°C\"\n",
    "\tfmt.Printf(\"%g°F = %g°C\\n\", boilingF, fToC(boilingF))   // \"212°F = 100°C\"\n",
    "}\n",
    "\n",
    "func fToC(f float64) float64 {\n",
    "\treturn (f - 32) * 5 / 9\n",
    "}"
   ]
  },
  {
   "cell_type": "code",
   "execution_count": 42,
   "metadata": {
    "slideshow": {
     "slide_type": "fragment"
    }
   },
   "outputs": [
    {
     "name": "stdout",
     "output_type": "stream",
     "text": [
      "32°F = 0°C\n",
      "212°F = 100°C\n"
     ]
    }
   ],
   "source": [
    "main()"
   ]
  },
  {
   "cell_type": "markdown",
   "metadata": {
    "slideshow": {
     "slide_type": "slide"
    }
   },
   "source": [
    "## 2.3 Variables"
   ]
  },
  {
   "cell_type": "markdown",
   "metadata": {
    "slideshow": {
     "slide_type": "subslide"
    }
   },
   "source": [
    "### 2.3.1 Short Variable Declarations\n",
    "* Declaration and initialize local variables\n",
    "  * within functions\n",
    "  * name := expression\n",
    "  * type of name is determined by the type of expression\n",
    "  * A short variable declaration must declare at least one new variable \n"
   ]
  },
  {
   "cell_type": "code",
   "execution_count": 43,
   "metadata": {
    "cell_style": "split",
    "slideshow": {
     "slide_type": "fragment"
    }
   },
   "outputs": [],
   "source": [
    "import (\"image\";\"image/gif\";\"math/rand\")\n",
    "nframes := 100\n",
    "anim := gif.GIF{LoopCount: nframes}\n",
    "freq := rand.Float64() * 3.0\n",
    "t := 0.0"
   ]
  },
  {
   "cell_type": "code",
   "execution_count": 44,
   "metadata": {
    "cell_style": "split",
    "slideshow": {
     "slide_type": "fragment"
    }
   },
   "outputs": [],
   "source": [
    "i := 100    // an int\n",
    "var boiling float64 = 100 // a float64\n",
    "var names []string\n",
    "var err error\n",
    "type Point int\n",
    "var p Point"
   ]
  },
  {
   "cell_type": "markdown",
   "metadata": {
    "slideshow": {
     "slide_type": "subslide"
    }
   },
   "source": [
    "### 2.3.2 Pointers"
   ]
  },
  {
   "cell_type": "code",
   "execution_count": 46,
   "metadata": {
    "slideshow": {
     "slide_type": "subslide"
    }
   },
   "outputs": [
    {
     "name": "stdout",
     "output_type": "stream",
     "text": [
      "1\n",
      "21\n"
     ]
    },
    {
     "data": {
      "text/plain": [
       "3 <nil>"
      ]
     },
     "execution_count": 46,
     "metadata": {},
     "output_type": "execute_result"
    }
   ],
   "source": [
    "x := 1\n",
    "p := &x           // p, of type *int, points to x\n",
    "fmt.Println(*p)   // \"1\"\n",
    "*p = 21            // equivalent to x = 2\n",
    "fmt.Println(x)    // \"2\""
   ]
  },
  {
   "cell_type": "code",
   "execution_count": 47,
   "metadata": {
    "slideshow": {
     "slide_type": "subslide"
    }
   },
   "outputs": [
    {
     "name": "stdout",
     "output_type": "stream",
     "text": [
      "true false false\n"
     ]
    },
    {
     "data": {
      "text/plain": [
       "17 <nil>"
      ]
     },
     "execution_count": 47,
     "metadata": {},
     "output_type": "execute_result"
    }
   ],
   "source": [
    "var x, y int\n",
    "fmt.Println(&x==&x, &x==&y, &x== nil) // \"true false false\""
   ]
  },
  {
   "cell_type": "code",
   "execution_count": 48,
   "metadata": {
    "slideshow": {
     "slide_type": "subslide"
    }
   },
   "outputs": [
    {
     "name": "stdout",
     "output_type": "stream",
     "text": [
      "false\n"
     ]
    },
    {
     "data": {
      "text/plain": [
       "6 <nil>"
      ]
     },
     "execution_count": 48,
     "metadata": {},
     "output_type": "execute_result"
    }
   ],
   "source": [
    "var p = f()\n",
    "func f() *int {\n",
    "    v := 1\n",
    "    return &v\n",
    "}\n",
    "\n",
    "fmt.Println(f() == f()) // \"false\""
   ]
  },
  {
   "cell_type": "code",
   "execution_count": 52,
   "metadata": {
    "slideshow": {
     "slide_type": "subslide"
    }
   },
   "outputs": [
    {
     "name": "stdout",
     "output_type": "stream",
     "text": [
      "3\n"
     ]
    },
    {
     "data": {
      "text/plain": [
       "2 <nil>"
      ]
     },
     "execution_count": 52,
     "metadata": {},
     "output_type": "execute_result"
    }
   ],
   "source": [
    "func incr(p *int) int {\n",
    "    *p++ // increments what p points to; does not change p\n",
    "    return *p\n",
    "}\n",
    "v := 1\n",
    "incr(&v)               // side effect: v is now 2\n",
    "fmt.Println(incr(&v))  // \"3\" (and v is 3)"
   ]
  },
  {
   "cell_type": "code",
   "execution_count": 1,
   "metadata": {
    "slideshow": {
     "slide_type": "subslide"
    }
   },
   "outputs": [],
   "source": [
    "package main\n",
    "import (\n",
    "\t\"flag\"\n",
    "\t\"fmt\"\n",
    "\t\"strings\"\n",
    ")\n",
    "\n",
    "var n = flag.Bool(\"n\", false, \"omit trailing newline\")\n",
    "var sep = flag.String(\"s\", \" \", \"separator\")\n",
    "\n",
    "func main() {\n",
    "\tflag.Parse()\n",
    "\tfmt.Print(strings.Join(flag.Args(), *sep))\n",
    "\tif !*n {\n",
    "\t\tfmt.Println()\n",
    "\t}\n",
    "}\n"
   ]
  },
  {
   "cell_type": "code",
   "execution_count": null,
   "metadata": {
    "cell_style": "split",
    "slideshow": {
     "slide_type": "fragment"
    }
   },
   "outputs": [],
   "source": [
    "import (\"os\")\n",
    "//os.Args = []string{\"echo4\",\"-s\",\"/\",\"a\",\"bc\",\"def\"};main()\n",
    "//os.Args = []string{\"echo4\",\"-n\",\"a\",\"bc\",\"def\"};main()\n",
    "os.Args = []string{\"echo4\",\"-help\"}\n",
    "main()"
   ]
  },
  {
   "cell_type": "markdown",
   "metadata": {
    "cell_style": "split",
    "slideshow": {
     "slide_type": "fragment"
    }
   },
   "source": [
    "$ go install gopl.io/ch2/echo4@latest\n",
    "$ bin/echo4 -help\n",
    "Usage of ./echo4:\n",
    "$ bin/echo -s / a bc def\n",
    "a/bc/def\n",
    "$ bin/echo -n a bc def\n",
    "a bc def$"
   ]
  },
  {
   "cell_type": "markdown",
   "metadata": {
    "slideshow": {
     "slide_type": "slide"
    }
   },
   "source": [
    "### 2.3.3 The new Function"
   ]
  },
  {
   "cell_type": "code",
   "execution_count": 1,
   "metadata": {
    "slideshow": {
     "slide_type": "subslide"
    }
   },
   "outputs": [
    {
     "name": "stdout",
     "output_type": "stream",
     "text": [
      "0\n",
      "2\n"
     ]
    },
    {
     "data": {
      "text/plain": [
       "2 <nil>"
      ]
     },
     "execution_count": 1,
     "metadata": {},
     "output_type": "execute_result"
    }
   ],
   "source": [
    "import \"fmt\"\n",
    "//x := 1\n",
    "//p := &x\n",
    "p := new(int) //p, of type *int, points to an unnamed int variable\n",
    "fmt.Println(*p) // \"0\"\n",
    "*p = 2 \n",
    "fmt.Println(*p) // \"2\""
   ]
  },
  {
   "cell_type": "markdown",
   "metadata": {
    "slideshow": {
     "slide_type": "subslide"
    }
   },
   "source": [
    "### 2.3.4 Lifetime of Variables"
   ]
  },
  {
   "cell_type": "markdown",
   "metadata": {
    "slideshow": {
     "slide_type": "subslide"
    }
   },
   "source": [
    "<code>\n",
    "for t:= 0.0; t < cycles * 2 *math.Pi; i+= res {\n",
    "    x := math.Sin(t)\n",
    "    y := math.Sin(t*freq+ phase)\n",
    "    img.SetColorIndex( size + int(x*size+0.5), size + int(y*size + 0.5), blackIndex)\n",
    "}\n",
    "</code>\n",
    "the variable t is created each time the for loop begins, and variables x and y are created on each iteration of the loop"
   ]
  },
  {
   "cell_type": "code",
   "execution_count": 2,
   "metadata": {
    "slideshow": {
     "slide_type": "subslide"
    }
   },
   "outputs": [
    {
     "name": "stdout",
     "output_type": "stream",
     "text": [
      "3\n"
     ]
    },
    {
     "data": {
      "text/plain": [
       "2 <nil>"
      ]
     },
     "execution_count": 2,
     "metadata": {},
     "output_type": "execute_result"
    }
   ],
   "source": [
    "var global *int\n",
    "func f() {\n",
    "    var x int       //x should be heap allocated\n",
    "    x = 3\n",
    "    global = &x\n",
    "}\n",
    "\n",
    "func g() {\n",
    "    y := new(int)  //y can be on the stack\n",
    "    *y = 1\n",
    "}\n",
    "\n",
    "//fmt.Println(*global)\n",
    "f()\n",
    "fmt.Println(*global)"
   ]
  },
  {
   "cell_type": "markdown",
   "metadata": {
    "slideshow": {
     "slide_type": "slide"
    }
   },
   "source": [
    "## 2.4. Assignments"
   ]
  },
  {
   "cell_type": "markdown",
   "metadata": {
    "slideshow": {
     "slide_type": "subslide"
    }
   },
   "source": [
    " <code>\n",
    "    x = 1                      // named variable\n",
    "    *p = true                  // indirect variable\n",
    "    person.name = \"bob\"        // struct field\n",
    "    count[x] = count[x] * scale // array or slice or map element\n",
    " </code>"
   ]
  },
  {
   "cell_type": "markdown",
   "metadata": {
    "slideshow": {
     "slide_type": "subslide"
    }
   },
   "source": [
    "### 2.4.1. Tuple Assignment"
   ]
  },
  {
   "cell_type": "code",
   "execution_count": 5,
   "metadata": {
    "slideshow": {
     "slide_type": "subslide"
    }
   },
   "outputs": [
    {
     "name": "stdout",
     "output_type": "stream",
     "text": [
      "[9 6 12 10 11 4 13]\n",
      "9 3\n"
     ]
    },
    {
     "data": {
      "text/plain": [
       "4 <nil>"
      ]
     },
     "execution_count": 5,
     "metadata": {},
     "output_type": "execute_result"
    }
   ],
   "source": [
    "a :=[]int {9,6,4,10,11,12,13}\n",
    "i, j := 5, 2\n",
    "x, y := 3, 9\n",
    "\n",
    "x , y = y, x\n",
    "a[i], a[j] = a[j], a[i]     //swapping the values\n",
    "fmt.Println(a)    \n",
    "fmt.Println(x,y)"
   ]
  },
  {
   "cell_type": "code",
   "execution_count": 6,
   "metadata": {
    "slideshow": {
     "slide_type": "subslide"
    }
   },
   "outputs": [],
   "source": [
    "func gcd(x,y int) int {\n",
    "    for y != 0 {\n",
    "        x, y = y, x%y\n",
    "    }\n",
    "    return x\n",
    "}\n",
    "func fib(n int) int {\n",
    "    x, y := 0, 1\n",
    "    for i := 0; i< n; i++ {\n",
    "        x, y = y, x+y\n",
    "    }\n",
    "    return x\n",
    "}"
   ]
  },
  {
   "cell_type": "code",
   "execution_count": 8,
   "metadata": {
    "slideshow": {
     "slide_type": "fragment"
    }
   },
   "outputs": [
    {
     "name": "stdout",
     "output_type": "stream",
     "text": [
      "8 24 1\n",
      "1 1 2 3 5 8 13 21 34 55\n"
     ]
    },
    {
     "data": {
      "text/plain": [
       "24 <nil>"
      ]
     },
     "execution_count": 8,
     "metadata": {},
     "output_type": "execute_result"
    }
   ],
   "source": [
    "fmt.Println(gcd(80,8), gcd(24, 120), gcd(37, 39))\n",
    "fmt.Println(fib(1), fib(2), fib(3), fib(4), fib(5), fib(6), fib(7), fib(8), fib(9), fib(10))"
   ]
  },
  {
   "cell_type": "markdown",
   "metadata": {
    "slideshow": {
     "slide_type": "slide"
    }
   },
   "source": [
    "### 2.4.2 Assignability"
   ]
  },
  {
   "cell_type": "code",
   "execution_count": 9,
   "metadata": {
    "slideshow": {
     "slide_type": "subslide"
    }
   },
   "outputs": [
    {
     "name": "stdout",
     "output_type": "stream",
     "text": [
      "[gold silver brone]\n"
     ]
    },
    {
     "data": {
      "text/plain": [
       "20 <nil>"
      ]
     },
     "execution_count": 9,
     "metadata": {},
     "output_type": "execute_result"
    }
   ],
   "source": [
    "modals := []string{\"gold\",\"silver\",\"brone\"}\n",
    "fmt.Println(modals)"
   ]
  },
  {
   "cell_type": "code",
   "execution_count": 10,
   "metadata": {
    "slideshow": {
     "slide_type": "fragment"
    }
   },
   "outputs": [
    {
     "name": "stdout",
     "output_type": "stream",
     "text": [
      "[gold silver brone]\n"
     ]
    },
    {
     "data": {
      "text/plain": [
       "20 <nil>"
      ]
     },
     "execution_count": 10,
     "metadata": {},
     "output_type": "execute_result"
    }
   ],
   "source": [
    "modals[0] = \"gold\"\n",
    "modals[1] = \"silver\"\n",
    "modals[2] = \"brone\"\n",
    "fmt.Println(modals)"
   ]
  },
  {
   "cell_type": "markdown",
   "metadata": {
    "slideshow": {
     "slide_type": "slide"
    }
   },
   "source": [
    "## 2.5. Type Declarations"
   ]
  },
  {
   "cell_type": "code",
   "execution_count": 14,
   "metadata": {
    "code_folding": [],
    "slideshow": {
     "slide_type": "subslide"
    }
   },
   "outputs": [],
   "source": [
    "// Copyright © 2016 Alan A. A. Donovan & Brian W. Kernighan.\n",
    "// License: https://creativecommons.org/licenses/by-nc-sa/4.0/\n",
    "\n",
    "// See page 39.\n",
    "//!+\n",
    "//gopl.io/ch2/tempconv0/celsius.go\n",
    "// Package tempconv performs Celsius and Fahrenheit temperature computations.\n",
    "package tempconv\n",
    "\n",
    "import \"fmt\"\n",
    "\n",
    "type Celsius float64\n",
    "type Fahrenheit float64\n",
    "\n",
    "const (\n",
    "\tAbsoluteZeroC Celsius = -273.15\n",
    "\tFreezingC     Celsius = 0\n",
    "\tBoilingC      Celsius = 100\n",
    ")\n",
    "\n",
    "func CToF(c Celsius) Fahrenheit { return Fahrenheit(c*9/5 + 32) }\n",
    "\n",
    "func FToC(f Fahrenheit) Celsius { return Celsius((f - 32) * 5 / 9) }\n",
    "\n",
    "//!-\n",
    "\n",
    "func (c Celsius) String() string { return fmt.Sprintf(\"%g°C\", c) }"
   ]
  },
  {
   "cell_type": "code",
   "execution_count": 15,
   "metadata": {
    "code_folding": [],
    "slideshow": {
     "slide_type": "subslide"
    }
   },
   "outputs": [],
   "source": [
    "// Copyright © 2016 Alan A. A. Donovan & Brian W. Kernighan.\n",
    "// License: https://creativecommons.org/licenses/by-nc-sa/4.0/\n",
    "\n",
    "package tempconv\n",
    "\n",
    "import \"fmt\"\n",
    "\n",
    "func Example_one() {\n",
    "\t{\n",
    "\t\t//!+arith\n",
    "\t\tfmt.Printf(\"%g\\n\", BoilingC-FreezingC) // \"100\" °C\n",
    "\t\tboilingF := CToF(BoilingC)\n",
    "\t\tfmt.Printf(\"%g\\n\", boilingF-CToF(FreezingC)) // \"180\" °F\n",
    "\t\t//!-arith\n",
    "\t}\n",
    "\t/*\n",
    "\t\t//!+arith\n",
    "\t\tfmt.Printf(\"%g\\n\", boilingF-FreezingC)       // compile error: type mismatch\n",
    "\t\t//!-arith\n",
    "\t*/\n",
    "\n",
    "\t// Output:\n",
    "\t// 100\n",
    "\t// 180\n",
    "}\n",
    "\n",
    "func Example_two() {\n",
    "\t//!+printf\n",
    "\tc := FToC(212.0)\n",
    "\tfmt.Println(c.String()) // \"100°C\"\n",
    "    fmt.Printf(\"%v\\n\", c)   // \"100°C\"; no need to call String explicitly\n",
    "    fmt.Printf(\"%s\\n\", c)  // \"100°C\"\n",
    "\tfmt.Println(c)          // \"100°C\"\n",
    "\tfmt.Printf(\"%g\\n\", c)   // \"100\"; does not call String\n",
    "\tfmt.Println(float64(c)) // \"100\"; does not call String\n",
    "\t//!-printf\n",
    "\n",
    "\t// Output:\n",
    "\t// 100°C\n",
    "\t// 100°C\n",
    "\t// 100°C\n",
    "\t// 100°C\n",
    "\t// 100\n",
    "\t// 100\n",
    "}"
   ]
  },
  {
   "cell_type": "markdown",
   "metadata": {
    "slideshow": {
     "slide_type": "fragment"
    }
   },
   "source": [
    "<code>\n",
    "$go test gopl.io/ch2/tempconv0\n",
    "ok      gopl.io/ch2/tempconv0   0.020s\n",
    "</code>"
   ]
  },
  {
   "cell_type": "markdown",
   "metadata": {
    "slideshow": {
     "slide_type": "slide"
    }
   },
   "source": [
    "## 2.6. Packages and Files"
   ]
  },
  {
   "cell_type": "code",
   "execution_count": 3,
   "metadata": {
    "slideshow": {
     "slide_type": "subslide"
    }
   },
   "outputs": [],
   "source": [
    "// Copyright © 2016 Alan A. A. Donovan & Brian W. Kernighan.\n",
    "// License: https://creativecommons.org/licenses/by-nc-sa/4.0/\n",
    "\n",
    "// See page 43.\n",
    "//!+\n",
    "\n",
    "// Cf converts its numeric argument to Celsius and Fahrenheit.\n",
    "package main\n",
    "\n",
    "import (\n",
    "\t\"fmt\"\n",
    "\t\"os\"\n",
    "\t\"strconv\"\n",
    "\n",
    "\t\"gopl.io/ch2/tempconv\"\n",
    ")\n",
    "\n",
    "func main() {\n",
    "\tfor _, arg := range os.Args[1:] {\n",
    "\t\tt, err := strconv.ParseFloat(arg, 64)\n",
    "\t\tif err != nil {\n",
    "\t\t\tfmt.Fprintf(os.Stderr, \"cf: %v\\n\", err)\n",
    "\t\t\tos.Exit(1)\n",
    "\t\t}\n",
    "\t\tf := tempconv.Fahrenheit(t)\n",
    "\t\tc := tempconv.Celsius(t)\n",
    "\t\tfmt.Printf(\"%s = %s, %s = %s\\n\",\n",
    "\t\t\tf, tempconv.FToC(f), c, tempconv.CToF(c))\n",
    "\t}\n",
    "}\n",
    "\n",
    "//!-"
   ]
  },
  {
   "cell_type": "code",
   "execution_count": 4,
   "metadata": {
    "cell_style": "split",
    "slideshow": {
     "slide_type": "fragment"
    }
   },
   "outputs": [
    {
     "name": "stdout",
     "output_type": "stream",
     "text": [
      "32°F = 0°C, 32°C = 89.6°F\n",
      "32°F = 0°C, 32°C = 89.6°F\n"
     ]
    }
   ],
   "source": [
    "import (\"os\")\n",
    "os.Args = []string{\"cf\",\"32\"}\n",
    "main()\n",
    "main()"
   ]
  },
  {
   "cell_type": "markdown",
   "metadata": {
    "cell_style": "split",
    "slideshow": {
     "slide_type": "fragment"
    }
   },
   "source": [
    "<code>\n",
    "$ go install gopl.io/ch2/cf@latest\n",
    "$./cf 32\n",
    "32°F = 0°C, 32°C = 89.6°F\n",
    "$ ./cf 212\n",
    "212°F = 100°C, 212°C = 413.6°F\n",
    "$ ./cf -40\n",
    "-40°F = -40°C, -40°C = -40°F\n",
    "</code>"
   ]
  },
  {
   "cell_type": "markdown",
   "metadata": {
    "slideshow": {
     "slide_type": "slide"
    }
   },
   "source": [
    "### 2.6.2. Package Initialization"
   ]
  },
  {
   "cell_type": "code",
   "execution_count": 5,
   "metadata": {
    "slideshow": {
     "slide_type": "subslide"
    }
   },
   "outputs": [
    {
     "name": "stdout",
     "output_type": "stream",
     "text": [
      "3 2 1\n"
     ]
    },
    {
     "data": {
      "text/plain": [
       "6 <nil>"
      ]
     },
     "execution_count": 5,
     "metadata": {},
     "output_type": "execute_result"
    }
   ],
   "source": [
    "var a = b + c    // a initialized third, to 3\n",
    "var b = f()      // b initialized second, to 2, by callin f\n",
    "var c = 1        // c initialized first, to 1\n",
    "func f() int {return c+1}\n",
    "fmt.Println(a,b,c)"
   ]
  },
  {
   "cell_type": "code",
   "execution_count": 9,
   "metadata": {
    "slideshow": {
     "slide_type": "subslide"
    }
   },
   "outputs": [],
   "source": [
    "// Copyright © 2016 Alan A. A. Donovan & Brian W. Kernighan.\n",
    "// License: https://creativecommons.org/licenses/by-nc-sa/4.0/\n",
    "\n",
    "// See page 45.\n",
    "\n",
    "// (Package doc comment intentionally malformed to demonstrate golint.)\n",
    "//!+\n",
    "package popcount\n",
    "\n",
    "// pc[i] is the population count of i.\n",
    "var pc [256]byte\n",
    "\n",
    "func init() {\n",
    "\tfor i := range pc {\n",
    "\t\tpc[i] = pc[i/2] + byte(i&1)\n",
    "\t}\n",
    "}\n",
    "\n",
    "// PopCount returns the population count (number of set bits) of x.\n",
    "func PopCount(x uint64) int {\n",
    "\treturn int(pc[byte(x>>(0*8))] +\n",
    "\t\tpc[byte(x>>(1*8))] +\n",
    "\t\tpc[byte(x>>(2*8))] +\n",
    "\t\tpc[byte(x>>(3*8))] +\n",
    "\t\tpc[byte(x>>(4*8))] +\n",
    "\t\tpc[byte(x>>(5*8))] +\n",
    "\t\tpc[byte(x>>(6*8))] +\n",
    "\t\tpc[byte(x>>(7*8))])\n",
    "}\n",
    "\n",
    "//!-"
   ]
  },
  {
   "cell_type": "code",
   "execution_count": 10,
   "metadata": {
    "code_folding": [
     13,
     24,
     45,
     51,
     57,
     63
    ],
    "slideshow": {
     "slide_type": "subslide"
    }
   },
   "outputs": [
    {
     "ename": "ERROR",
     "evalue": "repl.go:37:12: mismatched types in binary operation & between <uint64> and <int>: x & (1 << i)",
     "output_type": "error",
     "traceback": [
      "repl.go:37:12: mismatched types in binary operation & between <uint64> and <int>: x & (1 << i)"
     ]
    }
   ],
   "source": [
    "// Copyright © 2016 Alan A. A. Donovan & Brian W. Kernighan.\n",
    "// License: https://creativecommons.org/licenses/by-nc-sa/4.0/\n",
    "\n",
    "package popcount_test\n",
    "\n",
    "import (\n",
    "\t\"testing\"\n",
    "\n",
    "\t\"gopl.io/ch2/popcount\"\n",
    ")\n",
    "\n",
    "// -- Alternative implementations --\n",
    "\n",
    "func BitCount(x uint64) int {\n",
    "\t// Hacker's Delight, Figure 5-2.\n",
    "\tx = x - ((x >> 1) & 0x5555555555555555)\n",
    "\tx = (x & 0x3333333333333333) + ((x >> 2) & 0x3333333333333333)\n",
    "\tx = (x + (x >> 4)) & 0x0f0f0f0f0f0f0f0f\n",
    "\tx = x + (x >> 8)\n",
    "\tx = x + (x >> 16)\n",
    "\tx = x + (x >> 32)\n",
    "\treturn int(x & 0x7f)\n",
    "}\n",
    "\n",
    "func PopCountByClearing(x uint64) int {\n",
    "\tn := 0\n",
    "\tfor x != 0 {\n",
    "\t\tx = x & (x - 1) // clear rightmost non-zero bit\n",
    "\t\tn++\n",
    "\t}\n",
    "\treturn n\n",
    "}\n",
    "\n",
    "func PopCountByShifting(x uint64) int {\n",
    "\tn := 0\n",
    "\tfor i := uint(0); i < 64; i++ {\n",
    "\t\tif x&(1<<i) != 0 {\n",
    "\t\t\tn++\n",
    "\t\t}\n",
    "\t}\n",
    "\treturn n\n",
    "}\n",
    "\n",
    "// -- Benchmarks --\n",
    "\n",
    "func BenchmarkPopCount(b *testing.B) {\n",
    "\tfor i := 0; i < b.N; i++ {\n",
    "\t\tpopcount.PopCount(0x1234567890ABCDEF)\n",
    "\t}\n",
    "}\n",
    "\n",
    "func BenchmarkBitCount(b *testing.B) {\n",
    "\tfor i := 0; i < b.N; i++ {\n",
    "\t\tBitCount(0x1234567890ABCDEF)\n",
    "\t}\n",
    "}\n",
    "\n",
    "func BenchmarkPopCountByClearing(b *testing.B) {\n",
    "\tfor i := 0; i < b.N; i++ {\n",
    "\t\tPopCountByClearing(0x1234567890ABCDEF)\n",
    "\t}\n",
    "}\n",
    "\n",
    "func BenchmarkPopCountByShifting(b *testing.B) {\n",
    "\tfor i := 0; i < b.N; i++ {\n",
    "\t\tPopCountByShifting(0x1234567890ABCDEF)\n",
    "\t}\n",
    "}\n",
    "\n",
    "// Go 1.6, 2.67GHz Xeon\n",
    "// $ go test -cpu=4 -bench=. gopl.io/ch2/popcount\n",
    "// BenchmarkPopCount-4                  200000000         6.30 ns/op\n",
    "// BenchmarkBitCount-4                  300000000         4.15 ns/op\n",
    "// BenchmarkPopCountByClearing-4        30000000         45.2 ns/op\n",
    "// BenchmarkPopCountByShifting-4        10000000        153 ns/op\n",
    "//\n",
    "// Go 1.6, 2.5GHz Intel Core i5\n",
    "// $ go test -cpu=4 -bench=. gopl.io/ch2/popcount\n",
    "// BenchmarkPopCount-4                  200000000         7.52 ns/op\n",
    "// BenchmarkBitCount-4                  500000000         3.36 ns/op\n",
    "// BenchmarkPopCountByClearing-4        50000000         34.3 ns/op\n",
    "// BenchmarkPopCountByShifting-4        20000000        108 ns/op\n",
    "//\n",
    "// Go 1.7, 3.5GHz Xeon\n",
    "// $ go test -cpu=4 -bench=. gopl.io/ch2/popcount\n",
    "// BenchmarkPopCount-12                 2000000000        0.28 ns/op\n",
    "// BenchmarkBitCount-12                 2000000000        0.27 ns/op\n",
    "// BenchmarkPopCountByClearing-12       100000000        18.5 ns/op\n",
    "// BenchmarkPopCountByShifting-12       20000000         70.1 ns/op"
   ]
  },
  {
   "cell_type": "markdown",
   "metadata": {
    "slideshow": {
     "slide_type": "fragment"
    }
   },
   "source": [
    "<code>\n",
    "$ go test -cpu=2 -bench=. gopl.io/ch2/popcount\n",
    "goos: linux\n",
    "goarch: amd64\n",
    "pkg: gopl.io/ch2/popcount\n",
    "BenchmarkPopCount-2                     1000000000               0.704 ns/op\n",
    "BenchmarkBitCount-2                     1000000000               0.361 ns/op\n",
    "BenchmarkPopCountByClearing-2           63276454                18.3 ns/op\n",
    "BenchmarkPopCountByShifting-2           21629844                56.6 ns/op\n",
    "PASS\n",
    "ok      gopl.io/ch2/popcount    3.661s\n",
    "</code>"
   ]
  },
  {
   "cell_type": "markdown",
   "metadata": {
    "slideshow": {
     "slide_type": "slide"
    }
   },
   "source": [
    "## 2.7. Scope"
   ]
  },
  {
   "cell_type": "code",
   "execution_count": 11,
   "metadata": {
    "slideshow": {
     "slide_type": "subslide"
    }
   },
   "outputs": [],
   "source": [
    "func f() {}\n",
    "var g = \"g\"\n",
    "\n",
    "func main(){\n",
    "    f := \"f\"\n",
    "    fmt.Println(f) // \"f\"; local var f shadows package-level func f\n",
    "    fmt.Println(g) // \"g\"; package-level var\n",
    "    //fmt.Println(h) // compile error: undefined: h\n",
    "}"
   ]
  },
  {
   "cell_type": "code",
   "execution_count": 12,
   "metadata": {
    "slideshow": {
     "slide_type": "fragment"
    }
   },
   "outputs": [
    {
     "name": "stdout",
     "output_type": "stream",
     "text": [
      "f\n",
      "g\n"
     ]
    }
   ],
   "source": [
    "main()"
   ]
  },
  {
   "cell_type": "code",
   "execution_count": 13,
   "metadata": {
    "slideshow": {
     "slide_type": "subslide"
    }
   },
   "outputs": [],
   "source": [
    "// three different variables called x for each declaration appears in a different lexical block\n",
    "func main(){\n",
    "    x := \"hello!\"\n",
    "    for i:= 0; i < len(x); i++ {\n",
    "        x := x[i]\n",
    "        if x != '!' {\n",
    "            x := x + 'A' - 'a'\n",
    "            fmt.Printf(\"%c\", x)   // \"HELLO\" (one letter per iteration)\n",
    "        }\n",
    "    }\n",
    "}"
   ]
  },
  {
   "cell_type": "code",
   "execution_count": 14,
   "metadata": {
    "slideshow": {
     "slide_type": "fragment"
    }
   },
   "outputs": [
    {
     "name": "stdout",
     "output_type": "stream",
     "text": [
      "HELLO"
     ]
    }
   ],
   "source": [
    "main()"
   ]
  },
  {
   "cell_type": "code",
   "execution_count": 15,
   "metadata": {
    "slideshow": {
     "slide_type": "subslide"
    }
   },
   "outputs": [],
   "source": [
    "func main(){\n",
    "    x := \"hello\"\n",
    "    for _, x := range x {\n",
    "        x := x + 'A' - 'a' + 2\n",
    "        fmt.Printf(\"%c\", x)  // \"HELLO\" (one letter per iteration)\n",
    "    }\n",
    "}"
   ]
  },
  {
   "cell_type": "code",
   "execution_count": 16,
   "metadata": {
    "slideshow": {
     "slide_type": "fragment"
    }
   },
   "outputs": [
    {
     "name": "stdout",
     "output_type": "stream",
     "text": [
      "JGNNQ"
     ]
    }
   ],
   "source": [
    "main()"
   ]
  },
  {
   "cell_type": "code",
   "execution_count": 17,
   "metadata": {
    "slideshow": {
     "slide_type": "subslide"
    }
   },
   "outputs": [
    {
     "name": "stdout",
     "output_type": "stream",
     "text": [
      "1 1\n"
     ]
    }
   ],
   "source": [
    "func f() int { return 1}\n",
    "func g(x int) int { return 1}\n",
    "\n",
    "if x:= f(); x == 0 {\n",
    "    fmt.Println(x)\n",
    "} else if y:= g(x); x == y {\n",
    "    fmt.Println(x,y)\n",
    "}\n",
    "//fmt.Println(x, y) // compile error: x and y are not visible here"
   ]
  },
  {
   "cell_type": "code",
   "execution_count": 18,
   "metadata": {
    "slideshow": {
     "slide_type": "subslide"
    }
   },
   "outputs": [
    {
     "ename": "ERROR",
     "evalue": "repl.go:6:5: not a package: \"f\" in f.Stat <*ast.SelectorExpr>",
     "output_type": "error",
     "traceback": [
      "repl.go:6:5: not a package: \"f\" in f.Stat <*ast.SelectorExpr>"
     ]
    }
   ],
   "source": [
    "import \"os\"\n",
    "    fname := \"dup.txt\"\n",
    "    if f, err := os.Open(fname); err != nil {\n",
    "        //return err\n",
    "    }\n",
    "    f.Stat()\n",
    "    f.Close()"
   ]
  },
  {
   "cell_type": "code",
   "execution_count": 19,
   "metadata": {
    "slideshow": {
     "slide_type": "subslide"
    }
   },
   "outputs": [],
   "source": [
    "f, err := os.Open(\"dup.txt\")\n",
    "if err != nil {\n",
    "    //return err\n",
    "}\n",
    "f.Stat()\n",
    "f.Close()"
   ]
  },
  {
   "cell_type": "code",
   "execution_count": 21,
   "metadata": {
    "slideshow": {
     "slide_type": "subslide"
    }
   },
   "outputs": [],
   "source": [
    "if f, err := os.Open(fname); err != nil {\n",
    "    //return err\n",
    "} else {\n",
    "    // f and err are visible here too\n",
    "    f.Stat()\n",
    "    f.Close()\n",
    "}"
   ]
  },
  {
   "cell_type": "code",
   "execution_count": 22,
   "metadata": {
    "slideshow": {
     "slide_type": "subslide"
    }
   },
   "outputs": [],
   "source": [
    "import ( \"os\"; \"log\")\n",
    "var cwd string\n",
    "func init() {\n",
    "    cwd, err := os.Getwd() // compile error: unused: cwd\n",
    "    if err != nil {\n",
    "        log.Fatalf(\"os.Getwd failed: %v\", err)\n",
    "    }\n",
    "}"
   ]
  },
  {
   "cell_type": "code",
   "execution_count": 23,
   "metadata": {
    "slideshow": {
     "slide_type": "subslide"
    }
   },
   "outputs": [],
   "source": [
    "var cwd string\n",
    "func init() {\n",
    "    cwd, err := os.Getwd()\n",
    "    if err != nil {\n",
    "        log.Fatalf(\"os.Getwd failed: %v\", err) // log output obfuscated the bug\n",
    "    }\n",
    "}"
   ]
  },
  {
   "cell_type": "code",
   "execution_count": 24,
   "metadata": {
    "slideshow": {
     "slide_type": "subslide"
    }
   },
   "outputs": [],
   "source": [
    "var cwd string    // avoid := by declaring err in a separte var declaration\n",
    "func init(){\n",
    "    var err error\n",
    "    cwd, err = os.Getwd()\n",
    "    if err != nil {\n",
    "        log.Fatalf(\"os.Getwd failed: %v\", err)\n",
    "    }\n",
    "}"
   ]
  }
 ],
 "metadata": {
  "celltoolbar": "Slideshow",
  "kernelspec": {
   "display_name": "Go",
   "language": "go",
   "name": "gophernotes"
  },
  "language_info": {
   "codemirror_mode": "",
   "file_extension": ".go",
   "mimetype": "",
   "name": "go",
   "nbconvert_exporter": "",
   "pygments_lexer": "",
   "version": "go1.17.1"
  },
  "latex_envs": {
   "LaTeX_envs_menu_present": true,
   "autoclose": false,
   "autocomplete": true,
   "bibliofile": "biblio.bib",
   "cite_by": "apalike",
   "current_citInitial": 1,
   "eqLabelWithNumbers": true,
   "eqNumInitial": 1,
   "hotkeys": {
    "equation": "Ctrl-E",
    "itemize": "Ctrl-I"
   },
   "labels_anchors": false,
   "latex_user_defs": false,
   "report_style_numbering": false,
   "user_envs_cfg": false
  },
  "rise": {
   "enable_chalkboard": true
  },
  "toc": {
   "base_numbering": 1,
   "nav_menu": {},
   "number_sections": false,
   "sideBar": false,
   "skip_h1_title": false,
   "title_cell": "Table of Contents",
   "title_sidebar": "Contents",
   "toc_cell": false,
   "toc_position": {
    "height": "47.5px",
    "left": "169px",
    "top": "0px",
    "width": "159.473px"
   },
   "toc_section_display": false,
   "toc_window_display": true
  }
 },
 "nbformat": 4,
 "nbformat_minor": 2
}
