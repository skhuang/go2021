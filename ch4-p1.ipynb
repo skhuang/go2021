{
 "cells": [
  {
   "cell_type": "markdown",
   "metadata": {
    "slideshow": {
     "slide_type": "slide"
    }
   },
   "source": [
    "# Composite Types\n",
    "* Arrays\n",
    "* Slices\n",
    "* Maps"
   ]
  },
  {
   "cell_type": "markdown",
   "metadata": {
    "slideshow": {
     "slide_type": "slide"
    }
   },
   "source": [
    "## Arrays\n",
    "\n",
    "* An array is a fixed-length sequence of zero or mor element of a particular type\n",
    "* Built-in function <i>len</i> returns the number of elements in the array"
   ]
  },
  {
   "cell_type": "code",
   "execution_count": 85,
   "metadata": {
    "slideshow": {
     "slide_type": "subslide"
    }
   },
   "outputs": [
    {
     "name": "stdout",
     "output_type": "stream",
     "text": [
      "0\n",
      "0\n"
     ]
    },
    {
     "data": {
      "text/plain": [
       "2 <nil>"
      ]
     },
     "execution_count": 85,
     "metadata": {},
     "output_type": "execute_result"
    }
   ],
   "source": [
    "import \"fmt\"\n",
    "var a [3]int               //array of 3 elements\n",
    "fmt.Println(a[0])        //print the first element\n",
    "fmt.Println(a[len(a)-1]) //print the last element, a[2]"
   ]
  },
  {
   "cell_type": "code",
   "execution_count": 87,
   "metadata": {
    "slideshow": {
     "slide_type": "subslide"
    }
   },
   "outputs": [
    {
     "name": "stdout",
     "output_type": "stream",
     "text": [
      "0 0\n",
      "1 0\n",
      "2 0\n"
     ]
    }
   ],
   "source": [
    "//Print the indices and elements.\n",
    "for i, v := range a {\n",
    "    fmt.Printf(\"%d %d\\n\", i, v)\n",
    "}"
   ]
  },
  {
   "cell_type": "code",
   "execution_count": 88,
   "metadata": {
    "slideshow": {
     "slide_type": "subslide"
    }
   },
   "outputs": [
    {
     "name": "stdout",
     "output_type": "stream",
     "text": [
      "0\n",
      "0\n",
      "0\n"
     ]
    }
   ],
   "source": [
    "//Print the elements only.\n",
    "for _, v := range a {\n",
    "    fmt.Printf(\"%d\\n\",v)\n",
    "}"
   ]
  },
  {
   "cell_type": "markdown",
   "metadata": {
    "slideshow": {
     "slide_type": "subslide"
    }
   },
   "source": [
    "* By default, the elements of a new array are initially set to the zero value for the element type, 0 for numbers.\n",
    "* We can use an array literal to initialize an array with a list of values"
   ]
  },
  {
   "cell_type": "code",
   "execution_count": 5,
   "metadata": {
    "slideshow": {
     "slide_type": "subslide"
    }
   },
   "outputs": [
    {
     "name": "stdout",
     "output_type": "stream",
     "text": [
      "2 3\n"
     ]
    },
    {
     "data": {
      "text/plain": [
       "4 <nil>"
      ]
     },
     "execution_count": 5,
     "metadata": {},
     "output_type": "execute_result"
    }
   ],
   "source": [
    "import \"fmt\"\n",
    "var q [3]int = [3]int{1, 2, 3}\n",
    "var r [3]int = [3]int{1,2}\n",
    "fmt.Println(r[1], q[2]) // 0"
   ]
  },
  {
   "cell_type": "code",
   "execution_count": 11,
   "metadata": {
    "slideshow": {
     "slide_type": "subslide"
    }
   },
   "outputs": [
    {
     "name": "stdout",
     "output_type": "stream",
     "text": [
      "[7]int\n"
     ]
    },
    {
     "data": {
      "text/plain": [
       "7 <nil>"
      ]
     },
     "execution_count": 11,
     "metadata": {},
     "output_type": "execute_result"
    }
   ],
   "source": [
    "q := [...]int{1, 2, 3, 4,5,6,7}\n",
    "fmt.Printf(\"%T\\n\", q)   // [3]int"
   ]
  },
  {
   "cell_type": "code",
   "execution_count": 20,
   "metadata": {
    "slideshow": {
     "slide_type": "subslide"
    }
   },
   "outputs": [],
   "source": [
    "q := [4]int{0:1, 1:2, 2:3}\n",
    "q =  [4]int{1, 2, 3, 4}"
   ]
  },
  {
   "cell_type": "code",
   "execution_count": 74,
   "metadata": {
    "slideshow": {
     "slide_type": "subslide"
    }
   },
   "outputs": [
    {
     "name": "stdout",
     "output_type": "stream",
     "text": [
      "3 ¥\n"
     ]
    },
    {
     "data": {
      "text/plain": [
       "5 <nil>"
      ]
     },
     "execution_count": 74,
     "metadata": {},
     "output_type": "execute_result"
    }
   ],
   "source": [
    "type Currency int\n",
    "const (\n",
    "    USD Currency = iota\n",
    "    EUR\n",
    "    GBP\n",
    "    RMB\n",
    ")\n",
    "symbol := [...]string{USD: \"$\",  GBP: \"£\", RMB: \"¥\", EUR: \"€\"}\n",
    "fmt.Println(RMB, symbol[RMB])"
   ]
  },
  {
   "cell_type": "code",
   "execution_count": 22,
   "metadata": {
    "slideshow": {
     "slide_type": "subslide"
    }
   },
   "outputs": [
    {
     "name": "stdout",
     "output_type": "stream",
     "text": [
      "[0 0 0 0 0 0 0 0 0 0 0 0 0 0 0 0 0 0 0 0 0 0 0 0 0 0 0 0 0 0 0 0 0 0 0 0 0 0 0 0 0 0 0 0 0 0 0 0 0 0 0 0 0 0 0 0 0 0 0 0 0 0 0 0 0 0 0 0 0 0 0 0 0 0 0 0 0 0 0 0 0 0 0 0 0 0 0 0 0 0 0 0 0 0 0 0 0 0 0 -1 0 0 0 0 0 0 0 0 0 0 0 0 0 0 0 0 0 0 0 0 0 0 0 0 0 0 0 0 0 0 0 0 0 0 0 0 0 0 0 0 0 0 0 0 0 0 0 0 0 0 0 0 0 0 0 0 0 0 0 0 0 0 0 0 0 0 0 0 0 0 0 0 0 0 0 0 0 0 0 0 0 0 0 0 0 0 0 0 0 0 0 0 0 0 0 0 0 0 0 -2] 200\n"
     ]
    },
    {
     "data": {
      "text/plain": [
       "408 <nil>"
      ]
     },
     "execution_count": 22,
     "metadata": {},
     "output_type": "execute_result"
    }
   ],
   "source": [
    "r := [...]int{99: -1, 199:-2}\n",
    "fmt.Println(r, len(r))"
   ]
  },
  {
   "cell_type": "code",
   "execution_count": 25,
   "metadata": {
    "slideshow": {
     "slide_type": "subslide"
    }
   },
   "outputs": [
    {
     "name": "stdout",
     "output_type": "stream",
     "text": [
      "true false false\n"
     ]
    }
   ],
   "source": [
    "a := [3]int{1,2,9}\n",
    "b := [...]int{1,2,9}\n",
    "c := [3]int{1,3}\n",
    "fmt.Println(a == b, a == c, b == c)\n",
    "d := [3]int{1,2}\n",
    "//fmt.Println(a == d)"
   ]
  },
  {
   "cell_type": "code",
   "execution_count": 27,
   "metadata": {
    "slideshow": {
     "slide_type": "subslide"
    }
   },
   "outputs": [
    {
     "name": "stdout",
     "output_type": "stream",
     "text": [
      "false\n"
     ]
    },
    {
     "data": {
      "text/plain": [
       "6 <nil>"
      ]
     },
     "execution_count": 27,
     "metadata": {},
     "output_type": "execute_result"
    }
   ],
   "source": [
    "fmt.Println(a == d)  // compile error: cannot compare [2]int == [3]int"
   ]
  },
  {
   "cell_type": "code",
   "execution_count": 61,
   "metadata": {
    "slideshow": {
     "slide_type": "subslide"
    }
   },
   "outputs": [
    {
     "name": "stdout",
     "output_type": "stream",
     "text": [
      "18f5384d58bcb1bba0bcd9e6a6781d1a6ac2cc280c330ecbab6cb7931b721552\n",
      "2d711642b726b04401627ca9fbac32f5c8530fb1903cc4db02258717921a4881\n",
      "false\n",
      "[32]uint8\n"
     ]
    }
   ],
   "source": [
    "//gopl.io/ch4/sha256\n",
    "import \"crypto/sha256\"\n",
    "func main() {\n",
    "    c1 := sha256.Sum256([]byte(\"Y\"))\n",
    "    c2 := sha256.Sum256([]byte(\"x\"))\n",
    "    fmt.Printf(\"%x\\n%x\\n%t\\n%T\\n\",c1, c2, c1 == c2, c1)\n",
    "}\n",
    "main()\n",
    "// Output:\n",
    "// 2d711642b726b04401627ca9fbac32f5c8530fb1903cc4db02258717921a4881\n",
    "// 4b68ab3847feda7d6c62c1fbcbeebfa35eab7351ed5e78f4ddadea5df64b8015\n",
    "// false\n",
    "// [32]uint8"
   ]
  },
  {
   "cell_type": "code",
   "execution_count": 89,
   "metadata": {
    "slideshow": {
     "slide_type": "subslide"
    }
   },
   "outputs": [
    {
     "name": "stdout",
     "output_type": "stream",
     "text": [
      "18f5384d58bcb1bba0bcd9e6a6781d1a6ac2cc280c330ecbab6cb7931b721552\n",
      "2d711642b726b04401627ca9fbac32f5c8530fb1903cc4db02258717921a4881\n",
      "false\n",
      "[32]uint8\n"
     ]
    }
   ],
   "source": [
    "main()"
   ]
  },
  {
   "cell_type": "markdown",
   "metadata": {
    "slideshow": {
     "slide_type": "subslide"
    }
   },
   "source": [
    "----------------------------\n",
    "* Go treats like any other type, and different from languages that implicitly pass arrays by reference\n",
    "* We can explicitly pass a pointer to an array "
   ]
  },
  {
   "cell_type": "code",
   "execution_count": 65,
   "metadata": {
    "slideshow": {
     "slide_type": "subslide"
    }
   },
   "outputs": [
    {
     "name": "stdout",
     "output_type": "stream",
     "text": [
      "[45 113 22 66 183 38 176 68 1 98 124 169 251 172 50 245 200 83 15 177 144 60 196 219 2 37 135 23 146 26 72 129]\n",
      "[0 0 0 0 0 0 0 0 0 0 0 0 0 0 0 0 0 0 0 0 0 0 0 0 0 0 0 0 0 0 0 0]\n"
     ]
    },
    {
     "data": {
      "text/plain": [
       "66 <nil>"
      ]
     },
     "execution_count": 65,
     "metadata": {},
     "output_type": "execute_result"
    }
   ],
   "source": [
    "func zero(ptr *[32]byte) {\n",
    "    for i:= range ptr {\n",
    "        ptr[i] = 0\n",
    "    }\n",
    "}\n",
    "\n",
    "c1 := sha256.Sum256([]byte(\"x\"))\n",
    "fmt.Println(c1)\n",
    "zero(&c1)\n",
    "fmt.Println(c1)"
   ]
  },
  {
   "cell_type": "code",
   "execution_count": 67,
   "metadata": {
    "slideshow": {
     "slide_type": "subslide"
    }
   },
   "outputs": [
    {
     "name": "stdout",
     "output_type": "stream",
     "text": [
      "[45 113 22 66 183 38 176 68 1 98 124 169 251 172 50 245 200 83 15 177 144 60 196 219 2 37 135 23 146 26 72 129]\n",
      "[0 0 0 0 0 0 0 0 0 0 0 0 0 0 0 0 0 0 0 0 0 0 0 0 0 0 0 0 0 0 0 0]\n"
     ]
    },
    {
     "data": {
      "text/plain": [
       "66 <nil>"
      ]
     },
     "execution_count": 67,
     "metadata": {},
     "output_type": "execute_result"
    }
   ],
   "source": [
    "func zero(ptr *[32]byte) {\n",
    "    *ptr = [32]byte{}\n",
    "}\n",
    "\n",
    "c1 := sha256.Sum256([]byte(\"x\"))\n",
    "fmt.Println(c1)\n",
    "zero(&c1)\n",
    "fmt.Println(c1)"
   ]
  },
  {
   "cell_type": "markdown",
   "metadata": {
    "slideshow": {
     "slide_type": "slide"
    }
   },
   "source": [
    "## Slices\n",
    "* Variable-length sequences whose elements all have the same type\n",
    "* A slice type is written []T, with element type T\n",
    "* A lightweight data structure with access to subsequence of the element of an array\n",
    "* len and cap built-in functions"
   ]
  },
  {
   "cell_type": "code",
   "execution_count": 1,
   "metadata": {
    "slideshow": {
     "slide_type": "subslide"
    }
   },
   "outputs": [
    {
     "name": "stdout",
     "output_type": "stream",
     "text": [
      "[April May June]\n",
      "[June July August]\n",
      "[13]string\n",
      "[]string\n",
      "[]string\n",
      "[]string\n"
     ]
    },
    {
     "data": {
      "text/plain": [
       "38 <nil>"
      ]
     },
     "execution_count": 1,
     "metadata": {},
     "output_type": "execute_result"
    }
   ],
   "source": [
    "import \"fmt\"\n",
    "months := [...]string{1:\"January\", \"February\", \"March\", \"April\", \"May\", \"June\", \"July\", \"August\", \"September\", \"October\", \"November\", 12:\"December\"}\n",
    "Q2 := months[4:7]\n",
    "summer := months[6:9]\n",
    "fmt.Println(Q2)\n",
    "fmt.Println(summer)\n",
    "fmt.Printf(\"%T\\n%T\\n%T\\n%T\\n\",months, months[:],Q2, summer)"
   ]
  },
  {
   "cell_type": "markdown",
   "metadata": {
    "slideshow": {
     "slide_type": "subslide"
    }
   },
   "source": [
    "<center>Two overlapping slices of an array of months\n",
    "<img src=\"https://skhuang.github.io/5-1.png\"></center>\n"
   ]
  },
  {
   "cell_type": "code",
   "execution_count": 2,
   "metadata": {
    "slideshow": {
     "slide_type": "subslide"
    }
   },
   "outputs": [
    {
     "name": "stdout",
     "output_type": "stream",
     "text": [
      "June appears in both\n"
     ]
    }
   ],
   "source": [
    "for _, s:= range summer {\n",
    "    for _, q := range Q2 {\n",
    "        if s == q {\n",
    "            fmt.Printf(\"%s appears in both\\n\", s)\n",
    "        }\n",
    "    }\n",
    "}"
   ]
  },
  {
   "cell_type": "code",
   "execution_count": 38,
   "metadata": {
    "slideshow": {
     "slide_type": "subslide"
    }
   },
   "outputs": [
    {
     "name": "stdout",
     "output_type": "stream",
     "text": [
      "[June July August September October November December] 3 7\n"
     ]
    },
    {
     "data": {
      "text/plain": [
       "59 <nil>"
      ]
     },
     "execution_count": 38,
     "metadata": {},
     "output_type": "execute_result"
    }
   ],
   "source": [
    "fmt.Println(summer[:7], len(summer), cap(summer)) // panic: out of range"
   ]
  },
  {
   "cell_type": "code",
   "execution_count": 39,
   "metadata": {
    "slideshow": {
     "slide_type": "subslide"
    }
   },
   "outputs": [
    {
     "name": "stdout",
     "output_type": "stream",
     "text": [
      "[June July August September October November December]\n"
     ]
    },
    {
     "data": {
      "text/plain": [
       "55 <nil>"
      ]
     },
     "execution_count": 39,
     "metadata": {},
     "output_type": "execute_result"
    }
   ],
   "source": [
    "endlessSummer := summer[:7] // extend a slice\n",
    "fmt.Println(endlessSummer)  "
   ]
  },
  {
   "cell_type": "code",
   "execution_count": 41,
   "metadata": {
    "slideshow": {
     "slide_type": "subslide"
    }
   },
   "outputs": [
    {
     "name": "stdout",
     "output_type": "stream",
     "text": [
      "[5 4 3 2 1 0]\n"
     ]
    },
    {
     "data": {
      "text/plain": [
       "14 <nil>"
      ]
     },
     "execution_count": 41,
     "metadata": {},
     "output_type": "execute_result"
    }
   ],
   "source": [
    "//gopl.io/ch4/rev\n",
    "// reverse reverses a slice of ints in place.\n",
    "func reverse(s []int) {\n",
    "    for i, j := 0, len(s)-1; i < j; i, j = i+1, j-1 {\n",
    "        s[i], s[j] = s[j], s[i]\n",
    "    }\n",
    "}\n",
    "\n",
    "a := [...]int{0,1,2,3,4,5}\n",
    "reverse(a[:])\n",
    "fmt.Println(a)"
   ]
  },
  {
   "cell_type": "code",
   "execution_count": 50,
   "metadata": {
    "slideshow": {
     "slide_type": "subslide"
    }
   },
   "outputs": [
    {
     "name": "stdout",
     "output_type": "stream",
     "text": [
      "[]int\n"
     ]
    },
    {
     "data": {
      "text/plain": [
       "6 <nil>"
      ]
     },
     "execution_count": 50,
     "metadata": {},
     "output_type": "execute_result"
    }
   ],
   "source": [
    "//a := [...]int{0,1,2,3,4,5}\n",
    "a := []int{0,1,2,3,4,5}\n",
    "//reverse(a[:])\n",
    "reverse(a[:])\n",
    "fmt.Printf(\"%T\\n\",a[:])"
   ]
  },
  {
   "cell_type": "code",
   "execution_count": 51,
   "metadata": {
    "slideshow": {
     "slide_type": "subslide"
    }
   },
   "outputs": [
    {
     "name": "stdout",
     "output_type": "stream",
     "text": [
      "[5 4 3 2 1 0] 6 6\n"
     ]
    },
    {
     "data": {
      "text/plain": [
       "18 <nil>"
      ]
     },
     "execution_count": 51,
     "metadata": {},
     "output_type": "execute_result"
    }
   ],
   "source": [
    "a := []int{0,1,2,3,4,5}\n",
    "reverse(a)\n",
    "fmt.Println(a, cap(a),len(a))"
   ]
  },
  {
   "cell_type": "code",
   "execution_count": 15,
   "metadata": {
    "slideshow": {
     "slide_type": "subslide"
    }
   },
   "outputs": [
    {
     "name": "stdout",
     "output_type": "stream",
     "text": [
      "[1 0 2 3 4 5]\n",
      "[1 0 5 4 3 2]\n",
      "[2 3 4 5 0 1]\n"
     ]
    },
    {
     "data": {
      "text/plain": [
       "14 <nil>"
      ]
     },
     "execution_count": 15,
     "metadata": {},
     "output_type": "execute_result"
    }
   ],
   "source": [
    "s := []int{0,1,2,3,4,5}\n",
    "// Rotate s left by two positions.\n",
    "reverse(s[:2])\n",
    "fmt.Println(s)\n",
    "reverse(s[2:])\n",
    "fmt.Println(s)\n",
    "reverse(s)\n",
    "fmt.Println(s) // [2 3 4 5 0 1]"
   ]
  },
  {
   "cell_type": "code",
   "execution_count": 52,
   "metadata": {
    "slideshow": {
     "slide_type": "subslide"
    }
   },
   "outputs": [],
   "source": [
    "func equal(x, y []string) bool {\n",
    "    if len(x) != len(y) {\n",
    "        return false\n",
    "    }\n",
    "    for i := range x {\n",
    "        if x[i] != y[i] {\n",
    "            return false\n",
    "        }\n",
    "    }\n",
    "    return true\n",
    "}\n"
   ]
  },
  {
   "cell_type": "code",
   "execution_count": 54,
   "metadata": {
    "slideshow": {
     "slide_type": "subslide"
    }
   },
   "outputs": [
    {
     "name": "stdout",
     "output_type": "stream",
     "text": [
      "true\n",
      "false\n"
     ]
    },
    {
     "data": {
      "text/plain": [
       "6 <nil>"
      ]
     },
     "execution_count": 54,
     "metadata": {},
     "output_type": "execute_result"
    }
   ],
   "source": [
    "a := []string{\"0\",\"1\",\"2\",\"3\",\"4\",\"5\"}\n",
    "b := []string{\"0\",\"1\",\"2\",\"3\",\"4\",\"5\"}\n",
    "c := []string{\"0\",\"1\",\"2\",\"3\",\"4\",\"5\",\"6\"}\n",
    "fmt.Println(equal(a,b))\n",
    "fmt.Println(equal(b,c))"
   ]
  },
  {
   "cell_type": "markdown",
   "metadata": {
    "slideshow": {
     "slide_type": "subslide"
    }
   },
   "source": [
    "----------------------\n",
    "* The only legal slice comparison is against nil"
   ]
  },
  {
   "cell_type": "code",
   "execution_count": 18,
   "metadata": {
    "slideshow": {
     "slide_type": "fragment"
    }
   },
   "outputs": [],
   "source": [
    "if summer == nil {}"
   ]
  },
  {
   "cell_type": "code",
   "execution_count": 57,
   "metadata": {
    "slideshow": {
     "slide_type": "subslide"
    }
   },
   "outputs": [
    {
     "name": "stdout",
     "output_type": "stream",
     "text": [
      "0 true\n",
      "0 true\n",
      "0 true\n",
      "0 false\n"
     ]
    },
    {
     "data": {
      "text/plain": [
       "8 <nil>"
      ]
     },
     "execution_count": 57,
     "metadata": {},
     "output_type": "execute_result"
    }
   ],
   "source": [
    "var s []int  \n",
    "fmt.Println(len(s), s==nil)\n",
    "s = nil\n",
    "fmt.Println(len(s), s==nil)\n",
    "s = []int(nil)\n",
    "fmt.Println(len(s), s==nil)\n",
    "s = []int{}\n",
    "fmt.Println(len(s), s==nil)"
   ]
  },
  {
   "cell_type": "markdown",
   "metadata": {
    "slideshow": {
     "slide_type": "subslide"
    }
   },
   "source": [
    "------------------------\n",
    "* built-in append function appends items to slice"
   ]
  },
  {
   "cell_type": "code",
   "execution_count": 60,
   "metadata": {
    "slideshow": {
     "slide_type": "subslide"
    }
   },
   "outputs": [
    {
     "name": "stdout",
     "output_type": "stream",
     "text": [
      "['H' 'e' 'l' 'l' 'o' ',' ' ' '世' '界']\n"
     ]
    },
    {
     "data": {
      "text/plain": [
       "42 <nil>"
      ]
     },
     "execution_count": 60,
     "metadata": {},
     "output_type": "execute_result"
    }
   ],
   "source": [
    "var runes []rune\n",
    "for _, r := range \"Hello, 世界\" {\n",
    "    runes = append(runes, r)\n",
    "}\n",
    "fmt.Printf(\"%q\\n\", runes)"
   ]
  },
  {
   "cell_type": "code",
   "execution_count": 64,
   "metadata": {
    "slideshow": {
     "slide_type": "fragment"
    }
   },
   "outputs": [
    {
     "name": "stdout",
     "output_type": "stream",
     "text": [
      "['H' 'e' 'l' 'l' 'o' ',' ' ' '世' '界']\n"
     ]
    },
    {
     "data": {
      "text/plain": [
       "42 <nil>"
      ]
     },
     "execution_count": 64,
     "metadata": {},
     "output_type": "execute_result"
    }
   ],
   "source": [
    "//Using the built-in conversion\n",
    "runes := []rune(\"Hello, 世界\")\n",
    "fmt.Printf(\"%q\\n\", runes)"
   ]
  },
  {
   "cell_type": "code",
   "execution_count": 66,
   "metadata": {
    "slideshow": {
     "slide_type": "subslide"
    }
   },
   "outputs": [],
   "source": [
    "// See page 88.\n",
    "// Append illustrates the behavior of the built-in append function.\n",
    "//package main\n",
    "import \"fmt\"\n",
    "func appendslice(x []int, y ...int) []int {\n",
    "\tvar z []int\n",
    "\tzlen := len(x) + len(y)\n",
    "\tif zlen <= cap(x) {\n",
    "\t\t// There is room to expand the slice.\n",
    "\t\tz = x[:zlen]\n",
    "\t} else { \n",
    "\t\t// There is insufficient space.\n",
    "\t\t// Grow by doubling, for amortized linear complexity.\n",
    "\t\tzcap := zlen\n",
    "\t\tif zcap < 2*len(x) {\n",
    "\t\t\tzcap = 2 * len(x)\n",
    "\t\t}\n",
    "\t\tz = make([]int, zlen, zcap)\n",
    "\t\tcopy(z, x)\n",
    "\t}\n",
    "\tcopy(z[len(x):], y)\n",
    "\treturn z\n",
    "}\n",
    "//!+append\n",
    "func appendInt(x []int, y int) []int {\n",
    "\tvar z []int\n",
    "\tzlen := len(x) + 1\n",
    "\tif zlen <= cap(x) {\n",
    "\t\t// There is room to grow.  Extend the slice.\n",
    "\t\tz = x[:zlen]\n",
    "\t} else {\n",
    "\t\t// There is insufficient space.  Allocate a new array.\n",
    "\t\t// Grow by doubling, for amortized linear complexity.\n",
    "\t\tzcap := zlen\n",
    "\t\tif zcap < 2*len(x) {\n",
    "\t\t\tzcap = 2 * len(x)\n",
    "\t\t}\n",
    "\t\tz = make([]int, zlen, zcap)\n",
    "\t\tcopy(z, x) // a built-in function; see text\n",
    "\t}\n",
    "\tz[len(x)] = y\n",
    "\treturn z\n",
    "}"
   ]
  },
  {
   "cell_type": "code",
   "execution_count": 67,
   "metadata": {
    "slideshow": {
     "slide_type": "subslide"
    }
   },
   "outputs": [
    {
     "name": "stdout",
     "output_type": "stream",
     "text": [
      "0  cap=1, slice=0xc000485358\t[0]\n",
      "1  cap=2, slice=0xc000485380\t[0 1]\n",
      "2  cap=4, slice=0xc000248e60\t[0 1 2]\n",
      "3  cap=4, slice=0xc000248e60\t[0 1 2 3]\n",
      "4  cap=8, slice=0xc0003aee40\t[0 1 2 3 4]\n",
      "5  cap=8, slice=0xc0003aee40\t[0 1 2 3 4 5]\n",
      "6  cap=8, slice=0xc0003aee40\t[0 1 2 3 4 5 6]\n",
      "7  cap=8, slice=0xc0003aee40\t[0 1 2 3 4 5 6 7]\n",
      "8  cap=16, slice=0xc00044b000\t[0 1 2 3 4 5 6 7 8]\n",
      "9  cap=16, slice=0xc00044b000\t[0 1 2 3 4 5 6 7 8 9]\n"
     ]
    }
   ],
   "source": [
    "//!+growth\n",
    "import \"fmt\"\n",
    "func main() {\n",
    "\tvar x, y []int\n",
    "\tfor i := 0; i < 10; i++ {\n",
    "\t\ty = appendInt(x, i)\n",
    "        fmt.Printf(\"%d  cap=%d, slice=%p\\t%v\\n\", i, cap(y), y, y)\n",
    "\t\tx = y\n",
    "\t}\n",
    "}\n",
    "main()"
   ]
  },
  {
   "cell_type": "code",
   "execution_count": 69,
   "metadata": {
    "slideshow": {
     "slide_type": "subslide"
    }
   },
   "outputs": [
    {
     "name": "stdout",
     "output_type": "stream",
     "text": [
      "[1 2 3 4 5 6 1 2 3 4 5 6]\n"
     ]
    },
    {
     "data": {
      "text/plain": [
       "26 <nil>"
      ]
     },
     "execution_count": 69,
     "metadata": {},
     "output_type": "execute_result"
    }
   ],
   "source": [
    "var x []int\n",
    "x = append(x,1)\n",
    "x = append(x, 2, 3)\n",
    "x = append(x, 4, 5, 6)\n",
    "x = append(x, x...)\n",
    "fmt.Println(x)"
   ]
  },
  {
   "cell_type": "code",
   "execution_count": 71,
   "metadata": {},
   "outputs": [
    {
     "name": "stdout",
     "output_type": "stream",
     "text": [
      "[1]\n",
      "[1 2 3]\n",
      "[1 2 3 4 5 6 1 2 3 4 5 6]\n"
     ]
    },
    {
     "data": {
      "text/plain": [
       "26 <nil>"
      ]
     },
     "execution_count": 71,
     "metadata": {},
     "output_type": "execute_result"
    }
   ],
   "source": [
    "func appendInt(x []int, y ...int) []int {\n",
    "    var z []int \n",
    "    zlen := len(x) + len(y)\n",
    "    z = make([]int, zlen)\n",
    "    copy(z,x)\n",
    "    copy(z[len(x):], y)\n",
    "    return z\n",
    "}\n",
    "var x []int\n",
    "x = appendInt(x,1)\n",
    "fmt.Println(x)\n",
    "x = appendInt(x, 2, 3)\n",
    "fmt.Println(x)\n",
    "x = appendInt(x, 4, 5, 6)\n",
    "x = appendInt(x, x...)\n",
    "fmt.Println(x)"
   ]
  },
  {
   "cell_type": "markdown",
   "metadata": {
    "slideshow": {
     "slide_type": "fragment"
    }
   },
   "source": [
    "<table>\n",
    "    <tr><td>\n",
    "        <img src=\"https://skhuang.github.io/f4-2.png\"></td><td><img src=\"https://skhuang.github.io/f4-3.png\"></td></tr>\n",
    "</table>"
   ]
  },
  {
   "cell_type": "markdown",
   "metadata": {
    "slideshow": {
     "slide_type": "subslide"
    }
   },
   "source": [
    "### In-Place Slice Techniques"
   ]
  },
  {
   "cell_type": "markdown",
   "metadata": {
    "slideshow": {
     "slide_type": "subslide"
    }
   },
   "source": [
    "* Modify the elements of a slice in place\n",
    "* nonempty() returns a slice holding only the non-empty strings"
   ]
  },
  {
   "cell_type": "code",
   "execution_count": 93,
   "metadata": {
    "slideshow": {
     "slide_type": "fragment"
    }
   },
   "outputs": [
    {
     "name": "stdout",
     "output_type": "stream",
     "text": [
      "[\"one\" \"three\"]\n",
      "[\"one\" \"three\" \"three\"]\n"
     ]
    },
    {
     "data": {
      "text/plain": [
       "24 <nil>"
      ]
     },
     "execution_count": 93,
     "metadata": {},
     "output_type": "execute_result"
    }
   ],
   "source": [
    "import \"fmt\"\n",
    "func nonempty(strings []string) []string {\n",
    "    i := 0\n",
    "    for _, s := range strings {\n",
    "        if s != \"\" {\n",
    "            strings[i] = s\n",
    "            i++\n",
    "        }\n",
    "    }\n",
    "    return strings[:i]\n",
    "}\n",
    "data := []string{\"one\", \"\", \"three\"}\n",
    "fmt.Printf(\"%q\\n\", nonempty(data))\n",
    "fmt.Printf(\"%q\\n\", data)"
   ]
  },
  {
   "cell_type": "code",
   "execution_count": 72,
   "metadata": {
    "slideshow": {
     "slide_type": "subslide"
    }
   },
   "outputs": [
    {
     "name": "stdout",
     "output_type": "stream",
     "text": [
      "[\"one\" \"three\"]\n",
      "[\"one\" \"three\" \"three\"]\n"
     ]
    },
    {
     "data": {
      "text/plain": [
       "24 <nil>"
      ]
     },
     "execution_count": 72,
     "metadata": {},
     "output_type": "execute_result"
    }
   ],
   "source": [
    "// nonempty using append\n",
    "func nonempty2(strings []string) []string {\n",
    "    out := strings[:0] // zero-length slice of original\n",
    "    for _, s := range strings {\n",
    "        if s != \"\" {\n",
    "            out = append(out,s)\n",
    "        }\n",
    "    }\n",
    "    return out\n",
    "}\n",
    "data := []string{\"one\", \"\", \"three\"}\n",
    "fmt.Printf(\"%q\\n\", nonempty2(data))\n",
    "fmt.Printf(\"%q\\n\", data)"
   ]
  },
  {
   "cell_type": "markdown",
   "metadata": {
    "slideshow": {
     "slide_type": "subslide"
    }
   },
   "source": [
    "* Use a slice to implement a stack"
   ]
  },
  {
   "cell_type": "code",
   "execution_count": 74,
   "metadata": {
    "slideshow": {
     "slide_type": "fragment"
    }
   },
   "outputs": [
    {
     "name": "stdout",
     "output_type": "stream",
     "text": [
      "[\"first\"], []string\n",
      "[\"first\"], first\n",
      "[]\n"
     ]
    },
    {
     "data": {
      "text/plain": [
       "3 <nil>"
      ]
     },
     "execution_count": 74,
     "metadata": {},
     "output_type": "execute_result"
    }
   ],
   "source": [
    "stack := make([]string,1024)\n",
    "stack = stack[:0]\n",
    "v := \"first\"\n",
    "stack = append(stack, v) // push v\n",
    "fmt.Printf(\"%q, %T\\n\",stack, stack)\n",
    "top := stack[len(stack)-1]\n",
    "fmt.Printf(\"%q, %s\\n\",stack,top)\n",
    "stack = stack[:len(stack)-1] //pop\n",
    "fmt.Printf(\"%q\\n\",stack)"
   ]
  },
  {
   "cell_type": "markdown",
   "metadata": {
    "slideshow": {
     "slide_type": "subslide"
    }
   },
   "source": [
    "* Remove an element from the middle of a slice, preserving the order"
   ]
  },
  {
   "cell_type": "code",
   "execution_count": 76,
   "metadata": {
    "slideshow": {
     "slide_type": "fragment"
    }
   },
   "outputs": [
    {
     "name": "stdout",
     "output_type": "stream",
     "text": [
      "[5 7 8 9]\n"
     ]
    },
    {
     "data": {
      "text/plain": [
       "10 <nil>"
      ]
     },
     "execution_count": 76,
     "metadata": {},
     "output_type": "execute_result"
    }
   ],
   "source": [
    "func remove(slice []int, i int) []int {\n",
    "    copy(slice[i:], slice[i+1:])\n",
    "    return slice[:len(slice)-1]\n",
    "}\n",
    "\n",
    "s := []int{5,6,7,8,9}\n",
    "fmt.Println(remove(s,1))"
   ]
  },
  {
   "cell_type": "markdown",
   "metadata": {
    "slideshow": {
     "slide_type": "subslide"
    }
   },
   "source": [
    "* Remove an element without preserving the order"
   ]
  },
  {
   "cell_type": "code",
   "execution_count": 78,
   "metadata": {
    "slideshow": {
     "slide_type": "fragment"
    }
   },
   "outputs": [
    {
     "name": "stdout",
     "output_type": "stream",
     "text": [
      "[5 9 7 8]\n"
     ]
    },
    {
     "data": {
      "text/plain": [
       "10 <nil>"
      ]
     },
     "execution_count": 78,
     "metadata": {},
     "output_type": "execute_result"
    }
   ],
   "source": [
    "func remove(slice []int, i int) [] int {\n",
    "    slice[i] = slice[len(slice)-1]\n",
    "    return slice[:len(slice)-1]\n",
    "}\n",
    "\n",
    "s := []int{5,6,7,8,9}\n",
    "fmt.Println(remove(s,1))"
   ]
  },
  {
   "cell_type": "markdown",
   "metadata": {
    "slideshow": {
     "slide_type": "slide"
    }
   },
   "source": [
    "## Maps"
   ]
  },
  {
   "cell_type": "markdown",
   "metadata": {
    "slideshow": {
     "slide_type": "subslide"
    }
   },
   "source": [
    "* The hash table is an unordered collection of key/value pairs \n",
    "* All the keys are distinct, and the value associated with a given key can be retrieved, updated, or removed \n",
    "* in Go, a map is a reference to a hash table, and a map type is written map[K]V, where K and V are the types of its keys and values"
   ]
  },
  {
   "cell_type": "code",
   "execution_count": 83,
   "metadata": {
    "slideshow": {
     "slide_type": "subslide"
    }
   },
   "outputs": [
    {
     "name": "stdout",
     "output_type": "stream",
     "text": [
      "map[\"alice\":'\\x1f' \"charlie\":'\"'], 34\n",
      "map[\"alice\":'\\x1f' \"charlie\":'\"'], 34\n",
      "32 true\n",
      "0 false\n",
      "0 false\n",
      "0 true\n",
      "0 true\n",
      "0 false\n"
     ]
    },
    {
     "data": {
      "text/plain": [
       "8 <nil>"
      ]
     },
     "execution_count": 83,
     "metadata": {},
     "output_type": "execute_result"
    }
   ],
   "source": [
    "import \"fmt\"\n",
    "ages := make(map[string]int) // mapping from string to ints\n",
    "ages[\"alice\"] = 31\n",
    "ages[\"charlie\"] = 34\n",
    "fmt.Printf(\"%q, %d\\n\", ages, ages[\"charlie\"])\n",
    "ages := map[string]int {\n",
    "    \"alice\": 31,\n",
    "    \"charlie\": 34,\n",
    "}\n",
    "fmt.Printf(\"%q, %d\\n\", ages, ages[\"charlie\"])\n",
    "ages[\"alice\"] = 32\n",
    "fmt.Println(ages[\"alice\"])\n",
    "delete(ages,\"alice\")\n",
    "fmt.Println(ages[\"alice\"])\n",
    "fmt.Println(ages[\"bob\"])\n",
    "ages[\"alice\"] = 0\n",
    "fmt.Println(ages[\"alice\"])\n",
    "v, b := ages[\"alice\"]\n",
    "fmt.Println(v,b)\n",
    "v, b = ages[\"bob\"]\n",
    "fmt.Println(v,b)"
   ]
  },
  {
   "cell_type": "code",
   "execution_count": 84,
   "metadata": {
    "slideshow": {
     "slide_type": "subslide"
    }
   },
   "outputs": [
    {
     "name": "stdout",
     "output_type": "stream",
     "text": [
      "0 false\n",
      "3 true\n"
     ]
    },
    {
     "data": {
      "text/plain": [
       "7 <nil>"
      ]
     },
     "execution_count": 84,
     "metadata": {},
     "output_type": "execute_result"
    }
   ],
   "source": [
    "import \"fmt\"\n",
    "fmt.Println(ag es[\"bob\"])\n",
    "ages[\"bob\"] = ages[\"bob\"] + 1\n",
    "ages[\"bob\"] += 1\n",
    "ages[\"bob\"] ++\n",
    "fmt.Println(ages[\"bob\"])"
   ]
  },
  {
   "cell_type": "code",
   "execution_count": 85,
   "metadata": {
    "slideshow": {
     "slide_type": "subslide"
    }
   },
   "outputs": [
    {
     "ename": "ERROR",
     "evalue": "repl.go:2:10: cannot take the address of a map element: ages[\"bob\"]",
     "output_type": "error",
     "traceback": [
      "repl.go:2:10: cannot take the address of a map element: ages[\"bob\"]"
     ]
    }
   ],
   "source": [
    "//A map element is not a variable and we cannot take its address\n",
    "_= &ages[\"bob\"]"
   ]
  },
  {
   "cell_type": "code",
   "execution_count": 87,
   "metadata": {
    "slideshow": {
     "slide_type": "subslide"
    }
   },
   "outputs": [
    {
     "name": "stdout",
     "output_type": "stream",
     "text": [
      "alice\t0\n",
      "charlie\t34\n",
      "bob\t3\n"
     ]
    }
   ],
   "source": [
    "// To enumerate all the key/pairs in the map, use range for loop\n",
    "for name, age := range ages {\n",
    "    fmt.Printf(\"%s\\t%d\\n\", name, age)\n",
    "}"
   ]
  },
  {
   "cell_type": "code",
   "execution_count": 92,
   "metadata": {
    "slideshow": {
     "slide_type": "subslide"
    }
   },
   "outputs": [
    {
     "name": "stdout",
     "output_type": "stream",
     "text": [
      "map[\"alice\":'\\x00' \"apple\":'\\x03' \"bob\":'\\x03' \"charlie\":'\"']\n",
      "charlie\t34\n",
      "bob\t3\n",
      "apple\t3\n",
      "alice\t0\n",
      "alice\t0\n",
      "apple\t3\n",
      "bob\t3\n",
      "charlie\t34\n"
     ]
    }
   ],
   "source": [
    "//The order of map iteration is unspecified\n",
    "//To enumerate the key/value pairs in order, we must sort the key\n",
    "import \"sort\"\n",
    "ages[\"apple\"] = 3\n",
    "fmt.Printf(\"%q\\n\", ages)\n",
    "var names []string\n",
    "for name := range ages {\n",
    "    names = append(names, name)\n",
    "}\n",
    "for _,name := range names {\n",
    "    fmt.Printf(\"%s\\t%d\\n\",name, ages[name])\n",
    "}\n",
    "sort.Strings(names)\n",
    "for _,name := range names {\n",
    "    fmt.Printf(\"%s\\t%d\\n\",name, ages[name])\n",
    "}"
   ]
  },
  {
   "cell_type": "code",
   "execution_count": 93,
   "metadata": {
    "slideshow": {
     "slide_type": "subslide"
    }
   },
   "outputs": [
    {
     "name": "stdout",
     "output_type": "stream",
     "text": [
      "true\n",
      "true\n"
     ]
    },
    {
     "data": {
      "text/plain": [
       "5 <nil>"
      ]
     },
     "execution_count": 93,
     "metadata": {},
     "output_type": "execute_result"
    }
   ],
   "source": [
    "// hash map must be allocated\n",
    "var ages map[string]int\n",
    "fmt.Println( ages == nil)\n",
    "fmt.Println(len(ages)==0)"
   ]
  },
  {
   "cell_type": "code",
   "execution_count": 98,
   "metadata": {
    "slideshow": {
     "slide_type": "subslide"
    }
   },
   "outputs": [],
   "source": [
    "ages = make(map[string]int)\n",
    "ages[\"carol\"] = 21"
   ]
  },
  {
   "cell_type": "code",
   "execution_count": 99,
   "metadata": {
    "slideshow": {
     "slide_type": "subslide"
    }
   },
   "outputs": [
    {
     "name": "stdout",
     "output_type": "stream",
     "text": [
      "map[carol:21]\n"
     ]
    },
    {
     "data": {
      "text/plain": [
       "14 <nil>"
      ]
     },
     "execution_count": 99,
     "metadata": {},
     "output_type": "execute_result"
    }
   ],
   "source": [
    "ages := make(map[string]int)\n",
    "ages[\"carol\"] = 21\n",
    "fmt.Println(ages)"
   ]
  },
  {
   "cell_type": "code",
   "execution_count": 104,
   "metadata": {
    "slideshow": {
     "slide_type": "subslide"
    }
   },
   "outputs": [
    {
     "name": "stdout",
     "output_type": "stream",
     "text": [
      "0 false\n",
      "0 true\n",
      "0 true\n"
     ]
    }
   ],
   "source": [
    "//to distinguish between a nonexistent element and an element that happens to \n",
    "//have the value zero\n",
    "ages = make(map[string]int)\n",
    "age, ok := ages[\"bob\"]\n",
    "if !ok {/* bob is not a key */}\n",
    "fmt.Println(age, ok)\n",
    "ages[\"bob\"] = 0\n",
    "age, ok := ages[\"bob\"]\n",
    "fmt.Println(age, ok)\n",
    "if age, ok = ages[\"bob\"]; !ok {\n",
    "    /* ... */\n",
    "} else {\n",
    "    fmt.Println(age, ok)\n",
    "}"
   ]
  },
  {
   "cell_type": "code",
   "execution_count": 108,
   "metadata": {
    "slideshow": {
     "slide_type": "subslide"
    }
   },
   "outputs": [
    {
     "name": "stdout",
     "output_type": "stream",
     "text": [
      "false\n",
      "true\n"
     ]
    },
    {
     "data": {
      "text/plain": [
       "5 <nil>"
      ]
     },
     "execution_count": 108,
     "metadata": {},
     "output_type": "execute_result"
    }
   ],
   "source": [
    "func equal(x, y map[string]int) bool {\n",
    "    if len(x) != len(y) {\n",
    "        return false\n",
    "    }\n",
    "    for k,xv := range x {\n",
    "        if yv,ok := y[k]; !ok || yv != xv {\n",
    "        //if y[k] != xv {\n",
    "            return false\n",
    "        }\n",
    "    }\n",
    "    return true\n",
    "}\n",
    "\n",
    "fmt.Println(equal(map[string]int{\"A\":0}, map[string]int{\"B\":42}))\n",
    "fmt.Println(equal(map[string]int{\"A\":0, \"B\":42}, map[string]int{\"B\":42,\"A\":0}))"
   ]
  },
  {
   "cell_type": "markdown",
   "metadata": {
    "slideshow": {
     "slide_type": "subslide"
    }
   },
   "source": [
    "dup.txt\n",
    "<pre>\n",
    "設計\n",
    "實作\n",
    "設計\n",
    "程式\n",
    "語言\n",
    "英文\n",
    "design\n",
    "design\n",
    "base\n",
    "key\n",
    "design\n",
    "zero\n",
    "first\n",
    "time\n",
    "key\n",
    "first\n",
    "second\n",
    "base\n",
    "design\n",
    "first\n",
    "</pre>"
   ]
  },
  {
   "cell_type": "code",
   "execution_count": 8,
   "metadata": {
    "slideshow": {
     "slide_type": "subslide"
    }
   },
   "outputs": [
    {
     "name": "stdout",
     "output_type": "stream",
     "text": [
      "設計\n",
      "實作\n",
      "程式\n",
      "語言\n",
      "英文\n",
      "design\n",
      "base\n",
      "key\n",
      "zero\n",
      "first\n",
      "time\n",
      "second\n"
     ]
    }
   ],
   "source": [
    "// Copyright © 2016 Alan A. A. Donovan & Brian W. Kernighan.\n",
    "// License: https://creativecommons.org/licenses/by-nc-sa/4.0/\n",
    "\n",
    "// See page 96.\n",
    "\n",
    "// Dedup prints only one instance of each line; duplicates are removed.\n",
    "//package main\n",
    "\n",
    "import (\n",
    "\t\"bufio\"\n",
    "\t\"fmt\"\n",
    "\t\"os\"\n",
    ")\n",
    "\n",
    "//!+\n",
    "func main() {\n",
    "\tfile, err := os.Open(\"dup.txt\")\n",
    "    if err != nil {\n",
    "        //log.Fatal(err)\n",
    "        fmt.Fprintf(os.Stderr, \"%v\\n\", err)\n",
    "    }\n",
    "    seen := make(map[string]bool) // a set of strings\n",
    "\t//input := bufio.NewScanner(os.Stdin)\n",
    "    input := bufio.NewScanner(file)\n",
    "\tfor input.Scan() {\n",
    "\t\tline := input.Text()\n",
    "\t\tif !seen[line] {\n",
    "\t\t\tseen[line] = true\n",
    "\t\t\tfmt.Println(line)\n",
    "\t\t}\n",
    "\t}\n",
    "\n",
    "\tif err := input.Err(); err != nil {\n",
    "\t\tfmt.Fprintf(os.Stderr, \"dedup: %v\\n\", err)\n",
    "\t\tos.Exit(1)\n",
    "\t}\n",
    "}\n",
    "\n",
    "//!-\n",
    "main()"
   ]
  },
  {
   "cell_type": "code",
   "execution_count": 9,
   "metadata": {
    "slideshow": {
     "slide_type": "subslide"
    }
   },
   "outputs": [
    {
     "data": {
      "text/plain": [
       "2"
      ]
     },
     "execution_count": 9,
     "metadata": {},
     "output_type": "execute_result"
    }
   ],
   "source": [
    "var m = make(map[string]int)\n",
    "func k(list []string) string {return fmt.Sprintf(\"%q\", list)}\n",
    "func Add(list []string) { m[k(list)]++}\n",
    "func Count(list []string) int { return m[k(list)]}\n",
    "alist := []string{\"first\",\"second\"}\n",
    "Add(alist)\n",
    "Add(alist)\n",
    "Count(alist)"
   ]
  },
  {
   "cell_type": "code",
   "execution_count": 57,
   "metadata": {
    "slideshow": {
     "slide_type": "subslide"
    }
   },
   "outputs": [
    {
     "name": "stdout",
     "output_type": "stream",
     "text": [
      "rune\tcount\n",
      "'語'\t1\n",
      "'e'\t11\n",
      "'g'\t4\n",
      "'計'\t2\n",
      "'程'\t1\n",
      "'z'\t1\n",
      "'c'\t1\n",
      "'d'\t5\n",
      "'b'\t2\n",
      "'f'\t3\n",
      "'m'\t1\n",
      "'\\n'\t20\n",
      "'作'\t1\n",
      "'o'\t2\n",
      "'y'\t2\n",
      "'r'\t4\n",
      "'實'\t1\n",
      "'i'\t8\n",
      "'n'\t5\n",
      "'a'\t2\n",
      "'文'\t1\n",
      "'s'\t10\n",
      "'設'\t2\n",
      "'英'\t1\n",
      "'k'\t2\n",
      "'t'\t4\n",
      "'式'\t1\n",
      "'言'\t1\n",
      "\n",
      "len\tcount\n",
      "1\t87\n",
      "2\t0\n",
      "3\t12\n",
      "4\t0\n"
     ]
    }
   ],
   "source": [
    "// Copyright © 2016 Alan A. A. Donovan & Brian W. Kernighan.\n",
    "// License: https://creativecommons.org/licenses/by-nc-sa/4.0/\n",
    "\n",
    "// See page 97.\n",
    "//!+\n",
    "\n",
    "// Charcount computes counts of Unicode characters.\n",
    "//package main\n",
    "\n",
    "import (\n",
    "\t\"bufio\"\n",
    "\t\"fmt\"\n",
    "\t\"io\"\n",
    "\t\"os\"\n",
    "\t\"unicode\"\n",
    "\t\"unicode/utf8\"\n",
    ")\n",
    "\n",
    "func main() {\n",
    "\tcounts := make(map[rune]int)    // counts of Unicode characters\n",
    "\tvar utflen [utf8.UTFMax + 1]int // count of lengths of UTF-8 encodings\n",
    "\tinvalid := 0                    // count of invalid UTF-8 characters\n",
    "    file, err := os.Open(\"dup.txt\")\n",
    "    if err != nil {\n",
    "        //log.Fatal(err)\n",
    "        fmt.Fprintf(os.Stderr, \"%v\\n\", err)\n",
    "    }\n",
    "\t//in := bufio.NewReader(os.Stdin)\n",
    "    in := bufio.NewReader(file)\n",
    "\tfor {\n",
    "\t\tr, n, err := in.ReadRune() // returns rune, nbytes, error\n",
    "\t\tif err == io.EOF {\n",
    "\t\t\tbreak\n",
    "\t\t}\n",
    "\t\tif err != nil {\n",
    "\t\t\tfmt.Fprintf(os.Stderr, \"charcount: %v\\n\", err)\n",
    "\t\t\tos.Exit(1)\n",
    "\t\t}\n",
    "\t\tif r == unicode.ReplacementChar && n == 1 {\n",
    "\t\t\tinvalid++\n",
    "\t\t\tcontinue\n",
    "\t\t}\n",
    "\t\tcounts[r]++\n",
    "\t\tutflen[n]++\n",
    "\t}\n",
    "\tfmt.Printf(\"rune\\tcount\\n\")\n",
    "\tfor c, n := range counts {\n",
    "\t\tfmt.Printf(\"%q\\t%d\\n\", c, n)\n",
    "\t}\n",
    "\tfmt.Print(\"\\nlen\\tcount\\n\")\n",
    "\tfor i, n := range utflen {\n",
    "\t\tif i > 0 {\n",
    "\t\t\tfmt.Printf(\"%d\\t%d\\n\", i, n)\n",
    "\t\t}\n",
    "\t}\n",
    "\tif invalid > 0 {\n",
    "\t\tfmt.Printf(\"\\n%d invalid UTF-8 characters\\n\", invalid)\n",
    "\t}\n",
    "}\n",
    "\n",
    "main()\n",
    "//!-"
   ]
  },
  {
   "cell_type": "code",
   "execution_count": 13,
   "metadata": {
    "slideshow": {
     "slide_type": "subslide"
    }
   },
   "outputs": [
    {
     "name": "stdout",
     "output_type": "stream",
     "text": [
      "true\n",
      "true\n",
      "true\n",
      "true\n",
      "false\n",
      "true\n",
      "false\n",
      "false\n"
     ]
    }
   ],
   "source": [
    "import \"fmt\"\n",
    "var graph = make(map[string]map[string]bool)\n",
    "func addEdge(from, to string) {\n",
    "\tedges := graph[from]\n",
    "\tif edges == nil {\n",
    "\t\tedges = make(map[string]bool)\n",
    "\t\tgraph[from] = edges\n",
    "\t}\n",
    "\tedges[to] = true\n",
    "}\n",
    "func hasEdge(from, to string) bool {\n",
    "\treturn graph[from][to]\n",
    "}\n",
    "func main() {\n",
    "\taddEdge(\"a\", \"b\")\n",
    "\taddEdge(\"c\", \"d\")\n",
    "\taddEdge(\"a\", \"d\")\n",
    "\taddEdge(\"d\", \"a\")\n",
    "\tfmt.Println(hasEdge(\"a\", \"b\"))\n",
    "\tfmt.Println(hasEdge(\"c\", \"d\"))\n",
    "\tfmt.Println(hasEdge(\"a\", \"d\"))\n",
    "\tfmt.Println(hasEdge(\"d\", \"a\"))\n",
    "\tfmt.Println(hasEdge(\"x\", \"b\"))\n",
    "\tfmt.Println(hasEdge(\"c\", \"d\"))\n",
    "\tfmt.Println(hasEdge(\"x\", \"d\"))\n",
    "\tfmt.Println(hasEdge(\"d\", \"x\"))\n",
    "\n",
    "}\n",
    "main()"
   ]
  },
  {
   "cell_type": "markdown",
   "metadata": {
    "slideshow": {
     "slide_type": "skip"
    }
   },
   "source": [
    "## Structs"
   ]
  },
  {
   "cell_type": "markdown",
   "metadata": {
    "slideshow": {
     "slide_type": "skip"
    }
   },
   "source": [
    "## JSON"
   ]
  },
  {
   "cell_type": "markdown",
   "metadata": {
    "slideshow": {
     "slide_type": "skip"
    }
   },
   "source": [
    "## Text and HTML Templates"
   ]
  },
  {
   "cell_type": "code",
   "execution_count": null,
   "metadata": {},
   "outputs": [],
   "source": []
  }
 ],
 "metadata": {
  "celltoolbar": "Slideshow",
  "kernelspec": {
   "display_name": "Go",
   "language": "go",
   "name": "gophernotes"
  },
  "language_info": {
   "codemirror_mode": "",
   "file_extension": ".go",
   "mimetype": "",
   "name": "go",
   "nbconvert_exporter": "",
   "pygments_lexer": "",
   "version": "go1.17.1"
  },
  "rise": {
   "enable_chalkboard": true,
   "scroll": true
  },
  "toc": {
   "base_numbering": "4",
   "nav_menu": {},
   "number_sections": true,
   "sideBar": false,
   "skip_h1_title": false,
   "title_cell": "Table of Contents",
   "title_sidebar": "Contents",
   "toc_cell": false,
   "toc_position": {
    "height": "320.6px",
    "left": "29px",
    "top": "97.8px",
    "width": "158.6px"
   },
   "toc_section_display": false,
   "toc_window_display": true
  }
 },
 "nbformat": 4,
 "nbformat_minor": 2
}
