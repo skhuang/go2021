{
 "cells": [
  {
   "cell_type": "markdown",
   "metadata": {
    "toc": true
   },
   "source": [
    "<h1>Table of Contents<span class=\"tocSkip\"></span></h1>\n",
    "<div class=\"toc\"><ul class=\"toc-item\"><li><span><a href=\"#Goroutings-and-Channels\" data-toc-modified-id=\"Goroutings-and-Channels-8\"><span class=\"toc-item-num\">8&nbsp;&nbsp;</span>Goroutings and Channels</a></span><ul class=\"toc-item\"><li><span><a href=\"#Goroutines\" data-toc-modified-id=\"Goroutines-8.1\"><span class=\"toc-item-num\">8.1&nbsp;&nbsp;</span>Goroutines</a></span></li><li><span><a href=\"#Example:-Concurrent-Clock-Server\" data-toc-modified-id=\"Example:-Concurrent-Clock-Server-8.2\"><span class=\"toc-item-num\">8.2&nbsp;&nbsp;</span>Example: Concurrent Clock Server</a></span></li><li><span><a href=\"#Example:-Concurrent-Echo-Server\" data-toc-modified-id=\"Example:-Concurrent-Echo-Server-8.3\"><span class=\"toc-item-num\">8.3&nbsp;&nbsp;</span>Example: Concurrent Echo Server</a></span></li><li><span><a href=\"#Channels\" data-toc-modified-id=\"Channels-8.4\"><span class=\"toc-item-num\">8.4&nbsp;&nbsp;</span>Channels</a></span><ul class=\"toc-item\"><li><span><a href=\"#Unbuffered-Channels\" data-toc-modified-id=\"Unbuffered-Channels-8.4.1\"><span class=\"toc-item-num\">8.4.1&nbsp;&nbsp;</span>Unbuffered Channels</a></span></li><li><span><a href=\"#Pipelines\" data-toc-modified-id=\"Pipelines-8.4.2\"><span class=\"toc-item-num\">8.4.2&nbsp;&nbsp;</span>Pipelines</a></span></li><li><span><a href=\"#Unidirectional-Channel-Type\" data-toc-modified-id=\"Unidirectional-Channel-Type-8.4.3\"><span class=\"toc-item-num\">8.4.3&nbsp;&nbsp;</span>Unidirectional Channel Type</a></span></li><li><span><a href=\"#Buffered-Channels\" data-toc-modified-id=\"Buffered-Channels-8.4.4\"><span class=\"toc-item-num\">8.4.4&nbsp;&nbsp;</span>Buffered Channels</a></span></li></ul></li><li><span><a href=\"#Looping-in-Parallel\" data-toc-modified-id=\"Looping-in-Parallel-8.5\"><span class=\"toc-item-num\">8.5&nbsp;&nbsp;</span>Looping in Parallel</a></span></li><li><span><a href=\"#Example:-Concurrent-Web-Crawler\" data-toc-modified-id=\"Example:-Concurrent-Web-Crawler-8.6\"><span class=\"toc-item-num\">8.6&nbsp;&nbsp;</span>Example: Concurrent Web Crawler</a></span></li><li><span><a href=\"#Multiplexing-with-select\" data-toc-modified-id=\"Multiplexing-with-select-8.7\"><span class=\"toc-item-num\">8.7&nbsp;&nbsp;</span>Multiplexing with select</a></span></li><li><span><a href=\"#Example:-Concurrent-Directory-Travsal\" data-toc-modified-id=\"Example:-Concurrent-Directory-Travsal-8.8\"><span class=\"toc-item-num\">8.8&nbsp;&nbsp;</span>Example: Concurrent Directory Travsal</a></span></li><li><span><a href=\"#Cancellation\" data-toc-modified-id=\"Cancellation-8.9\"><span class=\"toc-item-num\">8.9&nbsp;&nbsp;</span>Cancellation</a></span></li><li><span><a href=\"#Example:-Chat-Server\" data-toc-modified-id=\"Example:-Chat-Server-8.10\"><span class=\"toc-item-num\">8.10&nbsp;&nbsp;</span>Example: Chat Server</a></span></li></ul></li></ul></div>"
   ]
  },
  {
   "cell_type": "markdown",
   "metadata": {
    "slideshow": {
     "slide_type": "slide"
    }
   },
   "source": [
    "# Goroutings and Channels"
   ]
  },
  {
   "cell_type": "markdown",
   "metadata": {
    "slideshow": {
     "slide_type": "slide"
    }
   },
   "source": [
    "## Goroutines"
   ]
  },
  {
   "cell_type": "code",
   "execution_count": 13,
   "metadata": {
    "code_folding": [],
    "slideshow": {
     "slide_type": "subslide"
    }
   },
   "outputs": [
    {
     "name": "stdout",
     "output_type": "stream",
     "text": [
      "Hello, World: 9\n",
      "Hello, World: 3\n",
      "Hello, World: 0\n",
      "Hello, World: 4\n",
      "Hello, World: 1\n",
      "Hello, World: 2\n",
      "Hello, World: 5\n",
      "Hello, World: 6\n",
      "Hello, World: 7\n"
     ]
    }
   ],
   "source": [
    "//goroutine\n",
    "import (\"fmt\";\"time\")\n",
    "func f(i int) {\n",
    "    fmt.Println(\n",
    "        \"Hello, World:\",i)\n",
    "}\n",
    "for i:=0;i<10;i++ {\n",
    "    go f(i)\n",
    "    //f(i)\n",
    "}\n",
    "//time.Sleep(100* time.Millisecond)\n",
    "time.Sleep(1* time.Millisecond)"
   ]
  },
  {
   "cell_type": "code",
   "execution_count": 4,
   "metadata": {
    "code_folding": [
     19
    ],
    "slideshow": {
     "slide_type": "subslide"
    }
   },
   "outputs": [
    {
     "name": "stdout",
     "output_type": "stream",
     "text": [
      "Fibonacci(36) = 14930352\n"
     ]
    }
   ],
   "source": [
    "//gopl.io/ch8/spinner\n",
    "import \"time\"\n",
    "func main(){\n",
    "    go spinner(100 * time.Millisecond)\n",
    "    //spinner(100 * time.Millisecond)\n",
    "    const n = 36\n",
    "    fibN := fib(n) // slow\n",
    "    fmt.Printf(\"\\rFibonacci(%d) = %d\\n\", n, fibN)\n",
    "}\n",
    "\n",
    "func spinner(delay time.Duration) {\n",
    "    for {\n",
    "        for _, r := range `-\\|/` {\n",
    "            fmt.Printf(\"\\r%c\",r)\n",
    "            time.Sleep(delay)\n",
    "        }\n",
    "    }\n",
    "}\n",
    "\n",
    "func fib(x int) int {\n",
    "    if (x < 2) {\n",
    "        return x\n",
    "    }\n",
    "    return fib(x-1) + fib(x-2)\n",
    "}\n",
    "main()"
   ]
  },
  {
   "cell_type": "markdown",
   "metadata": {
    "slideshow": {
     "slide_type": "slide"
    }
   },
   "source": [
    "## Example: Concurrent Clock Server\n",
    "* gopl.io/ch8/clock1 : sequential clock server writing the current time to the client one per second\n",
    "  * handleConn(conn)\n",
    "* gopl.io/ch8/clock2 : handle connections concurrently\n",
    "  * go handleConn(conn)"
   ]
  },
  {
   "cell_type": "code",
   "execution_count": null,
   "metadata": {
    "code_folding": [
     24
    ],
    "slideshow": {
     "slide_type": "subslide"
    }
   },
   "outputs": [
    {
     "name": "stdout",
     "output_type": "stream",
     "text": [
      "/"
     ]
    }
   ],
   "source": [
    "// Clock1 is a TCP server that periodically writes the time.\n",
    "//package main\n",
    "import (\n",
    "\t\"io\"\n",
    "\t\"log\"\n",
    "\t\"net\"\n",
    "\t\"time\"\n",
    ")\n",
    "\n",
    "func main() {\n",
    "\tlistener, err := net.Listen(\"tcp\", \"localhost:8000\")\n",
    "\tif err != nil {\n",
    "\t\tlog.Fatal(err)\n",
    "\t}\n",
    "\tfor {\n",
    "\t\tconn, err := listener.Accept()\n",
    "\t\tif err != nil {\n",
    "\t\t\tlog.Print(err) // e.g., connection aborted\n",
    "\t\t\tcontinue\n",
    "\t\t}\n",
    "\t\thandleConn(conn) // handle one connection at a time\n",
    "\t}\n",
    "}\n",
    "\n",
    "func handleConn(c net.Conn) {\n",
    "\tdefer c.Close()\n",
    "\tfor {\n",
    "\t\t_, err := io.WriteString(c, time.Now().Format(\"15:04:05\\n\"))\n",
    "\t\tif err != nil {\n",
    "\t\t\treturn // e.g., client disconnected\n",
    "\t\t}\n",
    "\t\ttime.Sleep(1 * time.Second)\n",
    "\t}\n",
    "}\n",
    "main()"
   ]
  },
  {
   "cell_type": "code",
   "execution_count": null,
   "metadata": {
    "code_folding": [],
    "slideshow": {
     "slide_type": "subslide"
    }
   },
   "outputs": [],
   "source": [
    "// Netcat1 is a read-only TCP client.\n",
    "//package main\n",
    "\n",
    "import (\n",
    "\t\"io\"\n",
    "\t\"log\"\n",
    "\t\"net\"\n",
    "\t\"os\"\n",
    ")\n",
    "\n",
    "func main() {\n",
    "\tconn, err := net.Dial(\"tcp\", \"localhost:8000\")\n",
    "\tif err != nil {\n",
    "\t\tlog.Fatal(err)\n",
    "\t}\n",
    "\tdefer conn.Close()\n",
    "\tmustCopy(os.Stdout, conn)\n",
    "}\n",
    "\n",
    "func mustCopy(dst io.Writer, src io.Reader) {\n",
    "\tif _, err := io.Copy(dst, src); err != nil {\n",
    "\t\tlog.Fatal(err)\n",
    "\t}\n",
    "}\n",
    "main()\n",
    "//!-"
   ]
  },
  {
   "cell_type": "code",
   "execution_count": null,
   "metadata": {
    "code_folding": [
     0
    ],
    "slideshow": {
     "slide_type": "subslide"
    }
   },
   "outputs": [],
   "source": [
    "//gopl.io/ch8/clock2\n",
    "import (\"net\";\"log\"; \"io\"; \"time\")\n",
    "func main() {\n",
    "  listener, err := net.Listen(\"tcp\", \"localhost:8000\")\n",
    "  if  err != nil {\n",
    "    log.Fatal(err)\n",
    "  }\n",
    "  for {\n",
    "    conn, err := listener.Accept()\n",
    "    if err != nil {\n",
    "        log.Print(err) // e.g., connection aborted\n",
    "    }\n",
    "    go handleConn(conn) // handle connections concurrently\n",
    "  }\n",
    "}\n",
    "\n",
    "func handleConn(c net.Conn) {\n",
    "\tdefer c.Close()\n",
    "\tfor {\n",
    "\t\t_, err := io.WriteString(c, time.Now().Format(\"15:04:05\\n\"))\n",
    "\t\tif err != nil {\n",
    "\t\t\treturn // e.g., client disconnected\n",
    "\t\t}\n",
    "\t\ttime.Sleep(1 * time.Second)\n",
    "\t}\n",
    "}\n",
    "main()"
   ]
  },
  {
   "cell_type": "markdown",
   "metadata": {
    "slideshow": {
     "slide_type": "slide"
    }
   },
   "source": [
    "## Example: Concurrent Echo Server\n",
    "* reverb1\n",
    "  * go handleConn\n",
    "  * echo()\n",
    "* reverb2\n",
    "  * go handleConn\n",
    "  * go echo()"
   ]
  },
  {
   "cell_type": "code",
   "execution_count": 2,
   "metadata": {
    "code_folding": [
     0
    ],
    "slideshow": {
     "slide_type": "subslide"
    }
   },
   "outputs": [],
   "source": [
    "// Reverb1 is a TCP server that simulates an echo.\n",
    "//package main\n",
    "\n",
    "import (\n",
    "\t\"bufio\"\n",
    "\t\"fmt\"\n",
    "\t\"log\"\n",
    "\t\"net\"\n",
    "\t\"strings\"\n",
    "\t\"time\"\n",
    ")\n",
    "\n",
    "//!+\n",
    "func echo(c net.Conn, shout string, delay time.Duration) {\n",
    "\tfmt.Fprintln(c, \"\\t\", strings.ToUpper(shout))\n",
    "\ttime.Sleep(delay)\n",
    "\tfmt.Fprintln(c, \"\\t\", shout)\n",
    "\ttime.Sleep(delay)\n",
    "\tfmt.Fprintln(c, \"\\t\", strings.ToLower(shout))\n",
    "}\n",
    "\n",
    "func handleConn(c net.Conn) {\n",
    "\tinput := bufio.NewScanner(c)\n",
    "\tfor input.Scan() {\n",
    "\t\techo(c, input.Text(), 1*time.Second)\n",
    "\t}\n",
    "\t// NOTE: ignoring potential errors from input.Err()\n",
    "\tc.Close()\n",
    "}\n",
    "\n"
   ]
  },
  {
   "cell_type": "code",
   "execution_count": 3,
   "metadata": {
    "code_folding": [
     0
    ],
    "slideshow": {
     "slide_type": "fragment"
    }
   },
   "outputs": [],
   "source": [
    "//go handleConn(conn)\n",
    "func main() {\n",
    "\tl, err := net.Listen(\"tcp\", \"localhost:8000\")\n",
    "\tif err != nil {\n",
    "\t\tlog.Fatal(err)\n",
    "\t}\n",
    "\tfor {\n",
    "\t\tconn, err := l.Accept()\n",
    "\t\tif err != nil {\n",
    "\t\t\tlog.Print(err) // e.g., connection aborted\n",
    "\t\t\tcontinue\n",
    "\t\t}\n",
    "\t\tgo handleConn(conn)\n",
    "\t}\n",
    "}\n"
   ]
  },
  {
   "cell_type": "code",
   "execution_count": null,
   "metadata": {
    "slideshow": {
     "slide_type": "fragment"
    }
   },
   "outputs": [],
   "source": [
    "main()"
   ]
  },
  {
   "cell_type": "code",
   "execution_count": null,
   "metadata": {
    "code_folding": [],
    "slideshow": {
     "slide_type": "subslide"
    }
   },
   "outputs": [],
   "source": [
    "//gopl.io/ch8/netcat2\n",
    "// Copyright © 2016 Alan A. A. Donovan & Brian W. Kernighan.\n",
    "// License: https://creativecommons.org/licenses/by-nc-sa/4.0/\n",
    "\n",
    "// See page 223.\n",
    "\n",
    "// Netcat is a simple read/write client for TCP servers.\n",
    "//package main\n",
    "\n",
    "import (\n",
    "\t\"io\"\n",
    "\t\"log\"\n",
    "\t\"net\"\n",
    "\t\"os\"\n",
    ")\n",
    "\n",
    "//!+\n",
    "func main() {\n",
    "\tconn, err := net.Dial(\"tcp\", \"localhost:8000\")\n",
    "\tif err != nil {\n",
    "\t\tlog.Fatal(err)\n",
    "\t}\n",
    "\tdefer conn.Close()\n",
    "\tgo mustCopy(os.Stdout, conn)\n",
    "\tmustCopy(conn, os.Stdin)\n",
    "}\n",
    "\n",
    "//!-\n",
    "\n",
    "func mustCopy(dst io.Writer, src io.Reader) {\n",
    "\tif _, err := io.Copy(dst, src); err != nil {\n",
    "\t\tlog.Fatal(err)\n",
    "\t}\n",
    "}\n",
    "main()"
   ]
  },
  {
   "cell_type": "code",
   "execution_count": null,
   "metadata": {
    "code_folding": [
     0
    ],
    "slideshow": {
     "slide_type": "subslide"
    }
   },
   "outputs": [],
   "source": [
    "// Reverb2 is a TCP server that simulates an echo.\n",
    "// Copyright © 2016 Alan A. A. Donovan & Brian W. Kernighan.\n",
    "// License: https://creativecommons.org/licenses/by-nc-sa/4.0/\n",
    "\n",
    "// See page 224.\n",
    "\n",
    "// Reverb2 is a TCP server that simulates an echo.\n",
    "//package main\n",
    "\n",
    "import (\n",
    "\t\"bufio\"\n",
    "\t\"fmt\"\n",
    "\t\"log\"\n",
    "\t\"net\"\n",
    "\t\"strings\"\n",
    "\t\"time\"\n",
    ")\n",
    "\n",
    "func echo(c net.Conn, shout string, delay time.Duration) {\n",
    "\tfmt.Fprintln(c, \"\\t\", strings.ToUpper(shout))\n",
    "\ttime.Sleep(delay)\n",
    "\tfmt.Fprintln(c, \"\\t\", shout)\n",
    "\ttime.Sleep(delay)\n",
    "\tfmt.Fprintln(c, \"\\t\", strings.ToLower(shout))\n",
    "}\n",
    "\n",
    "//!+\n",
    "func handleConn(c net.Conn) {\n",
    "\tinput := bufio.NewScanner(c)\n",
    "\tfor input.Scan() {\n",
    "\t\tgo echo(c, input.Text(), 1*time.Second)\n",
    "\t}\n",
    "\t// NOTE: ignoring potential errors from input.Err()\n",
    "\tc.Close()\n",
    "}\n",
    "\n"
   ]
  },
  {
   "cell_type": "code",
   "execution_count": 3,
   "metadata": {
    "code_folding": [],
    "slideshow": {
     "slide_type": "fragment"
    }
   },
   "outputs": [
    {
     "ename": "ERROR",
     "evalue": "repl.go:16:6: undefined identifier: handleConn",
     "output_type": "error",
     "traceback": [
      "repl.go:16:6: undefined identifier: handleConn"
     ]
    }
   ],
   "source": [
    "// go handleConn()\n",
    "import (\"net\"\n",
    "        \"log\"\n",
    "       )\n",
    "func main() {\n",
    "\tl, err := net.Listen(\"tcp\", \"localhost:8000\")\n",
    "\tif err != nil {\n",
    "\t\tlog.Fatal(err)\n",
    "\t}\n",
    "\tfor {\n",
    "\t\tconn, err := l.Accept()\n",
    "\t\tif err != nil {\n",
    "\t\t\tlog.Print(err) // e.g., connection aborted\n",
    "\t\t\tcontinue\n",
    "\t\t}\n",
    "\t\tgo handleConn(conn)\n",
    "\t}\n",
    "}\n"
   ]
  },
  {
   "cell_type": "code",
   "execution_count": null,
   "metadata": {
    "slideshow": {
     "slide_type": "fragment"
    }
   },
   "outputs": [],
   "source": [
    "main()"
   ]
  },
  {
   "cell_type": "markdown",
   "metadata": {
    "slideshow": {
     "slide_type": "slide"
    }
   },
   "source": [
    "## Channels"
   ]
  },
  {
   "cell_type": "code",
   "execution_count": 9,
   "metadata": {
    "slideshow": {
     "slide_type": "subslide"
    }
   },
   "outputs": [
    {
     "name": "stdout",
     "output_type": "stream",
     "text": [
      "9\n"
     ]
    }
   ],
   "source": [
    "import \"fmt\"\n",
    "ch := make(chan int) // ch has type 'chan int'\n",
    "go func() {ch <- 9}()\n",
    "//ch <- 9\n",
    "x := <- ch\n",
    "fmt.Println(x)\n",
    "close(ch) "
   ]
  },
  {
   "cell_type": "markdown",
   "metadata": {
    "slideshow": {
     "slide_type": "subslide"
    }
   },
   "source": [
    "### Unbuffered Channels"
   ]
  },
  {
   "cell_type": "code",
   "execution_count": 1,
   "metadata": {
    "code_folding": [
     0
    ],
    "slideshow": {
     "slide_type": "subslide"
    }
   },
   "outputs": [],
   "source": [
    "//gopl.io/ch8/netcat3\n",
    "// Netcat is a simple read/write client for TCP servers.\n",
    "// Copyright © 2016 Alan A. A. Donovan & Brian W. Kernighan.\n",
    "// License: https://creativecommons.org/licenses/by-nc-sa/4.0/\n",
    "\n",
    "// See page 227.\n",
    "\n",
    "\n",
    "//package main\n",
    "\n",
    "import (\n",
    "\t\"io\"\n",
    "\t\"log\"\n",
    "\t\"net\"\n",
    "\t\"os\"\n",
    ")\n",
    "\n",
    "//!+\n",
    "func main() {\n",
    "\tconn, err := net.Dial(\"tcp\", \"localhost:8000\")\n",
    "\tif err != nil {\n",
    "\t\tlog.Fatal(err)\n",
    "\t}\n",
    "\tdone := make(chan struct{})\n",
    "\tgo func() {\n",
    "\t\tio.Copy(os.Stdout, conn) // NOTE: ignoring errors\n",
    "\t\tlog.Println(\"done\")\n",
    "\t\tdone <- struct{}{} // signal the main goroutine\n",
    "\t}()\n",
    "\tmustCopy(conn, os.Stdin)\n",
    "\tconn.Close()\n",
    "\t<-done // wait for background goroutine to finish\n",
    "}\n",
    "\n",
    "//!-\n",
    "\n",
    "func mustCopy(dst io.Writer, src io.Reader) {\n",
    "\tif _, err := io.Copy(dst, src); err != nil {\n",
    "\t\tlog.Fatal(err)\n",
    "\t}\n",
    "}\n",
    "main()"
   ]
  },
  {
   "cell_type": "markdown",
   "metadata": {
    "slideshow": {
     "slide_type": "subslide"
    }
   },
   "source": [
    "### Pipelines"
   ]
  },
  {
   "cell_type": "code",
   "execution_count": null,
   "metadata": {
    "code_folding": [
     0
    ],
    "slideshow": {
     "slide_type": "subslide"
    }
   },
   "outputs": [
    {
     "name": "stdout",
     "output_type": "stream",
     "text": [
      "0 true\n",
      "1 true\n",
      "4 true\n",
      "9 true\n",
      "16 true\n",
      "25 true\n",
      "36 true\n",
      "49 true\n",
      "64 true\n",
      "81 true\n",
      "100 true\n",
      "121 true\n",
      "144 true\n",
      "169 true\n",
      "196 true\n",
      "225 true\n",
      "256 true\n",
      "289 true\n",
      "324 true\n",
      "361 true\n",
      "400 true\n",
      "441 true\n",
      "484 true\n",
      "529 true\n",
      "576 true\n",
      "625 true\n",
      "676 true\n",
      "729 true\n",
      "784 true\n",
      "841 true\n",
      "900 true\n",
      "961 true\n",
      "1024 true\n",
      "1089 true\n",
      "1156 true\n",
      "1225 true\n",
      "1296 true\n",
      "1369 true\n",
      "1444 true\n",
      "1521 true\n",
      "1600 true\n",
      "1681 true\n",
      "1764 true\n",
      "1849 true\n",
      "1936 true\n",
      "2025 true\n",
      "2116 true\n",
      "2209 true\n",
      "2304 true\n",
      "2401 true\n",
      "2500 true\n",
      "2601 true\n",
      "2704 true\n",
      "2809 true\n",
      "2916 true\n",
      "3025 true\n",
      "3136 true\n",
      "3249 true\n",
      "3364 true\n",
      "3481 true\n",
      "3600 true\n",
      "3721 true\n",
      "3844 true\n",
      "3969 true\n",
      "4096 true\n",
      "4225 true\n",
      "4356 true\n",
      "4489 true\n",
      "4624 true\n",
      "4761 true\n",
      "4900 true\n",
      "5041 true\n",
      "5184 true\n",
      "5329 true\n",
      "5476 true\n",
      "5625 true\n",
      "5776 true\n",
      "5929 true\n",
      "6084 true\n",
      "6241 true\n",
      "6400 true\n",
      "6561 true\n",
      "6724 true\n",
      "6889 true\n",
      "7056 true\n",
      "7225 true\n",
      "7396 true\n",
      "7569 true\n",
      "7744 true\n",
      "7921 true\n",
      "8100 true\n",
      "8281 true\n",
      "8464 true\n",
      "8649 true\n",
      "8836 true\n",
      "9025 true\n",
      "9216 true\n",
      "9409 true\n",
      "9604 true\n",
      "9801 true\n"
     ]
    }
   ],
   "source": [
    "// Pipeline1 demonstrates an infinite 3-stage pipeline.\n",
    "// Copyright © 2016 Alan A. A. Donovan & Brian W. Kernighan.\n",
    "// License: https://creativecommons.org/licenses/by-nc-sa/4.0/\n",
    "\n",
    "// See page 228.\n",
    "\n",
    "\n",
    "//package main\n",
    "\n",
    "import \"fmt\"\n",
    "\n",
    "//!+\n",
    "func main() {\n",
    "\tnaturals := make(chan int)\n",
    "\tsquares := make(chan int)\n",
    "\n",
    "\t// Counter\n",
    "\tgo func() {\n",
    "\t\tfor x := 0; x<100; x++ {\n",
    "\t\t\tnaturals <- x\n",
    "\t\t}\n",
    "        //close(naturals)\n",
    "\t}()\n",
    "\n",
    "\t// Squarer\n",
    "\tgo func() {\n",
    "\t\tfor {\n",
    "\t\t\tx := <-naturals\n",
    "\t\t\tsquares <- x * x\n",
    "\t\t}\n",
    "\t}()\n",
    "\n",
    "\t// Printer (in main goroutine)\n",
    "\tfor {\n",
    "\t\tfmt.Println(<-squares)\n",
    "\t}\n",
    "}\n",
    "\n",
    "main()\n",
    "//!-"
   ]
  },
  {
   "cell_type": "code",
   "execution_count": 1,
   "metadata": {
    "code_folding": [
     0
    ],
    "collapsed": true,
    "slideshow": {
     "slide_type": "subslide"
    }
   },
   "outputs": [
    {
     "name": "stdout",
     "output_type": "stream",
     "text": [
      "0\n",
      "1\n",
      "4\n",
      "9\n",
      "16\n",
      "25\n",
      "36\n",
      "49\n",
      "64\n",
      "81\n",
      "100\n",
      "121\n",
      "144\n",
      "169\n",
      "196\n",
      "225\n",
      "256\n",
      "289\n",
      "324\n",
      "361\n",
      "400\n",
      "441\n",
      "484\n",
      "529\n",
      "576\n",
      "625\n",
      "676\n",
      "729\n",
      "784\n",
      "841\n",
      "900\n",
      "961\n",
      "1024\n",
      "1089\n",
      "1156\n",
      "1225\n",
      "1296\n",
      "1369\n",
      "1444\n",
      "1521\n",
      "1600\n",
      "1681\n",
      "1764\n",
      "1849\n",
      "1936\n",
      "2025\n",
      "2116\n",
      "2209\n",
      "2304\n",
      "2401\n",
      "2500\n",
      "2601\n",
      "2704\n",
      "2809\n",
      "2916\n",
      "3025\n",
      "3136\n",
      "3249\n",
      "3364\n",
      "3481\n",
      "3600\n",
      "3721\n",
      "3844\n",
      "3969\n",
      "4096\n",
      "4225\n",
      "4356\n",
      "4489\n",
      "4624\n",
      "4761\n",
      "4900\n",
      "5041\n",
      "5184\n",
      "5329\n",
      "5476\n",
      "5625\n",
      "5776\n",
      "5929\n",
      "6084\n",
      "6241\n",
      "6400\n",
      "6561\n",
      "6724\n",
      "6889\n",
      "7056\n",
      "7225\n",
      "7396\n",
      "7569\n",
      "7744\n",
      "7921\n",
      "8100\n",
      "8281\n",
      "8464\n",
      "8649\n",
      "8836\n",
      "9025\n",
      "9216\n",
      "9409\n",
      "9604\n",
      "9801\n"
     ]
    }
   ],
   "source": [
    "// Pipeline2 demonstrates a finite 3-stage pipeline.\n",
    "// Copyright © 2016 Alan A. A. Donovan & Brian W. Kernighan.\n",
    "// License: https://creativecommons.org/licenses/by-nc-sa/4.0/\n",
    "\n",
    "// See page 229.\n",
    "\n",
    "\n",
    "//package main\n",
    "\n",
    "import \"fmt\"\n",
    "\n",
    "//!+\n",
    "func main() {\n",
    "\tnaturals := make(chan int)\n",
    "\tsquares := make(chan int)\n",
    "\n",
    "\t// Counter\n",
    "\tgo func() {\n",
    "\t\tfor x := 0; x < 100; x++ {\n",
    "\t\t\tnaturals <- x\n",
    "\t\t}\n",
    "\t\tclose(naturals)\n",
    "\t}()\n",
    "\n",
    "\t// Squarer\n",
    "\tgo func() {\n",
    "\t\tfor x := range naturals {\n",
    "\t\t\tsquares <- x * x\n",
    "\t\t}\n",
    "\t\tclose(squares)\n",
    "\t}()\n",
    "\n",
    "\t// Printer (in main goroutine)\n",
    "\tfor x := range squares {\n",
    "\t\tfmt.Println(x)\n",
    "\t}\n",
    "}\n",
    "\n",
    "main()\n",
    "//!-"
   ]
  },
  {
   "cell_type": "markdown",
   "metadata": {
    "slideshow": {
     "slide_type": "slide"
    }
   },
   "source": [
    "### Unidirectional Channel Type"
   ]
  },
  {
   "cell_type": "code",
   "execution_count": 2,
   "metadata": {
    "code_folding": [
     0
    ],
    "slideshow": {
     "slide_type": "subslide"
    }
   },
   "outputs": [],
   "source": [
    "// Pipeline3 demonstrates a finite 3-stage pipeline\n",
    "// Copyright © 2016 Alan A. A. Donovan & Brian W. Kernighan.\n",
    "// License: https://creativecommons.org/licenses/by-nc-sa/4.0/\n",
    "\n",
    "// See page 231.\n",
    "\n",
    "\n",
    "// with range, close, and unidirectional channel types.\n",
    "//package main\n",
    "\n",
    "import \"fmt\"\n",
    "\n",
    "//!+\n",
    "func counter(out chan<- int) {\n",
    "\tfor x := 0; x < 100; x++ {\n",
    "\t\tout <- x\n",
    "\t}\n",
    "\tclose(out)\n",
    "}\n",
    "\n",
    "func squarer(out chan<- int, in <-chan int) {\n",
    "\tfor v := range in {\n",
    "\t\tout <- v * v\n",
    "\t}\n",
    "\tclose(out)\n",
    "}\n",
    "\n",
    "func printer(in <-chan int) {\n",
    "\tfor v := range in {\n",
    "\t\tfmt.Println(v)\n",
    "\t}\n",
    "}\n",
    "\n",
    "func main() {\n",
    "\tnaturals := make(chan int)\n",
    "\tsquares := make(chan int)\n",
    "\n",
    "\tgo counter(naturals)\n",
    "\tgo squarer(squares, naturals)\n",
    "\tprinter(squares)\n",
    "}\n",
    "\n",
    "//!-"
   ]
  },
  {
   "cell_type": "code",
   "execution_count": 3,
   "metadata": {
    "collapsed": true,
    "slideshow": {
     "slide_type": "fragment"
    }
   },
   "outputs": [
    {
     "name": "stdout",
     "output_type": "stream",
     "text": [
      "0\n",
      "1\n",
      "4\n",
      "9\n",
      "16\n",
      "25\n",
      "36\n",
      "49\n",
      "64\n",
      "81\n",
      "100\n",
      "121\n",
      "144\n",
      "169\n",
      "196\n",
      "225\n",
      "256\n",
      "289\n",
      "324\n",
      "361\n",
      "400\n",
      "441\n",
      "484\n",
      "529\n",
      "576\n",
      "625\n",
      "676\n",
      "729\n",
      "784\n",
      "841\n",
      "900\n",
      "961\n",
      "1024\n",
      "1089\n",
      "1156\n",
      "1225\n",
      "1296\n",
      "1369\n",
      "1444\n",
      "1521\n",
      "1600\n",
      "1681\n",
      "1764\n",
      "1849\n",
      "1936\n",
      "2025\n",
      "2116\n",
      "2209\n",
      "2304\n",
      "2401\n",
      "2500\n",
      "2601\n",
      "2704\n",
      "2809\n",
      "2916\n",
      "3025\n",
      "3136\n",
      "3249\n",
      "3364\n",
      "3481\n",
      "3600\n",
      "3721\n",
      "3844\n",
      "3969\n",
      "4096\n",
      "4225\n",
      "4356\n",
      "4489\n",
      "4624\n",
      "4761\n",
      "4900\n",
      "5041\n",
      "5184\n",
      "5329\n",
      "5476\n",
      "5625\n",
      "5776\n",
      "5929\n",
      "6084\n",
      "6241\n",
      "6400\n",
      "6561\n",
      "6724\n",
      "6889\n",
      "7056\n",
      "7225\n",
      "7396\n",
      "7569\n",
      "7744\n",
      "7921\n",
      "8100\n",
      "8281\n",
      "8464\n",
      "8649\n",
      "8836\n",
      "9025\n",
      "9216\n",
      "9409\n",
      "9604\n",
      "9801\n"
     ]
    }
   ],
   "source": [
    "main()"
   ]
  },
  {
   "cell_type": "markdown",
   "metadata": {
    "slideshow": {
     "slide_type": "subslide"
    }
   },
   "source": [
    "### Buffered Channels"
   ]
  },
  {
   "cell_type": "code",
   "execution_count": null,
   "metadata": {
    "slideshow": {
     "slide_type": "subslide"
    }
   },
   "outputs": [],
   "source": [
    "ch := make(chan string, 3)"
   ]
  },
  {
   "cell_type": "code",
   "execution_count": 5,
   "metadata": {
    "slideshow": {
     "slide_type": "fragment"
    }
   },
   "outputs": [],
   "source": [
    "ch <- \"A\"\n",
    "ch <- \"B\"\n",
    "ch <- \"C\""
   ]
  },
  {
   "cell_type": "code",
   "execution_count": 6,
   "metadata": {
    "slideshow": {
     "slide_type": "fragment"
    }
   },
   "outputs": [
    {
     "name": "stdout",
     "output_type": "stream",
     "text": [
      "A true\n"
     ]
    },
    {
     "data": {
      "text/plain": [
       "7 <nil>"
      ]
     },
     "execution_count": 6,
     "metadata": {},
     "output_type": "execute_result"
    }
   ],
   "source": [
    "import \"fmt\"\n",
    "fmt.Println(<- ch) // \"A\""
   ]
  },
  {
   "cell_type": "code",
   "execution_count": 7,
   "metadata": {},
   "outputs": [
    {
     "name": "stdout",
     "output_type": "stream",
     "text": [
      "3\n"
     ]
    },
    {
     "data": {
      "text/plain": [
       "2 <nil>"
      ]
     },
     "execution_count": 7,
     "metadata": {},
     "output_type": "execute_result"
    }
   ],
   "source": [
    "fmt.Println(cap(ch)) // \"3\""
   ]
  },
  {
   "cell_type": "code",
   "execution_count": 8,
   "metadata": {},
   "outputs": [
    {
     "name": "stdout",
     "output_type": "stream",
     "text": [
      "2\n"
     ]
    },
    {
     "data": {
      "text/plain": [
       "2 <nil>"
      ]
     },
     "execution_count": 8,
     "metadata": {},
     "output_type": "execute_result"
    }
   ],
   "source": [
    "fmt.Println(len(ch)) // \"2\""
   ]
  },
  {
   "cell_type": "code",
   "execution_count": 9,
   "metadata": {
    "slideshow": {
     "slide_type": "fragment"
    }
   },
   "outputs": [
    {
     "name": "stdout",
     "output_type": "stream",
     "text": [
      "B true\n"
     ]
    },
    {
     "data": {
      "text/plain": [
       "7 <nil>"
      ]
     },
     "execution_count": 9,
     "metadata": {},
     "output_type": "execute_result"
    }
   ],
   "source": [
    "fmt.Println(<- ch) // \"B\""
   ]
  },
  {
   "cell_type": "code",
   "execution_count": 10,
   "metadata": {
    "slideshow": {
     "slide_type": "fragment"
    }
   },
   "outputs": [
    {
     "name": "stdout",
     "output_type": "stream",
     "text": [
      "C true\n"
     ]
    },
    {
     "data": {
      "text/plain": [
       "7 <nil>"
      ]
     },
     "execution_count": 10,
     "metadata": {},
     "output_type": "execute_result"
    }
   ],
   "source": [
    "fmt.Println(<- ch) // \"C\""
   ]
  },
  {
   "cell_type": "code",
   "execution_count": 13,
   "metadata": {
    "code_folding": []
   },
   "outputs": [
    {
     "ename": "ERROR",
     "evalue": "repl.go:3:30: undefined identifier: request",
     "output_type": "error",
     "traceback": [
      "repl.go:3:30: undefined identifier: request"
     ]
    }
   ],
   "source": [
    "func mirroredQuery() string {\n",
    "    responses := make(chan string,3)\n",
    "    go func() { responses <- request(\"asia.gopl.io\")}()\n",
    "    go func() { responses <- request(\"europe.gopl.io\")}()\n",
    "    go func() { responses <- request(\"americas.gopl.io\")}()\n",
    "    return <- responses // return the quickest response\n",
    "}"
   ]
  },
  {
   "cell_type": "markdown",
   "metadata": {
    "slideshow": {
     "slide_type": "slide"
    }
   },
   "source": [
    "## Looping in Parallel"
   ]
  },
  {
   "cell_type": "code",
   "execution_count": 26,
   "metadata": {
    "code_folding": [
     0
    ],
    "slideshow": {
     "slide_type": "subslide"
    }
   },
   "outputs": [],
   "source": [
    "//gopl.io/ch8/thumbnail\n",
    "// Copyright © 2016 Alan A. A. Donovan & Brian W. Kernighan.\n",
    "// License: https://creativecommons.org/licenses/by-nc-sa/4.0/\n",
    "\n",
    "// See page 234.\n",
    "\n",
    "// The thumbnail package produces thumbnail-size images from\n",
    "// larger images.  Only JPEG images are currently supported.\n",
    "//package thumbnail\n",
    "\n",
    "import (\n",
    "\t\"fmt\"\n",
    "\t\"image\"\n",
    "\t\"image/jpeg\"\n",
    "\t\"io\"\n",
    "\t\"os\"\n",
    "\t\"path/filepath\"\n",
    "\t\"strings\"\n",
    ")\n",
    "\n",
    "// Image returns a thumbnail-size version of src.\n",
    "func Image(src image.Image) image.Image {\n",
    "\t// Compute thumbnail size, preserving aspect ratio.\n",
    "\txs := src.Bounds().Size().X\n",
    "\tys := src.Bounds().Size().Y\n",
    "\twidth, height := 128, 128\n",
    "\tif aspect := float64(xs) / float64(ys); aspect < 1.0 {\n",
    "\t\twidth = int(128 * aspect) // portrait\n",
    "\t} else {\n",
    "\t\theight = int(128 / aspect) // landscape\n",
    "\t}\n",
    "\txscale := float64(xs) / float64(width)\n",
    "\tyscale := float64(ys) / float64(height)\n",
    "\n",
    "\tdst := image.NewRGBA(image.Rect(0, 0, width, height))\n",
    "\n",
    "\t// a very crude scaling algorithm\n",
    "\tfor x := 0; x < width; x++ {\n",
    "\t\tfor y := 0; y < height; y++ {\n",
    "\t\t\tsrcx := int(float64(x) * xscale)\n",
    "\t\t\tsrcy := int(float64(y) * yscale)\n",
    "\t\t\tdst.Set(x, y, src.At(srcx, srcy))\n",
    "\t\t}\n",
    "\t}\n",
    "\treturn dst\n",
    "}\n",
    "\n",
    "// ImageStream reads an image from r and\n",
    "// writes a thumbnail-size version of it to w.\n",
    "func ImageStream(w io.Writer, r io.Reader) error {\n",
    "\tsrc, _, err := image.Decode(r)\n",
    "\tif err != nil {\n",
    "\t\treturn err\n",
    "\t}\n",
    "\tdst := Image(src)\n",
    "\treturn jpeg.Encode(w, dst, nil)\n",
    "}\n",
    "\n",
    "// ImageFile2 reads an image from infile and writes\n",
    "// a thumbnail-size version of it to outfile.\n",
    "func ImageFile2(outfile, infile string) (err error) {\n",
    "\tin, err := os.Open(infile)\n",
    "\tif err != nil {\n",
    "\t\treturn err\n",
    "\t}\n",
    "\tdefer in.Close()\n",
    "\n",
    "\tout, err := os.Create(outfile)\n",
    "\tif err != nil {\n",
    "\t\treturn err\n",
    "\t}\n",
    "\n",
    "\tif err := ImageStream(out, in); err != nil {\n",
    "\t\tout.Close()\n",
    "\t\treturn fmt.Errorf(\"scaling %s to %s: %s\", infile, outfile, err)\n",
    "\t}\n",
    "\treturn out.Close()\n",
    "}\n",
    "\n",
    "// ImageFile reads an image from infile and writes\n",
    "// a thumbnail-size version of it in the same directory.\n",
    "// It returns the generated file name, e.g. \"foo.thumb.jpeg\".\n",
    "func ImageFile(infile string) (string, error) {\n",
    "\text := filepath.Ext(infile) // e.g., \".jpg\", \".JPEG\"\n",
    "\toutfile := strings.TrimSuffix(infile, ext) + \".thumb\" + ext\n",
    "\treturn outfile, ImageFile2(outfile, infile)\n",
    "}"
   ]
  },
  {
   "cell_type": "code",
   "execution_count": 27,
   "metadata": {
    "code_folding": [],
    "slideshow": {
     "slide_type": "subslide"
    }
   },
   "outputs": [],
   "source": [
    "// gopl.io/ch8/thumbnail_test\n",
    "// Copyright © 2016 Alan A. A. Donovan & Brian W. Kernighan.\n",
    "// License: https://creativecommons.org/licenses/by-nc-sa/4.0/\n",
    "\n",
    "// This file is just a place to put example code from the book.\n",
    "// It does not actually run any code in gopl.io/ch8/thumbnail.\n",
    "\n",
    "//package thumbnail_test\n",
    "\n",
    "import (\n",
    "\t\"log\"\n",
    "\t\"os\"\n",
    "\t\"sync\"\n",
    "\n",
    "\t\"gopl.io/ch8/thumbnail\"\n",
    ")\n",
    "\n",
    "//!+1\n",
    "// makeThumbnails makes thumbnails of the specified files.\n",
    "func makeThumbnails(filenames []string) {\n",
    "\tfor _, f := range filenames {\n",
    "\t\tif _, err := thumbnail.ImageFile(f); err != nil {\n",
    "\t\t\tlog.Println(err)\n",
    "\t\t}\n",
    "\t}\n",
    "}\n",
    "\n"
   ]
  },
  {
   "cell_type": "code",
   "execution_count": 4,
   "metadata": {
    "code_folding": [],
    "slideshow": {
     "slide_type": "subslide"
    }
   },
   "outputs": [],
   "source": [
    "// makeThumbnails2\n",
    "// NOTE: incorrect!\n",
    "func makeThumbnails2(filenames []string) {\n",
    "\tfor _, f := range filenames {\n",
    "\t\tgo thumbnail.ImageFile(f) // NOTE: ignoring errors\n",
    "\t}\n",
    "}"
   ]
  },
  {
   "cell_type": "code",
   "execution_count": 28,
   "metadata": {
    "code_folding": [],
    "slideshow": {
     "slide_type": "subslide"
    }
   },
   "outputs": [],
   "source": [
    "// makeThumbnails3 makes thumbnails of the specified files in parallel.\n",
    "func makeThumbnails3(filenames []string) {\n",
    "\tch := make(chan struct{})\n",
    "\tfor _, f := range filenames {\n",
    "\t\tgo func(f string) {\n",
    "\t\t\tthumbnail.ImageFile(f) // NOTE: ignoring errors\n",
    "\t\t\tch <- struct{}{}\n",
    "\t\t}(f)\n",
    "\t}\n",
    "\n",
    "\t// Wait for goroutines to complete.\n",
    "\tfor range filenames {\n",
    "\t\t<-ch\n",
    "\t}\n",
    "}\n"
   ]
  },
  {
   "cell_type": "code",
   "execution_count": 9,
   "metadata": {
    "code_folding": [],
    "slideshow": {
     "slide_type": "subslide"
    }
   },
   "outputs": [],
   "source": [
    "// makeThumbnails4 makes thumbnails for the specified files in parallel.\n",
    "// It returns an error if any step failed.\n",
    "func makeThumbnails4(filenames []string) error {\n",
    "\terrors := make(chan error)\n",
    "\n",
    "\tfor _, f := range filenames {\n",
    "\t\tgo func(f string) {\n",
    "\t\t\t_, err := thumbnail.ImageFile(f)\n",
    "\t\t\terrors <- err\n",
    "\t\t}(f)\n",
    "\t}\n",
    "\n",
    "\tfor range filenames {\n",
    "\t\tif err := <-errors; err != nil {\n",
    "\t\t\treturn err // NOTE: incorrect: goroutine leak!\n",
    "\t\t}\n",
    "\t}\n",
    "\n",
    "\treturn nil\n",
    "}"
   ]
  },
  {
   "cell_type": "code",
   "execution_count": 7,
   "metadata": {
    "code_folding": [],
    "slideshow": {
     "slide_type": "subslide"
    }
   },
   "outputs": [],
   "source": [
    "// makeThumbnails5 makes thumbnails for the specified files in parallel.\n",
    "// It returns the generated file names in an arbitrary order,\n",
    "// or an error if any step failed.\n",
    "func makeThumbnails5(filenames []string) (thumbfiles []string, err error) {\n",
    "\ttype item struct {\n",
    "\t\tthumbfile string\n",
    "\t\terr       error\n",
    "\t}\n",
    "\n",
    "\tch := make(chan item, len(filenames))\n",
    "\tfor _, f := range filenames {\n",
    "\t\tgo func(f string) {\n",
    "\t\t\tvar it item\n",
    "\t\t\tit.thumbfile, it.err = thumbnail.ImageFile(f)\n",
    "\t\t\tch <- it\n",
    "\t\t}(f)\n",
    "\t}\n",
    "\n",
    "\tfor range filenames {\n",
    "\t\tit := <-ch\n",
    "\t\tif it.err != nil {\n",
    "\t\t\treturn nil, it.err\n",
    "\t\t}\n",
    "\t\tthumbfiles = append(thumbfiles, it.thumbfile)\n",
    "\t}\n",
    "\n",
    "\treturn thumbfiles, nil\n",
    "}\n"
   ]
  },
  {
   "cell_type": "code",
   "execution_count": 29,
   "metadata": {
    "code_folding": [
     0
    ],
    "slideshow": {
     "slide_type": "subslide"
    }
   },
   "outputs": [],
   "source": [
    "// makeThumbnails6 makes thumbnails for each file received from the channel.\n",
    "// It returns the number of bytes occupied by the files it creates.\n",
    "func makeThumbnails6(filenames <-chan string) int64 {\n",
    "\tsizes := make(chan int64)\n",
    "\tvar wg sync.WaitGroup // number of working goroutines\n",
    "\tfor f := range filenames {\n",
    "\t\twg.Add(1)\n",
    "\t\t// worker\n",
    "\t\tgo func(f string) {\n",
    "\t\t\tdefer wg.Done()\n",
    "\t\t\tthumb, err := thumbnail.ImageFile(f)\n",
    "\t\t\tif err != nil {\n",
    "\t\t\t\tlog.Println(err)\n",
    "\t\t\t\treturn\n",
    "\t\t\t}\n",
    "\t\t\tinfo, _ := os.Stat(thumb) // OK to ignore error\n",
    "\t\t\tsizes <- info.Size()\n",
    "\t\t}(f)\n",
    "\t}\n",
    "\n",
    "\t// closer\n",
    "\tgo func() {\n",
    "\t\twg.Wait()\n",
    "\t\tclose(sizes)\n",
    "\t}()\n",
    "\n",
    "\tvar total int64\n",
    "\tfor size := range sizes {\n",
    "\t\ttotal += size\n",
    "\t}\n",
    "\treturn total\n",
    "}"
   ]
  },
  {
   "cell_type": "markdown",
   "metadata": {
    "slideshow": {
     "slide_type": "slide"
    }
   },
   "source": [
    "## Example: Concurrent Web Crawler"
   ]
  },
  {
   "cell_type": "markdown",
   "metadata": {
    "slideshow": {
     "slide_type": "subslide"
    }
   },
   "source": [
    "* A simple web crawler exploring the link graph in BFS\n",
    "* concurrent and independent calls to crawl \n",
    "* exploit the I/O parallelism\n",
    "  * crawl1 : unbounded parallelism\n",
    "  * crawl2 : limited parallelism with counting semaphore\n",
    "  * crawl3 : at most 20 HTTP reequests active concurrently"
   ]
  },
  {
   "cell_type": "code",
   "execution_count": 2,
   "metadata": {
    "code_folding": [],
    "slideshow": {
     "slide_type": "subslide"
    }
   },
   "outputs": [],
   "source": [
    "// Crawl1 crawls web links starting with the command-line arguments.\n",
    "// Copyright © 2016 Alan A. A. Donovan & Brian W. Kernighan.\n",
    "// License: https://creativecommons.org/licenses/by-nc-sa/4.0/\n",
    "\n",
    "// See page 240.\n",
    "\n",
    "\n",
    "//\n",
    "// This version quickly exhausts available file descriptors\n",
    "// due to excessive concurrent calls to links.Extract.\n",
    "//\n",
    "// Also, it never terminates because the worklist is never closed.\n",
    "//package main\n",
    "\n",
    "import (\n",
    "\t\"fmt\"\n",
    "\t\"log\"\n",
    "\t\"os\"\n",
    "\n",
    "\t\"gopl.io/ch5/links\"\n",
    ")\n",
    "\n",
    "//!+crawl\n",
    "func crawl(url string) []string {\n",
    "\tfmt.Println(url)\n",
    "\tlist, err := links.Extract(url)\n",
    "\tif err != nil {\n",
    "\t\tlog.Print(err)\n",
    "\t}\n",
    "\treturn list\n",
    "}\n",
    "\n",
    "//!-crawl\n",
    "\n",
    "//!+main\n",
    "func main() {\n",
    "\tworklist := make(chan []string)\n",
    "\n",
    "\t// Start with the command-line arguments.\n",
    "\tgo func() { worklist <- os.Args[1:] }()\n",
    "\n",
    "\t// Crawl the web concurrently.\n",
    "\tseen := make(map[string]bool)\n",
    "\tfor list := range worklist {\n",
    "\t\tfor _, link := range list {\n",
    "\t\t\tif !seen[link] {\n",
    "\t\t\t\tseen[link] = true\n",
    "\t\t\t\tgo func(link string) {\n",
    "\t\t\t\t\tworklist <- crawl(link)\n",
    "\t\t\t\t}(link)\n",
    "\t\t\t}\n",
    "\t\t}\n",
    "\t}\n",
    "}\n",
    "\n",
    "//!-main\n",
    "\n",
    "/*\n",
    "//!+output\n",
    "$ go build gopl.io/ch8/crawl1\n",
    "$ ./crawl1 http://gopl.io/\n",
    "http://gopl.io/\n",
    "https://golang.org/help/\n",
    "\n",
    "https://golang.org/doc/\n",
    "https://golang.org/blog/\n",
    "...\n",
    "2015/07/15 18:22:12 Get ...: dial tcp: lookup blog.golang.org: no such host\n",
    "2015/07/15 18:22:12 Get ...: dial tcp 23.21.222.120:443: socket:\n",
    "                                                        too many open files\n",
    "...\n",
    "//!-output\n",
    "*/"
   ]
  },
  {
   "cell_type": "markdown",
   "metadata": {
    "slideshow": {
     "slide_type": "subslide"
    }
   },
   "source": [
    "* Bracketed links.Extract by operations to acquire and release a token\n",
    "* Ensuring at most 20 calls to it are active at one time"
   ]
  },
  {
   "cell_type": "code",
   "execution_count": 3,
   "metadata": {
    "code_folding": [],
    "slideshow": {
     "slide_type": "subslide"
    }
   },
   "outputs": [],
   "source": [
    "// Crawl2 crawls web links starting with the command-line arguments.\n",
    "// Copyright © 2016 Alan A. A. Donovan & Brian W. Kernighan.\n",
    "// License: https://creativecommons.org/licenses/by-nc-sa/4.0/\n",
    "\n",
    "// See page 241.\n",
    "\n",
    "\n",
    "//\n",
    "// This version uses a buffered channel as a counting semaphore\n",
    "// to limit the number of concurrent calls to links.Extract.\n",
    "//package main\n",
    "\n",
    "import (\n",
    "\t\"fmt\"\n",
    "\t\"log\"\n",
    "\t\"os\"\n",
    "\n",
    "\t\"gopl.io/ch5/links\"\n",
    ")\n",
    "\n",
    "//!+sema\n",
    "// tokens is a counting semaphore used to\n",
    "// enforce a limit of 20 concurrent requests.\n",
    "var tokens = make(chan struct{}, 20)\n",
    "\n",
    "func crawl(url string) []string {\n",
    "\tfmt.Println(url)\n",
    "\ttokens <- struct{}{} // acquire a token\n",
    "\tlist, err := links.Extract(url)\n",
    "\t<-tokens // release the token\n",
    "\n",
    "\tif err != nil {\n",
    "\t\tlog.Print(err)\n",
    "\t}\n",
    "\treturn list\n",
    "}\n",
    "\n",
    "//!-sema\n",
    "\n",
    "//!+\n",
    "func main() {\n",
    "\tworklist := make(chan []string)\n",
    "\tvar n int // number of pending sends to worklist\n",
    "\n",
    "\t// Start with the command-line arguments.\n",
    "\tn++\n",
    "\tgo func() { worklist <- os.Args[1:] }()\n",
    "\n",
    "\t// Crawl the web concurrently.\n",
    "\tseen := make(map[string]bool)\n",
    "\tfor ; n > 0; n-- {\n",
    "\t\tlist := <-worklist\n",
    "\t\tfor _, link := range list {\n",
    "\t\t\tif !seen[link] {\n",
    "\t\t\t\tseen[link] = true\n",
    "\t\t\t\tn++\n",
    "\t\t\t\tgo func(link string) {\n",
    "\t\t\t\t\tworklist <- crawl(link)\n",
    "\t\t\t\t}(link)\n",
    "\t\t\t}\n",
    "\t\t}\n",
    "\t}\n",
    "}\n",
    "\n",
    "//!-"
   ]
  },
  {
   "cell_type": "code",
   "execution_count": 4,
   "metadata": {
    "code_folding": [],
    "slideshow": {
     "slide_type": "subslide"
    }
   },
   "outputs": [],
   "source": [
    "// Crawl3 crawls web links starting with the command-line arguments.\n",
    "// Copyright © 2016 Alan A. A. Donovan & Brian W. Kernighan.\n",
    "// License: https://creativecommons.org/licenses/by-nc-sa/4.0/\n",
    "\n",
    "// See page 243.\n",
    "\n",
    "//\n",
    "// This version uses bounded parallelism.\n",
    "// For simplicity, it does not address the termination problem.\n",
    "//\n",
    "//package main\n",
    "\n",
    "import (\n",
    "\t\"fmt\"\n",
    "\t\"log\"\n",
    "\t\"os\"\n",
    "\n",
    "\t\"gopl.io/ch5/links\"\n",
    ")\n",
    "\n",
    "func crawl(url string) []string {\n",
    "\tfmt.Println(url)\n",
    "\tlist, err := links.Extract(url)\n",
    "\tif err != nil {\n",
    "\t\tlog.Print(err)\n",
    "\t}\n",
    "\treturn list\n",
    "}\n",
    "\n",
    "//!+\n",
    "func main() {\n",
    "\tworklist := make(chan []string)  // lists of URLs, may have duplicates\n",
    "\tunseenLinks := make(chan string) // de-duplicated URLs\n",
    "\n",
    "\t// Add command-line arguments to worklist.\n",
    "\tgo func() { worklist <- os.Args[1:] }()\n",
    "\n",
    "\t// Create 20 crawler goroutines to fetch each unseen link.\n",
    "\tfor i := 0; i < 20; i++ {\n",
    "\t\tgo func() {\n",
    "\t\t\tfor link := range unseenLinks {\n",
    "\t\t\t\tfoundLinks := crawl(link)\n",
    "\t\t\t\tgo func() { worklist <- foundLinks }()\n",
    "\t\t\t}\n",
    "\t\t}()\n",
    "\t}\n",
    "\n",
    "\t// The main goroutine de-duplicates worklist items\n",
    "\t// and sends the unseen ones to the crawlers.\n",
    "\tseen := make(map[string]bool)\n",
    "\tfor list := range worklist {\n",
    "\t\tfor _, link := range list {\n",
    "\t\t\tif !seen[link] {\n",
    "\t\t\t\tseen[link] = true\n",
    "\t\t\t\tunseenLinks <- link\n",
    "\t\t\t}\n",
    "\t\t}\n",
    "\t}\n",
    "}\n",
    "\n",
    "//!-"
   ]
  },
  {
   "cell_type": "markdown",
   "metadata": {
    "slideshow": {
     "slide_type": "slide"
    }
   },
   "source": [
    "## Multiplexing with select\n",
    "* Countdown for a rocket launch\n",
    "* countdown1 : time.Tick returns a channel on which it sends events periodically\n",
    "* countdown2 : abort the launch sequence by pressing the return key during the countdown\n",
    "* countdown3 : abort the launch sequence by pressing the return key and print the countdown"
   ]
  },
  {
   "cell_type": "code",
   "execution_count": 31,
   "metadata": {
    "code_folding": [
     0
    ],
    "slideshow": {
     "slide_type": "subslide"
    }
   },
   "outputs": [],
   "source": [
    "// Countdown1 implements the countdown for a rocket launch.\n",
    "// Copyright © 2016 Alan A. A. Donovan & Brian W. Kernighan.\n",
    "// License: https://creativecommons.org/licenses/by-nc-sa/4.0/\n",
    "\n",
    "// See page 244.\n",
    "\n",
    "\n",
    "//package main\n",
    "\n",
    "import (\n",
    "\t\"fmt\"\n",
    "\t\"time\"\n",
    ")\n",
    "\n",
    "//!+\n",
    "func main() {\n",
    "\tfmt.Println(\"Commencing countdown.\")\n",
    "\ttick := time.Tick(1 * time.Second)\n",
    "\tfor countdown := 10; countdown > 0; countdown-- {\n",
    "\t\tfmt.Println(countdown)\n",
    "\t\t<-tick\n",
    "\t}\n",
    "\tlaunch()\n",
    "}\n",
    "\n",
    "//!-\n",
    "\n",
    "func launch() {\n",
    "\tfmt.Println(\"Lift off!\")\n",
    "}"
   ]
  },
  {
   "cell_type": "code",
   "execution_count": 32,
   "metadata": {
    "slideshow": {
     "slide_type": "fragment"
    }
   },
   "outputs": [
    {
     "name": "stdout",
     "output_type": "stream",
     "text": [
      "Commencing countdown.\n",
      "10\n",
      "9\n",
      "8\n",
      "7\n",
      "6\n",
      "5\n",
      "4\n",
      "3\n",
      "2\n",
      "1\n",
      "Lift off!\n"
     ]
    }
   ],
   "source": [
    "main()"
   ]
  },
  {
   "cell_type": "code",
   "execution_count": 33,
   "metadata": {
    "code_folding": [
     0
    ],
    "slideshow": {
     "slide_type": "subslide"
    }
   },
   "outputs": [],
   "source": [
    "// Countdown2 implements the countdown for a rocket launch.\n",
    "// Copyright © 2016 Alan A. A. Donovan & Brian W. Kernighan.\n",
    "// License: https://creativecommons.org/licenses/by-nc-sa/4.0/\n",
    "\n",
    "// See page 244.\n",
    "\n",
    "//package main\n",
    "\n",
    "import (\n",
    "\t\"fmt\"\n",
    "\t\"os\"\n",
    "\t\"time\"\n",
    ")\n",
    "\n",
    "//!+\n",
    "\n",
    "func main() {\n",
    "\t// ...create abort channel...\n",
    "\n",
    "\t//!-\n",
    "\n",
    "\t//!+abort\n",
    "\tabort := make(chan struct{})\n",
    "\tgo func() {\n",
    "\t\tos.Stdin.Read(make([]byte, 1)) // read a single byte\n",
    "\t\tabort <- struct{}{}\n",
    "\t}()\n",
    "\t//!-abort\n",
    "\n",
    "\t//!+\n",
    "\tfmt.Println(\"Commencing countdown.  Press return to abort.\")\n",
    "\tselect {\n",
    "\tcase <-time.After(10 * time.Second):\n",
    "\t\t// Do nothing.\n",
    "\tcase <-abort:\n",
    "\t\tfmt.Println(\"Launch aborted!\")\n",
    "\t\treturn\n",
    "\t}\n",
    "\tlaunch()\n",
    "}\n",
    "\n",
    "//!-\n",
    "\n",
    "func launch() {\n",
    "\tfmt.Println(\"Lift off!\")\n",
    "}"
   ]
  },
  {
   "cell_type": "code",
   "execution_count": 36,
   "metadata": {
    "slideshow": {
     "slide_type": "subslide"
    }
   },
   "outputs": [
    {
     "name": "stdout",
     "output_type": "stream",
     "text": [
      "0\n",
      "2\n",
      "4\n",
      "6\n",
      "8\n"
     ]
    }
   ],
   "source": [
    "ch := make(chan int,1)\n",
    "for i:=0; i<10;i ++ {\n",
    "    select {\n",
    "    case  x := <- ch:\n",
    "        fmt.Println(x) // \"0\" \"2\" \"4\" \"6\" \"8\"\n",
    "    case  ch <- i:\n",
    "    }\n",
    "}"
   ]
  },
  {
   "cell_type": "code",
   "execution_count": 9,
   "metadata": {
    "code_folding": [],
    "slideshow": {
     "slide_type": "subslide"
    }
   },
   "outputs": [],
   "source": [
    "// Countdown3 implements the countdown for a rocket launch.\n",
    "// Copyright © 2016 Alan A. A. Donovan & Brian W. Kernighan.\n",
    "// License: https://creativecommons.org/licenses/by-nc-sa/4.0/\n",
    "\n",
    "// See page 246.\n",
    "\n",
    "\n",
    "//package main\n",
    "\n",
    "// NOTE: the ticker goroutine never terminates if the launch is aborted.\n",
    "// This is a \"goroutine leak\".\n",
    "\n",
    "import (\n",
    "\t\"fmt\"\n",
    "\t\"os\"\n",
    "\t\"time\"\n",
    ")\n",
    "\n",
    "//!+\n",
    "\n",
    "func main() {\n",
    "\t// ...create abort channel...\n",
    "\n",
    "\t//!-\n",
    "\n",
    "\tabort := make(chan struct{})\n",
    "\tgo func() {\n",
    "\t\tos.Stdin.Read(make([]byte, 1)) // read a single byte\n",
    "\t\tabort <- struct{}{}\n",
    "\t}()\n",
    "\n",
    "\t//!+\n",
    "\tfmt.Println(\"Commencing countdown.  Press return to abort.\")\n",
    "\ttick := time.Tick(1 * time.Second)\n",
    "\tfor countdown := 10; countdown > 0; countdown-- {\n",
    "\t\tfmt.Println(countdown)\n",
    "\t\tselect {\n",
    "\t\tcase <-tick:\n",
    "\t\t\t// Do nothing.\n",
    "\t\tcase <-abort:\n",
    "\t\t\tfmt.Println(\"Launch aborted!\")\n",
    "\t\t\treturn\n",
    "\t\t}\n",
    "\t}\n",
    "\tlaunch()\n",
    "}\n",
    "\n",
    "//!-\n",
    "\n",
    "func launch() {\n",
    "\tfmt.Println(\"Lift off!\")\n",
    "}"
   ]
  },
  {
   "cell_type": "markdown",
   "metadata": {
    "slideshow": {
     "slide_type": "slide"
    }
   },
   "source": [
    "## Example: Concurrent Directory Travsal\n",
    "* du1: disk usage without parallelism \n",
    "* du2: du1 with progress every 500ms\n",
    "* du3: walkDir concurrently "
   ]
  },
  {
   "cell_type": "code",
   "execution_count": 37,
   "metadata": {
    "code_folding": [
     0
    ],
    "slideshow": {
     "slide_type": "subslide"
    }
   },
   "outputs": [],
   "source": [
    "// The du1 command computes the disk usage of the files in a directory.\n",
    "// Copyright © 2016 Alan A. A. Donovan & Brian W. Kernighan.\n",
    "// License: https://creativecommons.org/licenses/by-nc-sa/4.0/\n",
    "\n",
    "// See page 247.\n",
    "\n",
    "//!+main\n",
    "\n",
    "//package main\n",
    "\n",
    "import (\n",
    "\t\"flag\"\n",
    "\t\"fmt\"\n",
    "\t\"io/ioutil\"\n",
    "\t\"os\"\n",
    "\t\"path/filepath\"\n",
    ")\n",
    "\n",
    "func main() {\n",
    "\t// Determine the initial directories.\n",
    "\tflag.Parse()\n",
    "\troots := flag.Args()\n",
    "\tif len(roots) == 0 {\n",
    "\t\troots = []string{\".\"}\n",
    "\t}\n",
    "\n",
    "\t// Traverse the file tree.\n",
    "\tfileSizes := make(chan int64)\n",
    "\tgo func() {\n",
    "\t\tfor _, root := range roots {\n",
    "\t\t\twalkDir(root, fileSizes)\n",
    "\t\t}\n",
    "\t\tclose(fileSizes)\n",
    "\t}()\n",
    "\n",
    "\t// Print the results.\n",
    "\tvar nfiles, nbytes int64\n",
    "\tfor size := range fileSizes {\n",
    "\t\tnfiles++\n",
    "\t\tnbytes += size\n",
    "\t}\n",
    "\tprintDiskUsage(nfiles, nbytes)\n",
    "}\n",
    "\n",
    "func printDiskUsage(nfiles, nbytes int64) {\n",
    "\tfmt.Printf(\"%d files  %.1f GB\\n\", nfiles, float64(nbytes)/1e9)\n",
    "}\n",
    "\n",
    "//!-main\n",
    "\n",
    "//!+walkDir\n",
    "\n",
    "// walkDir recursively walks the file tree rooted at dir\n",
    "// and sends the size of each found file on fileSizes.\n",
    "func walkDir(dir string, fileSizes chan<- int64) {\n",
    "\tfor _, entry := range dirents(dir) {\n",
    "\t\tif entry.IsDir() {\n",
    "\t\t\tsubdir := filepath.Join(dir, entry.Name())\n",
    "\t\t\twalkDir(subdir, fileSizes)\n",
    "\t\t} else {\n",
    "\t\t\tfileSizes <- entry.Size()\n",
    "\t\t}\n",
    "\t}\n",
    "}\n",
    "\n",
    "// dirents returns the entries of directory dir.\n",
    "func dirents(dir string) []os.FileInfo {\n",
    "\tentries, err := ioutil.ReadDir(dir)\n",
    "\tif err != nil {\n",
    "\t\tfmt.Fprintf(os.Stderr, \"du1: %v\\n\", err)\n",
    "\t\treturn nil\n",
    "\t}\n",
    "\treturn entries\n",
    "}\n",
    "\n",
    "//!-walkDir\n",
    "\n",
    "// The du1 variant uses two goroutines and\n",
    "// prints the total after every file is found."
   ]
  },
  {
   "cell_type": "code",
   "execution_count": 38,
   "metadata": {
    "slideshow": {
     "slide_type": "fragment"
    }
   },
   "outputs": [
    {
     "name": "stderr",
     "output_type": "stream",
     "text": [
      "du1: open /etc/polkit-1/localauthority: permission denied\n",
      "du1: open /etc/ssl/private: permission denied\n"
     ]
    },
    {
     "name": "stdout",
     "output_type": "stream",
     "text": [
      "1798 files  0.0 GB\n"
     ]
    }
   ],
   "source": [
    "os.Args = []string{\"du1\",\"/etc\"}\n",
    "main()"
   ]
  },
  {
   "cell_type": "code",
   "execution_count": 39,
   "metadata": {
    "code_folding": [
     0
    ],
    "slideshow": {
     "slide_type": "subslide"
    }
   },
   "outputs": [
    {
     "name": "stderr",
     "output_type": "stream",
     "text": [
      "gophernotes flag redefined: v\n"
     ]
    },
    {
     "ename": "ERROR",
     "evalue": "gophernotes flag redefined: v",
     "output_type": "error",
     "traceback": [
      "gophernotes flag redefined: v"
     ]
    }
   ],
   "source": [
    "// The du2 command computes the disk usage of the files in a directory.\n",
    "// Copyright © 2016 Alan A. A. Donovan & Brian W. Kernighan.\n",
    "// License: https://creativecommons.org/licenses/by-nc-sa/4.0/\n",
    "\n",
    "// See page 249.\n",
    "\n",
    "//package main\n",
    "\n",
    "// The du2 variant uses select and a time.Ticker\n",
    "// to print the totals periodically if -v is set.\n",
    "\n",
    "import (\n",
    "\t\"flag\"\n",
    "\t\"fmt\"\n",
    "\t\"io/ioutil\"\n",
    "\t\"os\"\n",
    "\t\"path/filepath\"\n",
    "\t\"time\"\n",
    ")\n",
    "\n",
    "//!+\n",
    "var verbose = flag.Bool(\"v\", false, \"show verbose progress messages\")\n",
    "\n",
    "func main() {\n",
    "\t// ...start background goroutine...\n",
    "\n",
    "\t//!-\n",
    "\t// Determine the initial directories.\n",
    "\tflag.Parse()\n",
    "\troots := flag.Args()\n",
    "\tif len(roots) == 0 {\n",
    "\t\troots = []string{\".\"}\n",
    "\t}\n",
    "\n",
    "\t// Traverse the file tree.\n",
    "\tfileSizes := make(chan int64)\n",
    "\tgo func() {\n",
    "\t\tfor _, root := range roots {\n",
    "\t\t\twalkDir(root, fileSizes)\n",
    "\t\t}\n",
    "\t\tclose(fileSizes)\n",
    "\t}()\n",
    "\n",
    "\t//!+\n",
    "\t// Print the results periodically.\n",
    "\tvar tick <-chan time.Time\n",
    "\tif *verbose {\n",
    "\t\ttick = time.Tick(500 * time.Millisecond)\n",
    "\t}\n",
    "\tvar nfiles, nbytes int64\n",
    "loop:\n",
    "\tfor {\n",
    "\t\tselect {\n",
    "\t\tcase size, ok := <-fileSizes:\n",
    "\t\t\tif !ok {\n",
    "\t\t\t\tbreak loop // fileSizes was closed\n",
    "\t\t\t}\n",
    "\t\t\tnfiles++\n",
    "\t\t\tnbytes += size\n",
    "\t\tcase <-tick:\n",
    "\t\t\tprintDiskUsage(nfiles, nbytes)\n",
    "\t\t}\n",
    "\t}\n",
    "\tprintDiskUsage(nfiles, nbytes) // final totals\n",
    "}\n",
    "\n",
    "//!-\n",
    "\n",
    "func printDiskUsage(nfiles, nbytes int64) {\n",
    "\tfmt.Printf(\"%d files  %.1f GB\\n\", nfiles, float64(nbytes)/1e9)\n",
    "}\n",
    "\n",
    "// walkDir recursively walks the file tree rooted at dir\n",
    "// and sends the size of each found file on fileSizes.\n",
    "func walkDir(dir string, fileSizes chan<- int64) {\n",
    "\tfor _, entry := range dirents(dir) {\n",
    "\t\tif entry.IsDir() {\n",
    "\t\t\tsubdir := filepath.Join(dir, entry.Name())\n",
    "\t\t\twalkDir(subdir, fileSizes)\n",
    "\t\t} else {\n",
    "\t\t\tfileSizes <- entry.Size()\n",
    "\t\t}\n",
    "\t}\n",
    "}\n",
    "\n",
    "// dirents returns the entries of directory dir.\n",
    "func dirents(dir string) []os.FileInfo {\n",
    "\tentries, err := ioutil.ReadDir(dir)\n",
    "\tif err != nil {\n",
    "\t\tfmt.Fprintf(os.Stderr, \"du: %v\\n\", err)\n",
    "\t\treturn nil\n",
    "\t}\n",
    "\treturn entries\n",
    "}"
   ]
  },
  {
   "cell_type": "code",
   "execution_count": 14,
   "metadata": {
    "code_folding": [],
    "collapsed": true,
    "slideshow": {
     "slide_type": "subslide"
    }
   },
   "outputs": [
    {
     "name": "stderr",
     "output_type": "stream",
     "text": [
      "gophernotes flag redefined: v\n"
     ]
    },
    {
     "ename": "ERROR",
     "evalue": "gophernotes flag redefined: v",
     "output_type": "error",
     "traceback": [
      "gophernotes flag redefined: v"
     ]
    }
   ],
   "source": [
    "// The du3 command computes the disk usage of the files in a directory\n",
    "// Copyright © 2016 Alan A. A. Donovan & Brian W. Kernighan.\n",
    "// License: https://creativecommons.org/licenses/by-nc-sa/4.0/\n",
    "\n",
    "// See page 250.\n",
    "\n",
    "//package main\n",
    "\n",
    "// The du3 variant traverses all directories in parallel.\n",
    "// It uses a concurrency-limiting counting semaphore\n",
    "// to avoid opening too many files at once.\n",
    "\n",
    "import (\n",
    "\t\"flag\"\n",
    "\t\"fmt\"\n",
    "\t\"io/ioutil\"\n",
    "\t\"os\"\n",
    "\t\"path/filepath\"\n",
    "\t\"sync\"\n",
    "\t\"time\"\n",
    ")\n",
    "\n",
    "var vFlag = flag.Bool(\"v\", false, \"show verbose progress messages\")\n",
    "\n",
    "//!+\n",
    "func main() {\n",
    "\t// ...determine roots...\n",
    "\n",
    "\t//!-\n",
    "\tflag.Parse()\n",
    "\n",
    "\t// Determine the initial directories.\n",
    "\troots := flag.Args()\n",
    "\tif len(roots) == 0 {\n",
    "\t\troots = []string{\".\"}\n",
    "\t}\n",
    "\n",
    "\t//!+\n",
    "\t// Traverse each root of the file tree in parallel.\n",
    "\tfileSizes := make(chan int64)\n",
    "\tvar n sync.WaitGroup\n",
    "\tfor _, root := range roots {\n",
    "\t\tn.Add(1)\n",
    "\t\tgo walkDir(root, &n, fileSizes)\n",
    "\t}\n",
    "\tgo func() {\n",
    "\t\tn.Wait()\n",
    "\t\tclose(fileSizes)\n",
    "\t}()\n",
    "\t//!-\n",
    "\n",
    "\t// Print the results periodically.\n",
    "\tvar tick <-chan time.Time\n",
    "\tif *vFlag {\n",
    "\t\ttick = time.Tick(500 * time.Millisecond)\n",
    "\t}\n",
    "\tvar nfiles, nbytes int64\n",
    "loop:\n",
    "\tfor {\n",
    "\t\tselect {\n",
    "\t\tcase size, ok := <-fileSizes:\n",
    "\t\t\tif !ok {\n",
    "\t\t\t\tbreak loop // fileSizes was closed\n",
    "\t\t\t}\n",
    "\t\t\tnfiles++\n",
    "\t\t\tnbytes += size\n",
    "\t\tcase <-tick:\n",
    "\t\t\tprintDiskUsage(nfiles, nbytes)\n",
    "\t\t}\n",
    "\t}\n",
    "\n",
    "\tprintDiskUsage(nfiles, nbytes) // final totals\n",
    "\t//!+\n",
    "\t// ...select loop...\n",
    "}\n",
    "\n",
    "//!-\n",
    "\n",
    "func printDiskUsage(nfiles, nbytes int64) {\n",
    "\tfmt.Printf(\"%d files  %.1f GB\\n\", nfiles, float64(nbytes)/1e9)\n",
    "}\n",
    "\n",
    "// walkDir recursively walks the file tree rooted at dir\n",
    "// and sends the size of each found file on fileSizes.\n",
    "//!+walkDir\n",
    "func walkDir(dir string, n *sync.WaitGroup, fileSizes chan<- int64) {\n",
    "\tdefer n.Done()\n",
    "\tfor _, entry := range dirents(dir) {\n",
    "\t\tif entry.IsDir() {\n",
    "\t\t\tn.Add(1)\n",
    "\t\t\tsubdir := filepath.Join(dir, entry.Name())\n",
    "\t\t\tgo walkDir(subdir, n, fileSizes)\n",
    "\t\t} else {\n",
    "\t\t\tfileSizes <- entry.Size()\n",
    "\t\t}\n",
    "\t}\n",
    "}\n",
    "\n",
    "//!-walkDir\n",
    "\n",
    "//!+sema\n",
    "// sema is a counting semaphore for limiting concurrency in dirents.\n",
    "var sema = make(chan struct{}, 20)\n",
    "\n",
    "// dirents returns the entries of directory dir.\n",
    "func dirents(dir string) []os.FileInfo {\n",
    "\tsema <- struct{}{}        // acquire token\n",
    "\tdefer func() { <-sema }() // release token\n",
    "\t// ...\n",
    "\t//!-sema\n",
    "\n",
    "\tentries, err := ioutil.ReadDir(dir)\n",
    "\tif err != nil {\n",
    "\t\tfmt.Fprintf(os.Stderr, \"du: %v\\n\", err)\n",
    "\t\treturn nil\n",
    "\t}\n",
    "\treturn entries\n",
    "}"
   ]
  },
  {
   "cell_type": "markdown",
   "metadata": {
    "slideshow": {
     "slide_type": "slide"
    }
   },
   "source": [
    "## Cancellation"
   ]
  },
  {
   "cell_type": "code",
   "execution_count": 15,
   "metadata": {
    "code_folding": [
     0
    ],
    "slideshow": {
     "slide_type": "subslide"
    }
   },
   "outputs": [],
   "source": [
    "// The du4 command computes the disk usage of the files in a directory.\n",
    "// Copyright © 2016 Alan A. A. Donovan & Brian W. Kernighan.\n",
    "// License: https://creativecommons.org/licenses/by-nc-sa/4.0/\n",
    "\n",
    "// See page 251.\n",
    "\n",
    "//package main\n",
    "\n",
    "// The du4 variant includes cancellation:\n",
    "// it terminates quickly when the user hits return.\n",
    "\n",
    "import (\n",
    "\t\"fmt\"\n",
    "\t\"os\"\n",
    "\t\"path/filepath\"\n",
    "\t\"sync\"\n",
    "\t\"time\"\n",
    ")\n",
    "\n",
    "//!+1\n",
    "var done = make(chan struct{})\n",
    "\n",
    "func cancelled() bool {\n",
    "\tselect {\n",
    "\tcase <-done:\n",
    "\t\treturn true\n",
    "\tdefault:\n",
    "\t\treturn false\n",
    "\t}\n",
    "}"
   ]
  },
  {
   "cell_type": "code",
   "execution_count": 16,
   "metadata": {
    "code_folding": [
     0
    ],
    "slideshow": {
     "slide_type": "subslide"
    }
   },
   "outputs": [],
   "source": [
    "// du4, main\n",
    "func main() {\n",
    "\t// Determine the initial directories.\n",
    "\troots := os.Args[1:]\n",
    "\tif len(roots) == 0 {\n",
    "\t\troots = []string{\".\"}\n",
    "\t}\n",
    "\n",
    "\t//!+2\n",
    "\t// Cancel traversal when input is detected.\n",
    "\tgo func() {\n",
    "\t\tos.Stdin.Read(make([]byte, 1)) // read a single byte\n",
    "\t\tclose(done)\n",
    "\t}()\n",
    "\t//!-2\n",
    "\n",
    "\t// Traverse each root of the file tree in parallel.\n",
    "\tfileSizes := make(chan int64)\n",
    "\tvar n sync.WaitGroup\n",
    "\tfor _, root := range roots {\n",
    "\t\tn.Add(1)\n",
    "\t\tgo walkDir(root, &n, fileSizes)\n",
    "\t}\n",
    "\tgo func() {\n",
    "\t\tn.Wait()\n",
    "\t\tclose(fileSizes)\n",
    "\t}()\n",
    "\n",
    "\t// Print the results periodically.\n",
    "\ttick := time.Tick(500 * time.Millisecond)\n",
    "\tvar nfiles, nbytes int64\n",
    "loop:\n",
    "\t//!+3\n",
    "\tfor {\n",
    "\t\tselect {\n",
    "\t\tcase <-done:\n",
    "\t\t\t// Drain fileSizes to allow existing goroutines to finish.\n",
    "\t\t\tfor range fileSizes {\n",
    "\t\t\t\t// Do nothing.\n",
    "\t\t\t}\n",
    "\t\t\treturn\n",
    "\t\tcase size, ok := <-fileSizes:\n",
    "\t\t\t// ...\n",
    "\t\t\t//!-3\n",
    "\t\t\tif !ok {\n",
    "\t\t\t\tbreak loop // fileSizes was closed\n",
    "\t\t\t}\n",
    "\t\t\tnfiles++\n",
    "\t\t\tnbytes += size\n",
    "\t\tcase <-tick:\n",
    "\t\t\tprintDiskUsage(nfiles, nbytes)\n",
    "\t\t}\n",
    "\t}\n",
    "\tprintDiskUsage(nfiles, nbytes) // final totals\n",
    "}\n",
    "\n"
   ]
  },
  {
   "cell_type": "code",
   "execution_count": 17,
   "metadata": {
    "code_folding": [],
    "slideshow": {
     "slide_type": "subslide"
    }
   },
   "outputs": [],
   "source": [
    "//printDiskUsage, walkDir, dirents\n",
    "func printDiskUsage(nfiles, nbytes int64) {\n",
    "\tfmt.Printf(\"%d files  %.1f GB\\n\", nfiles, float64(nbytes)/1e9)\n",
    "}\n",
    "\n",
    "// walkDir recursively walks the file tree rooted at dir\n",
    "// and sends the size of each found file on fileSizes.\n",
    "//!+4\n",
    "func walkDir(dir string, n *sync.WaitGroup, fileSizes chan<- int64) {\n",
    "\tdefer n.Done()\n",
    "\tif cancelled() {\n",
    "\t\treturn\n",
    "\t}\n",
    "\tfor _, entry := range dirents(dir) {\n",
    "\t\t// ...\n",
    "\t\t//!-4\n",
    "\t\tif entry.IsDir() {\n",
    "\t\t\tn.Add(1)\n",
    "\t\t\tsubdir := filepath.Join(dir, entry.Name())\n",
    "\t\t\tgo walkDir(subdir, n, fileSizes)\n",
    "\t\t} else {\n",
    "\t\t\tfileSizes <- entry.Size()\n",
    "\t\t}\n",
    "\t\t//!+4\n",
    "\t}\n",
    "}\n",
    "\n",
    "//!-4\n",
    "\n",
    "var sema = make(chan struct{}, 20) // concurrency-limiting counting semaphore\n",
    "\n",
    "// dirents returns the entries of directory dir.\n",
    "//!+5\n",
    "func dirents(dir string) []os.FileInfo {\n",
    "\tselect {\n",
    "\tcase sema <- struct{}{}: // acquire token\n",
    "\tcase <-done:\n",
    "\t\treturn nil // cancelled\n",
    "\t}\n",
    "\tdefer func() { <-sema }() // release token\n",
    "\n",
    "\t// ...read directory...\n",
    "\t//!-5\n",
    "\n",
    "\tf, err := os.Open(dir)\n",
    "\tif err != nil {\n",
    "\t\tfmt.Fprintf(os.Stderr, \"du: %v\\n\", err)\n",
    "\t\treturn nil\n",
    "\t}\n",
    "\tdefer f.Close()\n",
    "\n",
    "\tentries, err := f.Readdir(0) // 0 => no limit; read all entries\n",
    "\tif err != nil {\n",
    "\t\tfmt.Fprintf(os.Stderr, \"du: %v\\n\", err)\n",
    "\t\t// Don't return: Readdir may return partial results.\n",
    "\t}\n",
    "\treturn entries\n",
    "}"
   ]
  },
  {
   "cell_type": "markdown",
   "metadata": {
    "slideshow": {
     "slide_type": "slide"
    }
   },
   "source": [
    "## Example: Chat Server"
   ]
  },
  {
   "cell_type": "code",
   "execution_count": 21,
   "metadata": {
    "code_folding": [
     0
    ],
    "slideshow": {
     "slide_type": "subslide"
    }
   },
   "outputs": [],
   "source": [
    "// broadcaster\n",
    "// Chat is a server that lets clients chat with each other.\n",
    "// Copyright © 2016 Alan A. A. Donovan & Brian W. Kernighan.\n",
    "// License: https://creativecommons.org/licenses/by-nc-sa/4.0/\n",
    "\n",
    "// See page 254.\n",
    "//!+\n",
    "\n",
    "//package main\n",
    "\n",
    "import (\n",
    "\t\"bufio\"\n",
    "\t\"fmt\"\n",
    "\t\"log\"\n",
    "\t\"net\"\n",
    ")\n",
    "\n",
    "//!+broadcaster\n",
    "type client chan<- string // an outgoing message channel\n",
    "\n",
    "var (\n",
    "\tentering = make(chan client)\n",
    "\tleaving  = make(chan client)\n",
    "\tmessages = make(chan string) // all incoming client messages\n",
    ")\n",
    "\n",
    "func broadcaster() {\n",
    "\tclients := make(map[client]bool) // all connected clients\n",
    "\tfor {\n",
    "\t\tselect {\n",
    "\t\tcase msg := <-messages:\n",
    "\t\t\t// Broadcast incoming message to all\n",
    "\t\t\t// clients' outgoing message channels.\n",
    "\t\t\tfor cli := range clients {\n",
    "\t\t\t\tcli <- msg\n",
    "\t\t\t}\n",
    "\n",
    "\t\tcase cli := <-entering:\n",
    "\t\t\tclients[cli] = true\n",
    "\n",
    "\t\tcase cli := <-leaving:\n",
    "\t\t\tdelete(clients, cli)\n",
    "\t\t\tclose(cli)\n",
    "\t\t}\n",
    "\t}\n",
    "}\n",
    "\n"
   ]
  },
  {
   "cell_type": "code",
   "execution_count": 1,
   "metadata": {
    "code_folding": [],
    "slideshow": {
     "slide_type": "subslide"
    }
   },
   "outputs": [
    {
     "ename": "ERROR",
     "evalue": "repl.go:2:22: undefined \"net\" in net.Conn <*ast.SelectorExpr>",
     "output_type": "error",
     "traceback": [
      "repl.go:2:22: undefined \"net\" in net.Conn <*ast.SelectorExpr>"
     ]
    }
   ],
   "source": [
    "//!+handleConn\n",
    "func handleConn(conn net.Conn) {\n",
    "\tch := make(chan string) // outgoing client messages\n",
    "\tgo clientWriter(conn, ch)\n",
    "\n",
    "\twho := conn.RemoteAddr().String()\n",
    "\tch <- \"You are \" + who\n",
    "\tmessages <- who + \" has arrived\"\n",
    "\tentering <- ch\n",
    "\n",
    "\tinput := bufio.NewScanner(conn)\n",
    "\tfor input.Scan() {\n",
    "\t\tmessages <- who + \": \" + input.Text()\n",
    "\t}\n",
    "\t// NOTE: ignoring potential errors from input.Err()\n",
    "\n",
    "\tleaving <- ch\n",
    "\tmessages <- who + \" has left\"\n",
    "\tconn.Close()\n",
    "}\n",
    "\n"
   ]
  },
  {
   "cell_type": "code",
   "execution_count": 1,
   "metadata": {
    "code_folding": [],
    "slideshow": {
     "slide_type": "subslide"
    }
   },
   "outputs": [
    {
     "ename": "ERROR",
     "evalue": "repl.go:2:24: undefined \"net\" in net.Conn <*ast.SelectorExpr>",
     "output_type": "error",
     "traceback": [
      "repl.go:2:24: undefined \"net\" in net.Conn <*ast.SelectorExpr>"
     ]
    }
   ],
   "source": [
    "//clientWriter and main\n",
    "func clientWriter(conn net.Conn, ch <-chan string) {\n",
    "\tfor msg := range ch {\n",
    "\t\tfmt.Fprintln(conn, msg) // NOTE: ignoring network errors\n",
    "\t}\n",
    "}\n",
    "\n",
    "//!-handleConn\n",
    "\n",
    "//!+main\n",
    "func main() {\n",
    "\tlistener, err := net.Listen(\"tcp\", \"localhost:8000\")\n",
    "\tif err != nil {\n",
    "\t\tlog.Fatal(err)\n",
    "\t}\n",
    "\n",
    "\tgo broadcaster()\n",
    "\tfor {\n",
    "\t\tconn, err := listener.Accept()\n",
    "\t\tif err != nil {\n",
    "\t\t\tlog.Print(err)\n",
    "\t\t\tcontinue\n",
    "\t\t}\n",
    "\t\tgo handleConn(conn)\n",
    "\t}\n",
    "}\n",
    "\n",
    "//!-main"
   ]
  }
 ],
 "metadata": {
  "celltoolbar": "Slideshow",
  "kernelspec": {
   "display_name": "Go",
   "language": "go",
   "name": "gophernotes"
  },
  "language_info": {
   "codemirror_mode": "",
   "file_extension": ".go",
   "mimetype": "",
   "name": "go",
   "nbconvert_exporter": "",
   "pygments_lexer": "",
   "version": "go1.17.1"
  },
  "latex_envs": {
   "LaTeX_envs_menu_present": true,
   "autoclose": false,
   "autocomplete": true,
   "bibliofile": "biblio.bib",
   "cite_by": "apalike",
   "current_citInitial": 1,
   "eqLabelWithNumbers": true,
   "eqNumInitial": 1,
   "hotkeys": {
    "equation": "Ctrl-E",
    "itemize": "Ctrl-I"
   },
   "labels_anchors": false,
   "latex_user_defs": false,
   "report_style_numbering": false,
   "user_envs_cfg": false
  },
  "toc": {
   "base_numbering": "8",
   "nav_menu": {},
   "number_sections": true,
   "sideBar": true,
   "skip_h1_title": false,
   "title_cell": "Table of Contents",
   "title_sidebar": "Contents",
   "toc_cell": true,
   "toc_position": {},
   "toc_section_display": true,
   "toc_window_display": false
  }
 },
 "nbformat": 4,
 "nbformat_minor": 2
}
