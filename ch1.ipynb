{
 "cells": [
  {
   "cell_type": "markdown",
   "metadata": {
    "slideshow": {
     "slide_type": "slide"
    }
   },
   "source": [
    "<big><b>Chapter 1 Tutorial</b></big>"
   ]
  },
  {
   "cell_type": "markdown",
   "metadata": {
    "slideshow": {
     "slide_type": "slide"
    }
   },
   "source": [
    "# Hello, World"
   ]
  },
  {
   "cell_type": "code",
   "execution_count": null,
   "metadata": {
    "code_folding": [],
    "scrolled": false,
    "slideshow": {
     "slide_type": "fragment"
    }
   },
   "outputs": [],
   "source": [
    "//gopl.io/ch1/helloworld\n",
    "//package main\n",
    "import \"fmt\"\n",
    "func main(){\n",
    "    fmt.Println(\"Helloo00000077700, World\")\n",
    "}"
   ]
  },
  {
   "cell_type": "code",
   "execution_count": null,
   "metadata": {
    "scrolled": false,
    "slideshow": {
     "slide_type": "fragment"
    }
   },
   "outputs": [],
   "source": [
    "main()"
   ]
  },
  {
   "cell_type": "markdown",
   "metadata": {
    "slideshow": {
     "slide_type": "slide"
    }
   },
   "source": [
    "# Command-Line Arguments"
   ]
  },
  {
   "cell_type": "code",
   "execution_count": null,
   "metadata": {
    "code_folding": [
     0
    ],
    "scrolled": false,
    "slideshow": {
     "slide_type": "subslide"
    }
   },
   "outputs": [],
   "source": [
    "//gopl.io/ch1/echo1\n",
    "import (\n",
    "        \"fmt\"\n",
    "        \"os\"\n",
    ")\n",
    "func main(){\n",
    "    var s, sep string\n",
    "    for i := 0; i < len(os.Args); i++ {\n",
    "        s += sep  + os.Args[i]\n",
    "        sep = \" \"\n",
    "     }\n",
    "    fmt.Println(s)\n",
    "}"
   ]
  },
  {
   "cell_type": "code",
   "execution_count": null,
   "metadata": {
    "code_folding": [],
    "scrolled": false,
    "slideshow": {
     "slide_type": "fragment"
    }
   },
   "outputs": [],
   "source": [
    "os.Args = []string{\"echo2\",\"type\",\"-l\"}\n",
    "main()\n",
    "fmt.Printf(\"%x\",len(os.Args))"
   ]
  },
  {
   "cell_type": "markdown",
   "metadata": {
    "slideshow": {
     "slide_type": "subslide"
    }
   },
   "source": [
    "    for initializaion; condition; post {\n",
    "       // zero or more statements\n",
    "    }\n",
    "    // a traditional \"while\" loop\n",
    "    for condition {\n",
    "    }\n",
    "    // a traditional infinite loop\n",
    "    for {\n",
    "    }\n",
    "* os.Args is a slice of strings\n",
    "* a slice as a s\n",
    " - s[i]  the ith element\n",
    " - s[m:n] subsequence of s, 0 &le; m &le; n &le; len(s), containing n-m elements\n",
    " - len(s) is the number of elements \n",
    " \n",
    " \n",
    "* os.Args[0] the first element, the name of the command\n",
    "  - the other elements are the arguments passed to the program"
   ]
  },
  {
   "cell_type": "code",
   "execution_count": null,
   "metadata": {
    "code_folding": [
     3,
     5
    ],
    "scrolled": false,
    "slideshow": {
     "slide_type": "subslide"
    }
   },
   "outputs": [],
   "source": [
    "//gopl.io/ch1/echo2\n",
    "import (\"fmt\";\"os\")\n",
    "func main(){\n",
    "    s, sep := \"\", \"\"\n",
    "    for _, arg := range os.Args[0:] {\n",
    "        s += sep + arg\n",
    "        sep = \" \"\n",
    "    }\n",
    "    fmt.Println(s)\n",
    "}"
   ]
  },
  {
   "cell_type": "code",
   "execution_count": null,
   "metadata": {
    "code_folding": [],
    "scrolled": false,
    "slideshow": {
     "slide_type": "fragment"
    }
   },
   "outputs": [],
   "source": [
    "os.Args = []string{\"echo2\",\"ls\",\"-l\"}\n",
    "main()"
   ]
  },
  {
   "cell_type": "code",
   "execution_count": null,
   "metadata": {
    "scrolled": false,
    "slideshow": {
     "slide_type": "subslide"
    }
   },
   "outputs": [],
   "source": [
    "//Print the index and value of each of its arguments, one per line.\n",
    "import (\"fmt\";\"os\")\n",
    "func main(){\n",
    "    for index, arg := range os.Args[0:] {\n",
    "        fmt.Println(index, arg)\n",
    "    }\n",
    "}\n",
    "os.Args = []string{\"echo2\",\"ls\",\"-l\"}\n",
    "main()"
   ]
  },
  {
   "cell_type": "code",
   "execution_count": null,
   "metadata": {
    "code_folding": [
     0,
     2,
     3
    ],
    "scrolled": false,
    "slideshow": {
     "slide_type": "subslide"
    }
   },
   "outputs": [],
   "source": [
    "//gopl.io/ch1/echo3\n",
    "import (\"fmt\"; \"os\" ; \"strings\")\n",
    "func main(){\n",
    "    fmt.Println(strings.Join(os.Args[1:],\" \"))\n",
    "}"
   ]
  },
  {
   "cell_type": "code",
   "execution_count": null,
   "metadata": {
    "code_folding": [
     0
    ],
    "scrolled": false,
    "slideshow": {
     "slide_type": "fragment"
    }
   },
   "outputs": [],
   "source": [
    "os.Args = []string{\"echo2\",\"ls\",\"-l\"}\n",
    "main()"
   ]
  },
  {
   "cell_type": "code",
   "execution_count": null,
   "metadata": {
    "code_folding": [],
    "scrolled": false,
    "slideshow": {
     "slide_type": "subslide"
    }
   },
   "outputs": [],
   "source": [
    "// print the slice of an array\n",
    "import (\"fmt\"; \"os\")\n",
    "func main(){\n",
    "    fmt.Println(os.Args[0:])\n",
    "}"
   ]
  },
  {
   "cell_type": "code",
   "execution_count": null,
   "metadata": {
    "code_folding": [
     0
    ],
    "scrolled": false,
    "slideshow": {
     "slide_type": "fragment"
    }
   },
   "outputs": [],
   "source": [
    "os.Args = []string{\"echo3\",\"ls\",\"-l\"}\n",
    "main()"
   ]
  },
  {
   "cell_type": "markdown",
   "metadata": {
    "slideshow": {
     "slide_type": "slide"
    }
   },
   "source": [
    "# Finding Duplicate Lines\n",
    "\n",
    "dup.txt\n",
    "<pre>\n",
    "design\n",
    "design\n",
    "base\n",
    "key\n",
    "design\n",
    "zero\n",
    "first\n",
    "time\n",
    "key\n",
    "first\n",
    "second\n",
    "base\n",
    "design\n",
    "first\n",
    "</pre>"
   ]
  },
  {
   "cell_type": "code",
   "execution_count": null,
   "metadata": {
    "code_folding": [
     4,
     8,
     12,
     15
    ],
    "scrolled": false,
    "slideshow": {
     "slide_type": "subslide"
    }
   },
   "outputs": [],
   "source": [
    "//gopl.io/ch1/dup1        \n",
    "import (\"bufio\";\"fmt\";\"os\";\"log\")\n",
    "func main(){\n",
    "    file, err := os.Open(\"dup.txt\")\n",
    "    if err != nil {\n",
    "        //log.Fatal(err)\n",
    "        fmt.Fprintf(os.Stderr, \"%v\\n\", err)\n",
    "    }\n",
    "    counts := make(map[string]int)\n",
    "//input := bufio.NewScanner(os.Stdin)\n",
    "    input := bufio.NewScanner(file)\n",
    "    for input.Scan() {\n",
    "        counts[input.Text()]++\n",
    "    }\n",
    "        // NOTE: ignoring potential errors from input.Err()\n",
    "    for line, n := range counts {\n",
    "        if n > 1 {\n",
    "             fmt.Printf(\"%d\\t%s\\n\", n, line)\n",
    "         }\n",
    "    }\n",
    "}"
   ]
  },
  {
   "cell_type": "code",
   "execution_count": null,
   "metadata": {
    "scrolled": false,
    "slideshow": {
     "slide_type": "fragment"
    }
   },
   "outputs": [],
   "source": [
    "main()"
   ]
  },
  {
   "cell_type": "markdown",
   "metadata": {
    "slideshow": {
     "slide_type": "subslide"
    }
   },
   "source": [
    "* Format specifier\n",
    "\n",
    "<pre>\n",
    " %x,%o,%b integer in hexadecimal, octal, binary\n",
    " %f,%g,%e floating-point number: 3.141593 3.141592653589793 3.141593e+00\n",
    " %t boolean: true or false\n",
    " %c rune (Unicode code point)\n",
    " %s string\n",
    " %q quoted string \"\" or rune 'c'\n",
    " %v any value in a natural format\n",
    " %T type of any value\n",
    " %% literal percent sign (no operand)\n",
    "</pre>"
   ]
  },
  {
   "cell_type": "code",
   "execution_count": null,
   "metadata": {
    "code_folding": [
     3,
     4,
     5,
     6,
     7,
     8,
     11,
     27
    ],
    "scrolled": false,
    "slideshow": {
     "slide_type": "subslide"
    }
   },
   "outputs": [],
   "source": [
    "//gopl.io/ch1/dup2\n",
    "import (\"bufio\";\"fmt\";\"os\";\"strings\")\n",
    "//func countLines(*os.File, map[string]int, map[string]string)\n",
    "func main() {\n",
    "        counts := make(map[string]int)\n",
    "        fcounts:= make(map[string]string)\n",
    "        os.Args[1] = \"dup.txt\"\n",
    "        files := os.Args[1:]\n",
    "        if len(files) == 0 {\n",
    "                countLines(os.Stdin, counts, fcounts)\n",
    "        } else {\n",
    "                for _, arg := range files {\n",
    "                        f, err := os.Open(arg)\n",
    "                        if err != nil {\n",
    "                                fmt.Fprintf(os.Stderr, \"dup2: %v\\n\", err)\n",
    "                                continue\n",
    "                        }\n",
    "                        countLines(f, counts, fcounts)\n",
    "                        f.Close()\n",
    "                }\n",
    "        }\n",
    "        for line, n := range counts {\n",
    "                            if n > 1 {\n",
    "                                fmt.Printf(\"%s: %d\\t%s\\n\", fcounts[line], n, line)\n",
    "                }\n",
    "        }\n",
    "}\n",
    "func countLines(f *os.File, counts map[string]int, fcounts map[string]string) {\n",
    "        input := bufio.NewScanner(f)\n",
    "        for input.Scan() {\n",
    "                counts[input.Text()]++\n",
    "                fcounts[input.Text()] = f.Name()\n",
    "        }\n",
    "        // NOTE: ignoring potential errors from input.Err()\n",
    "}\n",
    "            "
   ]
  },
  {
   "cell_type": "code",
   "execution_count": null,
   "metadata": {
    "code_folding": [
     0
    ],
    "scrolled": false,
    "slideshow": {
     "slide_type": "fragment"
    }
   },
   "outputs": [],
   "source": [
    "os.Args = []string{\"dup2\",\"dup.txt\", \"dup2.txt\"}\n",
    "main()"
   ]
  },
  {
   "cell_type": "code",
   "execution_count": null,
   "metadata": {
    "code_folding": [
     3,
     6,
     14
    ],
    "scrolled": false,
    "slideshow": {
     "slide_type": "subslide"
    }
   },
   "outputs": [],
   "source": [
    "//gopl.io/ch1/dup3\n",
    "import (\"fmt\";\"io/ioutil\";\"os\";\"strings\")\n",
    "func main() {\n",
    "        counts := make(map[string]int)\n",
    "        for _, filename := range os.Args[1:] {\n",
    "                data, err := ioutil.ReadFile(filename)\n",
    "                if err != nil {\n",
    "                        fmt.Fprintf(os.Stderr, \"dup3: %v\\n\", err)\n",
    "                        continue\n",
    "                }\n",
    "                for _, line := range strings.Split(string(data), \"\\n\") {\n",
    "                        counts[line]++\n",
    "                }\n",
    "        }\n",
    "        for line, n := range counts {\n",
    "                if n > 1 {\n",
    "                        fmt.Printf(\"%d\\t%s\\n\", n, line)\n",
    "                }\n",
    "        }\n",
    "}"
   ]
  },
  {
   "cell_type": "code",
   "execution_count": null,
   "metadata": {
    "scrolled": false,
    "slideshow": {
     "slide_type": "fragment"
    }
   },
   "outputs": [],
   "source": [
    "os.Args = []string{\"dup3\",\"dup.txt\"}\n",
    "main()"
   ]
  },
  {
   "cell_type": "markdown",
   "metadata": {
    "slideshow": {
     "slide_type": "slide"
    }
   },
   "source": [
    "# Animated GIFs"
   ]
  },
  {
   "cell_type": "code",
   "execution_count": 2,
   "metadata": {
    "code_folding": [
     40,
     59,
     64
    ],
    "scrolled": false,
    "slideshow": {
     "slide_type": "subslide"
    }
   },
   "outputs": [],
   "source": [
    "//gopl.io/ch1/lissajous\n",
    "import (\n",
    "        \"image\"\n",
    "        \"image/color\"\n",
    "        \"image/gif\"\n",
    "        \"io\"\n",
    "        \"math\"\n",
    "        \"math/rand\"\n",
    "        \"strconv\"\n",
    "        \"os\"\n",
    "        \"strings\"\n",
    "        \"fmt\"\n",
    ")\n",
    "//func lissajous(out io.Writer) \n",
    "//!-main\n",
    "// Packages not needed by version in book.\n",
    "import (\n",
    "        \"log\"\n",
    "        \"net/http\"\n",
    "        \"time\"\n",
    ")\n",
    "\n",
    "//!+main\n",
    "\n",
    "//var palette = []color.Color{color.White, color.RGBA{0x00,0xff,0x00,0xff}}\n",
    "var palette = []color.Color{color.White,color.RGBA{0x00,0xff,0x00,0xff}, color.RGBA{0xff,0x00,0x00,0xff},color.RGBA{0x00,0x00,0xff,0xff}}\n",
    "\n",
    "const (\n",
    "        whiteIndex = 0 // first color in palette\n",
    "        blackIndex = 1 // next color in palette\n",
    "        //blackIndex = 2\n",
    ")\n",
    "//func lissajous(out io.Writer)\n",
    "\n",
    "func main() {\n",
    "        //!-main\n",
    "        // The sequence of images is deterministic unless we seed\n",
    "        // the pseudo-random number generator using the current time.\n",
    "        // Thanks to Randall McPherson for pointing out the omission.\n",
    "        rand.Seed(time.Now().UTC().UnixNano())\n",
    "        if len(os.Args) > 1 && os.Args[1] == \"web\" {\n",
    "                //!+http\n",
    "                handler := func(w http.ResponseWriter, r *http.Request) {\n",
    "                    r.ParseForm()\n",
    "                    qcycles,err := strconv.Atoi(strings.Join(r.Form[\"cycles\"],\"\"))\n",
    "                    //fmt.Fprintf(os.Stdout,\"Form: %v\\n\", r.Form)\n",
    "                    //fmt.Fprintf(os.Stdout,\"Form[cycles]: %s\\n\",r.Form[\"cycles\"])\n",
    "                    //fmt.Fprintf(os.Stdout,\"%d\\n\",qcycles)\n",
    "                    if err != nil { qcycles = 5.0 }\n",
    "                    lissajous(w, float64(qcycles))\n",
    "                }\n",
    "                http.HandleFunc(\"/\", handler)\n",
    "                //!-http\n",
    "                log.Fatal(http.ListenAndServe(\"localhost:8500\", nil))\n",
    "                return\n",
    "        }\n",
    "        //!+main\n",
    "        //lissajous(os.Stdout)\n",
    "        outfile, err := os.Create(\"out4.gif\")\n",
    "        if err != nil {\n",
    "            log.Fatal(err)\n",
    "        }\n",
    "        lissajous(outfile, 5.0)\n",
    "}\n",
    "func lissajous(out io.Writer, qcycles float64) {\n",
    "        const (\n",
    "                //cycles  = 5     // number of complete x oscillator revolutions\n",
    "                res     = 0.001 // angular resolution\n",
    "                size    = 100   // image canvas covers [-size..+size]\n",
    "                nframes = 64    // number of animation frames\n",
    "                delay   = 8     // delay between frames in 10ms units\n",
    "        )\n",
    "        cycles := qcycles\n",
    "        freq := rand.Float64() * 3.0 // relative frequency of y oscillator\n",
    "        anim := gif.GIF{LoopCount: nframes}\n",
    "        phase := 0.0 // phase difference\n",
    "        for i := 0; i < nframes; i++ {\n",
    "                rect := image.Rect(0, 0, 2*size+1, 2*size+1)\n",
    "                img := image.NewPaletted(rect, palette)\n",
    "                for t := 0.0; t < cycles*2*math.Pi; t += res {\n",
    "                        x := math.Sin(t)\n",
    "                        y := math.Sin(t*freq + phase)\n",
    "                        //img.SetColorIndex(size+int(x*size+0.5), size+int(y*size+0.5),\n",
    "                        //        blackIndex)\n",
    "                    img.SetColorIndex(size+int(x*size+0.5), size+int(y*size+0.5), uint8(t) % 4)\n",
    "                }\n",
    "                phase += 0.1\n",
    "                anim.Delay = append(anim.Delay, delay)\n",
    "                anim.Image = append(anim.Image, img)\n",
    "            }\n",
    "        gif.EncodeAll(out, &anim) // NOTE: ignoring encoding errors\n",
    "}"
   ]
  },
  {
   "cell_type": "code",
   "execution_count": 5,
   "metadata": {
    "scrolled": false,
    "slideshow": {
     "slide_type": "fragment"
    }
   },
   "outputs": [],
   "source": [
    "os.Args = []string{\"lissajous\"}\n",
    "main()"
   ]
  },
  {
   "cell_type": "markdown",
   "metadata": {
    "slideshow": {
     "slide_type": "fragment"
    }
   },
   "source": [
    "![SegmentLocal](https://github.com/skhuang/go2019/raw/master/out4.gif \"segment\")"
   ]
  },
  {
   "cell_type": "code",
   "execution_count": null,
   "metadata": {
    "code_folding": [],
    "scrolled": true,
    "slideshow": {
     "slide_type": "fragment"
    }
   },
   "outputs": [
    {
     "name": "stdout",
     "output_type": "stream",
     "text": [
      "Form: map[cycles:[20]]\n",
      "Form[cycles]: [20]\n",
      "20\n",
      "Form: map[]\n",
      "Form[cycles]: []\n",
      "0\n",
      "Form: map[cycles:[20]]\n",
      "Form[cycles]: [20]\n",
      "20\n"
     ]
    }
   ],
   "source": [
    "os.Args = []string{\"lissajous\",\"web\"}\n",
    "main()"
   ]
  },
  {
   "cell_type": "markdown",
   "metadata": {
    "slideshow": {
     "slide_type": "fragment"
    }
   },
   "source": [
    "* [http://localhost:8500](http://localhost:8500)\n",
    "* [http://localhost:8500/?cycles=20](http://localhost:8500/?cycles=20)"
   ]
  },
  {
   "cell_type": "markdown",
   "metadata": {
    "slideshow": {
     "slide_type": "slide"
    }
   },
   "source": [
    "# Fetching a URL"
   ]
  },
  {
   "cell_type": "code",
   "execution_count": null,
   "metadata": {
    "code_folding": [
     8,
     10
    ],
    "scrolled": false,
    "slideshow": {
     "slide_type": "subslide"
    }
   },
   "outputs": [],
   "source": [
    "//gopl.io/ch1/fetch\n",
    "import (\n",
    "        \"fmt\"\n",
    "        \"io/ioutil\"\n",
    "        \"net/http\"\n",
    "        \"os\"\n",
    ")\n",
    "func main() {\n",
    "        for _, url := range os.Args[1:] {\n",
    "                resp, err := http.Get(url)\n",
    "                if err != nil {\n",
    "                        fmt.Fprintf(os.Stderr, \"fetch: %v\\n\", err)\n",
    "                        os.Exit(1)\n",
    "                }\n",
    "                b, err := ioutil.ReadAll(resp.Body)\n",
    "                //nbytes, err := io.Copy(os.Stdout,resp.Body) //Exercise 1.7\n",
    "                fmt.Fprintf(os.Stdout,\"Status: %s\\n\", resp.Status)\n",
    "                resp.Body.Close()\n",
    "                if err != nil {\n",
    "                        fmt.Fprintf(os.Stderr, \"fetch: reading %s: %v\\n\", url, err)\n",
    "                        os.Exit(1)\n",
    "                }\n",
    "                fmt.Printf(\"%s\", b)\n",
    "                //fmt.Print(b)\n",
    "        }\n",
    "}\n"
   ]
  },
  {
   "cell_type": "code",
   "execution_count": null,
   "metadata": {
    "scrolled": true,
    "slideshow": {
     "slide_type": "fragment"
    }
   },
   "outputs": [],
   "source": [
    "os.Args = []string{\"fetch\",\"http://gopl.io/\"}\n",
    "main()"
   ]
  },
  {
   "cell_type": "markdown",
   "metadata": {
    "slideshow": {
     "slide_type": "slide"
    }
   },
   "source": [
    "# Fetching URLs Concurrently"
   ]
  },
  {
   "cell_type": "code",
   "execution_count": null,
   "metadata": {
    "scrolled": false,
    "slideshow": {
     "slide_type": "subslide"
    }
   },
   "outputs": [],
   "source": [
    "//gopl.io/ch1/fetchall\n",
    "import (\"fmt\";\"io\";\"io/ioutil\";\"net/http\";\"os\";\"time\")\n",
    "\n",
    "func main() {\n",
    "        start := time.Now()\n",
    "        ch := make(chan string)\n",
    "        for _, url := range os.Args[1:] {\n",
    "                go fetch(url, ch) // start a goroutine\n",
    "        }\n",
    "        for range os.Args[1:] {\n",
    "                fmt.Println(<-ch) // receive from channel ch\n",
    "        }\n",
    "        fmt.Printf(\"%.2fs elapsed\\n\", time.Since(start).Seconds())\n",
    "}\n",
    "\n",
    "func fetch(url string, ch chan<- string) {\n",
    "        start := time.Now()\n",
    "        resp, err := http.Get(url)\n",
    "         if err != nil {\n",
    "                ch <- fmt.Sprint(err) // send to channel ch\n",
    "                return\n",
    "        }\n",
    "\n",
    "        nbytes, err := io.Copy(ioutil.Discard, resp.Body)\n",
    "        resp.Body.Close() // don't leak resources\n",
    "        if err != nil {\n",
    "                ch <- fmt.Sprintf(\"while reading %s: %v\", url, err)\n",
    "                return\n",
    "        }\n",
    "        secs := time.Since(start).Seconds()\n",
    "        ch <- fmt.Sprintf(\"%.2fs  %7d  %s\", secs, nbytes, url)\n",
    "}"
   ]
  },
  {
   "cell_type": "code",
   "execution_count": null,
   "metadata": {
    "scrolled": false,
    "slideshow": {
     "slide_type": "fragment"
    }
   },
   "outputs": [],
   "source": [
    "os.Args = []string{\"fetchall\",\"https://golang.org\", \"http://gopl.io/\", \"https://godoc.org\", \"https://www.nycu.edu.tw/\",\"https://google.com\"}\n",
    "main()"
   ]
  },
  {
   "cell_type": "markdown",
   "metadata": {
    "slideshow": {
     "slide_type": "slide"
    }
   },
   "source": [
    "# A Web Server"
   ]
  },
  {
   "cell_type": "code",
   "execution_count": null,
   "metadata": {
    "scrolled": false,
    "slideshow": {
     "slide_type": "subslide"
    }
   },
   "outputs": [],
   "source": [
    "//gopl.io/ch1/server1\n",
    "import (\n",
    "        \"fmt\"\n",
    "        \"log\"\n",
    "        \"net/http\"\n",
    ")\n",
    "\n",
    "func main() {\n",
    "        http.HandleFunc(\"/\", handler) // each request calls handler\n",
    "        log.Fatal(http.ListenAndServe(\"localhost:9000\", nil))\n",
    "}\n",
    "\n",
    "// handler echoes the Path component of the requested URL.\n",
    "func handler(w http.ResponseWriter, r *http.Request) {\n",
    "        fmt.Fprintf(w, \"URL.Path = %q\\n\", r.URL.Path)\n",
    "}"
   ]
  },
  {
   "cell_type": "code",
   "execution_count": null,
   "metadata": {
    "scrolled": false,
    "slideshow": {
     "slide_type": "fragment"
    }
   },
   "outputs": [],
   "source": [
    "main()"
   ]
  },
  {
   "cell_type": "markdown",
   "metadata": {
    "slideshow": {
     "slide_type": "fragment"
    }
   },
   "source": [
    "* [http://localhost:9000](http://localhost:9000)\n",
    "* [http://localhost:9000/help](http://localhost:9000/help)"
   ]
  },
  {
   "cell_type": "code",
   "execution_count": null,
   "metadata": {
    "scrolled": false,
    "slideshow": {
     "slide_type": "subslide"
    }
   },
   "outputs": [],
   "source": [
    "//gopl.io/ch1/server2\n",
    "import (\n",
    "        \"fmt\"\n",
    "        \"log\"\n",
    "        \"net/http\"\n",
    "        \"sync\"\n",
    ")\n",
    "\n",
    "var mu sync.Mutex\n",
    "var count int\n",
    "\n",
    "func main() {\n",
    "        http.HandleFunc(\"/\", handler)\n",
    "        http.HandleFunc(\"/count\", counter)\n",
    "        log.Fatal(http.ListenAndServe(\"localhost:9100\", nil))\n",
    "}\n",
    "\n",
    "// handler echoes the Path component of the requested URL.\n",
    "func handler(w http.ResponseWriter, r *http.Request) {\n",
    "        mu.Lock()\n",
    "        count++\n",
    "        mu.Unlock()\n",
    "        fmt.Fprintf(w, \"URL.Path = %q\\n\", r.URL.Path)\n",
    "}\n",
    "// counter echoes the number of calls so far.\n",
    "func counter(w http.ResponseWriter, r *http.Request) {\n",
    "        mu.Lock()\n",
    "        fmt.Fprintf(w, \"Count %d\\n\", count)\n",
    "        mu.Unlock()\n",
    "}"
   ]
  },
  {
   "cell_type": "code",
   "execution_count": null,
   "metadata": {
    "scrolled": false,
    "slideshow": {
     "slide_type": "fragment"
    }
   },
   "outputs": [],
   "source": [
    "main()"
   ]
  },
  {
   "cell_type": "markdown",
   "metadata": {
    "slideshow": {
     "slide_type": "fragment"
    }
   },
   "source": [
    "* [http://localhost:9100/](http://localhost:9100)\n",
    "* [http://localhost:9100/count](http://localhost:9100/count)"
   ]
  },
  {
   "cell_type": "code",
   "execution_count": null,
   "metadata": {
    "scrolled": false,
    "slideshow": {
     "slide_type": "subslide"
    }
   },
   "outputs": [],
   "source": [
    "//gopl.io/ch1/server3\n",
    "import (\n",
    "        \"fmt\"\n",
    "        \"log\"\n",
    "        \"net/http\"\n",
    ")\n",
    "\n",
    "func main() {\n",
    "        http.HandleFunc(\"/\", handler)\n",
    "        log.Fatal(http.ListenAndServe(\"localhost:9200\", nil))\n",
    "}\n",
    "\n",
    "//!+handler\n",
    "// handler echoes the HTTP request.\n",
    "func handler(w http.ResponseWriter, r *http.Request) {\n",
    "        fmt.Fprintf(w, \"%s %s %s\\n\", r.Method, r.URL, r.Proto)\n",
    "        for k, v := range r.Header {\n",
    "                fmt.Fprintf(w, \"Header[%q] = %q\\n\", k, v)\n",
    "        }\n",
    "        fmt.Fprintf(w, \"Host = %q\\n\", r.Host)\n",
    "        fmt.Fprintf(w, \"RemoteAddr = %q\\n\", r.RemoteAddr)\n",
    "        if err := r.ParseForm(); err != nil {\n",
    "                log.Print(err)\n",
    "        }\n",
    "        for k, v := range r.Form {\n",
    "             fmt.Fprintf(w, \"Form[%q] = %q\\n\", k, v)\n",
    "        }\n",
    "}"
   ]
  },
  {
   "cell_type": "code",
   "execution_count": null,
   "metadata": {
    "scrolled": false,
    "slideshow": {
     "slide_type": "fragment"
    }
   },
   "outputs": [],
   "source": [
    "main()"
   ]
  },
  {
   "cell_type": "markdown",
   "metadata": {
    "slideshow": {
     "slide_type": "fragment"
    }
   },
   "source": [
    "* [http://localhost:9200](http://localhost:9200)\n",
    "* [http://localhost:9200/?q=query](http://localhost:9200/?q=query)"
   ]
  },
  {
   "cell_type": "markdown",
   "metadata": {
    "slideshow": {
     "slide_type": "slide"
    }
   },
   "source": [
    "# Loose Ends"
   ]
  },
  {
   "cell_type": "code",
   "execution_count": null,
   "metadata": {
    "code_folding": [
     7
    ],
    "scrolled": false,
    "slideshow": {
     "slide_type": "subslide"
    }
   },
   "outputs": [],
   "source": [
    "import (\"fmt\";\"math\";\"math/rand\")\n",
    "\n",
    "func coinflip() string {\n",
    "    choice := rand.Intn(3)\n",
    "    return []string{\"heads\",\"tails\",\"edge\"}[choice]\n",
    "}\n",
    "\n",
    "//tagless switch\n",
    "func Signum(x int) int {\n",
    "    switch {\n",
    "        case x > 0:\n",
    "        defaut:\n",
    "          return 0\n",
    "        case x < 0 :\n",
    "          return -1\n",
    "    }\n",
    "}\n",
    "var heads, tails int\n",
    "switch coinflip() {\n",
    "    case \"heads\":\n",
    "        heads++\n",
    "    case \"tails\":\n",
    "        tails++\n",
    "    default:\n",
    "        fmt.Println(\"landed on edge!\")\n",
    "}\n",
    "\n",
    "fmt.Println(Signum(2))\n",
    "fmt.Println(Signum(-2))\n",
    "fmt.Println(Signum(0))\n"
   ]
  },
  {
   "cell_type": "markdown",
   "metadata": {
    "slideshow": {
     "slide_type": "subslide"
    }
   },
   "source": [
    "## Packages\n",
    "* [https://golang.org/pkg](http://golang.org/pkg)"
   ]
  }
 ],
 "metadata": {
  "celltoolbar": "Slideshow",
  "kernelspec": {
   "display_name": "Go",
   "language": "go",
   "name": "gophernotes"
  },
  "language_info": {
   "codemirror_mode": "",
   "file_extension": ".go",
   "mimetype": "",
   "name": "go",
   "nbconvert_exporter": "",
   "pygments_lexer": "",
   "version": "go1.13"
  },
  "latex_envs": {
   "LaTeX_envs_menu_present": true,
   "autoclose": false,
   "autocomplete": true,
   "bibliofile": "biblio.bib",
   "cite_by": "apalike",
   "current_citInitial": 1,
   "eqLabelWithNumbers": true,
   "eqNumInitial": 1,
   "hotkeys": {
    "equation": "Ctrl-E",
    "itemize": "Ctrl-I"
   },
   "labels_anchors": false,
   "latex_user_defs": false,
   "report_style_numbering": false,
   "user_envs_cfg": false
  },
  "toc": {
   "base_numbering": 1,
   "nav_menu": {},
   "number_sections": true,
   "sideBar": false,
   "skip_h1_title": false,
   "title_cell": "Table of Contents",
   "title_sidebar": "Contents",
   "toc_cell": false,
   "toc_position": {
    "height": "47.429px",
    "left": "72.9971px",
    "top": "0px",
    "width": "158.977px"
   },
   "toc_section_display": false,
   "toc_window_display": true
  }
 },
 "nbformat": 4,
 "nbformat_minor": 2
}
