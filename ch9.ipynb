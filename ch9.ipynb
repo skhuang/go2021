{
 "cells": [
  {
   "cell_type": "markdown",
   "metadata": {
    "toc": true
   },
   "source": [
    "<h1>Table of Contents<span class=\"tocSkip\"></span></h1>\n",
    "<div class=\"toc\"><ul class=\"toc-item\"><li><span><a href=\"#Concurrency-with-Shared-Variables\" data-toc-modified-id=\"Concurrency-with-Shared-Variables-9\"><span class=\"toc-item-num\">9&nbsp;&nbsp;</span>Concurrency with Shared Variables</a></span><ul class=\"toc-item\"><li><span><a href=\"#Race-Conditions\" data-toc-modified-id=\"Race-Conditions-9.1\"><span class=\"toc-item-num\">9.1&nbsp;&nbsp;</span>Race Conditions</a></span></li><li><span><a href=\"#Mutual-Exclusion:-sync.Mutex\" data-toc-modified-id=\"Mutual-Exclusion:-sync.Mutex-9.2\"><span class=\"toc-item-num\">9.2&nbsp;&nbsp;</span>Mutual Exclusion: sync.Mutex</a></span></li><li><span><a href=\"#Read/Write-Mutexes:-sync.RWMutex\" data-toc-modified-id=\"Read/Write-Mutexes:-sync.RWMutex-9.3\"><span class=\"toc-item-num\">9.3&nbsp;&nbsp;</span>Read/Write Mutexes: sync.RWMutex</a></span></li><li><span><a href=\"#Memory-Synchronization\" data-toc-modified-id=\"Memory-Synchronization-9.4\"><span class=\"toc-item-num\">9.4&nbsp;&nbsp;</span>Memory Synchronization</a></span></li><li><span><a href=\"#Lazy-Initialization:-sync.Once\" data-toc-modified-id=\"Lazy-Initialization:-sync.Once-9.5\"><span class=\"toc-item-num\">9.5&nbsp;&nbsp;</span>Lazy Initialization: sync.Once</a></span></li><li><span><a href=\"#The-Race-Detector\" data-toc-modified-id=\"The-Race-Detector-9.6\"><span class=\"toc-item-num\">9.6&nbsp;&nbsp;</span>The Race Detector</a></span></li><li><span><a href=\"#Example:-Concurrent-Non-Blocking-Cache\" data-toc-modified-id=\"Example:-Concurrent-Non-Blocking-Cache-9.7\"><span class=\"toc-item-num\">9.7&nbsp;&nbsp;</span>Example: Concurrent Non-Blocking Cache</a></span></li><li><span><a href=\"#Goroutines-and-Threads\" data-toc-modified-id=\"Goroutines-and-Threads-9.8\"><span class=\"toc-item-num\">9.8&nbsp;&nbsp;</span>Goroutines and Threads</a></span><ul class=\"toc-item\"><li><span><a href=\"#Growable-Stacks\" data-toc-modified-id=\"Growable-Stacks-9.8.1\"><span class=\"toc-item-num\">9.8.1&nbsp;&nbsp;</span>Growable Stacks</a></span></li><li><span><a href=\"#Groroutine-Scheduling\" data-toc-modified-id=\"Groroutine-Scheduling-9.8.2\"><span class=\"toc-item-num\">9.8.2&nbsp;&nbsp;</span>Groroutine Scheduling</a></span></li><li><span><a href=\"#GOMAXPROCS\" data-toc-modified-id=\"GOMAXPROCS-9.8.3\"><span class=\"toc-item-num\">9.8.3&nbsp;&nbsp;</span>GOMAXPROCS</a></span></li><li><span><a href=\"#Goroutines-Have-No-Identify\" data-toc-modified-id=\"Goroutines-Have-No-Identify-9.8.4\"><span class=\"toc-item-num\">9.8.4&nbsp;&nbsp;</span>Goroutines Have No Identify</a></span></li></ul></li></ul></li></ul></div>"
   ]
  },
  {
   "cell_type": "markdown",
   "metadata": {
    "slideshow": {
     "slide_type": "slide"
    }
   },
   "source": [
    "# Concurrency with Shared Variables"
   ]
  },
  {
   "cell_type": "markdown",
   "metadata": {
    "slideshow": {
     "slide_type": "slide"
    }
   },
   "source": [
    "## Race Conditions"
   ]
  },
  {
   "cell_type": "code",
   "execution_count": 31,
   "metadata": {
    "slideshow": {
     "slide_type": "subslide"
    }
   },
   "outputs": [],
   "source": [
    "var balance int\n",
    "func Deposit(amount int) {  balance = balance + amount }\n",
    "func Balance() int {return  balance }"
   ]
  },
  {
   "cell_type": "code",
   "execution_count": 36,
   "metadata": {
    "code_folding": [],
    "slideshow": {
     "slide_type": "fragment"
    }
   },
   "outputs": [
    {
     "name": "stdout",
     "output_type": "stream",
     "text": [
      "= 1000\n"
     ]
    }
   ],
   "source": [
    "// Alice:\n",
    "import (\"time\";\"fmt\")\n",
    "go func() {\n",
    "    Deposit(200)                  // A1\n",
    "    fmt.Println(\"=\", Balance())   // A2\n",
    "}()\n",
    "time.Sleep(100* time.Millisecond)"
   ]
  },
  {
   "cell_type": "code",
   "execution_count": 39,
   "metadata": {
    "code_folding": [],
    "slideshow": {
     "slide_type": "fragment"
    }
   },
   "outputs": [],
   "source": [
    "// Bob:\n",
    "go Deposit(100)                  //B"
   ]
  },
  {
   "cell_type": "code",
   "execution_count": 44,
   "metadata": {
    "code_folding": [],
    "collapsed": true,
    "slideshow": {
     "slide_type": "fragment"
    }
   },
   "outputs": [
    {
     "name": "stdout",
     "output_type": "stream",
     "text": [
      "= 400\n",
      "= 392\n",
      "= 400\n",
      "= 400\n",
      "= 396\n",
      "= 392\n",
      "= 384\n",
      "= 384\n",
      "= 392\n",
      "= 400\n",
      "= 400\n",
      "= 396\n",
      "= 392\n",
      "= 392\n",
      "= 380\n",
      "= 392\n",
      "= 384\n",
      "= 396\n",
      "= 392\n",
      "= 388\n",
      "= 392\n",
      "= 396\n",
      "= 396\n",
      "= 396\n",
      "= 392\n",
      "= 384\n",
      "= 392\n",
      "= 396\n",
      "= 396\n",
      "= 392\n",
      "= 388\n",
      "= 396\n",
      "= 396\n",
      "= 400\n",
      "= 392\n",
      "= 388\n",
      "= 388\n",
      "= 392\n",
      "= 392\n",
      "= 400\n",
      "= 396\n",
      "= 388\n",
      "= 396\n",
      "= 396\n",
      "= 396\n",
      "= 396\n",
      "= 384\n",
      "= 384\n",
      "= 396\n",
      "= 384\n",
      "= 384\n",
      "= 352\n",
      "= 388\n",
      "= 400\n",
      "= 388\n",
      "= 392\n",
      "= 400\n",
      "= 400\n",
      "= 396\n",
      "= 396\n",
      "= 396\n",
      "= 380\n",
      "= 380\n",
      "= 388\n",
      "= 400\n",
      "= 380\n",
      "= 380\n",
      "= 400\n",
      "= 388\n",
      "= 392\n",
      "= 400\n",
      "= 392\n",
      "= 380\n",
      "= 392\n",
      "= 392\n",
      "= 400\n",
      "= 400\n",
      "= 388\n",
      "= 388\n",
      "= 388\n",
      "= 364\n",
      "= 388\n",
      "= 388\n",
      "= 396\n",
      "= 400\n",
      "= 392\n",
      "= 400\n",
      "= 400\n",
      "= 400\n",
      "= 392\n",
      "= 396\n",
      "= 400\n",
      "= 396\n",
      "= 400\n",
      "= 388\n",
      "= 400\n",
      "= 400\n",
      "= 392\n",
      "= 400\n",
      "= 372\n"
     ]
    }
   ],
   "source": [
    "for i:=0; i<100; i++ {\n",
    "    balance=0\n",
    "    for j :=0; j<100; j++ {\n",
    "      go Deposit(4)\n",
    "       // Deposit(1)\n",
    "    }\n",
    "    time.Sleep(100* time.Millisecond)\n",
    "    fmt.Println(\"=\",Balance())\n",
    "}"
   ]
  },
  {
   "cell_type": "code",
   "execution_count": 57,
   "metadata": {
    "slideshow": {
     "slide_type": "subslide"
    }
   },
   "outputs": [
    {
     "ename": "ERROR",
     "evalue": "reflect: slice index out of range",
     "output_type": "error",
     "traceback": [
      "reflect: slice index out of range"
     ]
    }
   ],
   "source": [
    "var x []int\n",
    "go func() { x = make([]int,10)}()\n",
    "go func() { x = make([]int,1000000)}()\n",
    "time.Sleep(10* time.Millisecond)\n",
    "x[999999] = 1 // Note: undefined behavior; memory corruption possible"
   ]
  },
  {
   "cell_type": "markdown",
   "metadata": {
    "slideshow": {
     "slide_type": "subslide"
    }
   },
   "source": [
    "* A data race occurs whenever two goroutines access the same variable concurrently and at least one of the accesses is a write\n",
    "* Three ways to avoid a data race\n",
    "  * The first way: not to write the variable\n",
    "  * The second way: avoid acessing the variable from multiple goroutines\n",
    "    * Do not communicate by sharing memory; share memory by communicating\n",
    "  * The third way: allow many goroutines to access the variable, but only one at a time\n",
    "    * mutual exclusion"
   ]
  },
  {
   "cell_type": "code",
   "execution_count": 59,
   "metadata": {
    "code_folding": [],
    "slideshow": {
     "slide_type": "subslide"
    }
   },
   "outputs": [],
   "source": [
    "// The first way:not to write the variable\n",
    "import \"image\"\n",
    "var icons = make(map[string]image.Image)\n",
    "func loadIcon(name string) image.Image\n",
    "// not concurrency-safe\n",
    "func Icon(name string) image.Image {\n",
    "    icon, ok := icons[name]\n",
    "    if !ok {\n",
    "        icon = loadIcon(name)\n",
    "        icons[name] = icon\n",
    "    }\n",
    "    return icon\n",
    "}"
   ]
  },
  {
   "cell_type": "code",
   "execution_count": 60,
   "metadata": {
    "code_folding": [],
    "slideshow": {
     "slide_type": "subslide"
    }
   },
   "outputs": [],
   "source": [
    "import \"image\"\n",
    "var icons = map[string]image.Image {\n",
    "    \"spades.png\":  loadIcon(\"spades.png\"),\n",
    "    \"hearts.png\":  loadIcon(\"hearts.png\"),\n",
    "    \"diamonds.png\":loadIcon(\"diamonds.png\"),\n",
    "    \"clubs.png\":   loadIcon(\"clubs.png\"),\n",
    "}\n",
    "// Concurrency-safe,\n",
    "func Icon(name string) image.Image {return icons[name]}"
   ]
  },
  {
   "cell_type": "markdown",
   "metadata": {
    "slideshow": {
     "slide_type": "subslide"
    }
   },
   "source": [
    "* The second way\n",
    "  * Use a channel to send the confining goroutine a request to query or update the variable\n",
    "    * monitor goroutine: broker access to a confined variable using channel requests "
   ]
  },
  {
   "cell_type": "code",
   "execution_count": 61,
   "metadata": {
    "code_folding": [],
    "slideshow": {
     "slide_type": "subslide"
    }
   },
   "outputs": [],
   "source": [
    "//gopl.io/ch9/bank1\n",
    "// Copyright © 2016 Alan A. A. Donovan & Brian W. Kernighan.\n",
    "// License: https://creativecommons.org/licenses/by-nc-sa/4.0/\n",
    "\n",
    "// See page 261.\n",
    "//!+\n",
    "\n",
    "// Package bank provides a concurrency-safe bank with one account.\n",
    "//package bank\n",
    "\n",
    "var deposits = make(chan int) // send amount to deposit\n",
    "var balances = make(chan int) // receive balance\n",
    "\n",
    "func Deposit(amount int) { deposits <- amount }\n",
    "func Balance() int       { return <-balances }\n",
    "\n",
    "func teller() {\n",
    "\tvar balance int // balance is confined to teller goroutine\n",
    "\tfor {\n",
    "\t\tselect {\n",
    "\t\tcase amount := <-deposits:\n",
    "\t\t\tbalance += amount\n",
    "\t\tcase balances <- balance:\n",
    "\t\t}\n",
    "\t}\n",
    "}\n",
    "\n",
    "func init() {\n",
    "\tgo teller() // start the monitor goroutine\n",
    "}\n",
    "\n",
    "//!-"
   ]
  },
  {
   "cell_type": "code",
   "execution_count": 62,
   "metadata": {
    "code_folding": [],
    "slideshow": {
     "slide_type": "subslide"
    }
   },
   "outputs": [],
   "source": [
    "//back_test\n",
    "// Copyright © 2016 Alan A. A. Donovan & Brian W. Kernighan.\n",
    "// License: https://creativecommons.org/licenses/by-nc-sa/4.0/\n",
    "\n",
    "//package bank_test\n",
    "\n",
    "import (\n",
    "\t\"fmt\"\n",
    "\t\"testing\"\n",
    "\n",
    "\t\"gopl.io/ch9/bank1\"\n",
    ")\n",
    "\n",
    "func TestBank(t *testing.T) {\n",
    "\tdone := make(chan struct{})\n",
    "\n",
    "\t// Alice\n",
    "\tgo func() {\n",
    "\t\tbank.Deposit(200)\n",
    "\t\tfmt.Println(\"=\", bank.Balance())\n",
    "\t\tdone <- struct{}{}\n",
    "\t}()\n",
    "\n",
    "\t// Bob\n",
    "\tgo func() {\n",
    "\t\tbank.Deposit(100)\n",
    "\t\tdone <- struct{}{}\n",
    "\t}()\n",
    "\n",
    "\t// Wait for both transactions.\n",
    "\t<-done\n",
    "\t<-done\n",
    "\n",
    "\tif got, want := bank.Balance(), 300; got != want {\n",
    "\t\tt.Errorf(\"Balance = %d, want %d\", got, want)\n",
    "\t}\n",
    "}"
   ]
  },
  {
   "cell_type": "code",
   "execution_count": 78,
   "metadata": {
    "slideshow": {
     "slide_type": "fragment"
    }
   },
   "outputs": [
    {
     "name": "stdout",
     "output_type": "stream",
     "text": [
      "= 5700\n"
     ]
    }
   ],
   "source": [
    "var t testing.T\n",
    "TestBank(&t)"
   ]
  },
  {
   "cell_type": "code",
   "execution_count": 80,
   "metadata": {
    "slideshow": {
     "slide_type": "subslide"
    }
   },
   "outputs": [],
   "source": [
    "import \"fmt\"\n",
    "type Cake struct {state string}\n",
    "func baker(cooked chan <- *Cake) {\n",
    "    for {\n",
    "      cake := new(Cake)\n",
    "      cake.state = \"cooked\"\n",
    "      fmt.Println(cake.state)\n",
    "      cooked <- cake // baker never touches this cake again\n",
    "    }\n",
    "}\n",
    "\n",
    "func icer(iced chan <- *Cake, cooked <- chan *Cake){\n",
    "    for cake := range cooked {\n",
    "        cake.state = \"iced\"\n",
    "        fmt.Println(cake.state)\n",
    "        iced <- cake //icer never touches this cake aain\n",
    "    }\n",
    "}"
   ]
  },
  {
   "cell_type": "code",
   "execution_count": 81,
   "metadata": {
    "code_folding": [
     0
    ],
    "slideshow": {
     "slide_type": "subslide"
    }
   },
   "outputs": [
    {
     "name": "stdout",
     "output_type": "stream",
     "text": [
      "cooked\n",
      "cooked\n",
      "cooked\n",
      "iced\n",
      "iced\n",
      "cooked\n"
     ]
    }
   ],
   "source": [
    "// Cakes are serially confied, first to the baker, then to the icer\n",
    "import \"time\"\n",
    "cooked := make(chan *Cake,1)\n",
    "iced := make(chan *Cake,1)\n",
    "go icer(iced, cooked)\n",
    "go baker(cooked)\n",
    "time.Sleep(5* time.Millisecond)"
   ]
  },
  {
   "cell_type": "markdown",
   "metadata": {
    "slideshow": {
     "slide_type": "slide"
    }
   },
   "source": [
    "## Mutual Exclusion: sync.Mutex"
   ]
  },
  {
   "cell_type": "code",
   "execution_count": 82,
   "metadata": {
    "code_folding": [],
    "slideshow": {
     "slide_type": "subslide"
    }
   },
   "outputs": [],
   "source": [
    "//gopl.io/ch9/bank2\n",
    "var (\n",
    "    sema = make (chan struct{},1)\n",
    "    balance int\n",
    ")\n",
    "func Deposit(amount int) {\n",
    "    sema <- struct{}{} // acquire token\n",
    "    balance = balance + amount\n",
    "    <- sema  //release token\n",
    "}\n",
    "func Balance() int {\n",
    "    sema <- struct{}{} // acquire token\n",
    "    b := balance\n",
    "    <- sema // release token\n",
    "    return b\n",
    "}"
   ]
  },
  {
   "cell_type": "code",
   "execution_count": 85,
   "metadata": {
    "code_folding": [],
    "slideshow": {
     "slide_type": "fragment"
    }
   },
   "outputs": [
    {
     "name": "stdout",
     "output_type": "stream",
     "text": [
      "= 300\n",
      "= 300\n",
      "= 300\n",
      "= 300\n",
      "= 300\n",
      "= 300\n",
      "= 300\n",
      "= 300\n",
      "= 300\n",
      "= 300\n"
     ]
    }
   ],
   "source": [
    "for i:=0; i<10; i++ {\n",
    "    balance=0\n",
    "    for j :=0; j<100; j++ {\n",
    "      go Deposit(3)\n",
    "    }\n",
    "    time.Sleep(100* time.Millisecond)\n",
    "    fmt.Println(\"=\",Balance())\n",
    "}"
   ]
  },
  {
   "cell_type": "code",
   "execution_count": 86,
   "metadata": {
    "code_folding": [],
    "slideshow": {
     "slide_type": "subslide"
    }
   },
   "outputs": [],
   "source": [
    "//gopl.io/ch9/bank3\n",
    "import \"sync\"\n",
    "var (\n",
    "  mu sync.Mutex //guar balance\n",
    "  balance int\n",
    ")\n",
    "\n",
    "func Deposit(amount int) {\n",
    "    mu.Lock()\n",
    "    balance = balance + amount\n",
    "    mu.Unlock()\n",
    "}\n",
    "func Balance() int {\n",
    "    mu.Lock()\n",
    "    b := balance\n",
    "    mu.Unlock()\n",
    "    return b\n",
    "}"
   ]
  },
  {
   "cell_type": "code",
   "execution_count": 89,
   "metadata": {
    "slideshow": {
     "slide_type": "fragment"
    }
   },
   "outputs": [
    {
     "name": "stdout",
     "output_type": "stream",
     "text": [
      "= 1000\n",
      "= 1000\n",
      "= 1000\n",
      "= 1000\n",
      "= 1000\n",
      "= 1000\n",
      "= 1000\n",
      "= 1000\n",
      "= 1000\n",
      "= 1000\n"
     ]
    }
   ],
   "source": [
    "import (\"time\";\"fmt\")\n",
    "for i:=0; i<10; i++ {\n",
    "    balance=0\n",
    "    for j :=0; j<100; j++ {\n",
    "      go Deposit(10)\n",
    "    }\n",
    "    time.Sleep(100* time.Millisecond)\n",
    "    fmt.Println(\"=\",Balance())\n",
    "}"
   ]
  },
  {
   "cell_type": "code",
   "execution_count": 90,
   "metadata": {
    "code_folding": [],
    "slideshow": {
     "slide_type": "subslide"
    }
   },
   "outputs": [],
   "source": [
    "func Balance() int {\n",
    "    mu.Lock()\n",
    "    defer mu.Unlock()\n",
    "    return balance\n",
    "}"
   ]
  },
  {
   "cell_type": "markdown",
   "metadata": {
    "slideshow": {
     "slide_type": "subslide"
    }
   },
   "source": [
    "* Withdraw function, three implementation\n",
    "  * without lock\n",
    "  * lock a second time and lead to a deadlock\n",
    "  * internal implementation without second lock"
   ]
  },
  {
   "cell_type": "code",
   "execution_count": 91,
   "metadata": {
    "code_folding": [],
    "slideshow": {
     "slide_type": "subslide"
    }
   },
   "outputs": [],
   "source": [
    "// Not Atomic\n",
    "func Withdraw(amount int) bool {\n",
    "    Deposit(-amount)\n",
    "    if Balance() < 0 {\n",
    "        Deposit(amount)\n",
    "        return false // insufficient funds\n",
    "    }\n",
    "    return true\n",
    "}"
   ]
  },
  {
   "cell_type": "code",
   "execution_count": 92,
   "metadata": {
    "code_folding": [],
    "slideshow": {
     "slide_type": "subslide"
    }
   },
   "outputs": [],
   "source": [
    "// incorrect, may be a deadlock\n",
    "func Withdraw(amount int) bool {\n",
    "    mu.Lock()\n",
    "    defer mu.Unlock()\n",
    "    Deposit(-amount) \n",
    "    if Balance() < 0 {\n",
    "        Deposit(amount)\n",
    "        return false // insufficient funds\n",
    "    }\n",
    "    return true\n",
    "}"
   ]
  },
  {
   "cell_type": "code",
   "execution_count": 93,
   "metadata": {
    "code_folding": [],
    "slideshow": {
     "slide_type": "subslide"
    }
   },
   "outputs": [],
   "source": [
    "func Withdraw(amount int) bool {\n",
    "    mu.Lock()\n",
    "    defer mu.Unlock()\n",
    "    deposit(-amount)\n",
    "    if Balance() < 0 {\n",
    "        deposit(amount)\n",
    "        return false // insufficient funds\n",
    "    }\n",
    "    return true\n",
    "}\n",
    "func Deposit(amount int) {\n",
    "    mu.Lock()\n",
    "    defer mu.Unlock()\n",
    "    deposit(amount)\n",
    "}\n",
    "func Balance() int {\n",
    "    mu.Lock()\n",
    "    defer mu.Unlock()\n",
    "    return balance\n",
    "}\n",
    "// require the lock be held\n",
    "func deposit(amount int) { balance += amount}"
   ]
  },
  {
   "cell_type": "markdown",
   "metadata": {
    "slideshow": {
     "slide_type": "slide"
    }
   },
   "source": [
    "## Read/Write Mutexes: sync.RWMutex\n",
    "* Multiple readers, single writer lock, provided with sync.RWMutex"
   ]
  },
  {
   "cell_type": "code",
   "execution_count": 94,
   "metadata": {
    "slideshow": {
     "slide_type": "subslide"
    }
   },
   "outputs": [],
   "source": [
    "import \"sync\"\n",
    "var (\n",
    "    mu sync.RWMutex\n",
    "    balance int\n",
    ")\n",
    "func Deposit(amount int) {\n",
    "    mu.Lock()\n",
    "    balance = balance + amount\n",
    "    mu.Unlock()\n",
    "}\n",
    "\n",
    "func Balance()int {\n",
    "    mu.RLock()  // readers lock\n",
    "    defer mu.RUnlock()\n",
    "    return balance\n",
    "}"
   ]
  },
  {
   "cell_type": "code",
   "execution_count": 96,
   "metadata": {
    "collapsed": true,
    "slideshow": {
     "slide_type": "fragment"
    }
   },
   "outputs": [
    {
     "name": "stdout",
     "output_type": "stream",
     "text": [
      "= 100\n",
      "= 100\n",
      "= 100\n",
      "= 100\n",
      "= 100\n",
      "= 100\n",
      "= 100\n",
      "= 100\n",
      "= 100\n",
      "= 100\n"
     ]
    }
   ],
   "source": [
    "import (\"time\";\"fmt\")\n",
    "for i:=0; i<10; i++ {\n",
    "    balance=0\n",
    "    for j :=0; j<100; j++ {\n",
    "      go Deposit(1)\n",
    "    }\n",
    "    time.Sleep(100* time.Millisecond)\n",
    "    fmt.Println(\"=\",Balance())\n",
    "}"
   ]
  },
  {
   "cell_type": "markdown",
   "metadata": {
    "slideshow": {
     "slide_type": "slide"
    }
   },
   "source": [
    "## Memory Synchronization"
   ]
  },
  {
   "cell_type": "code",
   "execution_count": 17,
   "metadata": {
    "slideshow": {
     "slide_type": "subslide"
    }
   },
   "outputs": [
    {
     "name": "stdout",
     "output_type": "stream",
     "text": [
      "y:0 x:1 \n",
      "y:0 x:1 \n",
      "y:0 x:1 \n",
      "y:0 x:1 \n",
      "y:0 x:1 \n",
      "y:0 x:1 \n",
      "y:0 x:1 \n",
      "y:0 x:1 \n",
      "y:0 x:1 \n",
      "y:0 x:1 \n"
     ]
    }
   ],
   "source": [
    "var x, y int\n",
    "\n",
    "for i:=0; i< 10; i++ {\n",
    " x, y = 0,0\n",
    " go func(){\n",
    "   x = 1                 // A1\n",
    "   fmt.Print(\"y:\",y,\" \") // A2\n",
    " }()\n",
    "\n",
    " go func(){\n",
    "    y = 1                //B1\n",
    "    fmt.Print(\"x:\",x,\" \")//B2\n",
    " }()\n",
    " time.Sleep(300 * time.Millisecond)\n",
    " fmt.Println(\"\")\n",
    " \n",
    "}\n",
    "\n"
   ]
  },
  {
   "cell_type": "markdown",
   "metadata": {
    "slideshow": {
     "slide_type": "slide"
    }
   },
   "source": [
    "## Lazy Initialization: sync.Once\n",
    "* Defer an expensive initialization step until the moment it is needed"
   ]
  },
  {
   "cell_type": "code",
   "execution_count": 97,
   "metadata": {},
   "outputs": [],
   "source": [
    "//Lazy initialization \n",
    "import \"image\"\n",
    "var icons map[string]image.Image\n",
    "func loadIcon(string)image.Image\n",
    "func loadIcons(){\n",
    "    icons = map[string]image.Image {\n",
    "        \"spades.png\": loadIcon(\"spades.png\"),\n",
    "        \"hearts.png\": loadIcon(\"hearts.png\"),\n",
    "        \"diamonds.png\":loadIcon(\"diamonds.png\"),\n",
    "        \"clubs.png\":   loadIcon(\"clubs.png\"),\n",
    "    }\n",
    "}\n",
    "// Not concurrency-safe\n",
    "func Icon(name string) image.Image {\n",
    "    if icons == nil {\n",
    "        loadIcons() // one-time initialization\n",
    "    }\n",
    "    return icons[name]\n",
    "}"
   ]
  },
  {
   "cell_type": "code",
   "execution_count": 98,
   "metadata": {
    "slideshow": {
     "slide_type": "subslide"
    }
   },
   "outputs": [],
   "source": [
    "//icons may not be nil, but the initialization is not complete\n",
    "func loadIcons() {\n",
    "    icons = make(map[string]image.Image)\n",
    "    icons[\"spades.png\"] = loadIcon(\"spades.png\")\n",
    "    icons[\"hearts.png\"] = loadIcon(\"hearts.png\")\n",
    "    icons[\"diamonds.png\"]=loadIcon(\"diamonds.png\")\n",
    "    icons[\"clubs.png\"] = loadIcon(\"clubs.png\")\n",
    "}"
   ]
  },
  {
   "cell_type": "code",
   "execution_count": 100,
   "metadata": {
    "slideshow": {
     "slide_type": "subslide"
    }
   },
   "outputs": [],
   "source": [
    "// concurrency safe, but expensive for only one goroutine can access Icon\n",
    "var mu sync.Mutex // guard Icons\n",
    "var icons map[string]image.Image\n",
    "func Icon(name string)image.Image {\n",
    "    mu.Lock()\n",
    "    defer mu.Unlock()\n",
    "    if icons == nil {\n",
    "        loadIcons()\n",
    "    }\n",
    "    return icons[name]\n",
    "}"
   ]
  },
  {
   "cell_type": "code",
   "execution_count": 102,
   "metadata": {
    "slideshow": {
     "slide_type": "subslide"
    }
   },
   "outputs": [],
   "source": [
    "var mu sync.RWMutex // guards icons\n",
    "var icons map[string]image.Image\n",
    "// Concurrency-safe\n",
    "func Icon(name string) image.Image {\n",
    "    mu.RLock()\n",
    "    if icons != nil {\n",
    "        icon := icons[name]\n",
    "        mu.RUnlock()\n",
    "        return icon\n",
    "    }\n",
    "    mu.RUnlock()\n",
    "    //acquire an exclusive lock\n",
    "    mu.Lock()\n",
    "    if icons == nil {\n",
    "        loadIcons()\n",
    "    }\n",
    "    icon := icons[name]\n",
    "    mu.Unlock()\n",
    "    return icon\n",
    "}"
   ]
  },
  {
   "cell_type": "code",
   "execution_count": 103,
   "metadata": {
    "slideshow": {
     "slide_type": "subslide"
    }
   },
   "outputs": [],
   "source": [
    "var loadIconsOnce sync.Once\n",
    "var icons map[string]image.Image\n",
    "//Concurrency-safe\n",
    "func Icon(name string) image.Image {\n",
    "    loadIconsOnce.Do(loadIcons)\n",
    "    return icons[name]\n",
    "}"
   ]
  },
  {
   "cell_type": "markdown",
   "metadata": {
    "slideshow": {
     "slide_type": "slide"
    }
   },
   "source": [
    "## The Race Detector"
   ]
  },
  {
   "cell_type": "markdown",
   "metadata": {
    "slideshow": {
     "slide_type": "subslide"
    }
   },
   "source": [
    "* Go runtime and toolchain are equipped with a dynamic analysis tool, the race detector\n",
    "* Add the -race flat to go build, go run, or go test command\n",
    "  * Record all accesses to shared variables that occurred during execution, along with the identify of the goroutinge that read or wrote the variable\n",
    "  * Record all synchronization events\n",
    "    * go statements, channel operations, and calls to (*sync.Mutex).Lock, (*sync.WaitGroup).wait, and so on."
   ]
  },
  {
   "cell_type": "markdown",
   "metadata": {
    "slideshow": {
     "slide_type": "slide"
    }
   },
   "source": [
    "## Example: Concurrent Non-Blocking Cache"
   ]
  },
  {
   "cell_type": "code",
   "execution_count": 104,
   "metadata": {
    "code_folding": [],
    "slideshow": {
     "slide_type": "subslide"
    }
   },
   "outputs": [],
   "source": [
    "// Package memo  1 provides a concurrency-unsafe\n",
    "// memoization of a function of type Func.\n",
    "// Copyright © 2016 Alan A. A. Donovan & Brian W. Kernighan.\n",
    "// License: https://creativecommons.org/licenses/by-nc-sa/4.0/\n",
    "\n",
    "// See page 272.\n",
    "\n",
    "//!+\n",
    "\n",
    "\n",
    "//package memo\n",
    "\n",
    "// A Memo caches the results of calling a Func.\n",
    "type Memo struct {\n",
    "\tf     Func\n",
    "\tcache map[string]result\n",
    "}\n",
    "\n",
    "// Func is the type of the function to memoize.\n",
    "type Func func(key string) (interface{}, error)\n",
    "\n",
    "type result struct {\n",
    "\tvalue interface{}\n",
    "\terr   error\n",
    "}\n",
    "\n",
    "func New(f Func) *Memo {\n",
    "\treturn &Memo{f: f, cache: make(map[string]result)}\n",
    "}\n",
    "\n",
    "// NOTE: not concurrency-safe!\n",
    "func (memo *Memo) Get(key string) (interface{}, error) {\n",
    "\tres, ok := memo.cache[key]\n",
    "\tif !ok {\n",
    "\t\tres.value, res.err = memo.f(key)\n",
    "\t\tmemo.cache[key] = res\n",
    "\t}\n",
    "\treturn res.value, res.err\n",
    "}\n",
    "\n",
    "//!-"
   ]
  },
  {
   "cell_type": "code",
   "execution_count": 105,
   "metadata": {
    "code_folding": [],
    "slideshow": {
     "slide_type": "subslide"
    }
   },
   "outputs": [],
   "source": [
    "// Package memo  2 provides a concurrency-safe memoization a function of\n",
    "// type Func.  Concurrent requests are serialized by a Mutex.\n",
    "// Copyright © 2016 Alan A. A. Donovan & Brian W. Kernighan.\n",
    "// License: https://creativecommons.org/licenses/by-nc-sa/4.0/\n",
    "\n",
    "// See page 275.\n",
    "\n",
    "\n",
    "//package memo\n",
    "\n",
    "import \"sync\"\n",
    "\n",
    "// Func is the type of the function to memoize.\n",
    "type Func func(string) (interface{}, error)\n",
    "\n",
    "type result struct {\n",
    "\tvalue interface{}\n",
    "\terr   error\n",
    "}\n",
    "\n",
    "func New(f Func) *Memo {\n",
    "\treturn &Memo{f: f, cache: make(map[string]result)}\n",
    "}\n",
    "\n",
    "//!+\n",
    "\n",
    "type Memo struct {\n",
    "\tf     Func\n",
    "\tmu    sync.Mutex // guards cache\n",
    "\tcache map[string]result\n",
    "}\n",
    "\n",
    "// Get is concurrency-safe.\n",
    "func (memo *Memo) Get(key string) (value interface{}, err error) {\n",
    "\tmemo.mu.Lock()\n",
    "\tres, ok := memo.cache[key]\n",
    "\tif !ok {\n",
    "\t\tres.value, res.err = memo.f(key)\n",
    "\t\tmemo.cache[key] = res\n",
    "\t}\n",
    "\tmemo.mu.Unlock()\n",
    "\treturn res.value, res.err\n",
    "}\n",
    "\n",
    "//!-"
   ]
  },
  {
   "cell_type": "code",
   "execution_count": 28,
   "metadata": {
    "code_folding": [],
    "slideshow": {
     "slide_type": "subslide"
    }
   },
   "outputs": [],
   "source": [
    "// Package memo 3 provides a concurrency-safe memoization a function of\n",
    "// type Func.  Requests for different keys run concurrently.\n",
    "// Concurrent requests for the same key result in duplicate work.\n",
    "// Copyright © 2016 Alan A. A. Donovan & Brian W. Kernighan.\n",
    "// License: https://creativecommons.org/licenses/by-nc-sa/4.0/\n",
    "\n",
    "// See page 276.\n",
    "\n",
    "\n",
    "//package memo\n",
    "\n",
    "import \"sync\"\n",
    "\n",
    "type Memo struct {\n",
    "\tf     Func\n",
    "\tmu    sync.Mutex // guards cache\n",
    "\tcache map[string]result\n",
    "}\n",
    "\n",
    "type Func func(string) (interface{}, error)\n",
    "\n",
    "type result struct {\n",
    "\tvalue interface{}\n",
    "\terr   error\n",
    "}\n",
    "\n",
    "func New(f Func) *Memo {\n",
    "\treturn &Memo{f: f, cache: make(map[string]result)}\n",
    "}\n",
    "\n",
    "//!+\n",
    "\n",
    "func (memo *Memo) Get(key string) (value interface{}, err error) {\n",
    "\tmemo.mu.Lock()\n",
    "\tres, ok := memo.cache[key]\n",
    "\tmemo.mu.Unlock()\n",
    "\tif !ok {\n",
    "\t\tres.value, res.err = memo.f(key)\n",
    "\n",
    "\t\t// Between the two critical sections, several goroutines\n",
    "\t\t// may race to compute f(key) and update the map.\n",
    "\t\tmemo.mu.Lock()\n",
    "\t\tmemo.cache[key] = res\n",
    "\t\tmemo.mu.Unlock()\n",
    "\t}\n",
    "\treturn res.value, res.err\n",
    "}\n",
    "\n",
    "//!-"
   ]
  },
  {
   "cell_type": "code",
   "execution_count": 29,
   "metadata": {
    "code_folding": [],
    "slideshow": {
     "slide_type": "subslide"
    }
   },
   "outputs": [],
   "source": [
    "// Package memo 4 provides a concurrency-safe memoization a function of\n",
    "// a function.  Requests for different keys proceed in parallel.\n",
    "// Concurrent requests for the same key block until the first completes.\n",
    "// This implementation uses a Mutex.\n",
    "// Copyright © 2016 Alan A. A. Donovan & Brian W. Kernighan.\n",
    "// License: https://creativecommons.org/licenses/by-nc-sa/4.0/\n",
    "\n",
    "// See page 276.\n",
    "\n",
    "//package memo\n",
    "type Func func(string) (interface{}, error)\n",
    "\n",
    "type result struct {\n",
    "\tvalue interface{}\n",
    "\terr   error\n",
    "}\n",
    "\n",
    "//\n",
    "type entry struct {\n",
    "\tres   result\n",
    "\tready chan struct{} // closed when res is ready\n",
    "}\n",
    "\n",
    "func New(f Func) *Memo {\n",
    "\treturn &Memo{f: f, cache: make(map[string]*entry)}\n",
    "}\n",
    "\n",
    "type Memo struct {\n",
    "\tf     Func\n",
    "\tmu    sync.Mutex // guards cache\n",
    "\tcache map[string]*entry\n",
    "}\n",
    "\n",
    "func (memo *Memo) Get(key string) (value interface{}, err error) {\n",
    "\tmemo.mu.Lock()\n",
    "\te := memo.cache[key]\n",
    "\tif e == nil {\n",
    "\t\t// This is the first request for this key.\n",
    "\t\t// This goroutine becomes responsible for computing\n",
    "\t\t// the value and broadcasting the ready condition.\n",
    "\t\te = &entry{ready: make(chan struct{})}\n",
    "\t\tmemo.cache[key] = e\n",
    "\t\tmemo.mu.Unlock()\n",
    "\n",
    "\t\te.res.value, e.res.err = memo.f(key)\n",
    "\n",
    "\t\tclose(e.ready) // broadcast ready condition\n",
    "\t} else {\n",
    "\t\t// This is a repeat request for this key.\n",
    "\t\tmemo.mu.Unlock()\n",
    "\n",
    "\t\t<-e.ready // wait for ready condition\n",
    "\t}\n",
    "\treturn e.res.value, e.res.err\n",
    "}\n",
    "\n",
    "//!-"
   ]
  },
  {
   "cell_type": "code",
   "execution_count": 30,
   "metadata": {
    "code_folding": [],
    "slideshow": {
     "slide_type": "subslide"
    }
   },
   "outputs": [
    {
     "ename": "ERROR",
     "evalue": "repl.go:43:5: type main.Memo has no field or method \"server\": memo.server",
     "output_type": "error",
     "traceback": [
      "repl.go:43:5: type main.Memo has no field or method \"server\": memo.server"
     ]
    }
   ],
   "source": [
    "// Package memo 5 provides a concurrency-safe non-blocking memoization\n",
    "// of a function.  Requests for different keys proceed in parallel.\n",
    "// Concurrent requests for the same key block until the first completes.\n",
    "// This implementation uses a monitor goroutine.\n",
    "// Copyright © 2016 Alan A. A. Donovan & Brian W. Kernighan.\n",
    "// License: https://creativecommons.org/licenses/by-nc-sa/4.0/\n",
    "\n",
    "// See page 278.\n",
    "\n",
    "//package memo\n",
    "\n",
    "//!+Func\n",
    "\n",
    "// Func is the type of the function to memoize.\n",
    "type Func func(key string) (interface{}, error)\n",
    "\n",
    "// A result is the result of calling a Func.\n",
    "type result struct {\n",
    "\tvalue interface{}\n",
    "\terr   error\n",
    "}\n",
    "\n",
    "type entry struct {\n",
    "\tres   result\n",
    "\tready chan struct{} // closed when res is ready\n",
    "}\n",
    "\n",
    "//!-Func\n",
    "\n",
    "//!+get\n",
    "\n",
    "// A request is a message requesting that the Func be applied to key.\n",
    "type request struct {\n",
    "\tkey      string\n",
    "\tresponse chan<- result // the client wants a single result\n",
    "}\n",
    "\n",
    "type Memo struct{ requests chan request }\n",
    "\n",
    "// New returns a memoization of f.  Clients must subsequently call Close.\n",
    "func New(f Func) *Memo {\n",
    "\tmemo := &Memo{requests: make(chan request)}\n",
    "\tgo memo.server(f)\n",
    "\treturn memo\n",
    "}\n",
    "\n",
    "func (memo *Memo) Get(key string) (interface{}, error) {\n",
    "\tresponse := make(chan result)\n",
    "\tmemo.requests <- request{key, response}\n",
    "\tres := <-response\n",
    "\treturn res.value, res.err\n",
    "}\n",
    "\n",
    "func (memo *Memo) Close() { close(memo.requests) }\n",
    "\n",
    "//!-get\n",
    "\n",
    "//!+monitor\n",
    "\n",
    "func (memo *Memo) server(f Func) {\n",
    "\tcache := make(map[string]*entry)\n",
    "\tfor req := range memo.requests {\n",
    "\t\te := cache[req.key]\n",
    "\t\tif e == nil {\n",
    "\t\t\t// This is the first request for this key.\n",
    "\t\t\te = &entry{ready: make(chan struct{})}\n",
    "\t\t\tcache[req.key] = e\n",
    "\t\t\tgo e.call(f, req.key) // call f(key)\n",
    "\t\t}\n",
    "\t\tgo e.deliver(req.response)\n",
    "\t}\n",
    "}\n",
    "\n",
    "func (e *entry) call(f Func, key string) {\n",
    "\t// Evaluate the function.\n",
    "\te.res.value, e.res.err = f(key)\n",
    "\t// Broadcast the ready condition.\n",
    "\tclose(e.ready)\n",
    "}\n",
    "\n",
    "func (e *entry) deliver(response chan<- result) {\n",
    "\t// Wait for the ready condition.\n",
    "\t<-e.ready\n",
    "\t// Send the result to the client.\n",
    "\tresponse <- e.res\n",
    "}\n",
    "\n",
    "//!-monitor"
   ]
  },
  {
   "cell_type": "markdown",
   "metadata": {
    "slideshow": {
     "slide_type": "slide"
    }
   },
   "source": [
    "## Goroutines and Threads"
   ]
  },
  {
   "cell_type": "markdown",
   "metadata": {
    "slideshow": {
     "slide_type": "subslide"
    }
   },
   "source": [
    "### Growable Stacks\n",
    "* a goroutine start with a small stack, typically 2KB\n",
    "* a goroutine's stack is not fixed\n",
    "  * it grows and shrinks as needed, with the limit of 1GB"
   ]
  },
  {
   "cell_type": "markdown",
   "metadata": {
    "slideshow": {
     "slide_type": "subslide"
    }
   },
   "source": [
    "### Groroutine Scheduling\n",
    "* The Go runtime contains its own scheduler using a technique known as m:n scheduling\n",
    "    * it multiplexes (or schedules) m go routines on n OS threads\n",
    "    * the Go scheduler is not invoked periodically by a hardware timer\n",
    "      * implicitly by certain Go language constructs\n",
    "        * time.Sleep or blocks in a channel or mutex operation"
   ]
  },
  {
   "cell_type": "markdown",
   "metadata": {
    "slideshow": {
     "slide_type": "subslide"
    }
   },
   "source": [
    "### GOMAXPROCS\n",
    "* GOMAXPROCS is the n in m:n scheduling"
   ]
  },
  {
   "cell_type": "code",
   "execution_count": 123,
   "metadata": {
    "slideshow": {
     "slide_type": "fragment"
    }
   },
   "outputs": [
    {
     "name": "stdout",
     "output_type": "stream",
     "text": [
      "111111111111111111111111111111111111111111111111111111111111111111111111111111111111111111111111111"
     ]
    }
   ],
   "source": [
    "import \"fmt\"\n",
    "for i:=1;i<100;i++ {\n",
    "    go fmt.Print(0)\n",
    "    fmt.Print(1)\n",
    "}\n",
    "// GOMAXPROC=1 go run hacker-cliche.go\n",
    "// GOMAXPROC=2 go run hacker-cliche.go"
   ]
  },
  {
   "cell_type": "markdown",
   "metadata": {
    "slideshow": {
     "slide_type": "subslide"
    }
   },
   "source": [
    "### Goroutines Have No Identify\n",
    "* Goroutines have no notion of identity that is accessible to the programmer\n",
    "* Go encourages a simpler style of programming in which parameters that affect the behavior of a function are explicit \n"
   ]
  }
 ],
 "metadata": {
  "celltoolbar": "Slideshow",
  "kernelspec": {
   "display_name": "Go",
   "language": "go",
   "name": "gophernotes"
  },
  "language_info": {
   "codemirror_mode": "",
   "file_extension": ".go",
   "mimetype": "",
   "name": "go",
   "nbconvert_exporter": "",
   "pygments_lexer": "",
   "version": "go1.13"
  },
  "latex_envs": {
   "LaTeX_envs_menu_present": true,
   "autoclose": false,
   "autocomplete": true,
   "bibliofile": "biblio.bib",
   "cite_by": "apalike",
   "current_citInitial": 1,
   "eqLabelWithNumbers": true,
   "eqNumInitial": 1,
   "hotkeys": {
    "equation": "Ctrl-E",
    "itemize": "Ctrl-I"
   },
   "labels_anchors": false,
   "latex_user_defs": false,
   "report_style_numbering": false,
   "user_envs_cfg": false
  },
  "toc": {
   "base_numbering": "9",
   "nav_menu": {},
   "number_sections": true,
   "sideBar": true,
   "skip_h1_title": false,
   "title_cell": "Table of Contents",
   "title_sidebar": "Contents",
   "toc_cell": true,
   "toc_position": {},
   "toc_section_display": true,
   "toc_window_display": false
  }
 },
 "nbformat": 4,
 "nbformat_minor": 2
}
