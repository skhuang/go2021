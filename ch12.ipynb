{
 "cells": [
  {
   "cell_type": "markdown",
   "metadata": {
    "toc": true
   },
   "source": [
    "<h1>Table of Contents<span class=\"tocSkip\"></span></h1>\n",
    "<div class=\"toc\"><ul class=\"toc-item\"><li><span><a href=\"#Reflection\" data-toc-modified-id=\"Reflection-12\"><span class=\"toc-item-num\">12&nbsp;&nbsp;</span>Reflection</a></span><ul class=\"toc-item\"><li><span><a href=\"#Why-Reflection?\" data-toc-modified-id=\"Why-Reflection?-12.1\"><span class=\"toc-item-num\">12.1&nbsp;&nbsp;</span>Why Reflection?</a></span></li><li><span><a href=\"#reflect.Type-and-reflect.Value\" data-toc-modified-id=\"reflect.Type-and-reflect.Value-12.2\"><span class=\"toc-item-num\">12.2&nbsp;&nbsp;</span>reflect.Type and reflect.Value</a></span></li><li><span><a href=\"#Display,-a-Recursive-Value-Printer\" data-toc-modified-id=\"Display,-a-Recursive-Value-Printer-12.3\"><span class=\"toc-item-num\">12.3&nbsp;&nbsp;</span>Display, a Recursive Value Printer</a></span></li><li><span><a href=\"#Example:-Encoding-S-Expressions\" data-toc-modified-id=\"Example:-Encoding-S-Expressions-12.4\"><span class=\"toc-item-num\">12.4&nbsp;&nbsp;</span>Example: Encoding S-Expressions</a></span></li><li><span><a href=\"#Setting-Variables-with-reflect.Value\" data-toc-modified-id=\"Setting-Variables-with-reflect.Value-12.5\"><span class=\"toc-item-num\">12.5&nbsp;&nbsp;</span>Setting Variables with reflect.Value</a></span></li><li><span><a href=\"#Example:-Decoding-S-Expressions\" data-toc-modified-id=\"Example:-Decoding-S-Expressions-12.6\"><span class=\"toc-item-num\">12.6&nbsp;&nbsp;</span>Example: Decoding S-Expressions</a></span></li><li><span><a href=\"#Accessing-Struct-Field-Tags\" data-toc-modified-id=\"Accessing-Struct-Field-Tags-12.7\"><span class=\"toc-item-num\">12.7&nbsp;&nbsp;</span>Accessing Struct Field Tags</a></span></li><li><span><a href=\"#Displaying-the-Methods-of-a-Type\" data-toc-modified-id=\"Displaying-the-Methods-of-a-Type-12.8\"><span class=\"toc-item-num\">12.8&nbsp;&nbsp;</span>Displaying the Methods of a Type</a></span></li></ul></li></ul></div>"
   ]
  },
  {
   "cell_type": "markdown",
   "metadata": {},
   "source": [
    "# Reflection"
   ]
  },
  {
   "cell_type": "markdown",
   "metadata": {},
   "source": [
    "## Why Reflection?"
   ]
  },
  {
   "cell_type": "code",
   "execution_count": 1,
   "metadata": {},
   "outputs": [
    {
     "ename": "ERROR",
     "evalue": "repl.go:11:18: undefined \"strconv\" in strconv.Itoa <*ast.SelectorExpr>",
     "output_type": "error",
     "traceback": [
      "repl.go:11:18: undefined \"strconv\" in strconv.Itoa <*ast.SelectorExpr>"
     ]
    }
   ],
   "source": [
    "func Sprint(x interface{}) string{\n",
    "    type stringer interface {\n",
    "        String() string\n",
    "    }\n",
    "    switch x := x.(type) {\n",
    "        case stringer:\n",
    "          return x.String()\n",
    "        case string:\n",
    "          return x\n",
    "        case int:\n",
    "          return strconv.Itoa(x) // ... similar cases for int16, uint32, and so on...\n",
    "        case bool:\n",
    "          if x {\n",
    "            return \"true\"\n",
    "          }\n",
    "          return \"false\"\n",
    "        defaut:\n",
    "          // array, chan, func, map, pointer, slice, struct\n",
    "          return \"???\"\n",
    "    }\n",
    "}"
   ]
  },
  {
   "cell_type": "markdown",
   "metadata": {},
   "source": [
    "## reflect.Type and reflect.Value"
   ]
  },
  {
   "cell_type": "code",
   "execution_count": 6,
   "metadata": {},
   "outputs": [
    {
     "name": "stdout",
     "output_type": "stream",
     "text": [
      "int\n",
      "int\n"
     ]
    },
    {
     "data": {
      "text/plain": [
       "4 <nil>"
      ]
     },
     "execution_count": 6,
     "metadata": {},
     "output_type": "execute_result"
    }
   ],
   "source": [
    "import \"fmt\"\n",
    "t := reflect.TypeOf(3) // a reflect.Type\n",
    "fmt.Println(t.String())// \"int\"\n",
    "fmt.Println(t)         // \"int\""
   ]
  },
  {
   "cell_type": "code",
   "execution_count": 7,
   "metadata": {},
   "outputs": [
    {
     "name": "stdout",
     "output_type": "stream",
     "text": [
      "*os.File\n"
     ]
    },
    {
     "data": {
      "text/plain": [
       "9 <nil>"
      ]
     },
     "execution_count": 7,
     "metadata": {},
     "output_type": "execute_result"
    }
   ],
   "source": [
    "import (\"io\";\"os\")\n",
    "var w io.Writer = os.Stdout \n",
    "fmt.Println(reflect.TypeOf(w))"
   ]
  },
  {
   "cell_type": "code",
   "execution_count": 8,
   "metadata": {},
   "outputs": [
    {
     "name": "stdout",
     "output_type": "stream",
     "text": [
      "int\n"
     ]
    },
    {
     "data": {
      "text/plain": [
       "4 <nil>"
      ]
     },
     "execution_count": 8,
     "metadata": {},
     "output_type": "execute_result"
    }
   ],
   "source": [
    "fmt.Printf(\"%T\\n\",3)   // \"int\""
   ]
  },
  {
   "cell_type": "code",
   "execution_count": 10,
   "metadata": {},
   "outputs": [
    {
     "name": "stdout",
     "output_type": "stream",
     "text": [
      "3\n",
      "3\n",
      "<int Value>\n",
      "3\n"
     ]
    },
    {
     "data": {
      "text/plain": [
       "2 <nil>"
      ]
     },
     "execution_count": 10,
     "metadata": {},
     "output_type": "execute_result"
    }
   ],
   "source": [
    "v := reflect.ValueOf(3)\n",
    "fmt.Println(v)          // \"3\"\n",
    "fmt.Printf(\"%v\\n\",v)    // \"3\"\n",
    "fmt.Println(v.String()) // <int Value>\n",
    "fmt.Println(v)"
   ]
  },
  {
   "cell_type": "code",
   "execution_count": 7,
   "metadata": {},
   "outputs": [],
   "source": [
    "package format\n",
    "\n",
    "import (\n",
    "        \"reflect\"\n",
    "        \"strconv\"\n",
    ")\n",
    "\n",
    "// Any formats any value as a string.\n",
    "func Any(value interface{}) string {\n",
    "        return formatAtom(reflect.ValueOf(value))\n",
    "}\n",
    "\n",
    "// formatAtom formats a value without inspecting its internal structure.\n",
    "func formatAtom(v reflect.Value) string {\n",
    "        switch v.Kind() {\n",
    "        case reflect.Invalid:\n",
    "                return \"invalid\"\n",
    "        case reflect.Int, reflect.Int8, reflect.Int16,\n",
    "                reflect.Int32, reflect.Int64:\n",
    "                return strconv.FormatInt(v.Int(), 10)\n",
    "        case reflect.Uint, reflect.Uint8, reflect.Uint16,\n",
    "                reflect.Uint32, reflect.Uint64, reflect.Uintptr:\n",
    "                return strconv.FormatUint(v.Uint(), 10)\n",
    "            // ...floating-point and complex cases omitted for brevity...\n",
    "        case reflect.Bool:\n",
    "                return strconv.FormatBool(v.Bool())\n",
    "        case reflect.String:\n",
    "                return strconv.Quote(v.String())\n",
    "        case reflect.Chan, reflect.Func, reflect.Ptr, reflect.Slice, reflect.Map:\n",
    "                return v.Type().String() + \" 0x\" +\n",
    "                        strconv.FormatUint(uint64(v.Pointer()), 16)\n",
    "        default: // reflect.Array, reflect.Struct, reflect.Interface\n",
    "                return v.Type().String() + \" value\"\n",
    "        }\n",
    "}"
   ]
  },
  {
   "cell_type": "code",
   "execution_count": 13,
   "metadata": {},
   "outputs": [
    {
     "name": "stdout",
     "output_type": "stream",
     "text": [
      "1\n",
      "1\n",
      "[]int64 0xc0000c5780\n",
      "[]time.Duration 0xc0000c57a0\n"
     ]
    },
    {
     "data": {
      "text/plain": [
       "29 <nil>"
      ]
     },
     "execution_count": 13,
     "metadata": {},
     "output_type": "execute_result"
    }
   ],
   "source": [
    "import (\"time\";\"gopl.io/ch12/format\";\"reflect\";\"fmt\")\n",
    "var x int64 = 1\n",
    "var d time.Duration = 1 * time.Nanosecond\n",
    "fmt.Println(format.Any(x))\n",
    "fmt.Println(format.Any(d))\n",
    "fmt.Println(format.Any([]int64{x}))\n",
    "fmt.Println(format.Any([]time.Duration{d}))"
   ]
  },
  {
   "cell_type": "markdown",
   "metadata": {},
   "source": [
    "## Display, a Recursive Value Printer"
   ]
  },
  {
   "cell_type": "code",
   "execution_count": 8,
   "metadata": {},
   "outputs": [],
   "source": [
    "import \"gopl.io/ch12/format\"\n",
    "func display(path string, v reflect.Value) {\n",
    "        switch v.Kind() {\n",
    "        case reflect.Invalid:\n",
    "                fmt.Printf(\"%s = invalid\\n\", path)\n",
    "        case reflect.Slice, reflect.Array:\n",
    "                for i := 0; i < v.Len(); i++ {\n",
    "                        display(fmt.Sprintf(\"%s[%d]\", path, i), v.Index(i))\n",
    "                }\n",
    "        case reflect.Struct:\n",
    "                for i := 0; i < v.NumField(); i++ {\n",
    "                        fieldPath := fmt.Sprintf(\"%s.%s\", path, v.Type().Field(i).Name)\n",
    "                        display(fieldPath, v.Field(i))\n",
    "                }\n",
    "        case reflect.Map:\n",
    "                for _, key := range v.MapKeys() {\n",
    "                        display(fmt.Sprintf(\"%s[%s]\", path,\n",
    "                                formatAtom(key)), v.MapIndex(key))\n",
    "                }\n",
    "        case reflect.Ptr:\n",
    "                if v.IsNil() {\n",
    "                        fmt.Printf(\"%s = nil\\n\", path)\n",
    "                } else {\n",
    "                        display(fmt.Sprintf(\"(*%s)\", path), v.Elem())\n",
    "                }\n",
    "        case reflect.Interface:\n",
    "                if v.IsNil() {\n",
    "                        fmt.Printf(\"%s = nil\\n\", path)\n",
    "                } else {\n",
    "                        fmt.Printf(\"%s.type = %s\\n\", path, v.Elem().Type())\n",
    "                        display(path+\".value\", v.Elem())\n",
    "                }\n",
    "        default: // basic types, channels, funcs\n",
    "                fmt.Printf(\"%s = %s\\n\", path, formatAtom(v))\n",
    "        }\n",
    "}                "
   ]
  },
  {
   "cell_type": "code",
   "execution_count": 9,
   "metadata": {},
   "outputs": [],
   "source": [
    "import (\"fmt\";\"reflect\")\n",
    "func Display(name string, x interface{}){\n",
    "    fmt.Print(\"Display %s (%T):\\n\",name, x)\n",
    "    display(name, reflect.ValueOf(x))\n",
    "}"
   ]
  },
  {
   "cell_type": "code",
   "execution_count": 2,
   "metadata": {},
   "outputs": [
    {
     "name": "stdout",
     "output_type": "stream",
     "text": [
      "Display e (eval.call):\n",
      "e.fn = \"sqrt\"\n",
      "e.args[0].type = eval.binary\n",
      "e.args[0].value.op = 47\n",
      "e.args[0].value.x.type = eval.Var\n",
      "e.args[0].value.x.value = \"A\"\n",
      "e.args[0].value.y.type = eval.Var\n",
      "e.args[0].value.y.value = \"pi\"\n",
      "Display slice ([]*int):\n",
      "(*slice[0]) = 0\n",
      "slice[1] = nil\n"
     ]
    }
   ],
   "source": [
    "import (\"gopl.io/ch12/display\"; \"gopl.io/ch7/eval\")\n",
    "e, _ := eval.Parse(\"sqrt(A/pi)\")\n",
    "display.Display(\"e\",e)\n",
    "display.Display(\"slice\", []*int{new(int), nil})"
   ]
  },
  {
   "cell_type": "code",
   "execution_count": 5,
   "metadata": {
    "scrolled": true
   },
   "outputs": [
    {
     "name": "stdout",
     "output_type": "stream",
     "text": [
      "Display w (<nil>):\n",
      "w = invalid\n",
      "Display &w (*io.Writer):\n",
      "(*&w) = nil\n"
     ]
    }
   ],
   "source": [
    "import \"io\"\n",
    "var w io.Writer\n",
    "display.Display(\"w\", w)\n",
    "var w io.Writer\n",
    "display.Display(\"&w\", &w)"
   ]
  },
  {
   "cell_type": "code",
   "execution_count": 13,
   "metadata": {},
   "outputs": [
    {
     "name": "stdout",
     "output_type": "stream",
     "text": [
      "Display strangelove (struct { Title string; Subtitle string; Year int; Color bool; Actor map[string]string; Oscars []string; Sequel *string }):\n",
      "strangelove.Title = \"Dr. Strangelove\"\n",
      "strangelove.Subtitle = \"How I Learned to Stop Worrying and Love the Bomb\"\n",
      "strangelove.Year = 1964\n",
      "strangelove.Color = false\n",
      "strangelove.Actor[\"Dr. Strangelove\"] = \"Peter Sellers\"\n",
      "strangelove.Actor[\"Grp. Capt. Lionel Mandrake\"] = \"Peter Sellers\"\n",
      "strangelove.Actor[\"Pres. Merkin Muffley\"] = \"Peter Sellers\"\n",
      "strangelove.Actor[\"Gen. Buck Turgidson\"] = \"George C. Scott\"\n",
      "strangelove.Actor[\"Brig. Gen. Jack D. Ripper\"] = \"Sterling Hayden\"\n",
      "strangelove.Actor[\"Maj. T.J. \\\"King\\\" Kong\"] = \"Slim Pickens\"\n",
      "strangelove.Oscars[0] = \"Best Actor (Nomin.)\"\n",
      "strangelove.Oscars[1] = \"Best Adapted Screenplay (Nomin.)\"\n",
      "strangelove.Oscars[2] = \"Best Director (Nomin.)\"\n",
      "strangelove.Oscars[3] = \"Best Picture (Nomin.)\"\n",
      "strangelove.Sequel = nil\n"
     ]
    }
   ],
   "source": [
    "   type Movie struct {\n",
    "                Title, Subtitle string\n",
    "                Year            int\n",
    "                Color           bool\n",
    "                Actor           map[string]string\n",
    "                Oscars          []string\n",
    "                Sequel          *string\n",
    "        }\n",
    "        //!-movie\n",
    "        //!+strangelove\n",
    "        strangelove := Movie{\n",
    "                Title:    \"Dr. Strangelove\",\n",
    "                Subtitle: \"How I Learned to Stop Worrying and Love the Bomb\",\n",
    "                Year:     1964,\n",
    "                Color:    false,\n",
    "                Actor: map[string]string{\n",
    "                        \"Dr. Strangelove\":            \"Peter Sellers\",\n",
    "                        \"Grp. Capt. Lionel Mandrake\": \"Peter Sellers\",\n",
    "                        \"Pres. Merkin Muffley\":       \"Peter Sellers\",\n",
    "                        \"Gen. Buck Turgidson\":        \"George C. Scott\",\n",
    "                        \"Brig. Gen. Jack D. Ripper\":  \"Sterling Hayden\",\n",
    "                        `Maj. T.J. \"King\" Kong`:      \"Slim Pickens\",\n",
    "                },\n",
    "             Oscars: []string{\n",
    "                        \"Best Actor (Nomin.)\",\n",
    "                        \"Best Adapted Screenplay (Nomin.)\",\n",
    "                        \"Best Director (Nomin.)\",\n",
    "                        \"Best Picture (Nomin.)\",\n",
    "                },\n",
    "        }\n",
    "        //!-strangelove\n",
    "        display.Display(\"strangelove\", strangelove)"
   ]
  },
  {
   "cell_type": "code",
   "execution_count": 8,
   "metadata": {},
   "outputs": [
    {
     "name": "stdout",
     "output_type": "stream",
     "text": [
      "Display os.Stderr (*os.File):\n",
      "(*(*os.Stderr).file).pfd.fdmu.state = 0\n",
      "(*(*os.Stderr).file).pfd.fdmu.rsema = 0\n",
      "(*(*os.Stderr).file).pfd.fdmu.wsema = 0\n",
      "(*(*os.Stderr).file).pfd.Sysfd = 22\n",
      "(*(*os.Stderr).file).pfd.pd.runtimeCtx = 140160623848312\n",
      "(*(*os.Stderr).file).pfd.iovecs = nil\n",
      "(*(*os.Stderr).file).pfd.csema = 0\n",
      "(*(*os.Stderr).file).pfd.isBlocking = 0\n",
      "(*(*os.Stderr).file).pfd.IsStream = true\n",
      "(*(*os.Stderr).file).pfd.ZeroReadIsEOF = true\n",
      "(*(*os.Stderr).file).pfd.isFile = true\n",
      "(*(*os.Stderr).file).name = \"|1\"\n",
      "(*(*os.Stderr).file).dirinfo = nil\n",
      "(*(*os.Stderr).file).nonblock = true\n",
      "(*(*os.Stderr).file).stdoutOrErr = false\n",
      "(*(*os.Stderr).file).appendMode = false\n"
     ]
    }
   ],
   "source": [
    "import \"os\"   \n",
    "display.Display(\"os.Stderr\", os.Stderr)"
   ]
  },
  {
   "cell_type": "markdown",
   "metadata": {},
   "source": [
    "## Example: Encoding S-Expressions"
   ]
  },
  {
   "cell_type": "code",
   "execution_count": 14,
   "metadata": {},
   "outputs": [],
   "source": [
    "import (\n",
    "        \"bytes\"\n",
    "        \"fmt\"\n",
    "        \"reflect\"\n",
    ")\n",
    "func Marshal(v interface{}) ([]byte, error) {\n",
    "        var buf bytes.Buffer\n",
    "        if err := encode(&buf, reflect.ValueOf(v)); err != nil {\n",
    "                return nil, err\n",
    "        }\n",
    "        return buf.Bytes(), nil\n",
    "}\n",
    "func encode(buf *bytes.Buffer, v reflect.Value) error {\n",
    "        switch v.Kind() {\n",
    "        case reflect.Invalid:\n",
    "                buf.WriteString(\"nil\")\n",
    "\n",
    "        case reflect.Int, reflect.Int8, reflect.Int16,\n",
    "                reflect.Int32, reflect.Int64:\n",
    "                fmt.Fprintf(buf, \"%d\", v.Int())\n",
    "\n",
    "        case reflect.Uint, reflect.Uint8, reflect.Uint16,\n",
    "                reflect.Uint32, reflect.Uint64, reflect.Uintptr:\n",
    "                fmt.Fprintf(buf, \"%d\", v.Uint())\n",
    "\n",
    "        case reflect.String:\n",
    "                fmt.Fprintf(buf, \"%q\", v.String())\n",
    "\n",
    "        case reflect.Ptr:\n",
    "                return encode(buf, v.Elem())\n",
    "\n",
    "        case reflect.Array, reflect.Slice: // (value ...)\n",
    "                buf.WriteByte('(')\n",
    "                for i := 0; i < v.Len(); i++ {\n",
    "                        if i > 0 {\n",
    "                             buf.WriteByte(' ')\n",
    "                        }\n",
    "                        if err := encode(buf, v.Index(i)); err != nil {\n",
    "                                return err\n",
    "                        }\n",
    "                }\n",
    "                buf.WriteByte(')')\n",
    "\n",
    "        case reflect.Struct: // ((name value) ...)\n",
    "                buf.WriteByte('(')\n",
    "                for i := 0; i < v.NumField(); i++ {\n",
    "                        if i > 0 {\n",
    "                                buf.WriteByte(' ')\n",
    "                        }\n",
    "                        fmt.Fprintf(buf, \"(%s \", v.Type().Field(i).Name)\n",
    "                        if err := encode(buf, v.Field(i)); err != nil {\n",
    "                                return err\n",
    "                        }\n",
    "                        buf.WriteByte(')')\n",
    "                }\n",
    "                buf.WriteByte(')')\n",
    "\n",
    "        case reflect.Map: // ((key value) ...)\n",
    "            buf.WriteByte('(')\n",
    "                for i, key := range v.MapKeys() {\n",
    "                        if i > 0 {\n",
    "                                buf.WriteByte(' ')\n",
    "                        }\n",
    "                        buf.WriteByte('(')\n",
    "                        if err := encode(buf, key); err != nil {\n",
    "                                return err\n",
    "                        }\n",
    "                        buf.WriteByte(' ')\n",
    "                        if err := encode(buf, v.MapIndex(key)); err != nil {\n",
    "                                return err\n",
    "                        }\n",
    "                        buf.WriteByte(')')\n",
    "                }\n",
    "                buf.WriteByte(')')\n",
    "\n",
    "        default: // float, complex, bool, chan, func, interface\n",
    "                return fmt.Errorf(\"unsupported type: %s\", v.Type())\n",
    "        }\n",
    "        return nil\n",
    "}"
   ]
  },
  {
   "cell_type": "code",
   "execution_count": 27,
   "metadata": {},
   "outputs": [
    {
     "ename": "ERROR",
     "evalue": "repl.go:2:28: undefined identifier: strangelove",
     "output_type": "error",
     "traceback": [
      "repl.go:2:28: undefined identifier: strangelove"
     ]
    }
   ],
   "source": [
    "import \"gopl.io/ch12/sexpr\"\n",
    "data, err := sexpr.Marshal(strangelove)\n",
    "fmt.Printf(\"%s\", data)"
   ]
  },
  {
   "cell_type": "markdown",
   "metadata": {},
   "source": [
    "## Setting Variables with reflect.Value"
   ]
  },
  {
   "cell_type": "code",
   "execution_count": 41,
   "metadata": {},
   "outputs": [
    {
     "data": {
      "text/plain": [
       "2"
      ]
     },
     "execution_count": 41,
     "metadata": {},
     "output_type": "execute_result"
    }
   ],
   "source": [
    "x := 2                   // value   type   variable\n",
    "a := reflect.ValueOf(2)  // 2       int    no\n",
    "b := reflect.ValueOf(x)  // 2       int    no\n",
    "c := reflect.ValueOf(&x) // &x      *int   no\n",
    "d := c.Elem()            // 2       int    yes (x)"
   ]
  },
  {
   "cell_type": "code",
   "execution_count": 42,
   "metadata": {},
   "outputs": [
    {
     "name": "stdout",
     "output_type": "stream",
     "text": [
      "false\n",
      "false\n",
      "false\n",
      "true\n"
     ]
    },
    {
     "data": {
      "text/plain": [
       "5 <nil>"
      ]
     },
     "execution_count": 42,
     "metadata": {},
     "output_type": "execute_result"
    }
   ],
   "source": [
    "fmt.Println(a.CanAddr()) \n",
    "fmt.Println(b.CanAddr())\n",
    "fmt.Println(c.CanAddr())\n",
    "fmt.Println(d.CanAddr())"
   ]
  },
  {
   "cell_type": "code",
   "execution_count": 43,
   "metadata": {},
   "outputs": [
    {
     "name": "stdout",
     "output_type": "stream",
     "text": [
      "3\n"
     ]
    },
    {
     "data": {
      "text/plain": [
       "2 <nil>"
      ]
     },
     "execution_count": 43,
     "metadata": {},
     "output_type": "execute_result"
    }
   ],
   "source": [
    "x := 2\n",
    "d := reflect.ValueOf(&x).Elem()\n",
    "px := d.Addr().Interface().(*int)\n",
    "*px = 3\n",
    "fmt.Println(x)"
   ]
  },
  {
   "cell_type": "code",
   "execution_count": 44,
   "metadata": {},
   "outputs": [
    {
     "name": "stdout",
     "output_type": "stream",
     "text": [
      "4\n"
     ]
    },
    {
     "data": {
      "text/plain": [
       "2 <nil>"
      ]
     },
     "execution_count": 44,
     "metadata": {},
     "output_type": "execute_result"
    }
   ],
   "source": [
    "d.Set(reflect.ValueOf(4))\n",
    "fmt.Println(x)  "
   ]
  },
  {
   "cell_type": "code",
   "execution_count": 45,
   "metadata": {
    "cell_style": "split"
   },
   "outputs": [
    {
     "ename": "ERROR",
     "evalue": "reflect.Set: value of type int64 is not assignable to type int",
     "output_type": "error",
     "traceback": [
      "reflect.Set: value of type int64 is not assignable to type int"
     ]
    }
   ],
   "source": [
    "d.Set(reflect.ValueOf(int64(5)))"
   ]
  },
  {
   "cell_type": "code",
   "execution_count": 46,
   "metadata": {},
   "outputs": [
    {
     "ename": "ERROR",
     "evalue": "cannot convert untyped constant {int 3} to <reflect.Value>",
     "output_type": "error",
     "traceback": [
      "cannot convert untyped constant {int 3} to <reflect.Value>"
     ]
    }
   ],
   "source": [
    "x := 2\n",
    "b := reflect.ValueOf(x)\n",
    "b.Set(reflect.Value(3))  "
   ]
  },
  {
   "cell_type": "code",
   "execution_count": 48,
   "metadata": {},
   "outputs": [
    {
     "name": "stdout",
     "output_type": "stream",
     "text": [
      "3\n"
     ]
    },
    {
     "data": {
      "text/plain": [
       "2 <nil>"
      ]
     },
     "execution_count": 48,
     "metadata": {},
     "output_type": "execute_result"
    }
   ],
   "source": [
    "d := reflect.ValueOf(&x).Elem()\n",
    "d.SetInt(3)\n",
    "fmt.Println(x)"
   ]
  },
  {
   "cell_type": "code",
   "execution_count": 25,
   "metadata": {},
   "outputs": [],
   "source": [
    "x := 1\n",
    "rx := reflect.ValueOf(&x).Elem()\n",
    "rx.SetInt(2)\n",
    "rx.Set(reflect.ValueOf(3))"
   ]
  },
  {
   "cell_type": "code",
   "execution_count": 26,
   "metadata": {},
   "outputs": [
    {
     "ename": "ERROR",
     "evalue": "reflect: call of reflect.Value.SetString on int Value",
     "output_type": "error",
     "traceback": [
      "reflect: call of reflect.Value.SetString on int Value"
     ]
    }
   ],
   "source": [
    "rx.SetString(\"hello\")\n",
    "rx.Set(reflect.ValueOf(\"hello\"))"
   ]
  },
  {
   "cell_type": "code",
   "execution_count": 55,
   "metadata": {},
   "outputs": [],
   "source": [
    "var y interface{}\n",
    "ry := reflect.ValueOf(&y).Elem()\n",
    "//ry.SetInt(2)\n",
    "//ry.Set(reflect.ValueOf(3))\n",
    "//ry.SetString(\"hello\")\n",
    "ry.Set(reflect.ValueOf(\"hello\"))"
   ]
  },
  {
   "cell_type": "code",
   "execution_count": 63,
   "metadata": {},
   "outputs": [
    {
     "name": "stdout",
     "output_type": "stream",
     "text": [
      "os.File\n",
      "{%!q(*os.file=&{{{0 0 0} 24 {140160623845992} <nil> 0 0 true true true} |1 <nil> true false false})}false false\n"
     ]
    },
    {
     "data": {
      "text/plain": [
       "12 <nil>"
      ]
     },
     "execution_count": 63,
     "metadata": {},
     "output_type": "execute_result"
    }
   ],
   "source": [
    "stdout := reflect.ValueOf(os.Stdout).Elem()\n",
    "fmt.Println(stdout.Type())\n",
    "fmt.Printf(\"%q\", stdout)\n",
    "fd := stdout.FieldByName(\"fd\")\n",
    "//fmt.Println(fd.Int())\n",
    "fmt.Println(fd.CanAddr(),fd.CanSet())"
   ]
  },
  {
   "cell_type": "code",
   "execution_count": 64,
   "metadata": {},
   "outputs": [
    {
     "name": "stdout",
     "output_type": "stream",
     "text": [
      "Display os.stdout (reflect.Value):\n",
      "(*os.stdout.typ).size = 8\n",
      "(*os.stdout.typ).ptrdata = 8\n",
      "(*os.stdout.typ).hash = 1205328019\n",
      "(*os.stdout.typ).tflag = 15\n",
      "(*os.stdout.typ).align = 8\n",
      "(*os.stdout.typ).fieldAlign = 8\n",
      "(*os.stdout.typ).kind = 57\n",
      "(*os.stdout.typ).equal = func(unsafe.Pointer, unsafe.Pointer) bool 0x80f1a0\n",
      "(*(*os.stdout.typ).gcdata) = 1\n",
      "(*os.stdout.typ).str = 26948\n",
      "(*os.stdout.typ).ptrToThis = 2002784\n",
      "os.stdout.ptr = unsafe.Pointer value\n",
      "os.stdout.flag = 409\n"
     ]
    }
   ],
   "source": [
    "import \"gopl.io/ch12/display\"\n",
    "display.Display(\"os.stdout\", stdout)"
   ]
  },
  {
   "cell_type": "code",
   "execution_count": 66,
   "metadata": {},
   "outputs": [
    {
     "name": "stdout",
     "output_type": "stream",
     "text": [
      "Display os.stdout (*os.File):\n",
      "(*(*os.stdout).file).pfd.fdmu.state = 0\n",
      "(*(*os.stdout).file).pfd.fdmu.rsema = 0\n",
      "(*(*os.stdout).file).pfd.fdmu.wsema = 0\n",
      "(*(*os.stdout).file).pfd.Sysfd = 20\n",
      "(*(*os.stdout).file).pfd.pd.runtimeCtx = 140160623848776\n",
      "(*(*os.stdout).file).pfd.iovecs = nil\n",
      "(*(*os.stdout).file).pfd.csema = 0\n",
      "(*(*os.stdout).file).pfd.isBlocking = 0\n",
      "(*(*os.stdout).file).pfd.IsStream = true\n",
      "(*(*os.stdout).file).pfd.ZeroReadIsEOF = true\n",
      "(*(*os.stdout).file).pfd.isFile = true\n",
      "(*(*os.stdout).file).name = \"|1\"\n",
      "(*(*os.stdout).file).dirinfo = nil\n",
      "(*(*os.stdout).file).nonblock = true\n",
      "(*(*os.stdout).file).stdoutOrErr = false\n",
      "(*(*os.stdout).file).appendMode = false\n"
     ]
    }
   ],
   "source": [
    "display.Display(\"os.stdout\",os.Stdout)"
   ]
  },
  {
   "cell_type": "markdown",
   "metadata": {},
   "source": [
    "## Example: Decoding S-Expressions"
   ]
  },
  {
   "cell_type": "code",
   "execution_count": 13,
   "metadata": {},
   "outputs": [],
   "source": [
    "import (\n",
    "        \"bytes\"\n",
    "        \"fmt\"\n",
    "        \"reflect\"\n",
    "        \"strconv\"\n",
    "        \"text/scanner\"\n",
    ")\n",
    "//!+lexer\n",
    "type lexer struct {\n",
    "        scan  scanner.Scanner\n",
    "        token rune // the current token\n",
    "}\n",
    "\n",
    "func (lex *lexer) next()        { lex.token = lex.scan.Scan() }\n",
    "func (lex *lexer) text() string { return lex.scan.TokenText() }\n",
    "\n",
    "func (lex *lexer) consume(want rune) {\n",
    "        if lex.token != want { // NOTE: Not an example of good error handling.\n",
    "                panic(fmt.Sprintf(\"got %q, want %q\", lex.text(), want))\n",
    "        }\n",
    "        lex.next()\n",
    "}"
   ]
  },
  {
   "cell_type": "code",
   "execution_count": 24,
   "metadata": {},
   "outputs": [
    {
     "ename": "ERROR",
     "evalue": "repl.go:33:25: undefined identifier: read",
     "output_type": "error",
     "traceback": [
      "repl.go:33:25: undefined identifier: read"
     ]
    }
   ],
   "source": [
    "func read(lex *lexer, v reflect.Value) {\n",
    "        switch lex.token {\n",
    "        case scanner.Ident:\n",
    "                // The only valid identifiers are\n",
    "                // \"nil\" and struct field names.\n",
    "                if lex.text() == \"nil\" {\n",
    "                        v.Set(reflect.Zero(v.Type()))\n",
    "                        lex.next()\n",
    "                        return\n",
    "                }\n",
    "        case scanner.String:\n",
    "                s, _ := strconv.Unquote(lex.text()) // NOTE: ignoring errors\n",
    "                v.SetString(s)\n",
    "                lex.next()\n",
    "                return\n",
    "        case scanner.Int:\n",
    "                i, _ := strconv.Atoi(lex.text()) // NOTE: ignoring errors\n",
    "                v.SetInt(int64(i))\n",
    "                lex.next()\n",
    "                return\n",
    "        case '(':\n",
    "                lex.next()\n",
    "                readList(lex, v)\n",
    "                lex.next() // consume ')'\n",
    "                return\n",
    "        }\n",
    "        panic(fmt.Sprintf(\"unexpected token %q\", lex.text()))\n",
    "}\n",
    "func readList(lex *lexer, v reflect.Value) {\n",
    "        switch v.Kind() {\n",
    "        case reflect.Array: // (item ...)\n",
    "                for i := 0; !endList(lex); i++ {\n",
    "                        read(lex, v.Index(i))\n",
    "                }\n",
    "\n",
    "        case reflect.Slice: // (item ...)\n",
    "                for !endList(lex) {\n",
    "                        item := reflect.New(v.Type().Elem()).Elem()\n",
    "                        read(lex, item)\n",
    "                        v.Set(reflect.Append(v, item))\n",
    "                }\n",
    "\n",
    "        case reflect.Struct: // ((name value) ...)\n",
    "                for !endList(lex) {\n",
    "                        lex.consume('(')\n",
    "                        if lex.token != scanner.Ident {\n",
    "                                panic(fmt.Sprintf(\"got token %q, want field name\", lex.text()))\n",
    "                        }\n",
    "                        name := lex.text()\n",
    "                        lex.next()\n",
    "                        read(lex, v.FieldByName(name))\n",
    "                        lex.consume(')')\n",
    "                }\n",
    "\n",
    "        case reflect.Map: // ((key value) ...)\n",
    "                v.Set(reflect.MakeMap(v.Type()))\n",
    "                for !endList(lex) {\n",
    "                        lex.consume('(')\n",
    "                        key := reflect.New(v.Type().Key()).Elem()\n",
    "                        read(lex, key)\n",
    "                        value := reflect.New(v.Type().Elem()).Elem()\n",
    "                        read(lex, value)\n",
    "                        v.SetMapIndex(key, value)\n",
    "                        lex.consume(')')\n",
    "                }\n",
    "\n",
    "        default:\n",
    "                panic(fmt.Sprintf(\"cannot decode list into %v\", v.Type()))\n",
    "        }\n",
    "}"
   ]
  },
  {
   "cell_type": "code",
   "execution_count": 17,
   "metadata": {},
   "outputs": [],
   "source": [
    "func endList(lex *lexer) bool {\n",
    "        switch lex.token {\n",
    "        case scanner.EOF:\n",
    "                panic(\"end of file\")\n",
    "        case ')':\n",
    "                return true\n",
    "        }\n",
    "        return false\n",
    "}"
   ]
  },
  {
   "cell_type": "markdown",
   "metadata": {},
   "source": [
    "## Accessing Struct Field Tags"
   ]
  },
  {
   "cell_type": "code",
   "execution_count": 11,
   "metadata": {},
   "outputs": [],
   "source": [
    "import \"net/http\"\n",
    "import \"gopl.io/ch12/params\"\n",
    "\n",
    "// search implements the /search URL endpoint.\n",
    "func search(resp http.ResponseWriter, req *http.Request) {\n",
    "        var data struct {\n",
    "                Labels     []string `http:\"l\"`\n",
    "                MaxResults int      `http:\"max\"`\n",
    "                Exact      bool     `http:\"x\"`\n",
    "        }\n",
    "        data.MaxResults = 10 // set default\n",
    "        if err := params.Unpack(req, &data); err != nil {\n",
    "                http.Error(resp, err.Error(), http.StatusBadRequest) // 400\n",
    "                return\n",
    "        }\n",
    "\n",
    "        // ...rest of handler...\n",
    "        fmt.Fprintf(resp, \"Search: %+v\\n\", data)\n",
    "}"
   ]
  },
  {
   "cell_type": "code",
   "execution_count": 10,
   "metadata": {},
   "outputs": [],
   "source": [
    "import \"log\"\n",
    "func main() {\n",
    "        http.HandleFunc(\"/search\", search)\n",
    "        log.Fatal(http.ListenAndServe(\":12345\", nil))\n",
    "}\n",
    "\n",
    "/*\n",
    "//!+output\n",
    "$ go build gopl.io/ch12/search\n",
    "$ ./search &\n",
    "$ ./fetch 'http://localhost:12345/search'\n",
    "Search: {Labels:[] MaxResults:10 Exact:false}\n",
    "$ ./fetch 'http://localhost:12345/search?l=golang&l=programming'\n",
    "Search: {Labels:[golang programming] MaxResults:10 Exact:false}\n",
    "$ ./fetch 'http://localhost:12345/search?l=golang&l=programming&max=100'\n",
    "Search: {Labels:[golang programming] MaxResults:100 Exact:false}\n",
    "$ ./fetch 'http://localhost:12345/search?x=true&l=golang&l=programming'\n",
    "Search: {Labels:[golang programming] MaxResults:10 Exact:true}\n",
    "$ ./fetch 'http://localhost:12345/search?q=hello&x=123'\n",
    "x: strconv.ParseBool: parsing \"123\": invalid syntax\n",
    "$ ./fetch 'http://localhost:12345/search?q=hello&max=lots'\n",
    "max: strconv.ParseInt: parsing \"lots\": invalid syntax\n",
    "//!-output\n",
    "*/"
   ]
  },
  {
   "cell_type": "code",
   "execution_count": null,
   "metadata": {},
   "outputs": [],
   "source": [
    "main()"
   ]
  },
  {
   "cell_type": "markdown",
   "metadata": {},
   "source": [
    "* [http://localhost:12345/search](http://localhost:12345/search)\n",
    "* [http://localhost:12345/search?l=golang&l=programming](http://localhost:12345/search?l=golang&l=programming)\n",
    "* [http://localhost:12345/search?l=golang&l=programming&max=100](http://localhost:12345/search?l=golang&l=programming&max=100)\n",
    "* [http://localhost:12345/search?x=true&l=golang&l=programming](http://localhost:12345/search?x=true&l=golang&l=programming)\n",
    "* [http://localhost:12345/search?q=hello&x=123](http://localhost:12345/search?q=hello&x=123)\n",
    "* [http://localhost:12345/search?q=hello&max=lots](http://localhost:12345/search?q=hello&max=lots)"
   ]
  },
  {
   "cell_type": "code",
   "execution_count": 9,
   "metadata": {},
   "outputs": [],
   "source": [
    "//!+populate\n",
    "import \"strconv\"\n",
    "import \"fmt\"\n",
    "func populate(v reflect.Value, value string) error {\n",
    "        switch v.Kind() {\n",
    "        case reflect.String:\n",
    "                v.SetString(value)\n",
    "\n",
    "        case reflect.Int:\n",
    "                i, err := strconv.ParseInt(value, 10, 64)\n",
    "                if err != nil {\n",
    "                        return err\n",
    "                }\n",
    "                v.SetInt(i)\n",
    "\n",
    "        case reflect.Bool:\n",
    "                b, err := strconv.ParseBool(value)\n",
    "                if err != nil {\n",
    "                        return err\n",
    "                }\n",
    "                v.SetBool(b)\n",
    "\n",
    "        default:\n",
    "                return fmt.Errorf(\"unsupported kind %s\", v.Type())\n",
    "        }\n",
    "        return nil\n",
    "}"
   ]
  },
  {
   "cell_type": "code",
   "execution_count": 10,
   "metadata": {},
   "outputs": [],
   "source": [
    "import \"net/http\"\n",
    "import \"reflect\"\n",
    "import \"strings\"\n",
    "// Unpack populates the fields of the struct pointed to by ptr\n",
    "// from the HTTP request parameters in req.\n",
    "func Unpack(req *http.Request, ptr interface{}) error {\n",
    "        if err := req.ParseForm(); err != nil {\n",
    "                return err\n",
    "        }\n",
    "\n",
    "        // Build map of fields keyed by effective name.\n",
    "        fields := make(map[string]reflect.Value)\n",
    "        v := reflect.ValueOf(ptr).Elem() // the struct variable\n",
    "        for i := 0; i < v.NumField(); i++ {\n",
    "                fieldInfo := v.Type().Field(i) // a reflect.StructField\n",
    "                tag := fieldInfo.Tag           // a reflect.StructTag\n",
    "                name := tag.Get(\"http\")\n",
    "                if name == \"\" {\n",
    "                        name = strings.ToLower(fieldInfo.Name)\n",
    "                }\n",
    "                fields[name] = v.Field(i)\n",
    "        }\n",
    "\n",
    "        // Update struct field for each parameter in the request.\n",
    "        for name, values := range req.Form {\n",
    "                f := fields[name]\n",
    "                if !f.IsValid() {\n",
    "                        continue // ignore unrecognized HTTP parameters\n",
    "                }\n",
    "                for _, value := range values {\n",
    "                        if f.Kind() == reflect.Slice {\n",
    "                                elem := reflect.New(f.Type().Elem()).Elem()\n",
    "                                if err := populate(elem, value); err != nil {\n",
    "                                        return fmt.Errorf(\"%s: %v\", name, err)\n",
    "                                }\n",
    "                                f.Set(reflect.Append(f, elem))\n",
    "                         } else {\n",
    "                                if err := populate(f, value); err != nil {\n",
    "                                        return fmt.Errorf(\"%s: %v\", name, err)\n",
    "                                }\n",
    "                        }\n",
    "                }\n",
    "        }\n",
    "        return nil\n",
    "}                    "
   ]
  },
  {
   "cell_type": "markdown",
   "metadata": {},
   "source": [
    "## Displaying the Methods of a Type"
   ]
  },
  {
   "cell_type": "code",
   "execution_count": 30,
   "metadata": {},
   "outputs": [],
   "source": [
    "import \"strings\"\n",
    "import \"reflect\"\n",
    "import \"fmt\"\n",
    "func Print(x interface{}) {\n",
    "        v := reflect.ValueOf(x)\n",
    "        t := v.Type()\n",
    "        fmt.Printf(\"type %s\\n\", t)\n",
    "\n",
    "        for i := 0; i < v.NumMethod(); i++ {\n",
    "                methType := v.Method(i).Type()\n",
    "                fmt.Printf(\"func (%s) %s%s\\n\", t, t.Method(i).Name,\n",
    "                        strings.TrimPrefix(methType.String(), \"func\"))\n",
    "        }\n",
    "}"
   ]
  },
  {
   "cell_type": "code",
   "execution_count": 31,
   "metadata": {},
   "outputs": [
    {
     "name": "stdout",
     "output_type": "stream",
     "text": [
      "type time.Duration\n",
      "func (time.Duration) Hours() float64\n",
      "func (time.Duration) Microseconds() int64\n",
      "func (time.Duration) Milliseconds() int64\n",
      "func (time.Duration) Minutes() float64\n",
      "func (time.Duration) Nanoseconds() int64\n",
      "func (time.Duration) Round(time.Duration) time.Duration\n",
      "func (time.Duration) Seconds() float64\n",
      "func (time.Duration) String() string\n",
      "func (time.Duration) Truncate(time.Duration) time.Duration\n"
     ]
    }
   ],
   "source": [
    "import \"time\"\n",
    "Print(time.Hour)"
   ]
  },
  {
   "cell_type": "code",
   "execution_count": 32,
   "metadata": {},
   "outputs": [
    {
     "name": "stdout",
     "output_type": "stream",
     "text": [
      "type *strings.Replacer\n",
      "func (*strings.Replacer) Replace(string) string\n",
      "func (*strings.Replacer) WriteString(io.Writer, string) (int, error)\n"
     ]
    }
   ],
   "source": [
    "import \"strings\"\n",
    "Print(new(strings.Replacer))"
   ]
  }
 ],
 "metadata": {
  "kernelspec": {
   "display_name": "Go",
   "language": "go",
   "name": "gophernotes"
  },
  "language_info": {
   "codemirror_mode": "",
   "file_extension": ".go",
   "mimetype": "",
   "name": "go",
   "nbconvert_exporter": "",
   "pygments_lexer": "",
   "version": "go1.17.1"
  },
  "toc": {
   "base_numbering": "12",
   "nav_menu": {},
   "number_sections": true,
   "sideBar": false,
   "skip_h1_title": false,
   "title_cell": "Table of Contents",
   "title_sidebar": "Contents",
   "toc_cell": true,
   "toc_position": {
    "height": "calc(100% - 180px)",
    "left": "10px",
    "top": "150px",
    "width": "165px"
   },
   "toc_section_display": true,
   "toc_window_display": false
  }
 },
 "nbformat": 4,
 "nbformat_minor": 4
}
