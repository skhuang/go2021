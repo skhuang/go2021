{
 "cells": [
  {
   "cell_type": "markdown",
   "metadata": {
    "slideshow": {
     "slide_type": "skip"
    },
    "toc": true
   },
   "source": [
    "<h1>Table of Contents<span class=\"tocSkip\"></span></h1>\n",
    "<div class=\"toc\"><ul class=\"toc-item\"><li><span><a href=\"#Composite-Types-(II)\" data-toc-modified-id=\"Composite-Types-(II)-4\"><span class=\"toc-item-num\">4&nbsp;&nbsp;</span>Composite Types (II)</a></span><ul class=\"toc-item\"><li><span><a href=\"#Arrays\" data-toc-modified-id=\"Arrays-4.1\"><span class=\"toc-item-num\">4.1&nbsp;&nbsp;</span>Arrays</a></span></li><li><span><a href=\"#Slices\" data-toc-modified-id=\"Slices-4.2\"><span class=\"toc-item-num\">4.2&nbsp;&nbsp;</span>Slices</a></span></li><li><span><a href=\"#Maps\" data-toc-modified-id=\"Maps-4.3\"><span class=\"toc-item-num\">4.3&nbsp;&nbsp;</span>Maps</a></span></li><li><span><a href=\"#Structs\" data-toc-modified-id=\"Structs-4.4\"><span class=\"toc-item-num\">4.4&nbsp;&nbsp;</span>Structs</a></span><ul class=\"toc-item\"><li><span><a href=\"#Struct-Literals\" data-toc-modified-id=\"Struct-Literals-4.4.1\"><span class=\"toc-item-num\">4.4.1&nbsp;&nbsp;</span>Struct Literals</a></span></li><li><span><a href=\"#Comparing-Structs\" data-toc-modified-id=\"Comparing-Structs-4.4.2\"><span class=\"toc-item-num\">4.4.2&nbsp;&nbsp;</span>Comparing Structs</a></span></li><li><span><a href=\"#Struct-Embedding-and-Anonymous-Fields\" data-toc-modified-id=\"Struct-Embedding-and-Anonymous-Fields-4.4.3\"><span class=\"toc-item-num\">4.4.3&nbsp;&nbsp;</span>Struct Embedding and Anonymous Fields</a></span></li></ul></li><li><span><a href=\"#JSON\" data-toc-modified-id=\"JSON-4.5\"><span class=\"toc-item-num\">4.5&nbsp;&nbsp;</span>JSON</a></span></li><li><span><a href=\"#Text-and-HTML-Templates\" data-toc-modified-id=\"Text-and-HTML-Templates-4.6\"><span class=\"toc-item-num\">4.6&nbsp;&nbsp;</span>Text and HTML Templates</a></span></li></ul></li></ul></div>"
   ]
  },
  {
   "cell_type": "markdown",
   "metadata": {
    "slideshow": {
     "slide_type": "slide"
    }
   },
   "source": [
    "# Composite Types (II)\n",
    "*    **Structs**\n",
    "     *    Struct Literals\n",
    "     *    Comparing Structs\n",
    "     *    Struct Embedding and Anonymous Fields\n",
    "*    JSON\n",
    "*    Text and HTML Templates"
   ]
  },
  {
   "cell_type": "markdown",
   "metadata": {
    "slideshow": {
     "slide_type": "skip"
    }
   },
   "source": [
    "## Arrays\n",
    "## Slices \n",
    "## Maps"
   ]
  },
  {
   "cell_type": "markdown",
   "metadata": {
    "slideshow": {
     "slide_type": "slide"
    }
   },
   "source": [
    "\n",
    "## Structs"
   ]
  },
  {
   "cell_type": "markdown",
   "metadata": {
    "slideshow": {
     "slide_type": "fragment"
    }
   },
   "source": [
    "* A struct is an aggregate data type grouping together zero or more named values of arbitrar types as a single entity\n",
    "* Each value is called a field\n",
    "* The name of a struct field is exported if it begins with a capital letter; this is Go's main access control mechanism\n",
    "* A struct type may contain a mixture of exported and unexported fields"
   ]
  },
  {
   "cell_type": "code",
   "execution_count": 14,
   "metadata": {
    "code_folding": [
     0,
     2,
     15
    ],
    "slideshow": {
     "slide_type": "subslide"
    }
   },
   "outputs": [
    {
     "name": "stdout",
     "output_type": "stream",
     "text": [
      "map['\\x01':%!q(*struct { ID int; Name string; Address string; DoB time.Time; Position string; Salary int; ManagerID int }=&{1   {0 0 <nil>} Vice President 0 3}) '\\x02':%!q(*struct { ID int; Name string; Address string; DoB time.Time; Position string; Salary int; ManagerID int }=&{2   {0 0 <nil>} Senior (proactive team player) -5000 1})]"
     ]
    },
    {
     "data": {
      "text/plain": [
       "338 <nil>"
      ]
     },
     "execution_count": 14,
     "metadata": {},
     "output_type": "execute_result"
    }
   ],
   "source": [
    "//Employee\n",
    "import \"time\"\n",
    "type Employee struct {\n",
    "    ID int\n",
    "    Name string\n",
    "    Address string\n",
    "    DoB time.Time\n",
    "    Position string\n",
    "    Salary int\n",
    "    ManagerID int\n",
    "}\n",
    "employeeDB := make(map[int]*Employee)\n",
    "alan := Employee{ID:1, ManagerID: 3, Position: \"Vice President\"}\n",
    "dilbert := Employee{ID:2, ManagerID: 1}\n",
    "employeeDB[alan.ID] = &alan\n",
    "employeeDB[dilbert.ID] = &dilbert\n",
    "dilbert.Salary -= 5000\n",
    "position := &dilbert.Position\n",
    "*position = \"Senior\" + *position\n",
    "var employeeOfTheMonth *Employee = &dilbert\n",
    "//employeeOfTheMonth.Position += \" (proactive team player)\"\n",
    "(*employeeOfTheMonth).Position += \" (proactive team player)\"\n",
    "fmt.Printf(\"%q\",employeeDB)"
   ]
  },
  {
   "cell_type": "code",
   "execution_count": 3,
   "metadata": {
    "slideshow": {
     "slide_type": "subslide"
    }
   },
   "outputs": [
    {
     "name": "stdout",
     "output_type": "stream",
     "text": [
      "Vice President\n"
     ]
    }
   ],
   "source": [
    "import \"fmt\"\n",
    "func EmployeeByID(id int) *Employee { return employeeDB[id]}\n",
    "fmt.Println(EmployeeByID(dilbert.ManagerID).Position)\n",
    "id := dilbert.ID\n",
    "EmployeeByID(id).Salary = 0"
   ]
  },
  {
   "cell_type": "code",
   "execution_count": 15,
   "metadata": {
    "code_folding": [
     0
    ],
    "slideshow": {
     "slide_type": "subslide"
    }
   },
   "outputs": [
    {
     "name": "stdout",
     "output_type": "stream",
     "text": [
      "not sorted: [10 1 21 1 37 20 8 48 16 49 34 37 24 36 15 23 18 41 40 31 23 6 11 37 28 9 22 0 38 21 44 43 23 9 3 39 33 7 32 30 15 16 20 21 2 7 19 12 10 47]"
     ]
    }
   ],
   "source": [
    "//gopl.io/ch4/treesort\n",
    "import (\"math/rand\";\"sort\";\"fmt\")\n",
    "type tree struct {\n",
    "\tvalue       int\n",
    "\tleft, right *tree\n",
    "}\n",
    "\n",
    "// Sort sorts values in place.\n",
    "func Sort(values []int) {\n",
    "\tvar root *tree\n",
    "\tfor _, v := range values {\n",
    "\t\troot = add(root, v)\n",
    "\t}\n",
    "\t//appendValues(values[:0], root)\n",
    "}\n",
    "\n",
    "// appendValues appends the elements of t to values in order\n",
    "// and returns the resulting slice.\n",
    "func appendValues(values []int, t *tree) []int {\n",
    "\tif t != nil {\n",
    "\t\tvalues = appendValues(values, t.left)\n",
    "\t\tvalues = append(values, t.value)\n",
    "\t\tvalues = appendValues(values, t.right)\n",
    "\t}\n",
    "\treturn values\n",
    "}\n",
    "\n",
    "func add(t *tree, value int) *tree {\n",
    "\tif t == nil {\n",
    "\t\t// Equivalent to return &tree{value: value}.\n",
    "\t\tt = new(tree)\n",
    "\t\tt.value = value\n",
    "\t\treturn t\n",
    "\t}\n",
    "\tif value < t.value {\n",
    "\t\tt.left = add(t.left, value)\n",
    "\t} else {\n",
    "\t\t//t.right = add(t.right, value)\n",
    "\t}\n",
    "\treturn t\n",
    "}\n",
    "\n",
    "data := make([]int, 50)\n",
    "for i := range data {\n",
    "\tdata[i] = rand.Int() % 50\n",
    "}\n",
    "    \n",
    "\t//treesort.Sort(data)\n",
    "//Sort(data)\n",
    "//sort.Ints(data)\n",
    "if !sort.IntsAreSorted(data) {\n",
    "\t\tfmt.Printf(\"not sorted: %v\", data)\n",
    "} else {\n",
    "    fmt.Printf(\"sorted: %v\", data)\n",
    "}\n",
    "//!-"
   ]
  },
  {
   "cell_type": "markdown",
   "metadata": {
    "slideshow": {
     "slide_type": "subslide"
    }
   },
   "source": [
    "<pre>\n",
    "<code>\n",
    "$go get gopl.io/ch4\n",
    "$go build gopl.io/ch4/treesort\n",
    "$go install gopl.io/ch4/treesort\n",
    "$go test gopl.io/ch4/treesort\n",
    "</code>\n",
    "</pre>"
   ]
  },
  {
   "cell_type": "markdown",
   "metadata": {
    "slideshow": {
     "slide_type": "slide"
    }
   },
   "source": [
    "### Struct Literals"
   ]
  },
  {
   "cell_type": "markdown",
   "metadata": {
    "slideshow": {
     "slide_type": "fragment"
    }
   },
   "source": [
    "* A value of a struct type can be written using a struct literal specifying values for its fields\n",
    "* There are two forms of struct literal\n",
    "* The first form requires a value be specified for every field, in the right order\n",
    "* The second form is used, in which a struct value is initialized by listing some or all of the field names and their corresponding values\n",
    "* The two forms cannot be mixed in the same literal"
   ]
  },
  {
   "cell_type": "code",
   "execution_count": 1,
   "metadata": {
    "code_folding": [],
    "slideshow": {
     "slide_type": "subslide"
    }
   },
   "outputs": [],
   "source": [
    "type Point struct{ X, Y int}\n",
    "p := Point{1,2} // the first form\n",
    "q := Point{X:1, Y:2} // the second form"
   ]
  },
  {
   "cell_type": "code",
   "execution_count": 5,
   "metadata": {
    "code_folding": [],
    "slideshow": {
     "slide_type": "fragment"
    }
   },
   "outputs": [],
   "source": [
    "type T struct{ a, b int} // a and b are not exported\n",
    "var _ = T{a:1, b:2}"
   ]
  },
  {
   "cell_type": "markdown",
   "metadata": {
    "slideshow": {
     "slide_type": "slide"
    }
   },
   "source": [
    "### Comparing Structs\n",
    "* If all the fields of a struct are comparable, the struct is comparable\n",
    "* Two expressions of the comparable types may be compared using == or !!="
   ]
  },
  {
   "cell_type": "code",
   "execution_count": 16,
   "metadata": {
    "code_folding": [],
    "slideshow": {
     "slide_type": "subslide"
    }
   },
   "outputs": [
    {
     "name": "stdout",
     "output_type": "stream",
     "text": [
      "false\n",
      "false\n"
     ]
    },
    {
     "data": {
      "text/plain": [
       "6 <nil>"
      ]
     },
     "execution_count": 16,
     "metadata": {},
     "output_type": "execute_result"
    }
   ],
   "source": [
    "//comparing two points\n",
    "type point struct{X, Y int}\n",
    "p := Point{1,2}\n",
    "q := Point{2,1}\n",
    "fmt.Println(p.X == q.X && p.Y == q.Y)\n",
    "fmt.Println(p == q)"
   ]
  },
  {
   "cell_type": "markdown",
   "metadata": {
    "slideshow": {
     "slide_type": "subslide"
    }
   },
   "source": [
    "* Comparable struct types, may be used as the key type of a map"
   ]
  },
  {
   "cell_type": "code",
   "execution_count": 18,
   "metadata": {
    "code_folding": [],
    "slideshow": {
     "slide_type": "fragment"
    }
   },
   "outputs": [
    {
     "name": "stdout",
     "output_type": "stream",
     "text": [
      "map[{golang.org 443}:1 {gopl.io 80}:23]\n"
     ]
    },
    {
     "data": {
      "text/plain": [
       "40 <nil>"
      ]
     },
     "execution_count": 18,
     "metadata": {},
     "output_type": "execute_result"
    }
   ],
   "source": [
    "//comparable struct types as map key\n",
    "type address struct {\n",
    "    hostname string\n",
    "    port     int\n",
    "}\n",
    "hits := make(map[address]int)\n",
    "hits[address{\"golang.org\",443}]++\n",
    "hits[address{\"gopl.io\",80}]+= 23\n",
    "fmt.Println(hits)"
   ]
  },
  {
   "cell_type": "markdown",
   "metadata": {
    "slideshow": {
     "slide_type": "slide"
    }
   },
   "source": [
    "### Struct Embedding and Anonymous Fields"
   ]
  },
  {
   "cell_type": "code",
   "execution_count": 2,
   "metadata": {
    "code_folding": [
     0,
     3
    ],
    "slideshow": {
     "slide_type": "fragment"
    }
   },
   "outputs": [],
   "source": [
    "type Circle struct {\n",
    "    X,Y, Radius int\n",
    "}\n",
    "type Wheel struct {\n",
    "    X,Y, Radius, Spokes int\n",
    "}\n",
    "var w Wheel\n",
    "w.X = 8\n",
    "w.Y = 8\n",
    "w.Radius = 5\n",
    "w.Spokes = 20"
   ]
  },
  {
   "cell_type": "markdown",
   "metadata": {
    "slideshow": {
     "slide_type": "subslide"
    }
   },
   "source": [
    "* Factor out their common parts"
   ]
  },
  {
   "cell_type": "code",
   "execution_count": 4,
   "metadata": {
    "code_folding": [
     0,
     3,
     7
    ],
    "slideshow": {
     "slide_type": "fragment"
    }
   },
   "outputs": [
    {
     "name": "stdout",
     "output_type": "stream",
     "text": [
      "{{{8 8} 5} 20}\n"
     ]
    },
    {
     "data": {
      "text/plain": [
       "15 <nil>"
      ]
     },
     "execution_count": 4,
     "metadata": {},
     "output_type": "execute_result"
    }
   ],
   "source": [
    "import \"fmt\"\n",
    "type Point struct {\n",
    "    X, Y int\n",
    "}\n",
    "type Circle struct {\n",
    "    Center Point\n",
    "    Radius int\n",
    "}\n",
    "type Wheel struct {\n",
    "    Circle Circle\n",
    "    Spokes int\n",
    "}\n",
    "var w Wheel\n",
    "w.Circle.Center.X = 8\n",
    "w.Circle.Center.Y = 8\n",
    "w.Circle.Radius = 5\n",
    "w.Spokes = 20\n",
    "fmt.Println(w)"
   ]
  },
  {
   "cell_type": "markdown",
   "metadata": {
    "slideshow": {
     "slide_type": "subslide"
    }
   },
   "source": [
    "* Declare a field with a type but no name\n",
    "* Such fields are called anonymous fields\n",
    "* Due to embedding, we can refer to the names at the leaves of the implicit tree without giving the intervening names"
   ]
  },
  {
   "cell_type": "code",
   "execution_count": 55,
   "metadata": {
    "code_folding": [
     0,
     1,
     5
    ],
    "slideshow": {
     "slide_type": "fragment"
    }
   },
   "outputs": [
    {
     "name": "stdout",
     "output_type": "stream",
     "text": [
      "{{{8 8} 5} 20}\n"
     ]
    },
    {
     "data": {
      "text/plain": [
       "15 <nil>"
      ]
     },
     "execution_count": 55,
     "metadata": {},
     "output_type": "execute_result"
    }
   ],
   "source": [
    "//access the anonymous field\n",
    "type Circle struct {\n",
    "    Point\n",
    "    Radius int\n",
    "}\n",
    "type Wheel struct {\n",
    "    Circle \n",
    "    Spokes int\n",
    "}\n",
    "var w Wheel\n",
    "w.X = 8    //w.Circle.Point.X\n",
    "w.Y = 8    //w.Circle.Point.Y\n",
    "w.Radius = 5 //w.Circle.Radius\n",
    "w.Spokes = 20 \n",
    "fmt.Println(w)"
   ]
  },
  {
   "cell_type": "markdown",
   "metadata": {
    "slideshow": {
     "slide_type": "subslide"
    }
   },
   "source": [
    "* There's no corresponding shorthand for the struct literal syntax"
   ]
  },
  {
   "cell_type": "code",
   "execution_count": 21,
   "metadata": {
    "slideshow": {
     "slide_type": "fragment"
    }
   },
   "outputs": [
    {
     "ename": "ERROR",
     "evalue": "repl.go:1:1: undefined identifier: w",
     "output_type": "error",
     "traceback": [
      "repl.go:1:1: undefined identifier: w"
     ]
    }
   ],
   "source": [
    "w = Wheel{8,8,5,20} "
   ]
  },
  {
   "cell_type": "code",
   "execution_count": 20,
   "metadata": {
    "slideshow": {
     "slide_type": "fragment"
    }
   },
   "outputs": [
    {
     "ename": "ERROR",
     "evalue": "repl.go:1:1: undefined identifier: w",
     "output_type": "error",
     "traceback": [
      "repl.go:1:1: undefined identifier: w"
     ]
    }
   ],
   "source": [
    "w = Wheel{X:8, Y:8, Radius: 5, Spokes: 20}"
   ]
  },
  {
   "cell_type": "code",
   "execution_count": 24,
   "metadata": {
    "code_folding": [
     0,
     1,
     8,
     13,
     15
    ],
    "slideshow": {
     "slide_type": "subslide"
    }
   },
   "outputs": [
    {
     "name": "stdout",
     "output_type": "stream",
     "text": [
      "{Circle:{Point:{X:8 Y:8} Radius:5} Spokes:20}\n",
      "{Circle:{Point:{X:42 Y:8} Radius:5} Spokes:20}\n"
     ]
    },
    {
     "data": {
      "text/plain": [
       "47 <nil>"
      ]
     },
     "execution_count": 24,
     "metadata": {},
     "output_type": "execute_result"
    }
   ],
   "source": [
    "//Anonymous Fields\n",
    "type Point struct {\n",
    "    X, Y int\n",
    "}\n",
    "type Circle struct {\n",
    "    Point\n",
    "    Radius int\n",
    "}\n",
    "type Wheel struct {\n",
    "    Circle \n",
    "    Spokes int\n",
    "}\n",
    "var w Wheel\n",
    "w = Wheel{Circle{Point{8, 8}, 5}, 20}\n",
    "\n",
    "w = Wheel{\n",
    "\t\tCircle: Circle{\n",
    "\t\t\tPoint:  Point{X: 8, Y: 8},\n",
    "\t\t\tRadius: 5,\n",
    "\t\t},\n",
    "\t\tSpokes: 20, // NOTE: trailing comma necessary here (and at Radius)\n",
    "}\n",
    "\n",
    "//fmt.Printf(\"%#v\\n\", w)\n",
    "fmt.Printf(\"%+v\\n\",w)\n",
    "\t// Output:\n",
    "\t// Wheel{Circle:Circle{Point:Point{X:8, Y:8}, Radius:5}, Spokes:20}\n",
    "\n",
    "w.X = 42\n",
    "\n",
    "//fmt.Printf(\"%#v\\n\", w)\n",
    "fmt.Printf(\"%+v\\n\", w)\n",
    "\t// Output:\n",
    "\t// Wheel{Circle:Circle{Point:Point{X:42, Y:8}, Radius:5}, Spokes:20}\n",
    "\t//!-"
   ]
  },
  {
   "cell_type": "markdown",
   "metadata": {
    "slideshow": {
     "slide_type": "slide"
    }
   },
   "source": [
    "## JSON\n",
    "* JavaScript Object Notation (JSON) is a standard notation for sending and receiving structured information\n",
    "* Other similar notation: XML, ASN.1, and Google's Protocol Buffers\n",
    "* API: encoding/json, encoding/xml, encoding/asn1\n",
    "* basic JSON types are numbers(decimal or scientic notation), booleans(true, false), and strings (sequene of Unicode code points)\n",
    "* basic JSON types can be combined recursively using JSON arrays and objects\n",
    "* JSON array is an ordered sequence of values, written as a comma-separated list enclosed in square brackets\n",
    "* JSON array are used to encode Go arrays and slices\n",
    "* JSON object is a mapping from strings to values, written as a sequence of name:value pairs separated by commas and surrounded by braces\n",
    "* JSON objects are used to encode GO maps and structs\n",
    "\n",
    "Example\n",
    "\n",
    "type   |value\n",
    "-------|-----------------------------------\n",
    "boolean|true\n",
    "number | -273.15\n",
    "string |\"She said \\\"Hello, 世界\\\"\"\n",
    "array  | [\"gold\", \"silver\", \"bronze\"]\n",
    "object |{\"year\": 1980,<br>\"event\": \"archery\",<br>\"medals\":[\"gold\",\"silver\",\"brone\"]} "
   ]
  },
  {
   "cell_type": "markdown",
   "metadata": {
    "slideshow": {
     "slide_type": "subslide"
    }
   },
   "source": [
    "* Gather movie reviews and offer recommendations\n",
    "* String literals after the Year and Color field are field tags"
   ]
  },
  {
   "cell_type": "code",
   "execution_count": 3,
   "metadata": {
    "code_folding": [
     12
    ],
    "slideshow": {
     "slide_type": "fragment"
    }
   },
   "outputs": [],
   "source": [
    "//gopl.pl/ch4/movie\n",
    "import (\"encoding/json\";\"fmt\";\"log\")\n",
    "\n",
    "type Movie struct {\n",
    "\tTitle  string\n",
    "\tYear   int  `json:\"released\"`\n",
    "\tColor  bool `json:\"color,omitempty\"`\n",
    "\tActors []string\n",
    "}\n",
    "\n",
    "var movies = []Movie{\n",
    "\t{Title: \"Casablanca\", Year: 1942, Color: false,\n",
    "\t\tActors: []string{\"Humphrey Bogart\", \"Ingrid Bergman\"}},\n",
    "\t{Title: \"Cool Hand Luke\", Year: 1967, Color: true,\n",
    "\t\tActors: []string{\"Paul Newman\"}},\n",
    "\t{Title: \"Bullitt\", Year: 1968, Color: true,\n",
    "\t\tActors: []string{\"Steve McQueen\", \"Jacqueline Bisset\"}},\n",
    "\t// ...\n",
    "}"
   ]
  },
  {
   "cell_type": "code",
   "execution_count": 4,
   "metadata": {
    "code_folding": [],
    "slideshow": {
     "slide_type": "subslide"
    }
   },
   "outputs": [
    {
     "name": "stdout",
     "output_type": "stream",
     "text": [
      "[{\"Title\":\"Casablanca\",\"released\":1942,\"Actors\":[\"Humphrey Bogart\",\"Ingrid Bergman\"]},{\"Title\":\"Cool Hand Luke\",\"released\":1967,\"color\":true,\"Actors\":[\"Paul Newman\"]},{\"Title\":\"Bullitt\",\"released\":1968,\"color\":true,\"Actors\":[\"Steve McQueen\",\"Jacqueline Bisset\"]}]\n"
     ]
    }
   ],
   "source": [
    "{\t\t//!+Marshal\n",
    "\t\tdata, err := json.Marshal(movies)\n",
    "\t\tif err != nil {\n",
    "\t\t\tlog.Fatalf(\"JSON marshaling failed: %s\", err)\n",
    "\t\t}\n",
    "\t\tfmt.Printf(\"%s\\n\", data)\n",
    "}\t\t//!-Marshal"
   ]
  },
  {
   "cell_type": "markdown",
   "metadata": {
    "slideshow": {
     "slide_type": "subslide"
    }
   },
   "source": [
    "* json.MarshalIndent produces neatly indented output\n",
    "* two arguments: \n",
    "  * a prefix for each line of output \n",
    "  * a string for each level of indentation"
   ]
  },
  {
   "cell_type": "code",
   "execution_count": 5,
   "metadata": {
    "code_folding": [],
    "slideshow": {
     "slide_type": "subslide"
    }
   },
   "outputs": [
    {
     "name": "stdout",
     "output_type": "stream",
     "text": [
      "[\n",
      "    {\n",
      "        \"Title\": \"Casablanca\",\n",
      "        \"released\": 1942,\n",
      "        \"Actors\": [\n",
      "            \"Humphrey Bogart\",\n",
      "            \"Ingrid Bergman\"\n",
      "        ]\n",
      "    },\n",
      "    {\n",
      "        \"Title\": \"Cool Hand Luke\",\n",
      "        \"released\": 1967,\n",
      "        \"color\": true,\n",
      "        \"Actors\": [\n",
      "            \"Paul Newman\"\n",
      "        ]\n",
      "    },\n",
      "    {\n",
      "        \"Title\": \"Bullitt\",\n",
      "        \"released\": 1968,\n",
      "        \"color\": true,\n",
      "        \"Actors\": [\n",
      "            \"Steve McQueen\",\n",
      "            \"Jacqueline Bisset\"\n",
      "        ]\n",
      "    }\n",
      "]\n",
      "[{Casablanca 1942 false [Humphrey Bogart Ingrid Bergman]} {Cool Hand Luke 1967 true [Paul Newman]} {Bullitt 1968 true [Steve McQueen Jacqueline Bisset]}]\n"
     ]
    }
   ],
   "source": [
    "//MarshalIndent\t\n",
    "{\n",
    "\t\t//!+MarshalIndent\n",
    "\t\tdata, err := json.MarshalIndent(movies, \"\", \"    \")\n",
    "\t\tif err != nil {\n",
    "\t\t\tlog.Fatalf(\"JSON marshaling failed: %s\", err)\n",
    "\t\t}\n",
    "\t\tfmt.Printf(\"%s\\n\", data)\n",
    "\t\t//!-MarshalIndent\n",
    "\n",
    "\t\t//!+Unmarshal\n",
    "\t\tvar titles []struct{ Title string \n",
    "                            Year   int  `json:\"released\"`\n",
    "                            Color  bool `json:\"color,omitempty\"`\n",
    "                             Actors []string\n",
    "                           }\n",
    "\t\tif err := json.Unmarshal(data, &titles); err != nil {\n",
    "\t\t\tlog.Fatalf(\"JSON unmarshaling failed: %s\", err)\n",
    "\t\t}\n",
    "\t\tfmt.Println(titles) // \"[{Casablanca} {Cool Hand Luke} {Bullitt}]\"\n",
    "\t\t//!-Unmarshal\n",
    "\t}"
   ]
  },
  {
   "cell_type": "code",
   "execution_count": 6,
   "metadata": {
    "code_folding": [],
    "scrolled": true,
    "slideshow": {
     "slide_type": "subslide"
    }
   },
   "outputs": [],
   "source": [
    "import (\"encoding/json\";\"fmt\";\"log\")\n",
    "type Movie struct {\n",
    "\tTitle  string\n",
    "\tYear   int  `json:\"released\"`\n",
    "\tColor  bool `json:\"color,omitempty\"`\n",
    "\tActors []string\n",
    "}\n",
    "var movies = []Movie{\n",
    "\t{Title: \"Casablanca\", Year: 1942, Color: false,\n",
    "\t\tActors: []string{\"Humphrey Bogart\", \"Ingrid Bergman\"}},\n",
    "\t{Title: \"Cool Hand Luke\", Year: 1967, Color: true,\n",
    "\t\tActors: []string{\"Paul Newman\"}},\n",
    "\t{Title: \"Bullitt\", Year: 1968, Color: true,\n",
    "\t\tActors: []string{\"Steve McQueen\", \"Jacqueline Bisset\"}},\n",
    "} "
   ]
  },
  {
   "cell_type": "code",
   "execution_count": 7,
   "metadata": {
    "code_folding": [],
    "slideshow": {
     "slide_type": "subslide"
    }
   },
   "outputs": [
    {
     "name": "stdout",
     "output_type": "stream",
     "text": [
      "[{\"Title\":\"Casablanca\",\"released\":1942,\"Actors\":[\"Humphrey Bogart\",\"Ingrid Bergman\"]},{\"Title\":\"Cool Hand Luke\",\"released\":1967,\"color\":true,\"Actors\":[\"Paul Newman\"]},{\"Title\":\"Bullitt\",\"released\":1968,\"color\":true,\"Actors\":[\"Steve McQueen\",\"Jacqueline Bisset\"]}]\n"
     ]
    }
   ],
   "source": [
    "{\n",
    "\t\tdata, err := json.Marshal(movies)\n",
    "\t\tif err != nil {\n",
    "\t\t\tlog.Fatalf(\"JSON marshaling failed: %s\", err)\n",
    "\t\t}\n",
    "\t\tfmt.Printf(\"%s\\n\", data)\n",
    "\t\t//!-Marshal\n",
    "}\n"
   ]
  },
  {
   "cell_type": "code",
   "execution_count": 8,
   "metadata": {
    "code_folding": [],
    "slideshow": {
     "slide_type": "subslide"
    }
   },
   "outputs": [
    {
     "name": "stdout",
     "output_type": "stream",
     "text": [
      "[\n",
      "    {\n",
      "        \"Title\": \"Casablanca\",\n",
      "        \"released\": 1942,\n",
      "        \"Actors\": [\n",
      "            \"Humphrey Bogart\",\n",
      "            \"Ingrid Bergman\"\n",
      "        ]\n",
      "    },\n",
      "    {\n",
      "        \"Title\": \"Cool Hand Luke\",\n",
      "        \"released\": 1967,\n",
      "        \"color\": true,\n",
      "        \"Actors\": [\n",
      "            \"Paul Newman\"\n",
      "        ]\n",
      "    },\n",
      "    {\n",
      "        \"Title\": \"Bullitt\",\n",
      "        \"released\": 1968,\n",
      "        \"color\": true,\n",
      "        \"Actors\": [\n",
      "            \"Steve McQueen\",\n",
      "            \"Jacqueline Bisset\"\n",
      "        ]\n",
      "    }\n",
      "]\n",
      "[{Casablanca} {Cool Hand Luke} {Bullitt}]\n"
     ]
    }
   ],
   "source": [
    "{\n",
    "\t\t//!+MarshalIndent\n",
    "\t\tdata, err := json.MarshalIndent(movies, \"\", \"    \")\n",
    "\t\tif err != nil {\n",
    "\t\t\tlog.Fatalf(\"JSON marshaling failed: %s\", err)\n",
    "\t\t}\n",
    "\t\tfmt.Printf(\"%s\\n\", data)\n",
    "\t\t//!-MarshalIndent\n",
    "\n",
    "\t\t//!+Unmarshal\n",
    "\t\tvar titles []struct{ Title string }\n",
    "\t\tif err := json.Unmarshal(data, &titles); err != nil {\n",
    "\t\t\tlog.Fatalf(\"JSON unmarshaling failed: %s\", err)\n",
    "\t\t}\n",
    "\t\tfmt.Println(titles) // \"[{Casablanca} {Cool Hand Luke} {Bullitt}]\"\n",
    "\t\t//!-Unmarshal\n",
    "}"
   ]
  },
  {
   "cell_type": "code",
   "execution_count": 10,
   "metadata": {
    "code_folding": [],
    "slideshow": {
     "slide_type": "subslide"
    }
   },
   "outputs": [],
   "source": [
    "//gopl.io/ch4/github\n",
    "import \"time\"\n",
    "\n",
    "const IssuesURL = \"https://api.github.com/search/issues\"\n",
    "\n",
    "type IssuesSearchResult struct {\n",
    "\tTotalCount int `json:\"total_count\"`\n",
    "\tItems      []*Issue\n",
    "}\n",
    "\n",
    "type Issue struct {\n",
    "\tNumber    int\n",
    "\tHTMLURL   string `json:\"html_url\"`\n",
    "\tTitle     string\n",
    "\tState     string\n",
    "\tUser      *User\n",
    "\tCreatedAt time.Time `json:\"created_at\"`\n",
    "\tBody      string    // in Markdown format\n",
    "}\n",
    "\n",
    "type User struct {\n",
    "\tLogin   string\n",
    "\tHTMLURL string `json:\"html_url\"`\n",
    "}\n",
    "\n",
    "//!-"
   ]
  },
  {
   "cell_type": "code",
   "execution_count": 14,
   "metadata": {
    "code_folding": [],
    "slideshow": {
     "slide_type": "subslide"
    }
   },
   "outputs": [],
   "source": [
    "import (\"encoding/json\";\"fmt\";\"net/http\";\"net/url\";\"strings\")\n",
    "\n",
    "// SearchIssues queries the GitHub issue tracker.\n",
    "func SearchIssues(terms []string) (*IssuesSearchResult, error) {\n",
    "\tq := url.QueryEscape(strings.Join(terms, \" \"))\n",
    "\tresp, err := http.Get(IssuesURL + \"?q=\" + q)\n",
    "\tif err != nil {\n",
    "\t\treturn nil, err\n",
    "\t}\n",
    "\tif resp.StatusCode != http.StatusOK {\n",
    "\t\tresp.Body.Close()\n",
    "\t\treturn nil, fmt.Errorf(\"search query failed: %s\", resp.Status)\n",
    "\t}\n",
    "    fmt.Println(resp.Body)\n",
    "\tvar result IssuesSearchResult\n",
    "\tif err := json.NewDecoder(resp.Body).Decode(&result); err != nil {\n",
    "\t\tresp.Body.Close()\n",
    "\t\treturn nil, err\n",
    "\t}\n",
    "\tresp.Body.Close()\n",
    "\treturn &result, nil\n",
    "}"
   ]
  },
  {
   "cell_type": "code",
   "execution_count": 16,
   "metadata": {
    "code_folding": [],
    "slideshow": {
     "slide_type": "subslide"
    }
   },
   "outputs": [],
   "source": [
    "import (\"fmt\";\"log\";\"os\";\"gopl.io/ch4/github\")\n",
    "\n",
    "func main() {\n",
    "\t//result, err := github.SearchIssues(os.Args[1:])\n",
    "    t := []string{\"repo:golang/go\",\"is:open\",\"json\",\"decoder\"}\n",
    "    result, err := github.SearchIssues(t)\n",
    "\tif err != nil {\n",
    "\t\tlog.Fatal(err)\n",
    "\t}\n",
    "\tfmt.Printf(\"%d issues:\\n\", result.TotalCount)\n",
    "\tfor _, item := range result.Items {\n",
    "\t\tfmt.Printf(\"#%-5d %9.9s %.55s\\n\",\n",
    "\t\t\titem.Number, item.User.Login, item.Title)\n",
    "\t}\n",
    "}"
   ]
  },
  {
   "cell_type": "code",
   "execution_count": 17,
   "metadata": {
    "code_folding": [],
    "slideshow": {
     "slide_type": "subslide"
    }
   },
   "outputs": [
    {
     "name": "stdout",
     "output_type": "stream",
     "text": [
      "42 issues:\n",
      "#33416   bserdar encoding/json: This CL adds Decoder.InternKeys\n",
      "#34647 babolivie encoding/json: fix byte counter increments when using d\n",
      "#34543  maxatome encoding/json: Unmarshal & json.(*Decoder).Token report\n",
      "#29035    jaswdr proposal: encoding/json: add error var to compare  the \n",
      "#32779       rsc proposal: encoding/json: memoize strings during decode?\n",
      "#34564  mdempsky go/internal/gcimporter: single source of truth for deco\n",
      "#28923     mvdan encoding/json: speed up the decoding scanner\n",
      "#11046     kurin encoding/json: Decoder internally buffers full input\n",
      "#33854     Qhesz encoding/json: unmarshal option to treat omitted fields\n",
      "#30301     zelch encoding/xml: option to treat unknown fields as an erro\n",
      "#26946    deuill encoding/json: clarify what happens when unmarshaling i\n",
      "#12001 lukescott encoding/json: Marshaler/Unmarshaler not stream friendl\n",
      "#33835     Qhesz encoding/json: unmarshalling null into non-nullable gol\n",
      "#31701    lr1980 encoding/json: second decode after error impossible\n",
      "#31789  mgritter encoding/json: provide a way to limit recursion depth\n",
      "#16212 josharian encoding/json: do all reflect work before decoding\n",
      "#22480     blixt proposal: encoding/json: add omitnil option\n",
      "#28189     adnsv encoding/json: confusing errors when unmarshaling custo\n",
      "#5901        rsc encoding/json: allow override type marshaling\n",
      "#33714    flimzy proposal: encoding/json: Opt-in for true streaming supp\n",
      "#7872  extempora encoding/json: Encoder internally buffers full output\n",
      "#14750 cyberphon encoding/json: parser ignores the case of member names\n",
      "#28143    arp242 proposal: encoding/json: add \"readonly\" tag\n",
      "#30701 LouAdrien encoding/json: ignore tag \"-\" not working on embedded s\n",
      "#22752  buyology proposal: encoding/json: add access to the underlying d\n",
      "#27179  lavalamp encoding/json: no way to preserve the order of map keys\n",
      "#20754       rsc encoding/xml: unmarshal only processes first XML elemen\n",
      "#20528  jvshahid net/http: connection reuse does not work happily with n\n",
      "#22816 ganelon13 encoding/json: include field name in unmarshal error me\n",
      "#21823  243083df encoding/xml: very low performance in xml parser\n"
     ]
    }
   ],
   "source": [
    "os.Args = []string{\"./issues\", \"repo:golang/go\", \"is:open\", \"json\", \"decoder\"}\n",
    "main()"
   ]
  },
  {
   "cell_type": "markdown",
   "metadata": {
    "slideshow": {
     "slide_type": "slide"
    }
   },
   "source": [
    "## Text and HTML Templates\n",
    "* the simplest formatting: Printf\n",
    "* separate the format from the code \n",
    "* **text/template** and **html/template** packages provide a mechanism for substituting the values of variables into a text or HTML template \n"
   ]
  },
  {
   "cell_type": "markdown",
   "metadata": {
    "slideshow": {
     "slide_type": "subslide"
    }
   },
   "source": [
    "* template is a string or file containing one or more portions enclosed in double braces, {{...}}, called actions"
   ]
  },
  {
   "cell_type": "code",
   "execution_count": 19,
   "metadata": {
    "code_folding": [],
    "slideshow": {
     "slide_type": "fragment"
    }
   },
   "outputs": [
    {
     "name": "stdout",
     "output_type": "stream",
     "text": [
      "{{.TotalCount}} issues:\n",
      "{{range .Items}}----------------------------------------\n",
      "Number: {{.Number}}\n",
      "User:   {{.User.Login}}\n",
      "Title:  {{.Title | printf \"%.64s\"}}\n",
      "Age:    {{.CreatedAt | daysAgo}} days\n",
      "{{end}}\n"
     ]
    },
    {
     "data": {
      "text/plain": [
       "207 <nil>"
      ]
     },
     "execution_count": 19,
     "metadata": {},
     "output_type": "execute_result"
    }
   ],
   "source": [
    "// template\n",
    "import \"fmt\"\n",
    "const templ = `{{.TotalCount}} issues:\n",
    "{{range .Items}}----------------------------------------\n",
    "Number: {{.Number}}\n",
    "User:   {{.User.Login}}\n",
    "Title:  {{.Title | printf \"%.64s\"}}\n",
    "Age:    {{.CreatedAt | daysAgo}} days\n",
    "{{end}}`\n",
    "fmt.Println(templ)"
   ]
  },
  {
   "cell_type": "code",
   "execution_count": 17,
   "metadata": {
    "code_folding": [
     2
    ],
    "slideshow": {
     "slide_type": "fragment"
    }
   },
   "outputs": [
    {
     "name": "stdout",
     "output_type": "stream",
     "text": [
      "&{\"report\" %!q(*parse.Tree=&{report report 0xc0003c7380 {{.TotalCount}} issues:\n",
      "{{range .Items}}----------------------------------------\n",
      "Number: {{.Number}}\n",
      "User:   {{.User.Login}}\n",
      "Title:  {{.Title | printf \"%.64s\"}}\n",
      "Age:    {{.CreatedAt | daysAgo}} days\n",
      "{{end}} [] <nil> [{7 206  7} {10 24 {{ 2} {0 0  0}] 1 [] map[]}) %!q(*template.common=&{map[report:0xc000f16f80] {0} {{0 0} 0 0 0 0} map[daysAgo:0xa98950] map[daysAgo:{0xc0004f92c0 0xc0005b2840 19}]}) \"\" \"\"}\n"
     ]
    }
   ],
   "source": [
    "//Parse the template into a suitable internal represntation\n",
    "import (\"time\";\"text/template\";\"os\")\n",
    "func daysAgo(t time.Time) int {\n",
    "    return int(time.Since(t).Hours()/24)\n",
    "}\n",
    "report, err := template.New(\"report\").\n",
    "   Funcs(template.FuncMap{\"daysAgo\": daysAgo}).\n",
    "   Parse(templ)\n",
    "if (err != nil) {\n",
    "    fmt.Fprintln(os.Stderr,\"error\")\n",
    "} else {\n",
    "    fmt.Printf(\"%q\\n\",report)\n",
    "}"
   ]
  },
  {
   "cell_type": "code",
   "execution_count": 33,
   "metadata": {
    "code_folding": [
     10,
     15
    ],
    "slideshow": {
     "slide_type": "subslide"
    }
   },
   "outputs": [],
   "source": [
    "// Template fixed at compile time and template.Must handle the error condition\n",
    "import (\"log\";\"os\";\"text/template\";\"time\";\"gopl.io/ch4/github\")\n",
    "const templ = `{{.TotalCount}} issues:\n",
    "{{range .Items}}----------------------------------------\n",
    "Number: {{.Number}}\n",
    "User:   {{.User.Login}}\n",
    "Title:  {{.Title | printf \"%.64s\"}}\n",
    "Age:    {{.CreatedAt | daysAgo}} days\n",
    "{{end}}`\n",
    "\n",
    "func daysAgo(t time.Time) int {\n",
    "\treturn int(time.Since(t).Hours() / 24)\n",
    "}\n",
    "\n",
    "var report = template.Must(template.New(\"issuelist\").\n",
    "\tFuncs(template.FuncMap{\"daysAgo\": daysAgo}).\n",
    "\tParse(templ))\n",
    "\n",
    "func main() {\n",
    "\tresult, err := github.SearchIssues(os.Args[1:])\n",
    "\tif err != nil {\n",
    "\t\tlog.Fatal(err)\n",
    "\t}\n",
    "    fmt.Printf(\"%v\\n\",result)\n",
    "\tif err := report.Execute(os.Stdout, result); err != nil {\n",
    "\t\tlog.Fatal(err)\n",
    "\t}\n",
    "}\n",
    "\n"
   ]
  },
  {
   "cell_type": "code",
   "execution_count": 23,
   "metadata": {
    "code_folding": [],
    "slideshow": {
     "slide_type": "subslide"
    }
   },
   "outputs": [],
   "source": [
    "func noMust() {\n",
    "\t//!+parse\n",
    "\treport, err := template.New(\"report\").\n",
    "\t\tFuncs(template.FuncMap{\"daysAgo\": daysAgo}).\n",
    "\t\tParse(templ)\n",
    "\tif err != nil {\n",
    "\t\tlog.Fatal(err)\n",
    "\t}\n",
    "\t//!-parse\n",
    "\tresult, err := github.Sea-rchIssues(os.Args[1:])\n",
    "\tif err != nil {\n",
    "\t\tlog.Fatal(err)-\n",
    "\t}\n",
    "\tif err := report.Execute(os.Stdout, result); err != nil {\n",
    "\t\tlog.Fatal(err)\n",
    "\t}\n",
    "}"
   ]
  },
  {
   "cell_type": "code",
   "execution_count": 34,
   "metadata": {
    "code_folding": [
     0
    ],
    "slideshow": {
     "slide_type": "fragment"
    }
   },
   "outputs": [
    {
     "name": "stdout",
     "output_type": "stream",
     "text": [
      "&{42 [0xc0007a03f0 0xc0007a0460 0xc0007a08c0 0xc0007a12d0 0xc0007a1340 0xc0007a13b0 0xc0007a1420 0xc0007a1490 0xc0007a1500 0xc0007a15e0 0xc0007a1650 0xc0007a16c0 0xc0007a1730 0xc0007a17a0 0xc0007a1810 0xc0007a1880 0xc0007a18f0 0xc0007a1960 0xc0007a19d0 0xc0007a1a40 0xc0007a1ab0 0xc0007a1b20 0xc0007a1b90 0xc0007a1c00 0xc0007a1c70 0xc0007a1ce0 0xc0007a1d50 0xc0007a1dc0 0xc0007a1e30 0xc0007a1ea0]}\n",
      "42 issues:\n",
      "----------------------------------------\n",
      "Number: 33416\n",
      "User:   bserdar\n",
      "Title:  encoding/json: This CL adds Decoder.InternKeys\n",
      "Age:    90 days\n",
      "----------------------------------------\n",
      "Number: 34647\n",
      "User:   babolivier\n",
      "Title:  encoding/json: fix byte counter increments when using decoder.To\n",
      "Age:    29 days\n",
      "----------------------------------------\n",
      "Number: 34543\n",
      "User:   maxatome\n",
      "Title:  encoding/json: Unmarshal & json.(*Decoder).Token report differen\n",
      "Age:    35 days\n",
      "----------------------------------------\n",
      "Number: 29035\n",
      "User:   jaswdr\n",
      "Title:  proposal: encoding/json: add error var to compare  the returned \n",
      "Age:    334 days\n",
      "----------------------------------------\n",
      "Number: 32779\n",
      "User:   rsc\n",
      "Title:  proposal: encoding/json: memoize strings during decode?\n",
      "Age:    127 days\n",
      "----------------------------------------\n",
      "Number: 34564\n",
      "User:   mdempsky\n",
      "Title:  go/internal/gcimporter: single source of truth for decoder logic\n",
      "Age:    34 days\n",
      "----------------------------------------\n",
      "Number: 28923\n",
      "User:   mvdan\n",
      "Title:  encoding/json: speed up the decoding scanner\n",
      "Age:    342 days\n",
      "----------------------------------------\n",
      "Number: 11046\n",
      "User:   kurin\n",
      "Title:  encoding/json: Decoder internally buffers full input\n",
      "Age:    1610 days\n",
      "----------------------------------------\n",
      "Number: 33854\n",
      "User:   Qhesz\n",
      "Title:  encoding/json: unmarshal option to treat omitted fields as null\n",
      "Age:    65 days\n",
      "----------------------------------------\n",
      "Number: 30301\n",
      "User:   zelch\n",
      "Title:  encoding/xml: option to treat unknown fields as an error\n",
      "Age:    254 days\n",
      "----------------------------------------\n",
      "Number: 26946\n",
      "User:   deuill\n",
      "Title:  encoding/json: clarify what happens when unmarshaling into a non\n",
      "Age:    444 days\n",
      "----------------------------------------\n",
      "Number: 12001\n",
      "User:   lukescott\n",
      "Title:  encoding/json: Marshaler/Unmarshaler not stream friendly\n",
      "Age:    1549 days\n",
      "----------------------------------------\n",
      "Number: 33835\n",
      "User:   Qhesz\n",
      "Title:  encoding/json: unmarshalling null into non-nullable golang types\n",
      "Age:    65 days\n",
      "----------------------------------------\n",
      "Number: 31701\n",
      "User:   lr1980\n",
      "Title:  encoding/json: second decode after error impossible\n",
      "Age:    187 days\n",
      "----------------------------------------\n",
      "Number: 31789\n",
      "User:   mgritter\n",
      "Title:  encoding/json: provide a way to limit recursion depth\n",
      "Age:    182 days\n",
      "----------------------------------------\n",
      "Number: 16212\n",
      "User:   josharian\n",
      "Title:  encoding/json: do all reflect work before decoding\n",
      "Age:    1218 days\n",
      "----------------------------------------\n",
      "Number: 22480\n",
      "User:   blixt\n",
      "Title:  proposal: encoding/json: add omitnil option\n",
      "Age:    732 days\n",
      "----------------------------------------\n",
      "Number: 28189\n",
      "User:   adnsv\n",
      "Title:  encoding/json: confusing errors when unmarshaling custom types\n",
      "Age:    382 days\n",
      "----------------------------------------\n",
      "Number: 5901\n",
      "User:   rsc\n",
      "Title:  encoding/json: allow override type marshaling\n",
      "Age:    2296 days\n",
      "----------------------------------------\n",
      "Number: 33714\n",
      "User:   flimzy\n",
      "Title:  proposal: encoding/json: Opt-in for true streaming support\n",
      "Age:    72 days\n",
      "----------------------------------------\n",
      "Number: 7872\n",
      "User:   extemporalgenome\n",
      "Title:  encoding/json: Encoder internally buffers full output\n",
      "Age:    2013 days\n",
      "----------------------------------------\n",
      "Number: 14750\n",
      "User:   cyberphone\n",
      "Title:  encoding/json: parser ignores the case of member names\n",
      "Age:    1329 days\n",
      "----------------------------------------\n",
      "Number: 28143\n",
      "User:   arp242\n",
      "Title:  proposal: encoding/json: add \"readonly\" tag\n",
      "Age:    384 days\n",
      "----------------------------------------\n",
      "Number: 30701\n",
      "User:   LouAdrien\n",
      "Title:  encoding/json: ignore tag \"-\" not working on embedded sub struct\n",
      "Age:    235 days\n",
      "----------------------------------------\n",
      "Number: 22752\n",
      "User:   buyology\n",
      "Title:  proposal: encoding/json: add access to the underlying data causi\n",
      "Age:    714 days\n",
      "----------------------------------------\n",
      "Number: 27179\n",
      "User:   lavalamp\n",
      "Title:  encoding/json: no way to preserve the order of map keys\n",
      "Age:    433 days\n",
      "----------------------------------------\n",
      "Number: 20754\n",
      "User:   rsc\n",
      "Title:  encoding/xml: unmarshal only processes first XML element\n",
      "Age:    860 days\n",
      "----------------------------------------\n",
      "Number: 20528\n",
      "User:   jvshahid\n",
      "Title:  net/http: connection reuse does not work happily with normal use\n",
      "Age:    883 days\n",
      "----------------------------------------\n",
      "Number: 22816\n",
      "User:   ganelon13\n",
      "Title:  encoding/json: include field name in unmarshal error messages wh\n",
      "Age:    709 days\n",
      "----------------------------------------\n",
      "Number: 21823\n",
      "User:   243083df\n",
      "Title:  encoding/xml: very low performance in xml parser\n",
      "Age:    781 days\n"
     ]
    }
   ],
   "source": [
    "os.Args = []string{\"issuereport\", \"repo:golang/go\",\"is:open\",\"json\",\"decoder\"}\n",
    "main()"
   ]
  },
  {
   "cell_type": "code",
   "execution_count": 25,
   "metadata": {},
   "outputs": [
    {
     "name": "stdout",
     "output_type": "stream",
     "text": [
      "42 issues:\n",
      "----------------------------------------\n",
      "Number: 33416\n",
      "User:   bserdar\n",
      "Title:  encoding/json: This CL adds Decoder.InternKeys\n",
      "Age:    90 days\n",
      "----------------------------------------\n",
      "Number: 34647\n",
      "User:   babolivier\n",
      "Title:  encoding/json: fix byte counter increments when using decoder.To\n",
      "Age:    29 days\n",
      "----------------------------------------\n",
      "Number: 34543\n",
      "User:   maxatome\n",
      "Title:  encoding/json: Unmarshal & json.(*Decoder).Token report differen\n",
      "Age:    35 days\n",
      "----------------------------------------\n",
      "Number: 29035\n",
      "User:   jaswdr\n",
      "Title:  proposal: encoding/json: add error var to compare  the returned \n",
      "Age:    334 days\n",
      "----------------------------------------\n",
      "Number: 32779\n",
      "User:   rsc\n",
      "Title:  proposal: encoding/json: memoize strings during decode?\n",
      "Age:    127 days\n",
      "----------------------------------------\n",
      "Number: 34564\n",
      "User:   mdempsky\n",
      "Title:  go/internal/gcimporter: single source of truth for decoder logic\n",
      "Age:    34 days\n",
      "----------------------------------------\n",
      "Number: 28923\n",
      "User:   mvdan\n",
      "Title:  encoding/json: speed up the decoding scanner\n",
      "Age:    342 days\n",
      "----------------------------------------\n",
      "Number: 11046\n",
      "User:   kurin\n",
      "Title:  encoding/json: Decoder internally buffers full input\n",
      "Age:    1610 days\n",
      "----------------------------------------\n",
      "Number: 33854\n",
      "User:   Qhesz\n",
      "Title:  encoding/json: unmarshal option to treat omitted fields as null\n",
      "Age:    65 days\n",
      "----------------------------------------\n",
      "Number: 30301\n",
      "User:   zelch\n",
      "Title:  encoding/xml: option to treat unknown fields as an error\n",
      "Age:    254 days\n",
      "----------------------------------------\n",
      "Number: 26946\n",
      "User:   deuill\n",
      "Title:  encoding/json: clarify what happens when unmarshaling into a non\n",
      "Age:    444 days\n",
      "----------------------------------------\n",
      "Number: 12001\n",
      "User:   lukescott\n",
      "Title:  encoding/json: Marshaler/Unmarshaler not stream friendly\n",
      "Age:    1549 days\n",
      "----------------------------------------\n",
      "Number: 33835\n",
      "User:   Qhesz\n",
      "Title:  encoding/json: unmarshalling null into non-nullable golang types\n",
      "Age:    65 days\n",
      "----------------------------------------\n",
      "Number: 31701\n",
      "User:   lr1980\n",
      "Title:  encoding/json: second decode after error impossible\n",
      "Age:    187 days\n",
      "----------------------------------------\n",
      "Number: 31789\n",
      "User:   mgritter\n",
      "Title:  encoding/json: provide a way to limit recursion depth\n",
      "Age:    182 days\n",
      "----------------------------------------\n",
      "Number: 16212\n",
      "User:   josharian\n",
      "Title:  encoding/json: do all reflect work before decoding\n",
      "Age:    1218 days\n",
      "----------------------------------------\n",
      "Number: 22480\n",
      "User:   blixt\n",
      "Title:  proposal: encoding/json: add omitnil option\n",
      "Age:    732 days\n",
      "----------------------------------------\n",
      "Number: 28189\n",
      "User:   adnsv\n",
      "Title:  encoding/json: confusing errors when unmarshaling custom types\n",
      "Age:    382 days\n",
      "----------------------------------------\n",
      "Number: 5901\n",
      "User:   rsc\n",
      "Title:  encoding/json: allow override type marshaling\n",
      "Age:    2296 days\n",
      "----------------------------------------\n",
      "Number: 33714\n",
      "User:   flimzy\n",
      "Title:  proposal: encoding/json: Opt-in for true streaming support\n",
      "Age:    72 days\n",
      "----------------------------------------\n",
      "Number: 7872\n",
      "User:   extemporalgenome\n",
      "Title:  encoding/json: Encoder internally buffers full output\n",
      "Age:    2013 days\n",
      "----------------------------------------\n",
      "Number: 14750\n",
      "User:   cyberphone\n",
      "Title:  encoding/json: parser ignores the case of member names\n",
      "Age:    1329 days\n",
      "----------------------------------------\n",
      "Number: 28143\n",
      "User:   arp242\n",
      "Title:  proposal: encoding/json: add \"readonly\" tag\n",
      "Age:    384 days\n",
      "----------------------------------------\n",
      "Number: 30701\n",
      "User:   LouAdrien\n",
      "Title:  encoding/json: ignore tag \"-\" not working on embedded sub struct\n",
      "Age:    235 days\n",
      "----------------------------------------\n",
      "Number: 22752\n",
      "User:   buyology\n",
      "Title:  proposal: encoding/json: add access to the underlying data causi\n",
      "Age:    714 days\n",
      "----------------------------------------\n",
      "Number: 27179\n",
      "User:   lavalamp\n",
      "Title:  encoding/json: no way to preserve the order of map keys\n",
      "Age:    433 days\n",
      "----------------------------------------\n",
      "Number: 20754\n",
      "User:   rsc\n",
      "Title:  encoding/xml: unmarshal only processes first XML element\n",
      "Age:    860 days\n",
      "----------------------------------------\n",
      "Number: 20528\n",
      "User:   jvshahid\n",
      "Title:  net/http: connection reuse does not work happily with normal use\n",
      "Age:    883 days\n",
      "----------------------------------------\n",
      "Number: 22816\n",
      "User:   ganelon13\n",
      "Title:  encoding/json: include field name in unmarshal error messages wh\n",
      "Age:    709 days\n",
      "----------------------------------------\n",
      "Number: 21823\n",
      "User:   243083df\n",
      "Title:  encoding/xml: very low performance in xml parser\n",
      "Age:    781 days\n"
     ]
    }
   ],
   "source": [
    "noMust()"
   ]
  },
  {
   "cell_type": "markdown",
   "metadata": {
    "slideshow": {
     "slide_type": "subslide"
    }
   },
   "source": [
    "* html/template use the same API and expression language as text/template\n",
    "* with HTML, JavaScript, CSS, or URLs"
   ]
  },
  {
   "cell_type": "code",
   "execution_count": 39,
   "metadata": {
    "code_folding": [],
    "slideshow": {
     "slide_type": "subslide"
    }
   },
   "outputs": [],
   "source": [
    "//gopl.io/ch4/issueshtml\n",
    "import (\"log\";\"os\";\"gopl.io/ch4/github\";\"html/template\")\n",
    "var issueList = template.Must(template.New(\"issuelist\").Parse(`\n",
    "<h1>{{.TotalCount}} issues</h1>\n",
    "<table border=1>\n",
    "<tr style='text-align: left'>\n",
    "  <th>#</th>\n",
    "  <th>State</th>\n",
    "  <th>User</th>\n",
    "  <th>Title</th>\n",
    "</tr>\n",
    "{{range .Items}}\n",
    "<tr>\n",
    "  <td><a href='{{.HTMLURL}}'>{{.Number}}</a></td>\n",
    "  <td>{{.State}}</td>\n",
    "  <td><a href='{{.User.HTMLURL}}'>{{.User.Login}}</a></td>\n",
    "  <td><a href='{{.HTMLURL}}'>{{.Title}}</a></td>\n",
    "</tr>\n",
    "{{end}}\n",
    "</table>\n",
    "`))"
   ]
  },
  {
   "cell_type": "code",
   "execution_count": 40,
   "metadata": {
    "code_folding": []
   },
   "outputs": [],
   "source": [
    "func main() {\n",
    "\tresult, err := github.SearchIssues(os.Args[1:])\n",
    "\tif err != nil {\n",
    "\t\tlog.Fatal(err)\n",
    "\t}\n",
    "\tif err := issueList.Execute(os.Stdout, result); err != nil {\n",
    "\t\tlog.Fatal(err)\n",
    "\t}\n",
    "}"
   ]
  },
  {
   "cell_type": "code",
   "execution_count": 41,
   "metadata": {
    "code_folding": [],
    "slideshow": {
     "slide_type": "fragment"
    }
   },
   "outputs": [
    {
     "name": "stdout",
     "output_type": "stream",
     "text": [
      "\n",
      "<h1>37 issues</h1>\n",
      "<table border=1>\n",
      "<tr style='text-align: left'>\n",
      "  <th>#</th>\n",
      "  <th>State</th>\n",
      "  <th>User</th>\n",
      "  <th>Title</th>\n",
      "</tr>\n",
      "\n",
      "<tr>\n",
      "  <td><a href='https://github.com/golang/go/issues/7872'>7872</a></td>\n",
      "  <td>open</td>\n",
      "  <td><a href='https://github.com/extemporalgenome'>extemporalgenome</a></td>\n",
      "  <td><a href='https://github.com/golang/go/issues/7872'>encoding/json: Encoder internally buffers full output</a></td>\n",
      "</tr>\n",
      "\n",
      "<tr>\n",
      "  <td><a href='https://github.com/golang/go/issues/27735'>27735</a></td>\n",
      "  <td>open</td>\n",
      "  <td><a href='https://github.com/dsnet'>dsnet</a></td>\n",
      "  <td><a href='https://github.com/golang/go/issues/27735'>encoding/json: incorrect usage of sync.Pool</a></td>\n",
      "</tr>\n",
      "\n",
      "<tr>\n",
      "  <td><a href='https://github.com/golang/go/issues/10769'>10769</a></td>\n",
      "  <td>open</td>\n",
      "  <td><a href='https://github.com/bep'>bep</a></td>\n",
      "  <td><a href='https://github.com/golang/go/issues/10769'>encoding/json: detect circular data structures when encoding</a></td>\n",
      "</tr>\n",
      "\n",
      "<tr>\n",
      "  <td><a href='https://github.com/golang/go/issues/28923'>28923</a></td>\n",
      "  <td>open</td>\n",
      "  <td><a href='https://github.com/mvdan'>mvdan</a></td>\n",
      "  <td><a href='https://github.com/golang/go/issues/28923'>encoding/json: speed up the decoding scanner</a></td>\n",
      "</tr>\n",
      "\n",
      "<tr>\n",
      "  <td><a href='https://github.com/golang/go/issues/5819'>5819</a></td>\n",
      "  <td>open</td>\n",
      "  <td><a href='https://github.com/gopherbot'>gopherbot</a></td>\n",
      "  <td><a href='https://github.com/golang/go/issues/5819'>encoding/gob: encoder should ignore embedded structs with no exported fields</a></td>\n",
      "</tr>\n",
      "\n",
      "<tr>\n",
      "  <td><a href='https://github.com/golang/go/issues/25153'>25153</a></td>\n",
      "  <td>open</td>\n",
      "  <td><a href='https://github.com/dominicbarnes'>dominicbarnes</a></td>\n",
      "  <td><a href='https://github.com/golang/go/issues/25153'>encoding/json: include property name for marshal errors</a></td>\n",
      "</tr>\n",
      "\n",
      "<tr>\n",
      "  <td><a href='https://github.com/golang/go/issues/21399'>21399</a></td>\n",
      "  <td>open</td>\n",
      "  <td><a href='https://github.com/halfcrazy'>halfcrazy</a></td>\n",
      "  <td><a href='https://github.com/golang/go/issues/21399'>encoding/xml: cannot marshal self-closing tag</a></td>\n",
      "</tr>\n",
      "\n",
      "<tr>\n",
      "  <td><a href='https://github.com/golang/go/issues/11939'>11939</a></td>\n",
      "  <td>open</td>\n",
      "  <td><a href='https://github.com/joeshaw'>joeshaw</a></td>\n",
      "  <td><a href='https://github.com/golang/go/issues/11939'>proposal: encoding/json, encoding/xml: support zero values of structs with omitempty</a></td>\n",
      "</tr>\n",
      "\n",
      "<tr>\n",
      "  <td><a href='https://github.com/golang/go/issues/20206'>20206</a></td>\n",
      "  <td>open</td>\n",
      "  <td><a href='https://github.com/markdryan'>markdryan</a></td>\n",
      "  <td><a href='https://github.com/golang/go/issues/20206'>encoding/base64: encoding is slow</a></td>\n",
      "</tr>\n",
      "\n",
      "<tr>\n",
      "  <td><a href='https://github.com/golang/go/issues/34471'>34471</a></td>\n",
      "  <td>open</td>\n",
      "  <td><a href='https://github.com/lmb'>lmb</a></td>\n",
      "  <td><a href='https://github.com/golang/go/issues/34471'>proposal: encoding/binary: cache dataSize across invocations of Read and Write</a></td>\n",
      "</tr>\n",
      "\n",
      "<tr>\n",
      "  <td><a href='https://github.com/golang/go/issues/34235'>34235</a></td>\n",
      "  <td>closed</td>\n",
      "  <td><a href='https://github.com/wI2L'>wI2L</a></td>\n",
      "  <td><a href='https://github.com/golang/go/issues/34235'>encoding/json: marshaling a zero value encoding.TextMarshaler interface struct field panics</a></td>\n",
      "</tr>\n",
      "\n",
      "<tr>\n",
      "  <td><a href='https://github.com/golang/go/issues/19636'>19636</a></td>\n",
      "  <td>open</td>\n",
      "  <td><a href='https://github.com/josselin-c'>josselin-c</a></td>\n",
      "  <td><a href='https://github.com/golang/go/issues/19636'>encoding/base64: decoding is slow</a></td>\n",
      "</tr>\n",
      "\n",
      "<tr>\n",
      "  <td><a href='https://github.com/golang/go/issues/33675'>33675</a></td>\n",
      "  <td>closed</td>\n",
      "  <td><a href='https://github.com/wI2L'>wI2L</a></td>\n",
      "  <td><a href='https://github.com/golang/go/issues/33675'>encoding/json: panic for nil map key types implementing TextMarshaler</a></td>\n",
      "</tr>\n",
      "\n",
      "<tr>\n",
      "  <td><a href='https://github.com/golang/go/issues/32896'>32896</a></td>\n",
      "  <td>closed</td>\n",
      "  <td><a href='https://github.com/nkovacs'>nkovacs</a></td>\n",
      "  <td><a href='https://github.com/golang/go/issues/32896'>encoding/json: addrMarshalerEncoder does not respect SetEscapeHTML</a></td>\n",
      "</tr>\n",
      "\n",
      "<tr>\n",
      "  <td><a href='https://github.com/golang/go/issues/5683'>5683</a></td>\n",
      "  <td>closed</td>\n",
      "  <td><a href='https://github.com/gopherbot'>gopherbot</a></td>\n",
      "  <td><a href='https://github.com/golang/go/issues/5683'>encoding/json: performance slower than expected</a></td>\n",
      "</tr>\n",
      "\n",
      "<tr>\n",
      "  <td><a href='https://github.com/golang/go/issues/17704'>17704</a></td>\n",
      "  <td>closed</td>\n",
      "  <td><a href='https://github.com/dsnet'>dsnet</a></td>\n",
      "  <td><a href='https://github.com/golang/go/issues/17704'>encoding/json: regression in handling of nil RawMessage</a></td>\n",
      "</tr>\n",
      "\n",
      "<tr>\n",
      "  <td><a href='https://github.com/golang/go/issues/25426'>25426</a></td>\n",
      "  <td>open</td>\n",
      "  <td><a href='https://github.com/josharian'>josharian</a></td>\n",
      "  <td><a href='https://github.com/golang/go/issues/25426'>cmd/compile: revisit statement boundaries CL peformance and binary size impact</a></td>\n",
      "</tr>\n",
      "\n",
      "<tr>\n",
      "  <td><a href='https://github.com/golang/go/issues/11940'>11940</a></td>\n",
      "  <td>closed</td>\n",
      "  <td><a href='https://github.com/lukescott'>lukescott</a></td>\n",
      "  <td><a href='https://github.com/golang/go/issues/11940'>proposal: encoding/json: Encode channel as array</a></td>\n",
      "</tr>\n",
      "\n",
      "<tr>\n",
      "  <td><a href='https://github.com/golang/go/issues/34298'>34298</a></td>\n",
      "  <td>closed</td>\n",
      "  <td><a href='https://github.com/pmalek'>pmalek</a></td>\n",
      "  <td><a href='https://github.com/golang/go/issues/34298'>x/tools/gopls: error checking package</a></td>\n",
      "</tr>\n",
      "\n",
      "<tr>\n",
      "  <td><a href='https://github.com/golang/go/issues/4146'>4146</a></td>\n",
      "  <td>open</td>\n",
      "  <td><a href='https://github.com/bradfitz'>bradfitz</a></td>\n",
      "  <td><a href='https://github.com/golang/go/issues/4146'>reflect: MakeInterface</a></td>\n",
      "</tr>\n",
      "\n",
      "<tr>\n",
      "  <td><a href='https://github.com/golang/go/issues/23077'>23077</a></td>\n",
      "  <td>closed</td>\n",
      "  <td><a href='https://github.com/pciet'>pciet</a></td>\n",
      "  <td><a href='https://github.com/golang/go/issues/23077'>proposal: Go 2: remove interface{} use from the standard library</a></td>\n",
      "</tr>\n",
      "\n",
      "<tr>\n",
      "  <td><a href='https://github.com/golang/go/issues/21590'>21590</a></td>\n",
      "  <td>closed</td>\n",
      "  <td><a href='https://github.com/Hamcha'>Hamcha</a></td>\n",
      "  <td><a href='https://github.com/golang/go/issues/21590'>proposal: encoding/hex: add an encoder and decoder</a></td>\n",
      "</tr>\n",
      "\n",
      "<tr>\n",
      "  <td><a href='https://github.com/golang/go/issues/19348'>19348</a></td>\n",
      "  <td>closed</td>\n",
      "  <td><a href='https://github.com/davidlazar'>davidlazar</a></td>\n",
      "  <td><a href='https://github.com/golang/go/issues/19348'>cmd/compile: enable mid-stack inlining</a></td>\n",
      "</tr>\n",
      "\n",
      "<tr>\n",
      "  <td><a href='https://github.com/golang/go/issues/28792'>28792</a></td>\n",
      "  <td>closed</td>\n",
      "  <td><a href='https://github.com/thinkerou'>thinkerou</a></td>\n",
      "  <td><a href='https://github.com/golang/go/issues/28792'>cmd/vet: incorrect error on a MarshalXML method</a></td>\n",
      "</tr>\n",
      "\n",
      "<tr>\n",
      "  <td><a href='https://github.com/golang/go/issues/26264'>26264</a></td>\n",
      "  <td>closed</td>\n",
      "  <td><a href='https://github.com/mvdan'>mvdan</a></td>\n",
      "  <td><a href='https://github.com/golang/go/issues/26264'>bytes: WriteString, WriteByte and Write vary in performance</a></td>\n",
      "</tr>\n",
      "\n",
      "<tr>\n",
      "  <td><a href='https://github.com/golang/go/issues/30101'>30101</a></td>\n",
      "  <td>closed</td>\n",
      "  <td><a href='https://github.com/dmitshur'>dmitshur</a></td>\n",
      "  <td><a href='https://github.com/golang/go/issues/30101'>x/build/maintner: GerritCL.Subject doesn&#39;t include entire subject if it&#39;s split across multiple lines</a></td>\n",
      "</tr>\n",
      "\n",
      "<tr>\n",
      "  <td><a href='https://github.com/golang/go/issues/17255'>17255</a></td>\n",
      "  <td>closed</td>\n",
      "  <td><a href='https://github.com/xoba'>xoba</a></td>\n",
      "  <td><a href='https://github.com/golang/go/issues/17255'>encoding/json docs reference an unknown entity &#34;DisableHTMLEscaping&#34;</a></td>\n",
      "</tr>\n",
      "\n",
      "<tr>\n",
      "  <td><a href='https://github.com/golang/go/issues/14493'>14493</a></td>\n",
      "  <td>closed</td>\n",
      "  <td><a href='https://github.com/niemeyer'>niemeyer</a></td>\n",
      "  <td><a href='https://github.com/golang/go/issues/14493'>encoding/json: RawMessage marshals as base64</a></td>\n",
      "</tr>\n",
      "\n",
      "<tr>\n"
     ]
    },
    {
     "name": "stdout",
     "output_type": "stream",
     "text": [
      "  <td><a href='https://github.com/golang/go/issues/6492'>6492</a></td>\n",
      "  <td>closed</td>\n",
      "  <td><a href='https://github.com/kisielk'>kisielk</a></td>\n",
      "  <td><a href='https://github.com/golang/go/issues/6492'>encoding/json: Add Encoder.Indent</a></td>\n",
      "</tr>\n",
      "\n",
      "<tr>\n",
      "  <td><a href='https://github.com/golang/go/issues/6901'>6901</a></td>\n",
      "  <td>closed</td>\n",
      "  <td><a href='https://github.com/lukescott'>lukescott</a></td>\n",
      "  <td><a href='https://github.com/golang/go/issues/6901'>encoding/json, encoding/xml: option to treat unknown fields as an error</a></td>\n",
      "</tr>\n",
      "\n",
      "</table>\n"
     ]
    }
   ],
   "source": [
    "os.Args = []string{\"issuehtml\",\"repo:golang/go\",\"commenter:gopherbot\",\"json\",\"encoder\"}\n",
    "main()"
   ]
  },
  {
   "cell_type": "markdown",
   "metadata": {
    "slideshow": {
     "slide_type": "subslide"
    }
   },
   "source": [
    "[issues.html](http://skhuang.github.io/ch4/issues.html)"
   ]
  },
  {
   "cell_type": "code",
   "execution_count": 43,
   "metadata": {
    "slideshow": {
     "slide_type": "fragment"
    }
   },
   "outputs": [
    {
     "name": "stdout",
     "output_type": "stream",
     "text": [
      "\n",
      "<h1>2 issues</h1>\n",
      "<table border=1>\n",
      "<tr style='text-align: left'>\n",
      "  <th>#</th>\n",
      "  <th>State</th>\n",
      "  <th>User</th>\n",
      "  <th>Title</th>\n",
      "</tr>\n",
      "\n",
      "<tr>\n",
      "  <td><a href='https://github.com/golang/go/issues/10535'>10535</a></td>\n",
      "  <td>open</td>\n",
      "  <td><a href='https://github.com/dvyukov'>dvyukov</a></td>\n",
      "  <td><a href='https://github.com/golang/go/issues/10535'>x/net/html: void element &lt;link&gt; has child nodes</a></td>\n",
      "</tr>\n",
      "\n",
      "<tr>\n",
      "  <td><a href='https://github.com/golang/go/issues/3133'>3133</a></td>\n",
      "  <td>closed</td>\n",
      "  <td><a href='https://github.com/ukai'>ukai</a></td>\n",
      "  <td><a href='https://github.com/golang/go/issues/3133'>html/template: escape xmldesc as &amp;lt;?xml</a></td>\n",
      "</tr>\n",
      "\n",
      "</table>\n"
     ]
    }
   ],
   "source": [
    "os.Args = []string{\"issuehtml\",\"repo:golang/go\",\"3133\",\"10535\"}\n",
    "main()"
   ]
  },
  {
   "cell_type": "markdown",
   "metadata": {
    "slideshow": {
     "slide_type": "fragment"
    }
   },
   "source": [
    "[issue2.html](https://skhuang.github.io/ch4/issues2.html)"
   ]
  },
  {
   "cell_type": "code",
   "execution_count": 38,
   "metadata": {
    "code_folding": [],
    "slideshow": {
     "slide_type": "subslide"
    }
   },
   "outputs": [
    {
     "ename": "ERROR",
     "evalue": "repl.go:14:5: error compiling assignment: data.B = \"<b>Hello!</b>\"\n\treflect.Value.Convert: value of type reflect.Value cannot be converted to type template.HTML",
     "output_type": "error",
     "traceback": [
      "repl.go:14:5: error compiling assignment: data.B = \"<b>Hello!</b>\"\n\treflect.Value.Convert: value of type reflect.Value cannot be converted to type template.HTML"
     ]
    }
   ],
   "source": [
    "//gopl.io/ch4/autoescape\n",
    "import (\"fmt\";\"html/template\";\"log\";\"os\")\n",
    "\n",
    "//!+\n",
    "func main() {\n",
    "\tconst templ = `<p>A: {{.A}}</p><p>B: {{.B}}</p>`\n",
    "\tt := template.Must(template.New(\"escape\").Parse(templ))\n",
    "\tvar data struct {\n",
    "\t\tA string        // untrusted plain text\n",
    "\t\tB template.HTML // trusted HTML\n",
    "\t}\n",
    "    fmt.Printf(\"%T\\n\",data)\n",
    "    data.A = \"<b>Hello!</b>\"\n",
    "    data.B = \"<b>Hello!</b>\"\n",
    "    //var  b template.HTML= template.HTML(\"test\")\n",
    "\tif err := t.Execute(os.Stdout, data); err != nil {\n",
    "\t\tlog.Fatal(err)\n",
    "\t}\n",
    "}\n"
   ]
  },
  {
   "cell_type": "markdown",
   "metadata": {
    "slideshow": {
     "slide_type": "subslide"
    }
   },
   "source": [
    "[autoescape.html](http://skhuang.github.io/ch4/autoescape.html)"
   ]
  },
  {
   "cell_type": "code",
   "execution_count": null,
   "metadata": {},
   "outputs": [],
   "source": []
  }
 ],
 "metadata": {
  "celltoolbar": "Slideshow",
  "kernelspec": {
   "display_name": "Go",
   "language": "go",
   "name": "gophernotes"
  },
  "language_info": {
   "codemirror_mode": "",
   "file_extension": ".go",
   "mimetype": "",
   "name": "go",
   "nbconvert_exporter": "",
   "pygments_lexer": "",
   "version": "go1.17.1"
  },
  "rise": {
   "enable_chalkboard": true,
   "scroll": true
  },
  "toc": {
   "base_numbering": "4",
   "nav_menu": {},
   "number_sections": true,
   "sideBar": true,
   "skip_h1_title": false,
   "title_cell": "Table of Contents",
   "title_sidebar": "Contents",
   "toc_cell": true,
   "toc_position": {
    "height": "171.188px",
    "left": "88px",
    "top": "110px",
    "width": "165px"
   },
   "toc_section_display": true,
   "toc_window_display": false
  }
 },
 "nbformat": 4,
 "nbformat_minor": 2
}
