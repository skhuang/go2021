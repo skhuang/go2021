{
 "cells": [
  {
   "cell_type": "markdown",
   "metadata": {
    "slideshow": {
     "slide_type": "skip"
    },
    "toc": true
   },
   "source": [
    "<h1>Table of Contents<span class=\"tocSkip\"></span></h1>\n",
    "<div class=\"toc\"><ul class=\"toc-item\"><li><span><a href=\"#Functions\" data-toc-modified-id=\"Functions-5\"><span class=\"toc-item-num\">5&nbsp;&nbsp;</span>Functions</a></span><ul class=\"toc-item\"><li><span><a href=\"#Functiton-Declarations\" data-toc-modified-id=\"Functiton-Declarations-5.1\"><span class=\"toc-item-num\">5.1&nbsp;&nbsp;</span>Functiton Declarations</a></span></li><li><span><a href=\"#Recursion\" data-toc-modified-id=\"Recursion-5.2\"><span class=\"toc-item-num\">5.2&nbsp;&nbsp;</span>Recursion</a></span></li><li><span><a href=\"#Mutiple-Return-Values\" data-toc-modified-id=\"Mutiple-Return-Values-5.3\"><span class=\"toc-item-num\">5.3&nbsp;&nbsp;</span>Mutiple Return Values</a></span></li><li><span><a href=\"#Errors\" data-toc-modified-id=\"Errors-5.4\"><span class=\"toc-item-num\">5.4&nbsp;&nbsp;</span>Errors</a></span><ul class=\"toc-item\"><li><span><a href=\"#Error-Handling-Strategies\" data-toc-modified-id=\"Error-Handling-Strategies-5.4.1\"><span class=\"toc-item-num\">5.4.1&nbsp;&nbsp;</span>Error-Handling Strategies</a></span></li></ul></li><li><span><a href=\"#Function-Values\" data-toc-modified-id=\"Function-Values-5.5\"><span class=\"toc-item-num\">5.5&nbsp;&nbsp;</span>Function Values</a></span></li><li><span><a href=\"#Anonymous-Functions\" data-toc-modified-id=\"Anonymous-Functions-5.6\"><span class=\"toc-item-num\">5.6&nbsp;&nbsp;</span>Anonymous Functions</a></span><ul class=\"toc-item\"><li><span><a href=\"#Caveat:-Capturing-Iteration-Variables\" data-toc-modified-id=\"Caveat:-Capturing-Iteration-Variables-5.6.1\"><span class=\"toc-item-num\">5.6.1&nbsp;&nbsp;</span>Caveat: Capturing Iteration Variables</a></span></li></ul></li><li><span><a href=\"#Variadic-Functions\" data-toc-modified-id=\"Variadic-Functions-5.7\"><span class=\"toc-item-num\">5.7&nbsp;&nbsp;</span>Variadic Functions</a></span></li><li><span><a href=\"#Deferred-Function-Calls\" data-toc-modified-id=\"Deferred-Function-Calls-5.8\"><span class=\"toc-item-num\">5.8&nbsp;&nbsp;</span>Deferred Function Calls</a></span></li><li><span><a href=\"#Panic\" data-toc-modified-id=\"Panic-5.9\"><span class=\"toc-item-num\">5.9&nbsp;&nbsp;</span>Panic</a></span></li><li><span><a href=\"#Recover\" data-toc-modified-id=\"Recover-5.10\"><span class=\"toc-item-num\">5.10&nbsp;&nbsp;</span>Recover</a></span></li></ul></li></ul></div>"
   ]
  },
  {
   "cell_type": "markdown",
   "metadata": {
    "slideshow": {
     "slide_type": "slide"
    }
   },
   "source": [
    "# Functions\n",
    "* Function Declarations\n",
    "* Recursion\n",
    "* Multiple Return Values\n",
    "* Errors\n",
    "* Function Values\n",
    "* Anonymous Functions\n",
    "* Variadic Functions\n",
    "* Deferred Function Calls\n",
    "* Panic\n",
    "* Recover"
   ]
  },
  {
   "cell_type": "markdown",
   "metadata": {
    "slideshow": {
     "slide_type": "slide"
    }
   },
   "source": [
    "## Functiton Declarations\n",
    "* A function declaration has a name, a list of parameters, and optional list of results, and a body\n",
    "<code>\n",
    "    func name(parameter-list) (result-list) {\n",
    "       body\n",
    "    }\n",
    "</code>\n",
    "* parameter-list: names and types of the function's parameters\n",
    "* result-list: types of the values that the function returns\n",
    "  * If returns one unnamed result or no results at all, parentheses are optional and usually omitted"
   ]
  },
  {
   "cell_type": "code",
   "execution_count": 2,
   "metadata": {
    "code_folding": [
     5
    ],
    "slideshow": {
     "slide_type": "subslide"
    }
   },
   "outputs": [
    {
     "name": "stdout",
     "output_type": "stream",
     "text": [
      "5\n"
     ]
    },
    {
     "data": {
      "text/plain": [
       "2 <nil>"
      ]
     },
     "execution_count": 2,
     "metadata": {},
     "output_type": "execute_result"
    }
   ],
   "source": [
    "//calculate the length of the hypotenuse of a right-angle triangle\n",
    "import (\"math\";\"fmt\")\n",
    "func hypot(x,y float64) float64 {\n",
    "    return math.Sqrt(x*x+y*y)\n",
    "}\n",
    "fmt.Println(hypot(3,4))"
   ]
  },
  {
   "cell_type": "markdown",
   "metadata": {
    "slideshow": {
     "slide_type": "subslide"
    }
   },
   "source": [
    "* Four ways to declare a function with two parameters and one result\n",
    "* Blank identifier can be used to emphasize a parameter is ussed"
   ]
  },
  {
   "cell_type": "code",
   "execution_count": 3,
   "metadata": {
    "code_folding": [],
    "slideshow": {
     "slide_type": "fragment"
    }
   },
   "outputs": [
    {
     "name": "stdout",
     "output_type": "stream",
     "text": [
      "func(int, int) int,7\n",
      "func(int, int) int,-1\n",
      "func(int, int) int,3\n",
      "func(int, int) int,0\n"
     ]
    },
    {
     "data": {
      "text/plain": [
       "21 <nil>"
      ]
     },
     "execution_count": 3,
     "metadata": {},
     "output_type": "execute_result"
    }
   ],
   "source": [
    "//function declarations\n",
    "import \"fmt\"\n",
    "func add(x int, y int) int {return x+y}\n",
    "func sub(x,y int) (z int) {z = x - y; return}\n",
    "func first(x int, _ int) int {return x}\n",
    "func zero(int, int) int {return 0}\n",
    "\n",
    "fmt.Printf(\"%T,%d\\n\", add,add(3,4))\n",
    "fmt.Printf(\"%T,%d\\n\", sub,sub(3,4))\n",
    "fmt.Printf(\"%T,%d\\n\",first,first(3,4))\n",
    "fmt.Printf(\"%T,%d\\n\",zero,zero(3,4))"
   ]
  },
  {
   "cell_type": "markdown",
   "metadata": {
    "slideshow": {
     "slide_type": "slide"
    }
   },
   "source": [
    "## Recursion "
   ]
  },
  {
   "cell_type": "markdown",
   "metadata": {
    "slideshow": {
     "slide_type": "fragment"
    }
   },
   "source": [
    "* Functions may be recursive: \n",
    "  * they may call themselves, either diretly or indirectly"
   ]
  },
  {
   "cell_type": "code",
   "execution_count": 64,
   "metadata": {
    "code_folding": [],
    "slideshow": {
     "slide_type": "subslide"
    }
   },
   "outputs": [],
   "source": [
    "//golang.org/x/net/html\n",
    "//package html\n",
    "import \"io\"\n",
    "type Node struct {\n",
    "    Type                    NodeType\n",
    "    Data                    string\n",
    "    Attr                    []Attribute\n",
    "    FirstChild, NextSibling *Node\n",
    "}\n",
    "type NodeType int32\n",
    "const (\n",
    "  ErrorNode NodeType = iota\n",
    "  TextNode\n",
    "  DocumentNode\n",
    "  ElementNode\n",
    "  CommentNode\n",
    "  DoctypeNode\n",
    ")\n",
    "type Attribute struct {\n",
    "    Key, Val string\n",
    "}\n",
    "func Parse(r io.Reader) (*Node, error)"
   ]
  },
  {
   "cell_type": "code",
   "execution_count": 4,
   "metadata": {
    "code_folding": [
     21,
     22
    ],
    "slideshow": {
     "slide_type": "subslide"
    }
   },
   "outputs": [
    {
     "name": "stdout",
     "output_type": "stream",
     "text": [
      "https://golang.io/fr/\n",
      "https://golang.io/fr/actualites/\n",
      "https://golang.io/fr/cours/\n",
      "https://golang.io/fr/cours/apprendre-a-programmer-en-go/\n",
      "https://golang.io/fr/tutoriels/\n",
      "https://golang.io/fr/videos/\n",
      "https://golang.io/fr/actualites/\n",
      "https://golang.io/fr/cours/\n",
      "https://golang.io/fr/cours/apprendre-a-programmer-en-go/\n",
      "https://golang.io/fr/tutoriels/\n",
      "https://golang.io/fr/videos/\n",
      "https://golang.io/fr/actualites/conference-dotgo-2019/\n",
      "https://golang.io/fr/actualites/conference-dotgo-2019/\n",
      "https://golang.io/fr/actualites/conference-dotgo-2019/\n",
      "https://golang.io/fr/actualites/conference-dotgo-2016/\n",
      "https://golang.io/fr/actualites/conference-dotgo-2016/\n",
      "https://golang.io/fr/actualites/conference-dotgo-2016/\n",
      "https://golang.io/fr/tutoriels/les-middlewares-avec-go/\n",
      "https://golang.io/fr/tutoriels/les-middlewares-avec-go/\n",
      "https://golang.io/fr/tutoriels/les-middlewares-avec-go/\n",
      "https://golang.io/fr/\n",
      "https://golang.io/fr/actualites/\n",
      "https://golang.io/fr/tutoriels/\n",
      "https://golang.io/fr/videos/\n",
      "#\n",
      "https://golang.io/fr/actualites/conference-dotgo-2019/\n",
      "https://golang.io/fr/actualites/\n",
      "https://golang.io/fr/actualites/conference-dotgo-2019/\n",
      "https://golang.io/fr/actualites/conference-dotgo-2019/#comments\n",
      "https://golang.io/wp-admin/admin-ajax.php?action=process_simple_like&nonce=89291a5a67&post_id=413&disabled=true&is_comment=0\n",
      "https://golang.io/fr/actualites/conference-dotgo-2019/\n",
      "https://golang.io/fr/actualites/conference-dotgo-2016/\n",
      "https://golang.io/fr/actualites/\n",
      "https://golang.io/fr/actualites/conference-dotgo-2016/\n",
      "https://golang.io/fr/actualites/conference-dotgo-2016/#comments\n",
      "https://golang.io/wp-admin/admin-ajax.php?action=process_simple_like&nonce=89291a5a67&post_id=212&disabled=true&is_comment=0\n",
      "https://golang.io/fr/actualites/conference-dotgo-2016/\n",
      "https://golang.io/fr/tutoriels/les-middlewares-avec-go/\n",
      "https://golang.io/fr/tutoriels/\n",
      "https://golang.io/fr/tutoriels/les-middlewares-avec-go/\n",
      "https://golang.io/fr/tutoriels/les-middlewares-avec-go/#comments\n",
      "https://golang.io/wp-admin/admin-ajax.php?action=process_simple_like&nonce=89291a5a67&post_id=203&disabled=true&is_comment=0\n",
      "https://golang.io/fr/tutoriels/les-middlewares-avec-go/\n",
      "https://golang.io/fr/actualites/workshop-go-apprenez-a-developper-pour-le-web/\n",
      "https://golang.io/fr/actualites/\n",
      "https://golang.io/fr/actualites/workshop-go-apprenez-a-developper-pour-le-web/\n",
      "https://golang.io/fr/actualites/workshop-go-apprenez-a-developper-pour-le-web/#comments\n",
      "https://golang.io/wp-admin/admin-ajax.php?action=process_simple_like&nonce=89291a5a67&post_id=100&disabled=true&is_comment=0\n",
      "https://golang.io/fr/actualites/workshop-go-apprenez-a-developper-pour-le-web/\n",
      "https://golang.io/fr/tutoriels/deployer-un-serveur-go-avec-docker/\n",
      "https://golang.io/fr/tutoriels/\n",
      "https://golang.io/fr/tutoriels/deployer-un-serveur-go-avec-docker/\n",
      "https://golang.io/fr/tutoriels/deployer-un-serveur-go-avec-docker/#comments\n",
      "https://golang.io/wp-admin/admin-ajax.php?action=process_simple_like&nonce=89291a5a67&post_id=95&disabled=true&is_comment=0\n",
      "https://golang.io/fr/tutoriels/deployer-un-serveur-go-avec-docker/\n",
      "https://golang.io/fr/actualites/suivez-nous-sur-twitter/\n",
      "https://golang.io/fr/actualites/\n",
      "https://golang.io/fr/actualites/suivez-nous-sur-twitter/\n",
      "https://golang.io/fr/actualites/suivez-nous-sur-twitter/#comments\n",
      "https://golang.io/wp-admin/admin-ajax.php?action=process_simple_like&nonce=89291a5a67&post_id=90&disabled=true&is_comment=0\n",
      "https://golang.io/fr/actualites/suivez-nous-sur-twitter/\n",
      "https://golang.io/fr/actualites/rejoignez-nous-sur-meetup/\n",
      "https://golang.io/fr/actualites/\n",
      "https://golang.io/fr/actualites/rejoignez-nous-sur-meetup/\n",
      "https://golang.io/fr/actualites/rejoignez-nous-sur-meetup/#comments\n",
      "https://golang.io/wp-admin/admin-ajax.php?action=process_simple_like&nonce=89291a5a67&post_id=85&disabled=true&is_comment=0\n",
      "https://golang.io/fr/actualites/rejoignez-nous-sur-meetup/\n",
      "https://golang.io/fr/videos/golangtv/\n",
      "https://golang.io/fr/videos/\n",
      "https://golang.io/fr/videos/golangtv/\n",
      "https://golang.io/fr/videos/golangtv/#comments\n",
      "https://golang.io/wp-admin/admin-ajax.php?action=process_simple_like&nonce=89291a5a67&post_id=81&disabled=true&is_comment=0\n",
      "https://golang.io/fr/videos/golangtv/\n",
      "https://golang.io/fr/actualites/meetup-go-a-google-paris/\n",
      "https://golang.io/fr/actualites/\n",
      "https://golang.io/fr/actualites/meetup-go-a-google-paris/\n",
      "https://golang.io/fr/actualites/meetup-go-a-google-paris/#comments\n",
      "https://golang.io/wp-admin/admin-ajax.php?action=process_simple_like&nonce=89291a5a67&post_id=72&disabled=true&is_comment=0\n",
      "https://golang.io/fr/actualites/meetup-go-a-google-paris/\n",
      "https://golang.io/fr/actualites/conference-dotgo-2014/\n",
      "https://golang.io/fr/actualites/\n",
      "https://golang.io/fr/actualites/conference-dotgo-2014/\n",
      "https://golang.io/fr/actualites/conference-dotgo-2014/#comments\n",
      "https://golang.io/wp-admin/admin-ajax.php?action=process_simple_like&nonce=89291a5a67&post_id=54&disabled=true&is_comment=0\n",
      "https://golang.io/fr/actualites/conference-dotgo-2014/\n",
      "#\n",
      "https://golang.io/fr/page/2/\n",
      "https://golang.io/fr/page/2/\n",
      "#\n",
      "#\n",
      "#\n",
      "#\n",
      "https://golang.io/fr/\n",
      "https://twitter.com/golangio\n",
      "https://plus.google.com/communities/106187192023817377228\n",
      "https://youtube.com/c/golangtv\n",
      "https://www.instagram.com/golang.io\n",
      "https://www.linkedin.com/groups/8242437\n",
      "https://github.com/golangio\n",
      "https://www.flickr.com/photos/golangio/\n",
      "https://golang.io/fr/information-cookie/\n",
      "https://golang.io/fr/actualites/\n",
      "https://golang.io/fr/tutoriels/\n",
      "https://golang.io/fr/videos/\n",
      "https://golang.io/fr/\n",
      "https://golang.io/en/\n",
      "https://golang.io/fr/\n",
      "http://ecko.me/themes/wordpress/onyx/\n",
      "http://ecko.me\n",
      "http://wordpress.org\n",
      "#\n",
      "#\n"
     ]
    }
   ],
   "source": [
    "//findlinks1\n",
    "import (\"fmt\";\"os\";\"golang.org/x/net/html\")\n",
    "func main(){\n",
    "    file, e := os.Open(\"fetch.html\")\n",
    "    if e != nil {\n",
    "        fmt.Fprintf(os.Stderr, \"open failed: %v\\n\", e)\n",
    "        os.Exit(1)\n",
    "    }\n",
    "    //doc, err := html.Parse(os.Stdin)\n",
    "    doc, err := html.Parse(file)\n",
    "    if err != nil {\n",
    "        fmt.Fprintf(os.Stderr,\"findlinks1: %v\\n\", err)\n",
    "        os.Exit(1)\n",
    "    }\n",
    "    for _, link := range visit(nil, doc) {\n",
    "        fmt.Println(link)\n",
    "    }\n",
    "}\n",
    "\n",
    "func visit(links []string, n *html.Node) []string {\n",
    "    if n.Type == html.ElementNode && n.Data == \"a\" {\n",
    "        for _, a := range n.Attr {\n",
    "            if a.Key == \"href\" {\n",
    "                links = append(links, a.Val)\n",
    "            }\n",
    "        }\n",
    "    }\n",
    "    for c := n.FirstChild; c != nil; c = c.NextSibling {\n",
    "        links = visit(links, c)\n",
    "    }\n",
    "    return links\n",
    "}\n",
    "main()"
   ]
  },
  {
   "cell_type": "markdown",
   "metadata": {
    "slideshow": {
     "slide_type": "subslide"
    }
   },
   "source": [
    "<code>\n",
    "    go build gopl.io/ch1/fetch\n",
    "    go build gopl.io/ch5/findlinks1\n",
    "    fetch https://golang.org | ./findlinks1\n",
    "</code>\n",
    "\n",
    " [golang-org.html](https://skhuang.github.io/ch5/golang-org.html)"
   ]
  },
  {
   "cell_type": "code",
   "execution_count": 5,
   "metadata": {
    "code_folding": [],
    "slideshow": {
     "slide_type": "subslide"
    }
   },
   "outputs": [
    {
     "name": "stdout",
     "output_type": "stream",
     "text": [
      "/\n",
      "/doc/\n",
      "/pkg/\n",
      "/project/\n",
      "/help/\n",
      "/blog/\n",
      "https://play.golang.org/\n",
      "/dl/\n",
      "https://tour.golang.org/\n",
      "https://blog.golang.org/\n",
      "/doc/copyright.html\n",
      "/doc/tos.html\n",
      "http://www.google.com/intl/en/policies/privacy/\n",
      "http://golang.org/issues/new?title=x/website:\n",
      "https://google.com\n"
     ]
    }
   ],
   "source": [
    "//golang.org/ch5/\n",
    "import (\n",
    "\t\"fmt\"\n",
    "\t\"os\"\n",
    "\n",
    "\t\"golang.org/x/net/html\"\n",
    ")\n",
    "\n",
    "func main() {\n",
    "    file, e := os.Open(\"golang-org.html\")\n",
    "    if e != nil {\n",
    "        fmt.Fprintf(os.Stderr,\"open failed: %v\\n\")\n",
    "    }\n",
    "\t//doc, err := html.Parse(os.Stdin)\n",
    "    doc, err := html.Parse(file)\n",
    "\tif err != nil {\n",
    "\t\tfmt.Fprintf(os.Stderr, \"findlinks1: %v\\n\", err)\n",
    "\t\tos.Exit(1)\n",
    "\t}\n",
    "\tfor _, link := range visit(nil, doc) {\n",
    "\t\tfmt.Println(link)\n",
    "\t}\n",
    "}\n",
    "\n",
    "//!-main\n",
    "\n",
    "//!+visit\n",
    "// visit appends to links each link found in n and returns the result.\n",
    "func visit(links []string, n *html.Node) []string {\n",
    "\tif n.Type == html.ElementNode && n.Data == \"a\" {\n",
    "\t\tfor _, a := range n.Attr {\n",
    "\t\t\tif a.Key == \"href\" {\n",
    "\t\t\t\tlinks = append(links, a.Val)\n",
    "\t\t\t}\n",
    "\t\t}\n",
    "\t}\n",
    "\tfor c := n.FirstChild; c != nil; c = c.NextSibling {\n",
    "\t\tlinks = visit(links, c)\n",
    "\t}\n",
    "\treturn links\n",
    "}\n",
    "main()\n",
    "//!-visit"
   ]
  },
  {
   "cell_type": "code",
   "execution_count": 6,
   "metadata": {
    "code_folding": [],
    "collapsed": true,
    "slideshow": {
     "slide_type": "subslide"
    }
   },
   "outputs": [
    {
     "name": "stdout",
     "output_type": "stream",
     "text": [
      "[html]\n",
      "[html head]\n",
      "[html head meta]\n",
      "[html head meta]\n",
      "[html head meta]\n",
      "[html head meta]\n",
      "[html head title]\n",
      "[html head link]\n",
      "[html head link]\n",
      "[html head link]\n",
      "[html head link]\n",
      "[html head script]\n",
      "[html head script]\n",
      "[html head script]\n",
      "[html head script]\n",
      "[html head script]\n",
      "[html head script]\n",
      "[html body]\n",
      "[html body header]\n",
      "[html body header nav]\n",
      "[html body header nav a]\n",
      "[html body header nav a img]\n",
      "[html body header nav button]\n",
      "[html body header nav button div]\n",
      "[html body header nav ul]\n",
      "[html body header nav ul li]\n",
      "[html body header nav ul li a]\n",
      "[html body header nav ul li]\n",
      "[html body header nav ul li a]\n",
      "[html body header nav ul li]\n",
      "[html body header nav ul li a]\n",
      "[html body header nav ul li]\n",
      "[html body header nav ul li a]\n",
      "[html body header nav ul li]\n",
      "[html body header nav ul li a]\n",
      "[html body header nav ul li]\n",
      "[html body header nav ul li a]\n",
      "[html body header nav ul li]\n",
      "[html body header nav ul li form]\n",
      "[html body header nav ul li form input]\n",
      "[html body header nav ul li form button]\n",
      "[html body header nav ul li form button svg]\n",
      "[html body header nav ul li form button svg title]\n",
      "[html body header nav ul li form button svg path]\n",
      "[html body header nav ul li form button svg path]\n",
      "[html body main]\n",
      "[html body main div]\n",
      "[html body main div div]\n",
      "[html body main div div]\n",
      "[html body main div div section]\n",
      "[html body main div div section h1]\n",
      "[html body main div div section h1 strong]\n",
      "[html body main div div section h1 strong]\n",
      "[html body main div div section h1 strong]\n",
      "[html body main div div section i]\n",
      "[html body main div div section a]\n",
      "[html body main div div section a img]\n",
      "[html body main div div section p]\n",
      "[html body main div div section p br]\n",
      "[html body main div div section]\n",
      "[html body main div div section div]\n",
      "[html body main div div section div h2]\n",
      "[html body main div div section div a]\n",
      "[html body main div div section div]\n",
      "[html body main div div section div textarea]\n",
      "[html body main div div section div]\n",
      "[html body main div div section div pre]\n",
      "[html body main div div section div pre noscript]\n",
      "[html body main div div section div]\n",
      "[html body main div div section div select]\n",
      "[html body main div div section div select option]\n",
      "[html body main div div section div select option]\n",
      "[html body main div div section div select option]\n",
      "[html body main div div section div select option]\n",
      "[html body main div div section div select option]\n",
      "[html body main div div section div select option]\n",
      "[html body main div div section div select option]\n",
      "[html body main div div section div select option]\n",
      "[html body main div div section div div]\n",
      "[html body main div div section div div button]\n",
      "[html body main div div section div div div]\n",
      "[html body main div div section div div div button]\n",
      "[html body main div div section div div div a]\n",
      "[html body main div div section]\n",
      "[html body main div div section h2]\n",
      "[html body main div div section div]\n",
      "[html body main div div section div a]\n",
      "[html body main div div section]\n",
      "[html body main div div section h2]\n",
      "[html body main div div section div]\n",
      "[html body main div div section div iframe]\n",
      "[html body main div script]\n",
      "[html body footer]\n",
      "[html body footer div]\n",
      "[html body footer div img]\n",
      "[html body footer div ul]\n",
      "[html body footer div ul li]\n",
      "[html body footer div ul li a]\n",
      "[html body footer div ul li]\n",
      "[html body footer div ul li a]\n",
      "[html body footer div ul li]\n",
      "[html body footer div ul li a]\n",
      "[html body footer div ul li]\n",
      "[html body footer div ul li a]\n",
      "[html body footer div a]\n",
      "[html body script]\n"
     ]
    }
   ],
   "source": [
    "//outline\n",
    "import (\"fmt\";\"os\";\"golang.org/x/net/html\")\n",
    "func main() {\n",
    "\t//doc, err := html.Parse(os.Stdin)\n",
    "    file, e := os.Open(\"golang-org.html\")\n",
    "    if e != nil {\n",
    "        fmt.Fprintf(os.Stderr, \"open failed: %v\\n\", e)\n",
    "        os.Exit(1)\n",
    "    }\n",
    "    doc, err := html.Parse(file)\n",
    "    \n",
    "\tif err != nil {\n",
    "\t\tfmt.Fprintf(os.Stderr, \"outline: %v\\n\", err)\n",
    "\t\tos.Exit(1)\n",
    "\t}\n",
    "\toutline(nil, doc)\n",
    "}\n",
    "\n",
    "func outline(stack []string, n *html.Node) {\n",
    "\tif n.Type == html.ElementNode {\n",
    "\t\tstack = append(stack, n.Data) // push tag\n",
    "\t\tfmt.Println(stack)\n",
    "\t}\n",
    "\tfor c := n.FirstChild; c != nil; c = c.NextSibling {\n",
    "\t\toutline(stack, c)\n",
    "\t}\n",
    "}\n",
    "main()\n",
    "//!-"
   ]
  },
  {
   "cell_type": "markdown",
   "metadata": {
    "slideshow": {
     "slide_type": "slide"
    }
   },
   "source": [
    "## Mutiple Return Values"
   ]
  },
  {
   "cell_type": "code",
   "execution_count": 7,
   "metadata": {
    "code_folding": [
     0
    ],
    "collapsed": true,
    "slideshow": {
     "slide_type": "subslide"
    }
   },
   "outputs": [
    {
     "name": "stdout",
     "output_type": "stream",
     "text": [
      "/\n",
      "/doc/\n",
      "/pkg/\n",
      "/project/\n",
      "/help/\n",
      "/blog/\n",
      "https://play.golang.org/\n",
      "/dl/\n",
      "https://tour.golang.org/\n",
      "https://blog.golang.org/\n",
      "/doc/copyright.html\n",
      "/doc/tos.html\n",
      "http://www.google.com/intl/en/policies/privacy/\n",
      "http://golang.org/issues/new?title=x/website:\n",
      "https://google.com\n",
      "/\n",
      "#top-menu\n",
      "/\n",
      "/en\n",
      "/sitemap\n",
      "/maps\n",
      "/donate\n",
      "/\n",
      "/student\n",
      "/faculty\n",
      "/alumni\n",
      "/guest\n",
      "/nctucalendarnew\n",
      "/news\n",
      "https://infonews.nctu.edu.tw/\n",
      "/nctucalendarnew\n",
      "/news\n",
      "https://infonews.nctu.edu.tw/\n",
      "https://www.nctu.edu.tw/component/k2/item/3727-5g\n",
      "https://www.nctu.edu.tw/component/k2/item/3706-2019-10-12-04-07-45\n",
      "https://www.nctu.edu.tw/component/k2/item/3646-ai\n",
      "#center-content\n",
      "/news\n",
      "https://infonews.nctu.edu.tw/index.php?SuperType=2&action=more&pagekey=1&categoryid=5\n",
      "/component/k2/item/3791-4-10\n",
      "#left-menu\n",
      "/feature-now\n",
      "http://museum.lib.nctu.edu.tw/cht/history/history.htm\n",
      "/maps\n",
      "/about/admin\n",
      "/about/edu\n",
      "/about/research\n",
      "/famous-now\n",
      "/outstandingnctu/honorarydr\n",
      "/outstandingnctu/greatalumni\n",
      "http://exam.nctu.edu.tw/\n",
      "http://exam.nctu.edu.tw/cosa.htm\n",
      "http://exam.nctu.edu.tw/stut.htm\n",
      "http://oia.nctu.edu.tw/\n",
      "http://ccet.nctu.edu.tw/\n",
      "https://newstudents.nctu.edu.tw/\n",
      "http://www.lib.nctu.edu.tw/\n",
      "http://timetable.nctu.edu.tw/\n",
      "http://www.it.nctu.edu.tw?page_id=46\n",
      "https://infonews.nctu.edu.tw/index.php?SuperType=1&action=more&categoryid=2\n",
      "/education/studyonline\n",
      "https://hackercollege.nctu.edu.tw\n",
      "/information/campus-info\n",
      "http://acc.nctu.edu.tw/\n",
      "http://activity.sa.nctu.edu.tw/?page_id=711\n",
      "https://sprout-project.nctu.edu.tw\n",
      "http://diamondprj.nctu.edu.tw/\n",
      "https://combine.nctu.edu.tw/\n",
      "https://election.nctu.edu.tw/\n",
      "http://www.facebook.com/pages/%E5%9C%8B%E7%AB%8B%E4%BA%A4%E9%80%9A%E5%A4%A7%E5%AD%B8/395124717203929\n",
      "https://www.youtube.com/user/nctu\n",
      "/\n",
      "#footer\n",
      "/\n",
      "http://maps.apple.com/maps?q=24.7859146,120.996735\n",
      "tel:+88635712121\n",
      "tel:+18004099811\n",
      "mailto:pac@cc.nctu.edu.tw\n",
      "http://personnel.nctu.edu.tw/download.php?class=pipa&file=c49ba693-164c-6d64-e589-7af1c4acbb51.pdf\n",
      "http://secretariat.nctu.edu.tw/tw/intellectual/\n",
      "http://public.nctu.edu.tw/home\n",
      "http://heitoplus.edu.tw/\n"
     ]
    }
   ],
   "source": [
    "// See page 125.\n",
    "// Findlinks2 does an HTTP GET on each URL, parses the\n",
    "// result as HTML, and prints the links within it.\n",
    "//\n",
    "// Usage:\n",
    "//\tfindlinks url ...\n",
    "import (\n",
    "\t\"fmt\"\n",
    "\t\"net/http\"\n",
    "\t\"os\"\n",
    "\n",
    "\t\"golang.org/x/net/html\"\n",
    ")\n",
    "\n",
    "// visit appends to links each link found in n, and returns the result.\n",
    "func visit(links []string, n *html.Node) []string {\n",
    "\tif n.Type == html.ElementNode && n.Data == \"a\" {\n",
    "\t\tfor _, a := range n.Attr {\n",
    "\t\t\tif a.Key == \"href\" {\n",
    "\t\t\t\tlinks = append(links, a.Val)\n",
    "\t\t\t}\n",
    "\t\t}\n",
    "\t}\n",
    "\tfor c := n.FirstChild; c != nil; c = c.NextSibling {\n",
    "\t\tlinks = visit(links, c)\n",
    "\t}\n",
    "\treturn links\n",
    "}\n",
    "\n",
    "os.Args = []string{\"findlinks1\",\"https://golang.org\",\"http://www.nctu.edu.tw\"}\n",
    "//!+\n",
    "func main() {\n",
    "\tfor _, url := range os.Args[1:] {\n",
    "\t\tlinks, err := findLinks(url)\n",
    "\t\tif err != nil {\n",
    "\t\t\tfmt.Fprintf(os.Stderr, \"findlinks2: %v\\n\", err)\n",
    "\t\t\tcontinue\n",
    "\t\t}\n",
    "\t\tfor _, link := range links {\n",
    "\t\t\tfmt.Println(link)\n",
    "\t\t}\n",
    "\t}\n",
    "}\n",
    "\n",
    "// findLinks performs an HTTP GET request for url, parses the\n",
    "// response as HTML, and extracts and returns the links.\n",
    "func findLinks(url string) ([]string, error) {\n",
    "\tresp, err := http.Get(url)\n",
    "\tif err != nil {\n",
    "\t\treturn nil, err\n",
    "\t}\n",
    "\tif resp.StatusCode != http.StatusOK {\n",
    "\t\tresp.Body.Close()\n",
    "\t\treturn nil, fmt.Errorf(\"getting %s: %s\", url, resp.Status)\n",
    "\t}\n",
    "\tdoc, err := html.Parse(resp.Body)\n",
    "\tresp.Body.Close()\n",
    "\tif err != nil {\n",
    "\t\treturn nil, fmt.Errorf(\"parsing %s as HTML: %v\", url, err)\n",
    "\t}\n",
    "\treturn visit(nil, doc), nil\n",
    "}\n",
    "main()\n",
    "//!-"
   ]
  },
  {
   "cell_type": "markdown",
   "metadata": {
    "slideshow": {
     "slide_type": "slide"
    }
   },
   "source": [
    "## Errors"
   ]
  },
  {
   "cell_type": "markdown",
   "metadata": {
    "slideshow": {
     "slide_type": "fragment"
    }
   },
   "source": [
    "* The built-in type error is an interface type\n",
    "* nil implies success and non-nil implies failure"
   ]
  },
  {
   "cell_type": "code",
   "execution_count": 18,
   "metadata": {
    "code_folding": [],
    "slideshow": {
     "slide_type": "fragment"
    }
   },
   "outputs": [],
   "source": [
    "value, ok := os.Open(\"golang-org.html\")\n",
    "if ok != nil {\n",
    "    //\n",
    "    fmt.Println(ok)\n",
    "    fmt.Printf(\"%v\\n\",ok)\n",
    "}"
   ]
  },
  {
   "cell_type": "markdown",
   "metadata": {
    "slideshow": {
     "slide_type": "slide"
    }
   },
   "source": [
    "### Error-Handling Strategies\n",
    "* Propagate the error\n",
    "* retry the failed operation, possibly with a delay between tries\n",
    "* if progress is impossible, the caller print the error and stop the program gracefully\n",
    "* log the error and then continue\n",
    "* safely ignore an error entirely"
   ]
  },
  {
   "cell_type": "code",
   "execution_count": 19,
   "metadata": {
    "code_folding": [],
    "slideshow": {
     "slide_type": "subslide"
    }
   },
   "outputs": [
    {
     "data": {
      "text/plain": [
       "&{200 OK 200 HTTP/2.0 2 0 map[Alt-Svc:[quic=\":443\"; ma=2592000; v=\"46,43\",h3-Q050=\":443\"; ma=2592000,h3-Q049=\":443\"; ma=2592000,h3-Q048=\":443\"; ma=2592000,h3-Q046=\":443\"; ma=2592000,h3-Q043=\":443\"; ma=2592000] Content-Type:[text/html; charset=utf-8] Date:[Thu, 07 Nov 2019 06:21:07 GMT] Strict-Transport-Security:[max-age=31536000; includeSubDomains; preload] Vary:[Accept-Encoding] Via:[1.1 google]] 0xc000dcdaa0 -1 [] false true map[] 0xc000244200 0xc0002d4840} <nil>"
      ]
     },
     "execution_count": 19,
     "metadata": {},
     "output_type": "execute_result"
    }
   ],
   "source": [
    "// 1. Propagate the error\n",
    "import \"net/http\"\n",
    "func pError(url string) (resp *http.Response, err error) {\n",
    "  resp, err := http.Get(url)\n",
    "  if err != nil {\n",
    "    return nil, err\n",
    "  }\n",
    "}\n",
    "pError(\"https://golang.org\")"
   ]
  },
  {
   "cell_type": "code",
   "execution_count": 20,
   "metadata": {
    "code_folding": [
     0
    ],
    "slideshow": {
     "slide_type": "subslide"
    }
   },
   "outputs": [
    {
     "name": "stderr",
     "output_type": "stream",
     "text": [
      "Site is down: server http://127.0.0.1 failed to respond after 1m0s\n"
     ]
    }
   ],
   "source": [
    "//retry the failed operation and stop if progress is impossible\n",
    "\n",
    "import (\n",
    "\t\"fmt\"\n",
    "\t\"log\"\n",
    "\t\"net/http\"\n",
    "\t\"os\"\n",
    "\t\"time\"\n",
    ")\n",
    "\n",
    "//!+\n",
    "// WaitForServer attempts to contact the server of a URL.\n",
    "// It tries for one minute using exponential back-off.\n",
    "// It reports an error if all attempts fail.\n",
    "func WaitForServer(url string) error {\n",
    "\tconst timeout = 1 * time.Minute\n",
    "\tdeadline := time.Now().Add(timeout)\n",
    "\tfor tries := 0; time.Now().Before(deadline); tries++ {\n",
    "\t\t_, err := http.Head(url)\n",
    "\t\tif err == nil {\n",
    "\t\t\treturn nil // success\n",
    "\t\t}\n",
    "\t\tlog.Printf(\"server not responding (%s); retrying...\", err)\n",
    "\t\ttime.Sleep(time.Second << uint(tries)) // exponential back-off\n",
    "\t}\n",
    "\treturn fmt.Errorf(\"server %s failed to respond after %s\", url, timeout)\n",
    "}\n",
    "\n",
    "//!-\n",
    "\n",
    "os.Args = []string{\"wait\",\"http://127.0.0.1\"}\n",
    "func main() {\n",
    "\tif len(os.Args) != 2 {\n",
    "\t\tfmt.Fprintf(os.Stderr, \"usage: wait url\\n\")\n",
    "\t\t//os.Exit(1)\n",
    "        return\n",
    "\t}\n",
    "\turl := os.Args[1]\n",
    "\t//!+main\n",
    "\t// (In function main.)\n",
    "\tif err := WaitForServer(url); err != nil {\n",
    "\t\tfmt.Fprintf(os.Stderr, \"Site is down: %v\\n\", err)\n",
    "\t\t//os.Exit(1)\n",
    "        //log.Fatalf(\"Site is down: %v\\n\", err)\n",
    "        return\n",
    "\t}\n",
    "\t//!-main\n",
    "}\n",
    "main()"
   ]
  },
  {
   "cell_type": "markdown",
   "metadata": {
    "slideshow": {
     "slide_type": "subslide"
    }
   },
   "source": [
    "<code>\n",
    "// log the error and then continue (only reduce functinalizty)\n",
    "if err:= Ping(); err != nil {\n",
    "    log.Printf(\"ping failed: %v; networking disabled\", err)\n",
    "}\n",
    "</code>"
   ]
  },
  {
   "cell_type": "code",
   "execution_count": 21,
   "metadata": {
    "code_folding": [],
    "slideshow": {
     "slide_type": "subslide"
    }
   },
   "outputs": [],
   "source": [
    "import (\"bufio\";\"io\")\n",
    "// End of File (EOF)\n",
    "in := bufio.NewReader(os.Stdin)\n",
    "for {\n",
    "    r, _, err := in.ReadRune()\n",
    "    if err == io.EOF {\n",
    "        break // finished reading\n",
    "    }\n",
    "    if err != nil {\n",
    "        fmt.Errorf(\"read file: %v\",err)\n",
    "        break\n",
    "    }\n",
    "}"
   ]
  },
  {
   "cell_type": "markdown",
   "metadata": {
    "slideshow": {
     "slide_type": "slide"
    }
   },
   "source": [
    "## Function Values\n",
    "* Functions are first-class values in GO\n",
    "* A function value may be called like any other functin"
   ]
  },
  {
   "cell_type": "code",
   "execution_count": 2,
   "metadata": {
    "code_folding": [],
    "slideshow": {
     "slide_type": "fragment"
    }
   },
   "outputs": [
    {
     "name": "stdout",
     "output_type": "stream",
     "text": [
      "81\n",
      "-5\n"
     ]
    },
    {
     "data": {
      "text/plain": [
       "3 <nil>"
      ]
     },
     "execution_count": 2,
     "metadata": {},
     "output_type": "execute_result"
    }
   ],
   "source": [
    "// function values\n",
    "import \"fmt\"\n",
    "func square(n int) int {return n*n}\n",
    "func negative(n int) int {return -n}\n",
    "func product(m,n int) int {return m * n}\n",
    "\n",
    "f := square\n",
    "fmt.Println(f(9))\n",
    "\n",
    "f = negative\n",
    "fmt.Println(f(5))\n",
    "\n",
    "//f = product"
   ]
  },
  {
   "cell_type": "code",
   "execution_count": 28,
   "metadata": {
    "code_folding": [],
    "slideshow": {
     "slide_type": "subslide"
    }
   },
   "outputs": [
    {
     "name": "stdout",
     "output_type": "stream",
     "text": [
      "JCN.:222\n",
      "wnt\n",
      "Benjy渭詧\n"
     ]
    },
    {
     "data": {
      "text/plain": [
       "12 <nil>"
      ]
     },
     "execution_count": 28,
     "metadata": {},
     "output_type": "execute_result"
    }
   ],
   "source": [
    "// Function values let us parameterize our functions over not just data, but behavior too\n",
    "import \"strings\"\n",
    "func add1(r rune) rune {return r+1}\n",
    "fmt.Println(strings.Map(add1, \"IBM-9111\"))\n",
    "fmt.Println(strings.Map(add1, \"vms\"))\n",
    "fmt.Println(strings.Map(add1, \"Admix測試\"))"
   ]
  },
  {
   "cell_type": "code",
   "execution_count": 29,
   "metadata": {
    "code_folding": [
     0,
     10,
     17,
     23
    ],
    "slideshow": {
     "slide_type": "subslide"
    }
   },
   "outputs": [
    {
     "name": "stdout",
     "output_type": "stream",
     "text": [
      "<html>\n",
      "  <head>\n",
      "    <meta>\n",
      "    </meta>\n",
      "    <title>\n",
      "    </title>\n",
      "    <script>\n",
      "    </script>\n",
      "    <link>\n",
      "    </link>\n",
      "    <style>\n",
      "    </style>\n",
      "  </head>\n",
      "  <body>\n",
      "    <table>\n",
      "      <tbody>\n",
      "        <tr>\n",
      "          <td>\n",
      "            <a>\n",
      "              <img>\n",
      "              </img>\n",
      "            </a>\n",
      "            <br>\n",
      "            </br>\n",
      "            <div>\n",
      "              <a>\n",
      "                <img>\n",
      "                </img>\n",
      "              </a>\n",
      "              <a>\n",
      "                <img>\n",
      "                </img>\n",
      "              </a>\n",
      "              <a>\n",
      "                <img>\n",
      "                </img>\n",
      "              </a>\n",
      "            </div>\n",
      "            <br>\n",
      "            </br>\n",
      "          </td>\n",
      "          <td>\n",
      "            <h1>\n",
      "            </h1>\n",
      "            <p>\n",
      "              <br>\n",
      "              </br>\n",
      "              <br>\n",
      "              </br>\n",
      "              <br>\n",
      "              </br>\n",
      "              <tt>\n",
      "              </tt>\n",
      "              <tt>\n",
      "              </tt>\n",
      "              <tt>\n",
      "              </tt>\n",
      "            </p>\n",
      "            <div>\n",
      "              <table>\n",
      "                <tbody>\n",
      "                  <tr>\n",
      "                    <td>\n",
      "                      <h1>\n",
      "                        <a>\n",
      "                        </a>\n",
      "                      </h1>\n",
      "                      <h1>\n",
      "                        <a>\n",
      "                        </a>\n",
      "                      </h1>\n",
      "                      <h1>\n",
      "                        <a>\n",
      "                        </a>\n",
      "                      </h1>\n",
      "                      <h1>\n",
      "                      </h1>\n",
      "                      <h1>\n",
      "                      </h1>\n",
      "                      <h1>\n",
      "                      </h1>\n",
      "                      <h1>\n",
      "                      </h1>\n",
      "                      <h1>\n",
      "                      </h1>\n",
      "                    </td>\n",
      "                    <td>\n",
      "                      <h1>\n",
      "                      </h1>\n",
      "                      <h1>\n",
      "                      </h1>\n",
      "                      <h1>\n",
      "                      </h1>\n",
      "                      <h1>\n",
      "                      </h1>\n",
      "                      <h1>\n",
      "                      </h1>\n",
      "                      <h1>\n",
      "                      </h1>\n",
      "                      <h1>\n",
      "                      </h1>\n",
      "                      <h1>\n",
      "                        <a>\n",
      "                        </a>\n",
      "                      </h1>\n",
      "                    </td>\n",
      "                  </tr>\n",
      "                  <tr>\n",
      "                    <td>\n",
      "                      <h1>\n",
      "                        <a>\n",
      "                        </a>\n",
      "                        <a>\n",
      "                        </a>\n",
      "                        <a>\n",
      "                        </a>\n",
      "                        <a>\n",
      "                        </a>\n",
      "                      </h1>\n",
      "                    </td>\n",
      "                  </tr>\n",
      "                </tbody>\n",
      "              </table>\n",
      "            </div>\n",
      "            <p>\n",
      "              <a>\n",
      "                <code>\n",
      "                </code>\n",
      "              </a>\n",
      "              <a>\n",
      "                <code>\n",
      "                </code>\n",
      "              </a>\n",
      "              <a>\n",
      "                <code>\n",
      "                </code>\n",
      "              </a>\n",
      "              <a>\n",
      "                <code>\n",
      "                </code>\n",
      "              </a>\n",
      "            </p>\n",
      "            <p>\n",
      "              <a>\n",
      "              </a>\n",
      "              <a>\n",
      "              </a>\n",
      "            </p>\n",
      "          </td>\n",
      "        </tr>\n",
      "      </tbody>\n",
      "    </table>\n",
      "  </body>\n",
      "</html>\n"
     ]
    }
   ],
   "source": [
    "//\n",
    "import (\n",
    "\t\"fmt\"\n",
    "\t\"net/http\"\n",
    "\t\"os\"\n",
    "\n",
    "\t\"golang.org/x/net/html\"\n",
    ")\n",
    "\n",
    "func main() {\n",
    "\tfor _, url := range os.Args[1:] {\n",
    "\t\toutline(url)\n",
    "\t}\n",
    "}\n",
    "\n",
    "func outline(url string) error {\n",
    "\tresp, err := http.Get(url)\n",
    "\tif err != nil {\n",
    "\t\treturn err\n",
    "\t}\n",
    "\tdefer resp.Body.Close()\n",
    "\n",
    "\tdoc, err := html.Parse(resp.Body)\n",
    "\tif err != nil {\n",
    "\t\treturn err\n",
    "\t}\n",
    "\n",
    "\t//!+call\n",
    "\tforEachNode(doc, startElement, endElement)\n",
    "\t//!-call\n",
    "\n",
    "\treturn nil\n",
    "}\n",
    "\n",
    "//!+forEachNode\n",
    "// forEachNode calls the functions pre(x) and post(x) for each node\n",
    "// x in the tree rooted at n. Both functions are optional.\n",
    "// pre is called before the children are visited (preorder) and\n",
    "// post is called after (postorder).\n",
    "func forEachNode(n *html.Node, pre, post func(n *html.Node)) {\n",
    "\tif pre != nil {\n",
    "\t\tpre(n)\n",
    "\t}\n",
    "\n",
    "\tfor c := n.FirstChild; c != nil; c = c.NextSibling {\n",
    "\t\tforEachNode(c, pre, post)\n",
    "\t}\n",
    "\n",
    "\tif post != nil {\n",
    "\t\tpost(n)\n",
    "\t}\n",
    "}\n",
    "\n",
    "//!-forEachNode\n",
    "\n",
    "//!+startend\n",
    "var depth int\n",
    "\n",
    "func startElement(n *html.Node) {\n",
    "\tif n.Type == html.ElementNode {\n",
    "\t\tfmt.Printf(\"%*s<%s>\\n\", depth*2, \"\", n.Data)\n",
    "\t\tdepth++\n",
    "\t}\n",
    "}\n",
    "\n",
    "func endElement(n *html.Node) {\n",
    "\tif n.Type == html.ElementNode {\n",
    "\t\tdepth--\n",
    "\t\tfmt.Printf(\"%*s</%s>\\n\", depth*2, \"\", n.Data)\n",
    "\t}\n",
    "}\n",
    "\n",
    "os.Args = []string{\"outline2\",\"http://gopl.io\"}\n",
    "main()\n",
    "//!-startend"
   ]
  },
  {
   "cell_type": "markdown",
   "metadata": {
    "slideshow": {
     "slide_type": "slide"
    }
   },
   "source": [
    "## Anonymous Functions\n",
    "* Named functions can be declared only at the package level\n",
    "* We can use a function literal to denote a function value within any expression\n",
    "* A function literal is written like a function declaration, but wihout a name following the func keyword, called anonymous function"
   ]
  },
  {
   "cell_type": "code",
   "execution_count": 32,
   "metadata": {
    "code_folding": [
     0
    ],
    "slideshow": {
     "slide_type": "subslide"
    }
   },
   "outputs": [
    {
     "name": "stdout",
     "output_type": "stream",
     "text": [
      "1\n",
      "4\n",
      "9\n",
      "16\n",
      "1\n",
      "4\n",
      "9\n",
      "16\n"
     ]
    },
    {
     "data": {
      "text/plain": [
       "3 <nil>"
      ]
     },
     "execution_count": 32,
     "metadata": {},
     "output_type": "execute_result"
    }
   ],
   "source": [
    "//gopl.io/ch5/squares\n",
    "//squres returns a function that return\n",
    "// the next square number each time it is called\n",
    "func squares() func() int {\n",
    "    var x int\n",
    "    return func() int {\n",
    "        x++\n",
    "        return x * x\n",
    "    }\n",
    "}\n",
    "\n",
    "f := squares()\n",
    "fmt.Println(f())\n",
    "fmt.Println(f())\n",
    "fmt.Println(f())\n",
    "fmt.Println(f())\n",
    "\n",
    "f = squares()\n",
    "fmt.Println(f())\n",
    "fmt.Println(f())\n",
    "fmt.Println(f())\n",
    "fmt.Println(f())"
   ]
  },
  {
   "cell_type": "code",
   "execution_count": 3,
   "metadata": {
    "code_folding": [],
    "slideshow": {
     "slide_type": "subslide"
    }
   },
   "outputs": [
    {
     "data": {
      "text/plain": [
       "JCN.:111"
      ]
     },
     "execution_count": 3,
     "metadata": {},
     "output_type": "execute_result"
    }
   ],
   "source": [
    "import \"strings\"\n",
    "strings.Map(func(r rune) rune {return r+1}, \"IBM-9000\")"
   ]
  },
  {
   "cell_type": "markdown",
   "metadata": {
    "slideshow": {
     "slide_type": "subslide"
    }
   },
   "source": [
    "* Functions are reference types and function values are not comparable\n",
    "* Functionn values are implemented using closures"
   ]
  },
  {
   "cell_type": "code",
   "execution_count": 4,
   "metadata": {
    "code_folding": [],
    "slideshow": {
     "slide_type": "fragment"
    }
   },
   "outputs": [
    {
     "ename": "ERROR",
     "evalue": "repl.go:53:16: not enough arguments in call to visitAll:\n\thave ([]string)\n\twant ([]string)",
     "output_type": "error",
     "traceback": [
      "repl.go:53:16: not enough arguments in call to visitAll:\n\thave ([]string)\n\twant ([]string)"
     ]
    }
   ],
   "source": [
    "// Copyright © 2016 Alan A. A. Donovan & Brian W. Kernighan.\n",
    "// License: https://creativecommons.org/licenses/by-nc-sa/4.0/\n",
    "\n",
    "// See page 136.\n",
    "\n",
    "// The toposort program prints the nodes of a DAG in topological order.\n",
    "//package main\n",
    "\n",
    "import (\n",
    "\t\"fmt\"\n",
    "\t\"sort\"\n",
    ")\n",
    "\n",
    "//!+table\n",
    "// prereqs maps computer science courses to their prerequisites.\n",
    "var prereqs = map[string][]string{\n",
    "\t\"algorithms\": {\"data structures\"},\n",
    "\t\"calculus\":   {\"linear algebra\"},\n",
    "\n",
    "\t\"compilers\": {\n",
    "\t\t\"data structures\",\n",
    "\t\t\"formal languages\",\n",
    "\t\t\"computer organization\",\n",
    "\t},\n",
    "\n",
    "\t\"data structures\":       {\"discrete math\"},\n",
    "\t\"databases\":             {\"data structures\"},\n",
    "\t\"discrete math\":         {\"intro to programming\"},\n",
    "\t\"formal languages\":      {\"discrete math\"},\n",
    "\t\"networks\":              {\"operating systems\"},\n",
    "\t\"operating systems\":     {\"data structures\", \"computer organization\"},\n",
    "\t\"programming languages\": {\"data structures\", \"computer organization\"},\n",
    "}\n",
    "\n",
    "//!-table\n",
    "\n",
    "//!+main\n",
    "func main() {\n",
    "\tfor i, course := range topoSort(prereqs) {\n",
    "\t\tfmt.Printf(\"%d:\\t%s\\n\", i+1, course)\n",
    "\t}\n",
    "}\n",
    "\n",
    "func topoSort(m map[string][]string) []string {\n",
    "\tvar order []string\n",
    "\tseen := make(map[string]bool)\n",
    "\tvar visitAll func(items []string)\n",
    "\n",
    "\tvisitAll = func(items []string) {\n",
    "\t\tfor _, item := range items {\n",
    "\t\t\tif !seen[item] {\n",
    "\t\t\t\tseen[item] = true\n",
    "\t\t\t\tvisitAll(m[item])\n",
    "\t\t\t\torder = append(order, item)\n",
    "\t\t\t}\n",
    "\t\t}\n",
    "\t}\n",
    "\n",
    "\tvar keys []string\n",
    "\tfor key := range m {\n",
    "\t\tkeys = append(keys, key)\n",
    "\t}\n",
    "\n",
    "\tsort.Strings(keys)\n",
    "\tvisitAll(keys)\n",
    "\treturn order\n",
    "}\n",
    "\n",
    "main()\n",
    "//!-main"
   ]
  },
  {
   "cell_type": "markdown",
   "metadata": {
    "slideshow": {
     "slide_type": "fragment"
    }
   },
   "source": [
    "<pre>\n",
    "go build gopl.io/ch5/toposort\n",
    "skhuang@LAPTOP-VG5CHF40:~/vm-data/course/go2019$ ./toposort\n",
    "1:      intro to programming\n",
    "2:      discrete math\n",
    "3:      data structures\n",
    "4:      algorithms\n",
    "5:      linear algebra\n",
    "6:      calculus\n",
    "7:      formal languages\n",
    "8:      computer organization\n",
    "9:      compilers\n",
    "10:     databases\n",
    "11:     operating systems\n",
    "12:     networks\n",
    "13:     programming languages\n",
    "</pre>"
   ]
  },
  {
   "cell_type": "code",
   "execution_count": null,
   "metadata": {
    "code_folding": [
     0
    ],
    "slideshow": {
     "slide_type": "subslide"
    }
   },
   "outputs": [
    {
     "name": "stdout",
     "output_type": "stream",
     "text": [
      "https://gopl.io\n",
      "http://www.informit.com/store/go-programming-language-9780134190440\n",
      "http://www.amazon.com/dp/0134190440\n",
      "http://www.barnesandnoble.com/w/1121601944\n"
     ]
    }
   ],
   "source": [
    "// Copyright © 2016 Alan A. A. Donovan & Brian W. Kernighan.\n",
    "// License: https://creativecommons.org/licenses/by-nc-sa/4.0/\n",
    "\n",
    "// See page 139.\n",
    "\n",
    "// Findlinks3 crawls the web, starting with the URLs on the command line.\n",
    "//package main\n",
    "\n",
    "import (\n",
    "\t\"fmt\"\n",
    "\t\"log\"\n",
    "\t\"os\"\n",
    "\n",
    "\t\"gopl.io/ch5/links\"\n",
    ")\n",
    "\n",
    "//!+breadthFirst\n",
    "// breadthFirst calls f for each item in the worklist.\n",
    "// Any items returned by f are added to the worklist.\n",
    "// f is called at most once for each item.\n",
    "func breadthFirst(f func(item string) []string, worklist []string) {\n",
    "\tseen := make(map[string]bool)\n",
    "\tfor len(worklist) > 0 {\n",
    "\t\titems := worklist\n",
    "\t\tworklist = nil\n",
    "\t\tfor _, item := range items {\n",
    "\t\t\tif !seen[item] {\n",
    "\t\t\t\tseen[item] = true\n",
    "\t\t\t\tworklist = append(worklist, f(item)...)\n",
    "\t\t\t}\n",
    "\t\t}\n",
    "\t}\n",
    "}\n",
    "\n",
    "//!-breadthFirst\n",
    "\n",
    "//!+crawl\n",
    "func crawl(url string) []string {\n",
    "\tfmt.Println(url)\n",
    "\tlist, err := links.Extract(url)\n",
    "\tif err != nil {\n",
    "\t\tlog.Print(err)\n",
    "\t}\n",
    "\treturn list\n",
    "}\n",
    "\n",
    "//!-crawl\n",
    "\n",
    "//!+main\n",
    "func main() {\n",
    "\t// Crawl the web breadth-first,\n",
    "\t// starting from the command-line arguments.\n",
    "\tbreadthFirst(crawl, os.Args[1:])\n",
    "}\n",
    "os.Args = []string{\"findlinks3\",\"https://gopl.io\"}\n",
    "main()\n",
    "//!-main"
   ]
  },
  {
   "cell_type": "markdown",
   "metadata": {
    "slideshow": {
     "slide_type": "slide"
    }
   },
   "source": [
    "### Caveat: Capturing Iteration Variables"
   ]
  },
  {
   "cell_type": "code",
   "execution_count": 1,
   "metadata": {
    "slideshow": {
     "slide_type": "subslide"
    }
   },
   "outputs": [
    {
     "name": "stdout",
     "output_type": "stream",
     "text": [
      "/tmp\n",
      "/root\n",
      "/usr/local/bin\n",
      "/etc\n"
     ]
    }
   ],
   "source": [
    "// correct version \n",
    "import \"fmt\"\n",
    "var rmdirs []func()\n",
    "func tempDirs() []string {\n",
    "    return []string{\"/tmp\",\"/root\",\"/usr/local/bin\",\"/etc\"}\n",
    "}\n",
    "\n",
    "for _, d := range tempDirs(){\n",
    "    dir := d\n",
    "    rmdirs = append(rmdirs, func(){\n",
    "        fmt.Println(dir)\n",
    "      })\n",
    "    \n",
    "}\n",
    "for _,rmdir := range rmdirs {\n",
    "    rmdir()\n",
    "}\n",
    "/*\n",
    "for _, d: = range tempDirs(){\n",
    "    dir := d       //Note: necessary\n",
    "    os.MkdirAll(dir, 0755) // creates parent directories too\n",
    "    rmdirs = append(rmdirs, func() {\n",
    "        //os.RemoveAll(dir) \n",
    "        fmt.Println(dir)\n",
    "    })\n",
    "}\n",
    "// ... do some work ...\n",
    "for _, rmdir := range rmdirs {\n",
    "    rmdir() // clean up\n",
    "}\n",
    "*/"
   ]
  },
  {
   "cell_type": "code",
   "execution_count": 12,
   "metadata": {
    "slideshow": {
     "slide_type": "subslide"
    }
   },
   "outputs": [
    {
     "name": "stdout",
     "output_type": "stream",
     "text": [
      "/etc\n",
      "/etc\n",
      "/etc\n",
      "/etc\n"
     ]
    }
   ],
   "source": [
    "//incorrect version\n",
    "var rmirs []func()\n",
    "func tempDirs() []string\n",
    "import \"fmt\"\n",
    "var rmdirs []func()\n",
    "func tempDirs() []string {\n",
    "    return []string{\"/tmp\",\"/root\",\"/usr/local/bin\",\"/etc\"}\n",
    "}\n",
    "\n",
    "for _, dir := range tempDirs(){\n",
    "    rmdirs = append(rmdirs, func(){\n",
    "        fmt.Println(dir)\n",
    "      })\n",
    "    \n",
    "}\n",
    "for _,rmdir := range rmdirs {\n",
    "    rmdir()\n",
    "}\n",
    "/*\n",
    "for _, dir: = range tempDirs(){\n",
    "    os.MkdirAll(dir, 0755) // creates parent directories too\n",
    "    rmdirs = append(rmdirs, func() {\n",
    "        os.RemoveAll(dir)  // Note: incorrect\n",
    "    })\n",
    "}\n",
    "// ... do some work ...\n",
    "// dir here holds the value from the final iteration\n",
    "for _, rmdir := range rmdirs {\n",
    "    rmdir() // clean up\n",
    "}\n",
    "*/"
   ]
  },
  {
   "cell_type": "code",
   "execution_count": 33,
   "metadata": {
    "slideshow": {
     "slide_type": "subslide"
    }
   },
   "outputs": [
    {
     "name": "stdout",
     "output_type": "stream",
     "text": [
      "/tmp\n",
      "/root\n",
      "/usr/local/bin\n",
      "/etc\n"
     ]
    },
    {
     "ename": "ERROR",
     "evalue": "reflect: slice index out of range",
     "output_type": "error",
     "traceback": [
      "reflect: slice index out of range"
     ]
    }
   ],
   "source": [
    "//incorrect version\n",
    "var rmirs []func()\n",
    "dirs := tempDirs()\n",
    "for i :=0; i< len(dirs); i++{\n",
    "    //os.MkdirAll(dirs[i], 0755) // creates parent directories too\n",
    "    rmdirs = append(rmdirs, func() {\n",
    "        fmt.Println(dirs[i])\n",
    "        //os.RemoveAll(dirs[i])  // Note: incorrect\n",
    "    })\n",
    "}\n",
    "// ... do some work ...\n",
    "// dirs[i] here captures the value i from the final iteration\n",
    "for _, rmdir := range rmdirs {\n",
    "    rmdir() // clean up\n",
    "}"
   ]
  },
  {
   "cell_type": "markdown",
   "metadata": {
    "slideshow": {
     "slide_type": "slide"
    }
   },
   "source": [
    "## Variadic Functions\n",
    "* A variadic function is one that can be called with varying numbers of arguments\n",
    "* fmt.Printf\n",
    "* To declare a variadic function, the type of the final parameter is preceded by an ellipses, \"...\", indicating that the function may be called with any number of arguments of this type"
   ]
  },
  {
   "cell_type": "code",
   "execution_count": 13,
   "metadata": {
    "code_folding": [],
    "slideshow": {
     "slide_type": "subslide"
    }
   },
   "outputs": [
    {
     "name": "stdout",
     "output_type": "stream",
     "text": [
      "0\n",
      "3\n",
      "55\n"
     ]
    },
    {
     "data": {
      "text/plain": [
       "3 <nil>"
      ]
     },
     "execution_count": 13,
     "metadata": {},
     "output_type": "execute_result"
    }
   ],
   "source": [
    "//gopl.io/ch5/sum\n",
    "import \"fmt\"\n",
    "func sum(vals ...int) int {\n",
    "    total := 0\n",
    "    for _, val := range vals {\n",
    "        total += val\n",
    "    }\n",
    "    return total\n",
    "}\n",
    "fmt.Println(sum())\n",
    "fmt.Println(sum(3))\n",
    "fmt.Println(sum(1,2,3,4,5,6,7,8,9,10))"
   ]
  },
  {
   "cell_type": "code",
   "execution_count": 14,
   "metadata": {
    "code_folding": [],
    "slideshow": {
     "slide_type": "subslide"
    }
   },
   "outputs": [
    {
     "name": "stdout",
     "output_type": "stream",
     "text": [
      "func(...int)\n",
      "func([]int)\n"
     ]
    },
    {
     "data": {
      "text/plain": [
       "12 <nil>"
      ]
     },
     "execution_count": 14,
     "metadata": {},
     "output_type": "execute_result"
    }
   ],
   "source": [
    "//variadict functions\n",
    "func f(...int) {}\n",
    "func g([]int){}\n",
    "fmt.Printf(\"%T\\n\", f)\n",
    "fmt.Printf(\"%T\\n\", g)"
   ]
  },
  {
   "cell_type": "code",
   "execution_count": 15,
   "metadata": {
    "code_folding": [],
    "slideshow": {
     "slide_type": "subslide"
    }
   },
   "outputs": [
    {
     "name": "stderr",
     "output_type": "stream",
     "text": [
      "Line 12: undefined: count\n"
     ]
    }
   ],
   "source": [
    "import \"os\"\n",
    "func errorf(linenum int, format string, args ...interface{}){\n",
    "    fmt.Fprintf(os.Stderr, \"Line %d: \", linenum)\n",
    "    fmt.Fprintf(os.Stderr, format, args...)\n",
    "    fmt.Fprintln(os.Stderr)\n",
    "}\n",
    "linenum, name := 12, \"count\"\n",
    "errorf(linenum, \"undefined: %s\", name)"
   ]
  },
  {
   "cell_type": "markdown",
   "metadata": {
    "slideshow": {
     "slide_type": "slide"
    }
   },
   "source": [
    "## Deferred Function Calls"
   ]
  },
  {
   "cell_type": "code",
   "execution_count": 39,
   "metadata": {
    "code_folding": [
     0
    ],
    "slideshow": {
     "slide_type": "subslide"
    }
   },
   "outputs": [
    {
     "name": "stdout",
     "output_type": "stream",
     "text": [
      "The Go Programming Language\n"
     ]
    },
    {
     "name": "stderr",
     "output_type": "stream",
     "text": [
      "title: http://golang.org/doc/gopher/frontpage.png has type image/png, not text/html\n"
     ]
    }
   ],
   "source": [
    "// Copyright © 2016 Alan A. A. Donovan & Brian W. Kernighan.\n",
    "// License: https://creativecommons.org/licenses/by-nc-sa/4.0/\n",
    "\n",
    "// See page 144.\n",
    "\n",
    "// Title1 prints the title of an HTML document specified by a URL.\n",
    "//package main\n",
    "\n",
    "/*\n",
    "//!+output\n",
    "$ go build gopl.io/ch5/title1\n",
    "$ ./title1 http://gopl.io\n",
    "The Go Programming Language\n",
    "$ ./title1 https://golang.org/doc/effective_go.html\n",
    "Effective Go - The Go Programming Language\n",
    "$ ./title1 https://golang.org/doc/gopher/frontpage.png\n",
    "title: https://golang.org/doc/gopher/frontpage.png\n",
    "    has type image/png, not text/html\n",
    "//!-output\n",
    "*/\n",
    "\n",
    "import (\n",
    "\t\"fmt\"\n",
    "\t\"net/http\"\n",
    "\t\"os\"\n",
    "\t\"strings\"\n",
    "\n",
    "\t\"golang.org/x/net/html\"\n",
    ")\n",
    "\n",
    "// Copied from gopl.io/ch5/outline2.\n",
    "func forEachNode(n *html.Node, pre, post func(n *html.Node)) {\n",
    "\tif pre != nil {\n",
    "\t\tpre(n)\n",
    "\t}\n",
    "\tfor c := n.FirstChild; c != nil; c = c.NextSibling {\n",
    "\t\tforEachNode(c, pre, post)\n",
    "\t}\n",
    "\tif post != nil {\n",
    "\t\tpost(n)\n",
    "\t}\n",
    "}\n",
    "\n",
    "//!+\n",
    "func title(url string) error {\n",
    "\tresp, err := http.Get(url)\n",
    "\tif err != nil {\n",
    "\t\treturn err\n",
    "\t}\n",
    "\n",
    "\t// Check Content-Type is HTML (e.g., \"text/html; charset=utf-8\").\n",
    "\tct := resp.Header.Get(\"Content-Type\")\n",
    "\tif ct != \"text/html\" && !strings.HasPrefix(ct, \"text/html;\") {\n",
    "\t\tresp.Body.Close()\n",
    "\t\treturn fmt.Errorf(\"%s has type %s, not text/html\", url, ct)\n",
    "\t}\n",
    "\n",
    "\tdoc, err := html.Parse(resp.Body)\n",
    "\tresp.Body.Close()\n",
    "\tif err != nil {\n",
    "\t\treturn fmt.Errorf(\"parsing %s as HTML: %v\", url, err)\n",
    "\t}\n",
    "\n",
    "\tvisitNode := func(n *html.Node) {\n",
    "\t\tif n.Type == html.ElementNode && n.Data == \"title\" &&\n",
    "\t\t\tn.FirstChild != nil {\n",
    "\t\t\tfmt.Println(n.FirstChild.Data)\n",
    "\t\t}\n",
    "\t}\n",
    "\tforEachNode(doc, visitNode, nil)\n",
    "\treturn nil\n",
    "}\n",
    "\n",
    "//!-\n",
    "\n",
    "func main() {\n",
    "\tfor _, arg := range os.Args[1:] {\n",
    "\t\tif err := title(arg); err != nil {\n",
    "\t\t\tfmt.Fprintf(os.Stderr, \"title: %v\\n\", err)\n",
    "\t\t}\n",
    "\t}\n",
    "}\n",
    "os.Args = []string{\"title1\",\"http://gopl.io\"}\n",
    "main()\n",
    "os.Args = []string{\"title1\",\"http://golang.org/doc/gopher/frontpage.png\"}\n",
    "main()"
   ]
  },
  {
   "cell_type": "markdown",
   "metadata": {
    "slideshow": {
     "slide_type": "subslide"
    }
   },
   "source": [
    "* duplicated resp.Body.Close() call, which ensures that title closes the network connection on all execution paths, including failures\n",
    "* a defer statement is an ordinary function or method call prefixed by the keyword defer"
   ]
  },
  {
   "cell_type": "code",
   "execution_count": 39,
   "metadata": {
    "code_folding": [
     65
    ],
    "slideshow": {
     "slide_type": "fragment"
    }
   },
   "outputs": [
    {
     "name": "stdout",
     "output_type": "stream",
     "text": [
      "The Go Programming Language\n"
     ]
    }
   ],
   "source": [
    "// Copyright © 2016 Alan A. A. Donovan & Brian W. Kernighan.\n",
    "// License: https://creativecommons.org/licenses/by-nc-sa/4.0/\n",
    "\n",
    "// See page 145.\n",
    "\n",
    "// Title2 prints the title of an HTML document specified by a URL.\n",
    "// It uses defer to simplify closing the response body stream.\n",
    "//package main\n",
    "\n",
    "import (\n",
    "\t\"fmt\"\n",
    "\t\"net/http\"\n",
    "\t\"os\"\n",
    "\t\"strings\"\n",
    "\n",
    "\t\"golang.org/x/net/html\"\n",
    ")\n",
    "\n",
    "// Copied from gopl.io/ch5/outline2.\n",
    "func forEachNode(n *html.Node, pre, post func(n *html.Node)) {\n",
    "\tif pre != nil {\n",
    "\t\tpre(n)\n",
    "\t}\n",
    "\tfor c := n.FirstChild; c != nil; c = c.NextSibling {\n",
    "\t\tforEachNode(c, pre, post)\n",
    "\t}\n",
    "\tif post != nil {\n",
    "\t\tpost(n)\n",
    "\t}\n",
    "}\n",
    "\n",
    "//!+\n",
    "func title(url string) error {\n",
    "\tresp, err := http.Get(url)\n",
    "\tif err != nil {\n",
    "\t\treturn err\n",
    "\t}\n",
    "\tdefer resp.Body.Close()\n",
    "\n",
    "\tct := resp.Header.Get(\"Content-Type\")\n",
    "\tif ct != \"text/html\" && !strings.HasPrefix(ct, \"text/html;\") {\n",
    "\t\treturn fmt.Errorf(\"%s has type %s, not text/html\", url, ct)\n",
    "\t}\n",
    "\n",
    "\tdoc, err := html.Parse(resp.Body)\n",
    "\tif err != nil {\n",
    "\t\treturn fmt.Errorf(\"parsing %s as HTML: %v\", url, err)\n",
    "\t}\n",
    "\n",
    "\t// ...print doc's title element...\n",
    "\t//!-\n",
    "\tvisitNode := func(n *html.Node) {\n",
    "\t\tif n.Type == html.ElementNode && n.Data == \"title\" &&\n",
    "\t\t\tn.FirstChild != nil {\n",
    "\t\t\tfmt.Println(n.FirstChild.Data)\n",
    "\t\t}\n",
    "\t}\n",
    "\tforEachNode(doc, visitNode, nil) \n",
    "\t//!+\n",
    "\n",
    "\treturn nil\n",
    "}\n",
    "\n",
    "//!-\n",
    "\n",
    "func main() {\n",
    "\tfor _, arg := range os.Args[1:] {\n",
    "\t\tif err := title(arg); err != nil {\n",
    "\t\t\tfmt.Fprintf(os.Stderr, \"title: %v\\n\", err)\n",
    "\t\t}\n",
    "\t}\n",
    " }\n",
    "\n",
    "os.Args = []string{\"title2\",\"http://gopl.io\"}\n",
    "main()"
   ]
  },
  {
   "cell_type": "code",
   "execution_count": 42,
   "metadata": {
    "code_folding": [],
    "slideshow": {
     "slide_type": "subslide"
    }
   },
   "outputs": [],
   "source": [
    "//io/ioutil\n",
    "//package ioutil\n",
    "import \"os\"\n",
    "func ReadAll(*os.File) ([]byte,error)\n",
    "func ReadFile(filename string)([]byte,error) {\n",
    "    f, err := os.Open(filename)\n",
    "    if err != nil {\n",
    "        return nil, err\n",
    "    }\n",
    "    defer f.Close()\n",
    "    return ReadAll(f)\n",
    "}"
   ]
  },
  {
   "cell_type": "code",
   "execution_count": 46,
   "metadata": {
    "code_folding": [],
    "slideshow": {
     "slide_type": "subslide"
    }
   },
   "outputs": [
    {
     "name": "stdout",
     "output_type": "stream",
     "text": [
      "double(5) = 10\n"
     ]
    }
   ],
   "source": [
    "func double(x int) (result int) {\n",
    "    defer func() {fmt.Printf(\"double(%d) = %d\\n\", x, result)}()\n",
    "    return x + x\n",
    "}\n",
    "_ = double(5)"
   ]
  },
  {
   "cell_type": "code",
   "execution_count": 49,
   "metadata": {
    "code_folding": [],
    "slideshow": {
     "slide_type": "subslide"
    }
   },
   "outputs": [
    {
     "name": "stdout",
     "output_type": "stream",
     "text": [
      "double(4) = 8\n",
      "12\n"
     ]
    },
    {
     "data": {
      "text/plain": [
       "3 <nil>"
      ]
     },
     "execution_count": 49,
     "metadata": {},
     "output_type": "execute_result"
    }
   ],
   "source": [
    "func triple(x int) (result int){\n",
    "    defer func() {result += x}()\n",
    "    return double(x)\n",
    "}\n",
    "fmt.Println(triple(4))"
   ]
  },
  {
   "cell_type": "code",
   "execution_count": 50,
   "metadata": {
    "code_folding": [],
    "slideshow": {
     "slide_type": "subslide"
    }
   },
   "outputs": [
    {
     "name": "stderr",
     "output_type": "stream",
     "text": [
      "http://gopl.io => index.html (4154 bytes).\n"
     ]
    }
   ],
   "source": [
    "// Copyright © 2016 Alan A. A. Donovan & Brian W. Kernighan.\n",
    "// License: https://creativecommons.org/licenses/by-nc-sa/4.0/\n",
    "\n",
    "// See page 148.\n",
    "\n",
    "// Fetch saves the contents of a URL into a local file.\n",
    "//package main\n",
    "\n",
    "import (\n",
    "\t\"fmt\"\n",
    "\t\"io\"\n",
    "\t\"net/http\"\n",
    "\t\"os\"\n",
    "\t\"path\"\n",
    ")\n",
    "\n",
    "//!+\n",
    "// Fetch downloads the URL and returns the\n",
    "// name and length of the local file.\n",
    "func fetch(url string) (filename string, n int64, err error) {\n",
    "\tresp, err := http.Get(url)\n",
    "\tif err != nil {\n",
    "\t\treturn \"\", 0, err\n",
    "\t}\n",
    "\tdefer resp.Body.Close()\n",
    "\n",
    "\tlocal := path.Base(resp.Request.URL.Path)\n",
    "\tif local == \"/\" {\n",
    "\t\tlocal = \"index.html\"\n",
    "\t}\n",
    "\tf, err := os.Create(local)\n",
    "\tif err != nil {\n",
    "\t\treturn \"\", 0, err\n",
    "\t}\n",
    "\tn, err = io.Copy(f, resp.Body)\n",
    "\t// Close file, but prefer error from Copy, if any.\n",
    "\tif closeErr := f.Close(); err == nil {\n",
    "\t\terr = closeErr\n",
    "\t}\n",
    "\treturn local, n, err\n",
    "}\n",
    "\n",
    "//!-\n",
    "\n",
    "func main() {\n",
    "\tfor _, url := range os.Args[1:] {\n",
    "\t\tlocal, n, err := fetch(url)\n",
    "\t\tif err != nil {\n",
    "\t\t\tfmt.Fprintf(os.Stderr, \"fetch %s: %v\\n\", url, err)\n",
    "\t\t\tcontinue\n",
    "\t\t}\n",
    "\t\tfmt.Fprintf(os.Stderr, \"%s => %s (%d bytes).\\n\", url, local, n)\n",
    "\t}\n",
    "}\n",
    "\n",
    "os.Args = []string{\"fetch\",\"http://gopl.io\"}\n",
    "main()"
   ]
  },
  {
   "cell_type": "markdown",
   "metadata": {
    "slideshow": {
     "slide_type": "slide"
    }
   },
   "source": [
    "## Panic"
   ]
  },
  {
   "cell_type": "code",
   "execution_count": 27,
   "metadata": {
    "code_folding": [],
    "slideshow": {
     "slide_type": "fragment"
    }
   },
   "outputs": [
    {
     "name": "stdout",
     "output_type": "stream",
     "text": [
      "f(3)\n",
      "f(2)\n",
      "f(1)\n",
      "defer 1\n",
      "defer 2\n",
      "defer 3\n"
     ]
    },
    {
     "ename": "ERROR",
     "evalue": "runtime error: integer divide by zero",
     "output_type": "error",
     "traceback": [
      "runtime error: integer divide by zero"
     ]
    }
   ],
   "source": [
    "//gopl.io/ch5/defer1\n",
    "\n",
    "func f(x int) {\n",
    "    fmt.Printf(\"f(%d)\\n\", x+0/x) // panics if x == 0\n",
    "    defer fmt.Printf(\"defer %d\\n\", x)\n",
    "    f(x-1)\n",
    "}\n",
    "f(3)"
   ]
  },
  {
   "cell_type": "code",
   "execution_count": 51,
   "metadata": {
    "code_folding": [],
    "slideshow": {
     "slide_type": "subslide"
    }
   },
   "outputs": [
    {
     "name": "stdout",
     "output_type": "stream",
     "text": [
      "goroutine 1 [running]:\n",
      "reflect.Value.call(0x189d0c0, 0x1a69110, 0x13, 0x1a179b1, 0x4, 0xc000598090, 0x2, 0x2, 0x30, 0x1823040, ...)\n",
      "\t/usr/local/go/src/reflect/value.go:460 +0x5f6\n",
      "reflect.Value.Call(0x189d0c0, 0x1a69110, 0x13, 0xc000598090, 0x2, 0x2, 0x191, 0x187c180, 0xc000743000)\n",
      "\t/usr/local/go/src/reflect/value.go:321 +0xb4\n",
      "github.com/gopherdata/gophernotes/vendor/github.com/cosmos72/gomacro/fast.callxr(0x189d0c0, 0x1a69110, 0x13, 0xc000598090, 0x2, 0x2, 0x1, 0xc000743000, 0xc000764950)\n",
      "\t/home/skhuang/go/src/github.com/gopherdata/gophernotes/vendor/github.com/cosmos72/gomacro/fast/call.go:453 +0x72\n",
      "github.com/gopherdata/gophernotes/vendor/github.com/cosmos72/gomacro/fast.(*Comp).callnret1.func2(0xc00073cc80, 0x191)\n",
      "\t/home/skhuang/go/src/github.com/gopherdata/gophernotes/vendor/github.com/cosmos72/gomacro/fast/callnret1.go:58 +0x1aa\n",
      "github.com/gopherdata/gophernotes/vendor/github.com/cosmos72/gomacro/fast.(*Comp).varSetExpr.func3(0xc00073cc80, 0xc0006fb580, 0xc00073cc80)\n",
      "\t/home/skhuang/go/src/github.com/gopherdata/gophernotes/vendor/github.com/cosmos72/gomacro/fast/var_set.go:2436 +0x3c\n",
      "github.com/gopherdata/gophernotes/vendor/github.com/cosmos72/gomacro/fast.reExecWithFlags(0xc00073cc80, 0xc0006fb8c0, 0x4, 0x4, 0xc000243340, 0x3, 0x4, 0xc0006fb4c0, 0x0)\n",
      "\t/home/skhuang/go/src/github.com/gopherdata/gophernotes/vendor/github.com/cosmos72/gomacro/fast/code.go:294 +0x527\n",
      "github.com/gopherdata/gophernotes/vendor/github.com/cosmos72/gomacro/fast.exec.func1(0xc00073cc80)\n",
      "\t/home/skhuang/go/src/github.com/gopherdata/gophernotes/vendor/github.com/cosmos72/gomacro/fast/code.go:155 +0x676\n",
      "github.com/gopherdata/gophernotes/vendor/github.com/cosmos72/gomacro/fast.(*Comp).func0ret0.func2.1()\n",
      "\t/home/skhuang/go/src/github.com/gopherdata/gophernotes/vendor/github.com/cosmos72/gomacro/fast/func0ret0.go:46 +0x66\n",
      "reflect.Value.call(0x1826f00, 0xc00040d230, 0x13, 0x1a179b1, 0x4, 0x289e1c0, 0x0, 0x0, 0xc00021f880, 0x7fbeadde1460, ...)\n",
      "\t/usr/local/go/src/reflect/value.go:460 +0x5f6\n",
      "reflect.Value.Call(0x1826f00, 0xc00040d230, 0x13, 0x289e1c0, 0x0, 0x0, 0xa17e1a, 0x1920100, 0xc0006bd240)\n",
      "\t/usr/local/go/src/reflect/value.go:321 +0xb4\n",
      "github.com/gopherdata/gophernotes/vendor/github.com/cosmos72/gomacro/fast.(*Comp).Defer.func1.2()\n",
      "\t/home/skhuang/go/src/github.com/gopherdata/gophernotes/vendor/github.com/cosmos72/gomacro/fast/statement.go:311 +0x57\n",
      "github.com/gopherdata/gophernotes/vendor/github.com/cosmos72/gomacro/fast.reExecWithFlags.func1(0xc0006bd240)\n",
      "\t/home/skhuang/go/src/github.com/gopherdata/gophernotes/vendor/github.com/cosmos72/gomacro/fast/code.go:280 +0x120\n",
      "github.com/gopherdata/gophernotes/vendor/github.com/cosmos72/gomacro/fast.reExecWithFlags(0xc0000b6280, 0xc000af04f0, 0x2, 0x2, 0xc0005b3058, 0x1, 0x1, 0xc00040c900, 0x0)\n",
      "\t/home/skhuang/go/src/github.com/gopherdata/gophernotes/vendor/github.com/cosmos72/gomacro/fast/code.go:397 +0x350\n",
      "github.com/gopherdata/gophernotes/vendor/github.com/cosmos72/gomacro/fast.execWithFlags.func1(0xc0000b6280)\n",
      "\t/home/skhuang/go/src/github.com/gopherdata/gophernotes/vendor/github.com/cosmos72/gomacro/fast/code.go:244 +0x83\n",
      "github.com/gopherdata/gophernotes/vendor/github.com/cosmos72/gomacro/fast.funList.func2(0xc0000b6280)\n",
      "\t/home/skhuang/go/src/github.com/gopherdata/gophernotes/vendor/github.com/cosmos72/gomacro/fast/util.go:1333 +0x56\n",
      "github.com/gopherdata/gophernotes/vendor/github.com/cosmos72/gomacro/fast.funAsXV.func1(0xc0000b6280, 0x1, 0xc000af0510, 0xc0000b6200, 0x0, 0xc000765248, 0x14603c1)\n",
      "\t/home/skhuang/go/src/github.com/gopherdata/gophernotes/vendor/github.com/cosmos72/gomacro/fast/util.go:674 +0x2f\n",
      "github.com/gopherdata/gophernotes/vendor/github.com/cosmos72/gomacro/fast.(*Interp).RunExpr(0xc000244c00, 0xc000826550, 0x0, 0x0, 0x0, 0x0, 0x0, 0x0)\n",
      "\t/home/skhuang/go/src/github.com/gopherdata/gophernotes/vendor/github.com/cosmos72/gomacro/fast/repl.go:133 +0x196\n",
      "main.doEval(0xc000244c00, 0xc00004e0b0, 0xac, 0x0, 0x0, 0x0, 0x0, 0x0, 0x0, 0x0, ...)\n",
      "\t/home/skhuang/go/src/github.com/gopherdata/gophernotes/kernel.go:505 +0x200\n",
      "main.(*Kernel).handleExecuteRequest(0xc000765988, 0xc000239c60, 0x20, 0xc000"
     ]
    }
   ],
   "source": [
    "//gopl.io/ch5/defer2\n",
    "import \"runtime\"\n",
    "func printStack(){\n",
    "    var buf [4096]byte\n",
    "    n := runtime.Stack(buf[:], false)\n",
    "    os.Stdout.Write(buf[:n])\n",
    "}\n",
    "defer printStack()\n",
    "f(3)"
   ]
  },
  {
   "cell_type": "markdown",
   "metadata": {
    "slideshow": {
     "slide_type": "slide"
    }
   },
   "source": [
    "## Recover"
   ]
  },
  {
   "cell_type": "code",
   "execution_count": 16,
   "metadata": {
    "code_folding": [],
    "slideshow": {
     "slide_type": "subslide"
    }
   },
   "outputs": [],
   "source": [
    "// Copyright © 2016 Alan A. A. Donovan & Brian W. Kernighan.\n",
    "// License: https://creativecommons.org/licenses/by-nc-sa/4.0/\n",
    "\n",
    "// See page 153.\n",
    "\n",
    "// Title3 prints the title of an HTML document specified by a URL.\n",
    "//package main\n",
    "\n",
    "import (\n",
    "\t\"fmt\"\n",
    "\t\"net/http\"\n",
    "\t\"os\"\n",
    "\t\"strings\"\n",
    "\n",
    "\t\"golang.org/x/net/html\"\n",
    ")\n",
    "\n",
    "// Copied from gopl.io/ch5/outline2.\n",
    "func forEachNode(n *html.Node, pre, post func(n *html.Node)) {\n",
    "\tif pre != nil {\n",
    "\t\tpre(n)\n",
    "\t}\n",
    "\tfor c := n.FirstChild; c != nil; c = c.NextSibling {\n",
    "\t\tforEachNode(c, pre, post)\n",
    "\t}\n",
    "\tif post != nil {\n",
    "\t\tpost(n)\n",
    "\t}\n",
    "}"
   ]
  },
  {
   "cell_type": "code",
   "execution_count": 17,
   "metadata": {
    "slideshow": {
     "slide_type": "subslide"
    }
   },
   "outputs": [],
   "source": [
    "//!+\n",
    "// soleTitle returns the text of the first non-empty title element\n",
    "// in doc, and an error if there was not exactly one.\n",
    "func soleTitle(doc *html.Node) (title string, err error) {\n",
    "\ttype bailout struct{}\n",
    "\n",
    "\tdefer func() {\n",
    "\t\tswitch p := recover(); p {\n",
    "\t\tcase nil:\n",
    "\t\t\t// no panic\n",
    "\t\tcase bailout{}:\n",
    "\t\t\t// \"expected\" panic\n",
    "\t\t\terr = fmt.Errorf(\"multiple title elements\")\n",
    "\t\tdefault:\n",
    "\t\t\tpanic(p) // unexpected panic; carry on panicking\n",
    "\t\t}\n",
    "\t}()\n",
    "\n",
    "\t// Bail out of recursion if we find more than one non-empty title.\n",
    "\tforEachNode(doc, func(n *html.Node) {\n",
    "\t\tif n.Type == html.ElementNode && n.Data == \"title\" &&\n",
    "\t\t\tn.FirstChild != nil {\n",
    "\t\t\tif title != \"\" {\n",
    "\t\t\t\tpanic(bailout{}) // multiple title elements\n",
    "\t\t\t}\n",
    "\t\t\ttitle = n.FirstChild.Data\n",
    "\t\t}\n",
    "\t}, nil)\n",
    "\tif title == \"\" {\n",
    "\t\treturn \"\", fmt.Errorf(\"no title element\")\n",
    "\t}\n",
    "\treturn title, nil\n",
    "}\n",
    "\n"
   ]
  },
  {
   "cell_type": "code",
   "execution_count": 18,
   "metadata": {
    "slideshow": {
     "slide_type": "fragment"
    }
   },
   "outputs": [
    {
     "name": "stdout",
     "output_type": "stream",
     "text": [
      "func(*html.Node) (string, error)"
     ]
    },
    {
     "data": {
      "text/plain": [
       "32 <nil>"
      ]
     },
     "execution_count": 18,
     "metadata": {},
     "output_type": "execute_result"
    }
   ],
   "source": [
    "fmt.Printf(\"%T\",soleTitle)"
   ]
  },
  {
   "cell_type": "code",
   "execution_count": 19,
   "metadata": {
    "slideshow": {
     "slide_type": "subslide"
    }
   },
   "outputs": [],
   "source": [
    "//!-\n",
    "\n",
    "func title(url string) error {\n",
    "\tresp, err := http.Get(url)\n",
    "\tif err != nil {\n",
    "\t\treturn err\n",
    "\t}\n",
    "\n",
    "\t// Check Content-Type is HTML (e.g., \"text/html; charset=utf-8\").\n",
    "\tct := resp.Header.Get(\"Content-Type\")\n",
    "\tif ct != \"text/html\" && !strings.HasPrefix(ct, \"text/html;\") {\n",
    "\t\tresp.Body.Close()\n",
    "\t\treturn fmt.Errorf(\"%s has type %s, not text/html\", url, ct)\n",
    "\t}\n",
    "\n",
    "\tdoc, err := html.Parse(resp.Body)\n",
    "\tresp.Body.Close()\n",
    "\tif err != nil {\n",
    "\t\treturn fmt.Errorf(\"parsing %s as HTML: %v\", url, err)\n",
    "\t}\n",
    "\ttitle, err := soleTitle(doc)\n",
    "\tif err != nil {\n",
    "\t\treturn err\n",
    "\t}\n",
    "\tfmt.Println(title)\n",
    "\treturn nil\n",
    "}"
   ]
  },
  {
   "cell_type": "code",
   "execution_count": 20,
   "metadata": {
    "slideshow": {
     "slide_type": "subslide"
    }
   },
   "outputs": [
    {
     "name": "stdout",
     "output_type": "stream",
     "text": [
      "The Go Programming Language\n"
     ]
    }
   ],
   "source": [
    "func main() {\n",
    "\tfor _, arg := range os.Args[1:] {\n",
    "\t\tif err := title(arg); err != nil {\n",
    "\t\t\tfmt.Fprintf(os.Stderr, \"title: %v\\n\", err)\n",
    "\t\t}\n",
    "\t}\n",
    "}\n",
    "\n",
    "os.Args = []string{\"title3\",\"http://gopl.io\"}\n",
    "main()"
   ]
  }
 ],
 "metadata": {
  "celltoolbar": "Slideshow",
  "kernelspec": {
   "display_name": "Go",
   "language": "go",
   "name": "gophernotes"
  },
  "language_info": {
   "codemirror_mode": "",
   "file_extension": ".go",
   "mimetype": "",
   "name": "go",
   "nbconvert_exporter": "",
   "pygments_lexer": "",
   "version": "go1.17.1"
  },
  "latex_envs": {
   "LaTeX_envs_menu_present": true,
   "autoclose": false,
   "autocomplete": true,
   "bibliofile": "biblio.bib",
   "cite_by": "apalike",
   "current_citInitial": 1,
   "eqLabelWithNumbers": true,
   "eqNumInitial": 1,
   "hotkeys": {
    "equation": "Ctrl-E",
    "itemize": "Ctrl-I"
   },
   "labels_anchors": false,
   "latex_user_defs": false,
   "report_style_numbering": false,
   "user_envs_cfg": false
  },
  "rise": {
   "enable_chalkboard": true,
   "scroll": true
  },
  "toc": {
   "base_numbering": "5",
   "nav_menu": {
    "height": "202px",
    "width": "234px"
   },
   "number_sections": true,
   "sideBar": true,
   "skip_h1_title": false,
   "title_cell": "Table of Contents",
   "title_sidebar": "Contents",
   "toc_cell": true,
   "toc_position": {},
   "toc_section_display": true,
   "toc_window_display": true
  }
 },
 "nbformat": 4,
 "nbformat_minor": 2
}
