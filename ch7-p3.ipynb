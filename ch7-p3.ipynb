{
 "cells": [
  {
   "cell_type": "markdown",
   "metadata": {
    "toc": true
   },
   "source": [
    "<h1>Table of Contents<span class=\"tocSkip\"></span></h1>\n",
    "<div class=\"toc\"><ul class=\"toc-item\"><li><span><a href=\"#Interfaces\" data-toc-modified-id=\"Interfaces-7\"><span class=\"toc-item-num\">7&nbsp;&nbsp;</span>Interfaces</a></span><ul class=\"toc-item\"><li><span><a href=\"#Interfaces-as-Contracts\" data-toc-modified-id=\"Interfaces-as-Contracts-7.1\"><span class=\"toc-item-num\">7.1&nbsp;&nbsp;</span>Interfaces as Contracts</a></span></li><li><span><a href=\"#Interface-Types\" data-toc-modified-id=\"Interface-Types-7.2\"><span class=\"toc-item-num\">7.2&nbsp;&nbsp;</span>Interface Types</a></span></li><li><span><a href=\"#Interface-Satisfaction\" data-toc-modified-id=\"Interface-Satisfaction-7.3\"><span class=\"toc-item-num\">7.3&nbsp;&nbsp;</span>Interface Satisfaction</a></span></li><li><span><a href=\"#Parsing-Flags-with-flag.Value\" data-toc-modified-id=\"Parsing-Flags-with-flag.Value-7.4\"><span class=\"toc-item-num\">7.4&nbsp;&nbsp;</span>Parsing Flags with flag.Value</a></span></li><li><span><a href=\"#Interface-Values\" data-toc-modified-id=\"Interface-Values-7.5\"><span class=\"toc-item-num\">7.5&nbsp;&nbsp;</span>Interface Values</a></span></li><li><span><a href=\"#Sorting-with-sort.Interface\" data-toc-modified-id=\"Sorting-with-sort.Interface-7.6\"><span class=\"toc-item-num\">7.6&nbsp;&nbsp;</span>Sorting with sort.Interface</a></span></li><li><span><a href=\"#The-http.Handler-Interface\" data-toc-modified-id=\"The-http.Handler-Interface-7.7\"><span class=\"toc-item-num\">7.7&nbsp;&nbsp;</span>The http.Handler Interface</a></span></li><li><span><a href=\"#The-error-Interface\" data-toc-modified-id=\"The-error-Interface-7.8\"><span class=\"toc-item-num\">7.8&nbsp;&nbsp;</span>The error Interface</a></span></li><li><span><a href=\"#Example:-Expression-Evaluator\" data-toc-modified-id=\"Example:-Expression-Evaluator-7.9\"><span class=\"toc-item-num\">7.9&nbsp;&nbsp;</span>Example: Expression Evaluator</a></span></li><li><span><a href=\"#Type-Assertions\" data-toc-modified-id=\"Type-Assertions-7.10\"><span class=\"toc-item-num\">7.10&nbsp;&nbsp;</span>Type Assertions</a></span></li><li><span><a href=\"#Discriminating-Errors-with-Type-Assertions\" data-toc-modified-id=\"Discriminating-Errors-with-Type-Assertions-7.11\"><span class=\"toc-item-num\">7.11&nbsp;&nbsp;</span>Discriminating Errors with Type Assertions</a></span></li><li><span><a href=\"#Querying-Behaviors-with-Interface-Type-Assertions\" data-toc-modified-id=\"Querying-Behaviors-with-Interface-Type-Assertions-7.12\"><span class=\"toc-item-num\">7.12&nbsp;&nbsp;</span>Querying Behaviors with Interface Type Assertions</a></span></li><li><span><a href=\"#Type-Switches\" data-toc-modified-id=\"Type-Switches-7.13\"><span class=\"toc-item-num\">7.13&nbsp;&nbsp;</span>Type Switches</a></span></li><li><span><a href=\"#Example:-Token-Based-XML-Decoding\" data-toc-modified-id=\"Example:-Token-Based-XML-Decoding-7.14\"><span class=\"toc-item-num\">7.14&nbsp;&nbsp;</span>Example: Token-Based XML Decoding</a></span></li></ul></li></ul></div>"
   ]
  },
  {
   "cell_type": "markdown",
   "metadata": {
    "slideshow": {
     "slide_type": "slide"
    }
   },
   "source": [
    "# Interfaces\n",
    "\n",
    "## Interfaces as Contracts\n",
    "\n",
    "* Concrete type specifies the exact representation of its values and exposes the intrinsic operations of tht representation\n",
    "* Interface is an abstract type"
   ]
  },
  {
   "cell_type": "markdown",
   "metadata": {
    "slideshow": {
     "slide_type": "subslide"
    }
   },
   "source": [
    "* Writer is the interface that wraps the basic Write method\n",
    "* Write writes len(p) bytes from p to the underlying data stream.\n",
    "* Returns the number of bytes from p (0 $\\le$ n $\\le$ len(p))\n",
    "* Write must return a non-nil error if returns n < len(p)\n",
    "* Write must not modify the slice data, even temporarily"
   ]
  },
  {
   "cell_type": "markdown",
   "metadata": {
    "slideshow": {
     "slide_type": "slide"
    }
   },
   "source": [
    "## Interface Types\n",
    "* An interface type specifies a set of metods that a concrete type must possess to be considered an instance of that interface "
   ]
  },
  {
   "cell_type": "markdown",
   "metadata": {
    "slideshow": {
     "slide_type": "slide"
    }
   },
   "source": [
    "## Interface Satisfaction\n",
    "* A type satisfies an interface if it possesses all the methods the interface requires\n",
    "* An expression may be assigned to an interface only if its type satisfies the interface"
   ]
  },
  {
   "cell_type": "markdown",
   "metadata": {
    "slideshow": {
     "slide_type": "subslide"
    }
   },
   "source": [
    "* the type interface{} has no methods \n",
    "* the empty interface type places no demands on the types that satisfy it\n",
    "* We can assign any value to the empty interface\n",
    "* fmt.Println or errorf to accept arguments of any type"
   ]
  },
  {
   "cell_type": "markdown",
   "metadata": {
    "slideshow": {
     "slide_type": "subslide"
    }
   },
   "source": [
    "* A concrete type may satisfy many unrelated interfaces\n",
    "* We may define the following set of concrete types:\n",
    "  * Album\n",
    "  * Book\n",
    "  * Movie\n",
    "  * Magazine\n",
    "  * Podcast\n",
    "  * TVEpisode\n",
    "  * Track"
   ]
  },
  {
   "cell_type": "markdown",
   "metadata": {
    "slideshow": {
     "slide_type": "subslide"
    }
   },
   "source": [
    "* We can express each abstration of interest as ann interface\n",
    "* Some properties are common to all artifacts, such as title, a creation date, and a list of "
   ]
  },
  {
   "cell_type": "markdown",
   "metadata": {
    "slideshow": {
     "slide_type": "subslide"
    }
   },
   "source": [
    "* Each grouping of concrete ypes based on the shared behaviors can be expressed as an interface type\n",
    "* Set of interfaces satisfied by a class in class-based languages are explicit\n",
    "* In Golang, we can define new abstractions or groupings of interest when we need them, without modifying the declaration of the concrete type"
   ]
  },
  {
   "cell_type": "markdown",
   "metadata": {
    "slideshow": {
     "slide_type": "slide"
    }
   },
   "source": [
    "## Parsing Flags with flag.Value"
   ]
  },
  {
   "cell_type": "markdown",
   "metadata": {
    "slideshow": {
     "slide_type": "subslide"
    }
   },
   "source": [
    "<code>\n",
    "    package flag\n",
    "    //Value is the interface to the value stored in a flag\n",
    "    type Value interface {\n",
    "      String() string\n",
    "      Set(string) error\n",
    "    }\n",
    "</code>"
   ]
  },
  {
   "cell_type": "markdown",
   "metadata": {
    "slideshow": {
     "slide_type": "slide"
    }
   },
   "source": [
    "## Interface Values"
   ]
  },
  {
   "cell_type": "markdown",
   "metadata": {
    "slideshow": {
     "slide_type": "slide"
    }
   },
   "source": [
    "## Sorting with sort.Interface"
   ]
  },
  {
   "cell_type": "markdown",
   "metadata": {
    "slideshow": {
     "slide_type": "slide"
    }
   },
   "source": [
    "## The http.Handler Interface"
   ]
  },
  {
   "cell_type": "markdown",
   "metadata": {
    "slideshow": {
     "slide_type": "slide"
    }
   },
   "source": [
    "## The error Interface"
   ]
  },
  {
   "cell_type": "markdown",
   "metadata": {
    "slideshow": {
     "slide_type": "subslide"
    }
   },
   "source": [
    "* the predeclaraed error type is an interface type \n",
    "  * with a single method returning an error message\n",
    "<code>\n",
    "type error interface {\n",
    "    Error() string\n",
    "}\n",
    "</code>\n",
    "<code>\n",
    "package errors\n",
    "    func New(text string) error {return &errorString{text}}\n",
    "    type errorString struct { text string }\n",
    "    func (e *errorString) Error() string { return e.text }\n",
    "</code>"
   ]
  },
  {
   "cell_type": "code",
   "execution_count": 5,
   "metadata": {
    "slideshow": {
     "slide_type": "subslide"
    }
   },
   "outputs": [],
   "source": [
    "//package fmt\n",
    "import \"errors\"\n",
    "func Error(format string, args ...interface{}) error {\n",
    "    return errors.New(fmt.Sprintf(format, args...))\n",
    "}"
   ]
  },
  {
   "cell_type": "code",
   "execution_count": 8,
   "metadata": {
    "slideshow": {
     "slide_type": "subslide"
    }
   },
   "outputs": [],
   "source": [
    "//package syscall\n",
    "type Errno uintptr // operating system error code\n",
    "var errors = [...]string {\n",
    "    1: \"operation not permitted\", // EPERM\n",
    "    2: \"no such file or directory\", // ENOENT\n",
    "    3: \"no such process\",           // ESRCH\n",
    "}\n",
    "\n",
    "func (e Errno) Error() string {\n",
    "    if 0 <= int(e) && int(e) < len(errors) {\n",
    "        return errors[e]\n",
    "    }\n",
    "    return fmt.Sprintf(\"errno %d\",e)\n",
    "}"
   ]
  },
  {
   "cell_type": "code",
   "execution_count": 6,
   "metadata": {
    "slideshow": {
     "slide_type": "subslide"
    }
   },
   "outputs": [
    {
     "name": "stdout",
     "output_type": "stream",
     "text": [
      "no such file or directory\n",
      "no such file or directory\n"
     ]
    },
    {
     "data": {
      "text/plain": [
       "26 <nil>"
      ]
     },
     "execution_count": 6,
     "metadata": {},
     "output_type": "execute_result"
    }
   ],
   "source": [
    "import \"syscall\"\n",
    "var err error = syscall.Errno(2)\n",
    "fmt.Println(err.Error())  // \"no such file or directory\"\n",
    "fmt.Println(err)          // \"no such file or directory\""
   ]
  },
  {
   "cell_type": "markdown",
   "metadata": {
    "slideshow": {
     "slide_type": "slide"
    }
   },
   "source": [
    "## Example: Expression Evaluator"
   ]
  },
  {
   "cell_type": "code",
   "execution_count": 21,
   "metadata": {
    "code_folding": [],
    "collapsed": true,
    "slideshow": {
     "slide_type": "slide"
    }
   },
   "outputs": [
    {
     "ename": "ERROR",
     "evalue": "repl.go:9:11: undefined identifier: Env",
     "output_type": "error",
     "traceback": [
      "repl.go:9:11: undefined identifier: Env"
     ]
    }
   ],
   "source": [
    "// Copyright © 2016 Alan A. A. Donovan & Brian W. Kernighan.\n",
    "// License: https://creativecommons.org/licenses/by-nc-sa/4.0/\n",
    "\n",
    "//package eval\n",
    "\n",
    "// An Expr is an arithmetic expression.\n",
    "type Expr interface {\n",
    "\t// Eval returns the value of this Expr in the environment env.\n",
    "\tEval(env Env) float64\n",
    "\t// Check reports errors in this Expr and adds its Vars to the set.\n",
    "\tCheck(vars map[Var]bool) error\n",
    "}\n",
    "\n",
    "//!+ast\n",
    "\n",
    "// A Var identifies a variable, e.g., x.\n",
    "type Var string\n",
    "\n",
    "// A literal is a numeric constant, e.g., 3.141.\n",
    "type literal float64\n",
    "\n",
    "// A unary represents a unary operator expression, e.g., -x.\n",
    "type unary struct {\n",
    "\top rune // one of '+', '-'\n",
    "\tx  Expr\n",
    "}\n",
    "\n",
    "// A binary represents a binary operator expression, e.g., x+y.\n",
    "type binary struct {\n",
    "\top   rune // one of '+', '-', '*', '/'\n",
    "\tx, y Expr\n",
    "}\n",
    "\n",
    "// A call represents a function call expression, e.g., sin(x).\n",
    "type call struct {\n",
    "\tfn   string // one of \"pow\", \"sin\", \"sqrt\"\n",
    "\targs []Expr\n",
    "}\n",
    "\n",
    "//!-ast"
   ]
  },
  {
   "cell_type": "code",
   "execution_count": 49,
   "metadata": {
    "code_folding": [],
    "slideshow": {
     "slide_type": "slide"
    }
   },
   "outputs": [
    {
     "ename": "ERROR",
     "evalue": "repl.go:26:9: undefined identifier: literal",
     "output_type": "error",
     "traceback": [
      "repl.go:26:9: undefined identifier: literal"
     ]
    }
   ],
   "source": [
    "// Copyright © 2016 Alan A. A. Donovan & Brian W. Kernighan.\n",
    "// License: https://creativecommons.org/licenses/by-nc-sa/4.0/\n",
    "\n",
    "// See page 198.\n",
    "\n",
    "// Package eval provides an expression evaluator.\n",
    "//package eval\n",
    "\n",
    "import (\n",
    "\t\"fmt\"\n",
    "\t\"math\"\n",
    ")\n",
    "\n",
    "//!+env\n",
    "\n",
    "type Env map[Var]float64\n",
    "\n",
    "//!-env\n",
    "\n",
    "//!+Eval1\n",
    "\n",
    "func (v Var) Eval(env Env) float64 {\n",
    "\treturn env[v]\n",
    "}\n",
    "\n",
    "func (l literal) Eval(_ Env) float64 {\n",
    "\treturn float64(l)\n",
    "}\n",
    "\n",
    "//!-Eval1\n",
    "\n",
    "//!+Eval2\n",
    "\n",
    "func (u unary) Eval(env Env) float64 {\n",
    "\tswitch u.op {\n",
    "\tcase '+':\n",
    "\t\treturn +u.x.Eval(env)\n",
    "\tcase '-':\n",
    "\t\treturn -u.x.Eval(env)\n",
    "\t}\n",
    "\tpanic(fmt.Sprintf(\"unsupported unary operator: %q\", u.op))\n",
    "}\n",
    "\n",
    "func (b binary) Eval(env Env) float64 {\n",
    "\tswitch b.op {\n",
    "\tcase '+':\n",
    "\t\treturn b.x.Eval(env) + b.y.Eval(env)\n",
    "\tcase '-':\n",
    "\t\treturn b.x.Eval(env) - b.y.Eval(env)\n",
    "\tcase '*':\n",
    "\t\treturn b.x.Eval(env) * b.y.Eval(env)\n",
    "\tcase '/':\n",
    "\t\treturn b.x.Eval(env) / b.y.Eval(env)\n",
    "\t}\n",
    "\tpanic(fmt.Sprintf(\"unsupported binary operator: %q\", b.op))\n",
    "}\n",
    "\n",
    "func (c call) Eval(env Env) float64 {\n",
    "\tswitch c.fn {\n",
    "\tcase \"pow\":\n",
    "\t\treturn math.Pow(c.args[0].Eval(env), c.args[1].Eval(env))\n",
    "\tcase \"sin\":\n",
    "\t\treturn math.Sin(c.args[0].Eval(env))\n",
    "\tcase \"sqrt\":\n",
    "\t\treturn math.Sqrt(c.args[0].Eval(env))\n",
    "\t}\n",
    "\tpanic(fmt.Sprintf(\"unsupported function call: %s\", c.fn))\n",
    "}\n",
    "\n",
    "//!-Eval2"
   ]
  },
  {
   "cell_type": "code",
   "execution_count": null,
   "metadata": {
    "collapsed": true,
    "slideshow": {
     "slide_type": "subslide"
    }
   },
   "outputs": [],
   "source": [
    "// Copyright © 2016 Alan A. A. Donovan & Brian W. Kernighan.\n",
    "// License: https://creativecommons.org/licenses/by-nc-sa/4.0/\n",
    "\n",
    "package eval\n",
    "\n",
    "import (\n",
    "\t\"fmt\"\n",
    "\t\"math\"\n",
    "\t\"testing\"\n",
    ")\n",
    "\n",
    "//!+Eval\n",
    "func TestEval(t *testing.T) {\n",
    "\ttests := []struct {\n",
    "\t\texpr string\n",
    "\t\tenv  Env\n",
    "\t\twant string\n",
    "\t}{\n",
    "\t\t{\"sqrt(A / pi)\", Env{\"A\": 87616, \"pi\": math.Pi}, \"167\"},\n",
    "\t\t{\"pow(x, 3) + pow(y, 3)\", Env{\"x\": 12, \"y\": 1}, \"1729\"},\n",
    "\t\t{\"pow(x, 3) + pow(y, 3)\", Env{\"x\": 9, \"y\": 10}, \"1729\"},\n",
    "\t\t{\"5 / 9 * (F - 32)\", Env{\"F\": -40}, \"-40\"},\n",
    "\t\t{\"5 / 9 * (F - 32)\", Env{\"F\": 32}, \"0\"},\n",
    "\t\t{\"5 / 9 * (F - 32)\", Env{\"F\": 212}, \"100\"},\n",
    "\t\t//!-Eval\n",
    "\t\t// additional tests that don't appear in the book\n",
    "\t\t{\"-1 + -x\", Env{\"x\": 1}, \"-2\"},\n",
    "\t\t{\"-1 - x\", Env{\"x\": 1}, \"-2\"},\n",
    "\t\t//!+Eval\n",
    "\t}\n",
    "\tvar prevExpr string\n",
    "\tfor _, test := range tests {\n",
    "\t\t// Print expr only when it changes.\n",
    "\t\tif test.expr != prevExpr {\n",
    "\t\t\tfmt.Printf(\"\\n%s\\n\", test.expr)\n",
    "\t\t\tprevExpr = test.expr\n",
    "\t\t}\n",
    "\t\texpr, err := Parse(test.expr)\n",
    "\t\tif err != nil {\n",
    "\t\t\tt.Error(err) // parse error\n",
    "\t\t\tcontinue\n",
    "\t\t}\n",
    "\t\tgot := fmt.Sprintf(\"%.6g\", expr.Eval(test.env))\n",
    "\t\tfmt.Printf(\"\\t%v => %s\\n\", test.env, got)\n",
    "\t\tif got != test.want {\n",
    "\t\t\tt.Errorf(\"%s.Eval() in %v = %q, want %q\\n\",\n",
    "\t\t\t\ttest.expr, test.env, got, test.want)\n",
    "\t\t}\n",
    "\t}\n",
    "}\n",
    "\n",
    "//!-Eval\n",
    "\n",
    "/*\n",
    "//!+output\n",
    "sqrt(A / pi)\n",
    "\tmap[A:87616 pi:3.141592653589793] => 167\n",
    "\n",
    "pow(x, 3) + pow(y, 3)\n",
    "\tmap[x:12 y:1] => 1729\n",
    "\tmap[x:9 y:10] => 1729\n",
    "\n",
    "5 / 9 * (F - 32)\n",
    "\tmap[F:-40] => -40\n",
    "\tmap[F:32] => 0\n",
    "\tmap[F:212] => 100\n",
    "//!-output\n",
    "\n",
    "// Additional outputs that don't appear in the book.\n",
    "\n",
    "-1 - x\n",
    "\tmap[x:1] => -2\n",
    "\n",
    "-1 + -x\n",
    "\tmap[x:1] => -2\n",
    "*/\n",
    "\n",
    "func TestErrors(t *testing.T) {\n",
    "\tfor _, test := range []struct{ expr, wantErr string }{\n",
    "\t\t{\"x % 2\", \"unexpected '%'\"},\n",
    "\t\t{\"math.Pi\", \"unexpected '.'\"},\n",
    "\t\t{\"!true\", \"unexpected '!'\"},\n",
    "\t\t{`\"hello\"`, \"unexpected '\\\"'\"},\n",
    "\t\t{\"log(10)\", `unknown function \"log\"`},\n",
    "\t\t{\"sqrt(1, 2)\", \"call to sqrt has 2 args, want 1\"},\n",
    "\t} {\n",
    "\t\texpr, err := Parse(test.expr)\n",
    "\t\tif err == nil {\n",
    "\t\t\tvars := make(map[Var]bool)\n",
    "\t\t\terr = expr.Check(vars)\n",
    "\t\t\tif err == nil {\n",
    "\t\t\t\tt.Errorf(\"unexpected success: %s\", test.expr)\n",
    "\t\t\t\tcontinue\n",
    "\t\t\t}\n",
    "\t\t}\n",
    "\t\tfmt.Printf(\"%-20s%v\\n\", test.expr, err) // (for book)\n",
    "\t\tif err.Error() != test.wantErr {\n",
    "\t\t\tt.Errorf(\"got error %s, want %s\", err, test.wantErr)\n",
    "\t\t}\n",
    "\t}\n",
    "}\n",
    "\n",
    "/*\n",
    "//!+errors\n",
    "x % 2               unexpected '%'\n",
    "math.Pi             unexpected '.'\n",
    "!true               unexpected '!'\n",
    "\"hello\"             unexpected '\"'\n",
    "\n",
    "log(10)             unknown function \"log\"\n",
    "sqrt(1, 2)          call to sqrt has 2 args, want 1\n",
    "//!-errors\n",
    "*/"
   ]
  },
  {
   "cell_type": "markdown",
   "metadata": {
    "slideshow": {
     "slide_type": "fragment"
    }
   },
   "source": [
    "go test -v gopl.io/ch7/eval"
   ]
  },
  {
   "cell_type": "code",
   "execution_count": 55,
   "metadata": {
    "slideshow": {
     "slide_type": "subslide"
    }
   },
   "outputs": [
    {
     "ename": "ERROR",
     "evalue": "repl.go:18:7: undefined identifier: literal",
     "output_type": "error",
     "traceback": [
      "repl.go:18:7: undefined identifier: literal"
     ]
    }
   ],
   "source": [
    "// Copyright © 2016 Alan A. A. Donovan & Brian W. Kernighan.\n",
    "// License: https://creativecommons.org/licenses/by-nc-sa/4.0/\n",
    "\n",
    "//package eval\n",
    "\n",
    "import (\n",
    "\t\"fmt\"\n",
    "\t\"strings\"\n",
    ")\n",
    "\n",
    "//!+Check\n",
    "\n",
    "func (v Var) Check(vars map[Var]bool) error {\n",
    "\tvars[v] = true\n",
    "\treturn nil\n",
    "}\n",
    "\n",
    "func (literal) Check(vars map[Var]bool) error {\n",
    "\treturn nil\n",
    "}\n",
    "\n",
    "func (u unary) Check(vars map[Var]bool) error {\n",
    "\tif !strings.ContainsRune(\"+-\", u.op) {\n",
    "\t\treturn fmt.Errorf(\"unexpected unary op %q\", u.op)\n",
    "\t}\n",
    "\treturn u.x.Check(vars)\n",
    "}\n",
    "\n",
    "func (b binary) Check(vars map[Var]bool) error {\n",
    "\tif !strings.ContainsRune(\"+-*/\", b.op) {\n",
    "\t\treturn fmt.Errorf(\"unexpected binary op %q\", b.op)\n",
    "\t}\n",
    "\tif err := b.x.Check(vars); err != nil {\n",
    "\t\treturn err\n",
    "\t}\n",
    "\treturn b.y.Check(vars)\n",
    "}\n",
    "\n",
    "func (c call) Check(vars map[Var]bool) error {\n",
    "\tarity, ok := numParams[c.fn]\n",
    "\tif !ok {\n",
    "\t\treturn fmt.Errorf(\"unknown function %q\", c.fn)\n",
    "\t}\n",
    "\tif len(c.args) != arity {\n",
    "\t\treturn fmt.Errorf(\"call to %s has %d args, want %d\",\n",
    "\t\t\tc.fn, len(c.args), arity)\n",
    "\t}\n",
    "\tfor _, arg := range c.args {\n",
    "\t\tif err := arg.Check(vars); err != nil {\n",
    "\t\t\treturn err\n",
    "\t\t}\n",
    "\t}\n",
    "\treturn nil\n",
    "}\n",
    "\n",
    "var numParams = map[string]int{\"pow\": 2, \"sin\": 1, \"sqrt\": 1}\n",
    "\n",
    "//!-Check"
   ]
  },
  {
   "cell_type": "code",
   "execution_count": 23,
   "metadata": {
    "code_folding": [],
    "slideshow": {
     "slide_type": "subslide"
    }
   },
   "outputs": [],
   "source": [
    "// Copyright © 2016 Alan A. A. Donovan & Brian W. Kernighan.\n",
    "// License: https://creativecommons.org/licenses/by-nc-sa/4.0/\n",
    "\n",
    "// See page 203.\n",
    "\n",
    "// The surface program plots the 3-D surface of a user-provided function.\n",
    "//package main\n",
    "\n",
    "import (\n",
    "\t\"fmt\"\n",
    "\t\"io\"\n",
    "\t\"log\"\n",
    "\t\"math\"\n",
    "\t\"net/http\"\n",
    ")\n",
    "\n",
    "//!+parseAndCheck\n",
    "import \"gopl.io/ch7/eval\"\n",
    "\n",
    "//!-parseAndCheck\n",
    "\n",
    "// -- copied from gopl.io/ch3/surface --\n",
    "\n",
    "const (\n",
    "\twidth, height = 600, 320            // canvas size in pixels\n",
    "\tcells         = 100                 // number of grid cells\n",
    "\txyrange       = 30.0                // x, y axis range (-xyrange..+xyrange)\n",
    "\txyscale       = width / 2 / xyrange // pixels per x or y unit\n",
    "\tzscale        = height * 0.4        // pixels per z unit\n",
    ")\n",
    "\n",
    "var sin30, cos30 = 0.5, math.Sqrt(3.0 / 4.0) // sin(30°), cos(30°)\n",
    "\n",
    "func corner(f func(x, y float64) float64, i, j int) (float64, float64) {\n",
    "\t// find point (x,y) at corner of cell (i,j)\n",
    "\tx := xyrange * (float64(i)/cells - 0.5)\n",
    "\ty := xyrange * (float64(j)/cells - 0.5)\n",
    "\n",
    "\tz := f(x, y) // compute surface height z\n",
    "\n",
    "\t// project (x,y,z) isometrically onto 2-D SVG canvas (sx,sy)\n",
    "\tsx := width/2 + (x-y)*cos30*xyscale\n",
    "\tsy := height/2 + (x+y)*sin30*xyscale - z*zscale\n",
    "\treturn sx, sy\n",
    "}\n",
    "\n",
    "func surface(w io.Writer, f func(x, y float64) float64) {\n",
    "\tfmt.Fprintf(w, \"<svg xmlns='http://www.w3.org/2000/svg' \"+\n",
    "\t\t\"style='stroke: grey; fill: white; stroke-width: 0.7' \"+\n",
    "\t\t\"width='%d' height='%d'>\", width, height)\n",
    "\tfor i := 0; i < cells; i++ {\n",
    "\t\tfor j := 0; j < cells; j++ {\n",
    "\t\t\tax, ay := corner(f, i+1, j)\n",
    "\t\t\tbx, by := corner(f, i, j)\n",
    "\t\t\tcx, cy := corner(f, i, j+1)\n",
    "\t\t\tdx, dy := corner(f, i+1, j+1)\n",
    "\t\t\tfmt.Fprintf(w, \"<polygon points='%g,%g %g,%g %g,%g %g,%g'/>\\n\",\n",
    "\t\t\t\tax, ay, bx, by, cx, cy, dx, dy)\n",
    "\t\t}\n",
    "\t}\n",
    "\tfmt.Fprintln(w, \"</svg>\")\n",
    "}\n",
    "\n",
    "// -- main code for gopl.io/ch7/surface --\n",
    "\n",
    "//!+parseAndCheck\n",
    "func parseAndCheck(s string) (eval.Expr, error) {\n",
    "\tif s == \"\" {\n",
    "\t\treturn nil, fmt.Errorf(\"empty expression\")\n",
    "\t}\n",
    "\texpr, err := eval.Parse(s)\n",
    "\tif err != nil {\n",
    "\t\treturn nil, err\n",
    "\t}\n",
    "\tvars := make(map[eval.Var]bool)\n",
    "\tif err := expr.Check(vars); err != nil {\n",
    "\t\treturn nil, err\n",
    "\t}\n",
    "\tfor v := range vars {\n",
    "\t\tif v != \"x\" && v != \"y\" && v != \"r\" {\n",
    "\t\t\treturn nil, fmt.Errorf(\"undefined variable: %s\", v)\n",
    "\t\t}\n",
    "\t}\n",
    "\treturn expr, nil\n",
    "}\n",
    "\n",
    "//!-parseAndCheck\n",
    "\n"
   ]
  },
  {
   "cell_type": "code",
   "execution_count": 26,
   "metadata": {
    "collapsed": true,
    "slideshow": {
     "slide_type": "subslide"
    }
   },
   "outputs": [
    {
     "ename": "ERROR",
     "evalue": "reflect.Value.Convert: value of type reflect.Value cannot be converted to type eval.Var",
     "output_type": "error",
     "traceback": [
      "reflect.Value.Convert: value of type reflect.Value cannot be converted to type eval.Var"
     ]
    }
   ],
   "source": [
    "//!+plot\n",
    "func plot(w http.ResponseWriter, r *http.Request) {\n",
    "\tr.ParseForm()\n",
    "\texpr, err := parseAndCheck(r.Form.Get(\"expr\"))\n",
    "\tif err != nil {\n",
    "\t\thttp.Error(w, \"bad expr: \"+err.Error(), http.StatusBadRequest)\n",
    "\t\treturn\n",
    "\t}\n",
    "\tw.Header().Set(\"Content-Type\", \"image/svg+xml\")\n",
    "\tsurface(w, func(x, y float64) float64 {\n",
    "\t\tr := math.Hypot(x, y) // distance from (0,0)\n",
    "\t\treturn expr.Eval(eval.Env{\"x\": x, \"y\": y, \"r\": r})\n",
    "\t})\n",
    "}\n",
    "\n",
    "\n",
    "//!-main"
   ]
  },
  {
   "cell_type": "code",
   "execution_count": null,
   "metadata": {
    "slideshow": {
     "slide_type": "subslide"
    }
   },
   "outputs": [],
   "source": [
    "//!-plot\n",
    "\n",
    "//!+main\n",
    "func main() {\n",
    "\thttp.HandleFunc(\"/plot\", plot)\n",
    "\tlog.Fatal(http.ListenAndServe(\"localhost:8000\", nil))\n",
    "}\n"
   ]
  },
  {
   "cell_type": "markdown",
   "metadata": {
    "slideshow": {
     "slide_type": "fragment"
    }
   },
   "source": [
    "* The surfaces of three functions: (1): sin(-x) * pow(1.5, -r); (2) pow(2, sin(y))* pow(2,sin(x))/12; (3) sin(x*y/10)/10.\n",
    "\n",
    "1. [localhost:8000/plot?expr=sin(-x)*pow(1.5,-r)](http://localhost:8000/plot?expr=sin(-x)*pow(1.5,-r))\n",
    "2. [localhost:8000/plot?expr=pow(2,sin(y))*pow(2,sin(x))/12](http://localhost:8000/plot?expr=pow(2,sin(y))*pow(2,sin(x))/12)\n",
    "3. [localhost:8000/plot?expr=sin(x*y/10)/10](http://localhost:8000/plot?expr=sin(x*y/10)/10)\n"
   ]
  },
  {
   "cell_type": "markdown",
   "metadata": {
    "slideshow": {
     "slide_type": "slide"
    }
   },
   "source": [
    "## Type Assertions"
   ]
  },
  {
   "cell_type": "code",
   "execution_count": 58,
   "metadata": {
    "slideshow": {
     "slide_type": "subslide"
    }
   },
   "outputs": [],
   "source": [
    "import (\"os\";\"bytes\";\"io\")\n",
    "var w io.Writer\n",
    "w = os.Stdout\n",
    "f := w.(*os.File)"
   ]
  },
  {
   "cell_type": "code",
   "execution_count": 59,
   "metadata": {
    "slideshow": {
     "slide_type": "fragment"
    }
   },
   "outputs": [
    {
     "ename": "ERROR",
     "evalue": "interface conversion: <io.Writer> is <*os.File>, not <*bytes.Buffer>",
     "output_type": "error",
     "traceback": [
      "interface conversion: <io.Writer> is <*os.File>, not <*bytes.Buffer>"
     ]
    }
   ],
   "source": [
    "c := w.(*bytes.Buffer)"
   ]
  },
  {
   "cell_type": "code",
   "execution_count": 61,
   "metadata": {
    "slideshow": {
     "slide_type": "fragment"
    }
   },
   "outputs": [],
   "source": [
    "var w io.Writer\n",
    "w = os.Stdout\n",
    "rw := w.(io.ReadWriter)   // success: *os.File has both Read and Write"
   ]
  },
  {
   "cell_type": "code",
   "execution_count": 62,
   "metadata": {},
   "outputs": [
    {
     "ename": "ERROR",
     "evalue": "repl.go:3:1: error compiling assignment: w = new(ByteCounter)\n\trepl.go:3:1: cannot convert type <*main.ByteCounter> to interface <io.Writer>: missing method  Write",
     "output_type": "error",
     "traceback": [
      "repl.go:3:1: error compiling assignment: w = new(ByteCounter)\n\trepl.go:3:1: cannot convert type <*main.ByteCounter> to interface <io.Writer>: missing method  Write"
     ]
    }
   ],
   "source": [
    "type ByteCounter int\n",
    "func (c *ByteCounter) Write(p []byte)(int, error) { return len(p),nil}\n",
    "w = new (ByteCounter)\n",
    "rw = w.(io.ReadWriter)    //  panic: *ByteCounter has no Read method"
   ]
  },
  {
   "cell_type": "markdown",
   "metadata": {
    "slideshow": {
     "slide_type": "slide"
    }
   },
   "source": [
    "## Discriminating Errors with Type Assertions"
   ]
  },
  {
   "cell_type": "code",
   "execution_count": 63,
   "metadata": {},
   "outputs": [],
   "source": [
    "func IsExist(err error) bool\n",
    "func IsNotExist(err error) bool\n",
    "func isPermission(err error) bool"
   ]
  },
  {
   "cell_type": "code",
   "execution_count": 64,
   "metadata": {},
   "outputs": [],
   "source": [
    "func isNotExist(err error) bool {\n",
    "    // not robust\n",
    "    return strings.Contains(err.Error(), \"file does not exist\")\n",
    "}"
   ]
  },
  {
   "cell_type": "code",
   "execution_count": 65,
   "metadata": {
    "slideshow": {
     "slide_type": "subslide"
    }
   },
   "outputs": [
    {
     "name": "stdout",
     "output_type": "stream",
     "text": [
      "open /no/such/file: no such file or directory\n",
      "&os.PathError{Op:\"open\", Path:\"/no/such/file\", Err:0x2}\n"
     ]
    },
    {
     "data": {
      "text/plain": [
       "56 <nil>"
      ]
     },
     "execution_count": 65,
     "metadata": {},
     "output_type": "execute_result"
    }
   ],
   "source": [
    "import (\"os\";\"fmt\")\n",
    "_,err := os.Open(\"/no/such/file\")\n",
    "fmt.Println(err)\n",
    "fmt.Printf(\"%#v\\n\",err)"
   ]
  },
  {
   "cell_type": "code",
   "execution_count": 66,
   "metadata": {
    "slideshow": {
     "slide_type": "subslide"
    }
   },
   "outputs": [],
   "source": [
    "type PathError struct {\n",
    "    Op string\n",
    "    Path string\n",
    "    Err error\n",
    "}\n",
    "func (e *PathError) Error() string {\n",
    "    return e.Op + \" \" + e.Path + \": \" + e.Err.Error()\n",
    "}"
   ]
  },
  {
   "cell_type": "code",
   "execution_count": 67,
   "metadata": {
    "slideshow": {
     "slide_type": "subslide"
    }
   },
   "outputs": [],
   "source": [
    "import (\"errors\";\"syscall\")\n",
    "var ErrNotExist = errors.New(\"file does not exist\")\n",
    "func IsNotExist(err error) bool {\n",
    "    if pe, ok := err.(*PathError); ok {\n",
    "        err = pe.Err\n",
    "    }\n",
    "    return err == syscall.ENOENT || err == ErrNotExist\n",
    "}"
   ]
  },
  {
   "cell_type": "code",
   "execution_count": 68,
   "metadata": {
    "slideshow": {
     "slide_type": "fragment"
    }
   },
   "outputs": [
    {
     "name": "stdout",
     "output_type": "stream",
     "text": [
      "true\n"
     ]
    },
    {
     "data": {
      "text/plain": [
       "5 <nil>"
      ]
     },
     "execution_count": 68,
     "metadata": {},
     "output_type": "execute_result"
    }
   ],
   "source": [
    "_, err := os.Open(\"/no/such/file\")\n",
    "fmt.Println(os.IsNotExist(err)) // \"true\""
   ]
  },
  {
   "cell_type": "markdown",
   "metadata": {
    "slideshow": {
     "slide_type": "slide"
    }
   },
   "source": [
    "## Querying Behaviors with Interface Type Assertions"
   ]
  },
  {
   "cell_type": "code",
   "execution_count": 69,
   "metadata": {
    "slideshow": {
     "slide_type": "subslide"
    }
   },
   "outputs": [
    {
     "ename": "ERROR",
     "evalue": "repl.go:3:17: not a package: \"w\" in w.write <*ast.SelectorExpr>",
     "output_type": "error",
     "traceback": [
      "repl.go:3:17: not a package: \"w\" in w.write <*ast.SelectorExpr>"
     ]
    }
   ],
   "source": [
    "//need to convert the value to []byte with a copy and thrown away\n",
    "func writeHeader(w io.Writer, contentType string) error {\n",
    "    if _,err := w.write([]byte(\"Content-Tpe: \")); err != nil {\n",
    "        return err\n",
    "    }\n",
    "    if _,err := w.write([]byte(contentType)); err != nil {\n",
    "        return err\n",
    "    }\n",
    "    // ...\n",
    "}"
   ]
  },
  {
   "cell_type": "code",
   "execution_count": 72,
   "metadata": {
    "slideshow": {
     "slide_type": "subslide"
    }
   },
   "outputs": [],
   "source": [
    "// writeString writes s to w\n",
    "// if w has a WriteStrring method, it is invoked instead of w.Write\n",
    "func writeString(w io.Writer, s string) (n int, err error) {\n",
    "    type stringWriter interface {\n",
    "        WriteString(string) (n int, err error)\n",
    "    }\n",
    "    if sw, ok := w.(stringWriter); ok {\n",
    "        return sw.WriteString(s) // avoid a copy\n",
    "    }\n",
    "    return w.Write([]byte(s)) //allocate temporary copy\n",
    "}\n",
    "func writeHeader(w io.Writer, contentType string)  error {\n",
    "    if _,err := writeString(w, \"Content-Tpe: \"); err != nil {\n",
    "        return err\n",
    "    }\n",
    "    if _,err := writeString(w, contentType); err != nil {\n",
    "        return err\n",
    "    }\n",
    "    // ...\n",
    "}"
   ]
  },
  {
   "cell_type": "code",
   "execution_count": 52,
   "metadata": {
    "slideshow": {
     "slide_type": "subslide"
    }
   },
   "outputs": [],
   "source": [
    "var x interface {\n",
    "    io.Writer\n",
    "    WriteString(s string) (n int, err error)\n",
    "}"
   ]
  },
  {
   "cell_type": "code",
   "execution_count": 73,
   "metadata": {
    "slideshow": {
     "slide_type": "subslide"
    }
   },
   "outputs": [
    {
     "ename": "ERROR",
     "evalue": "repl.go:5:22: undefined identifier: Stringer",
     "output_type": "error",
     "traceback": [
      "repl.go:5:22: undefined identifier: Stringer"
     ]
    }
   ],
   "source": [
    "func formtOneValue(x interface{}) string {\n",
    "    if err , ok := x.(error); ok {\n",
    "        return err.Error()\n",
    "    }\n",
    "    if str, ok := x.(Stringer); ok {\n",
    "        return str.String()\n",
    "    }\n",
    "    // ... all other types\n",
    "}"
   ]
  },
  {
   "cell_type": "markdown",
   "metadata": {
    "slideshow": {
     "slide_type": "slide"
    }
   },
   "source": [
    "## Type Switches"
   ]
  },
  {
   "cell_type": "code",
   "execution_count": 74,
   "metadata": {
    "slideshow": {
     "slide_type": "slide"
    }
   },
   "outputs": [],
   "source": [
    "import \"database/sql\"\n",
    "func listTracks(db sql.DB, artist string, minYear, maxYear int){\n",
    "    result, err := db.Exec(\n",
    "        \"SELECT * FROM tracks WHERE artist = ? AND ? <= year AND year <= ?\",\n",
    "        artist, minYear, maxYear)\n",
    "         //...\n",
    "}"
   ]
  },
  {
   "cell_type": "code",
   "execution_count": 35,
   "metadata": {
    "slideshow": {
     "slide_type": "subslide"
    }
   },
   "outputs": [
    {
     "ename": "ERROR",
     "evalue": "repl.go:14:16: undefined identifier: sqlQuoteString",
     "output_type": "error",
     "traceback": [
      "repl.go:14:16: undefined identifier: sqlQuoteString"
     ]
    }
   ],
   "source": [
    "func sqlQuote(x interface{}) string {\n",
    "    if x == nil {\n",
    "        return \"NULL\"\n",
    "    } else if _, ok := x.(int); ok {\n",
    "        return fmt.Sprintf(\"%d\",x)\n",
    "    } else if _, ok := x.(uint); ok {\n",
    "        return fmt.Sprintf(\"%d\",x)\n",
    "    } else if b, ok := x.(bool); ok {\n",
    "        if b {\n",
    "            return \"TRUE\"\n",
    "        }\n",
    "        return \"FALSE\"\n",
    "    } else if s, ok := x.(string); ok{\n",
    "        return sqlQuoteString(s) // (not shown)\n",
    "    } else {\n",
    "        panic(fmt.Sprintf(\"unexpected type %T: %v\", x,x))\n",
    "    }\n",
    "}"
   ]
  },
  {
   "cell_type": "code",
   "execution_count": 41,
   "metadata": {
    "slideshow": {
     "slide_type": "subslide"
    }
   },
   "outputs": [],
   "source": [
    "// Using type switch\n",
    "\n",
    "switch x.(type) {\n",
    "    case nil:\n",
    "    case int, uint: // ...\n",
    "    case bool:      // ...\n",
    "    case string:    // ...\n",
    "    default:        // ...\n",
    "}"
   ]
  },
  {
   "cell_type": "code",
   "execution_count": 75,
   "metadata": {
    "slideshow": {
     "slide_type": "subslide"
    }
   },
   "outputs": [
    {
     "ename": "ERROR",
     "evalue": "reflect: call of reflect.Value.Field on zero Value",
     "output_type": "error",
     "traceback": [
      "reflect: call of reflect.Value.Field on zero Value"
     ]
    }
   ],
   "source": [
    "// type switch statement has an extended form that binds the extracted value to a new variable within each case\n",
    "switch x := x.(type) { /* ... */}"
   ]
  },
  {
   "cell_type": "code",
   "execution_count": 40,
   "metadata": {},
   "outputs": [
    {
     "ename": "ERROR",
     "evalue": "repl.go:14:16: undefined identifier: sqlQuoteString",
     "output_type": "error",
     "traceback": [
      "repl.go:14:16: undefined identifier: sqlQuoteString"
     ]
    }
   ],
   "source": [
    "//Rewrting sqlQuote to ue the exteended form of type switch \n",
    "func sqlQuote(x interface{}) string {\n",
    "    switch x := x.(type) {\n",
    "    case nil :\n",
    "        return \"NULL\"\n",
    "    case int, uint:\n",
    "        return fmt.Sprintf(\"%d\",x)\n",
    "    case bool:\n",
    "        if x {\n",
    "            return \"TRUE\"\n",
    "        }\n",
    "        return \"FALSE\"\n",
    "    case string:\n",
    "        return sqlQuoteString(s) // (not shown)\n",
    "        default:\n",
    "        panic(fmt.Sprintf(\"unexpected type %T: %v\", x,x))\n",
    "    }\n",
    "}"
   ]
  },
  {
   "cell_type": "markdown",
   "metadata": {
    "slideshow": {
     "slide_type": "slide"
    }
   },
   "source": [
    "## Example: Token-Based XML Decoding"
   ]
  },
  {
   "cell_type": "code",
   "execution_count": 30,
   "metadata": {
    "slideshow": {
     "slide_type": "subslide"
    }
   },
   "outputs": [],
   "source": [
    "// Copyright © 2016 Alan A. A. Donovan & Brian W. Kernighan.\n",
    "// License: https://creativecommons.org/licenses/by-nc-sa/4.0/\n",
    "\n",
    "// See page 214.\n",
    "//!+\n",
    "\n",
    "// Xmlselect prints the text of selected elements of an XML document.\n",
    "//package main\n",
    "\n",
    "import (\n",
    "\t\"encoding/xml\"\n",
    "\t\"fmt\"\n",
    "\t\"io\"\n",
    "\t\"os\"\n",
    "\t\"strings\"\n",
    ")\n",
    "\n",
    "func main() {\n",
    "\tdec := xml.NewDecoder(os.Stdin)\n",
    "\tvar stack []string // stack of element names\n",
    "\tfor {\n",
    "\t\ttok, err := dec.Token()\n",
    "\t\tif err == io.EOF {\n",
    "\t\t\tbreak\n",
    "\t\t} else if err != nil {\n",
    "\t\t\tfmt.Fprintf(os.Stderr, \"xmlselect: %v\\n\", err)\n",
    "\t\t\tos.Exit(1)\n",
    "\t\t}\n",
    "\t\tswitch tok := tok.(type) {\n",
    "\t\tcase xml.StartElement:\n",
    "\t\t\tstack = append(stack, tok.Name.Local) // push\n",
    "\t\tcase xml.EndElement:\n",
    "\t\t\tstack = stack[:len(stack)-1] // pop\n",
    "\t\tcase xml.CharData:\n",
    "\t\t\tif containsAll(stack, os.Args[1:]) {\n",
    "\t\t\t\tfmt.Printf(\"%s: %s\\n\", strings.Join(stack, \" \"), tok)\n",
    "\t\t\t}\n",
    "\t\t}\n",
    "\t}\n",
    "}\n",
    "\n",
    "// containsAll reports whether x contains the elements of y, in order.\n",
    "func containsAll(x, y []string) bool {\n",
    "\tfor len(y) <= len(x) {\n",
    "\t\tif len(y) == 0 {\n",
    "\t\t\treturn true\n",
    "\t\t}\n",
    "\t\tif x[0] == y[0] {\n",
    "\t\t\ty = y[1:]\n",
    "\t\t}\n",
    "\t\tx = x[1:]\n",
    "\t}\n",
    "\treturn false\n",
    "}\n",
    "\n",
    "//!-"
   ]
  },
  {
   "cell_type": "markdown",
   "metadata": {
    "slideshow": {
     "slide_type": "subslide"
    }
   },
   "source": [
    "<code>\n",
    "go build gopl.io/ch1/fetch\n",
    "go build gopl.io/ch7/xmlselect\n",
    "./fetch http://www.w3.org/TR/2006/RE-xml11-20060816|./xmlselect div div h2\n",
    "html body div div div h2: Site Navigation\n",
    "html body div div h2: Footer Navigation\n",
    "</code>"
   ]
  }
 ],
 "metadata": {
  "celltoolbar": "Slideshow",
  "kernelspec": {
   "display_name": "Go",
   "language": "go",
   "name": "gophernotes"
  },
  "language_info": {
   "codemirror_mode": "",
   "file_extension": ".go",
   "mimetype": "",
   "name": "go",
   "nbconvert_exporter": "",
   "pygments_lexer": "",
   "version": "go1.17.1"
  },
  "latex_envs": {
   "LaTeX_envs_menu_present": true,
   "autoclose": false,
   "autocomplete": true,
   "bibliofile": "biblio.bib",
   "cite_by": "apalike",
   "current_citInitial": 1,
   "eqLabelWithNumbers": true,
   "eqNumInitial": 1,
   "hotkeys": {
    "equation": "Ctrl-E",
    "itemize": "Ctrl-I"
   },
   "labels_anchors": false,
   "latex_user_defs": false,
   "report_style_numbering": false,
   "user_envs_cfg": false
  },
  "rise": {
   "enable_chalkboard": true,
   "scroll": true
  },
  "toc": {
   "base_numbering": "7",
   "nav_menu": {},
   "number_sections": true,
   "sideBar": true,
   "skip_h1_title": false,
   "title_cell": "Table of Contents",
   "title_sidebar": "Contents",
   "toc_cell": true,
   "toc_position": {},
   "toc_section_display": true,
   "toc_window_display": false
  }
 },
 "nbformat": 4,
 "nbformat_minor": 2
}
