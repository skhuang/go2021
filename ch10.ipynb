{
 "cells": [
  {
   "cell_type": "markdown",
   "metadata": {
    "toc": true
   },
   "source": [
    "<h1>Table of Contents<span class=\"tocSkip\"></span></h1>\n",
    "<div class=\"toc\"><ul class=\"toc-item\"><li><span><a href=\"#Packages-and-the-Go-Tool\" data-toc-modified-id=\"Packages-and-the-Go-Tool-10\"><span class=\"toc-item-num\">10&nbsp;&nbsp;</span>Packages and the Go Tool</a></span><ul class=\"toc-item\"><li><span><a href=\"#Introduction\" data-toc-modified-id=\"Introduction-10.1\"><span class=\"toc-item-num\">10.1&nbsp;&nbsp;</span>Introduction</a></span></li><li><span><a href=\"#Import-Paths\" data-toc-modified-id=\"Import-Paths-10.2\"><span class=\"toc-item-num\">10.2&nbsp;&nbsp;</span>Import Paths</a></span></li><li><span><a href=\"#The-Package-Declaration\" data-toc-modified-id=\"The-Package-Declaration-10.3\"><span class=\"toc-item-num\">10.3&nbsp;&nbsp;</span>The Package Declaration</a></span></li><li><span><a href=\"#Import-Declaration\" data-toc-modified-id=\"Import-Declaration-10.4\"><span class=\"toc-item-num\">10.4&nbsp;&nbsp;</span>Import Declaration</a></span></li><li><span><a href=\"#Blank-Imports\" data-toc-modified-id=\"Blank-Imports-10.5\"><span class=\"toc-item-num\">10.5&nbsp;&nbsp;</span>Blank Imports</a></span></li><li><span><a href=\"#Packages-and-Naming\" data-toc-modified-id=\"Packages-and-Naming-10.6\"><span class=\"toc-item-num\">10.6&nbsp;&nbsp;</span>Packages and Naming</a></span></li><li><span><a href=\"#The-Go-Tool\" data-toc-modified-id=\"The-Go-Tool-10.7\"><span class=\"toc-item-num\">10.7&nbsp;&nbsp;</span>The Go Tool</a></span><ul class=\"toc-item\"><li><span><a href=\"#Workspace-Organization\" data-toc-modified-id=\"Workspace-Organization-10.7.1\"><span class=\"toc-item-num\">10.7.1&nbsp;&nbsp;</span>Workspace Organization</a></span></li><li><span><a href=\"#Downloading-Packages\" data-toc-modified-id=\"Downloading-Packages-10.7.2\"><span class=\"toc-item-num\">10.7.2&nbsp;&nbsp;</span>Downloading Packages</a></span></li><li><span><a href=\"#Building-Packages\" data-toc-modified-id=\"Building-Packages-10.7.3\"><span class=\"toc-item-num\">10.7.3&nbsp;&nbsp;</span>Building Packages</a></span></li></ul></li></ul></li></ul></div>"
   ]
  },
  {
   "cell_type": "markdown",
   "metadata": {
    "slideshow": {
     "slide_type": "slide"
    }
   },
   "source": [
    "# Packages and the Go Tool"
   ]
  },
  {
   "cell_type": "markdown",
   "metadata": {
    "slideshow": {
     "slide_type": "slide"
    }
   },
   "source": [
    "## Introduction\n",
    "* Make the Design and Maintenance of large Programs practical\n",
    "* Each Package Defines a distinct name space that encloses its identifiers"
   ]
  },
  {
   "cell_type": "markdown",
   "metadata": {
    "slideshow": {
     "slide_type": "slide"
    }
   },
   "source": [
    "## Import Paths\n",
    "* "
   ]
  },
  {
   "cell_type": "code",
   "execution_count": 1,
   "metadata": {
    "slideshow": {
     "slide_type": "subslide"
    }
   },
   "outputs": [],
   "source": [
    "import (\n",
    "    \"fmt\"\n",
    "    \"math/rand\"\n",
    "    \"encoding/json\"\n",
    "    \"golang.org/x/net/html\"\n",
    "    \"github.com/go-sql-driver/mysql\"\n",
    ")"
   ]
  },
  {
   "cell_type": "markdown",
   "metadata": {
    "slideshow": {
     "slide_type": "slide"
    }
   },
   "source": [
    "## The Package Declaration"
   ]
  },
  {
   "cell_type": "markdown",
   "metadata": {
    "slideshow": {
     "slide_type": "slide"
    }
   },
   "source": [
    "## Import Declaration"
   ]
  },
  {
   "cell_type": "code",
   "execution_count": 2,
   "metadata": {
    "slideshow": {
     "slide_type": "subslide"
    }
   },
   "outputs": [],
   "source": [
    "import \"fmt\"\n",
    "import \"os\"\n",
    "import (\n",
    "    \"fmt\"\n",
    "    \"os\"\n",
    ")"
   ]
  },
  {
   "cell_type": "code",
   "execution_count": 3,
   "metadata": {
    "slideshow": {
     "slide_type": "subslide"
    }
   },
   "outputs": [],
   "source": [
    "import (\n",
    "    \"crypto/rand\"\n",
    "    mrand \"math/rand\"   // alternate name mrand avoids conflict\n",
    ")"
   ]
  },
  {
   "cell_type": "markdown",
   "metadata": {
    "slideshow": {
     "slide_type": "slide"
    }
   },
   "source": [
    "## Blank Imports"
   ]
  },
  {
   "cell_type": "code",
   "execution_count": 4,
   "metadata": {
    "slideshow": {
     "slide_type": "subslide"
    }
   },
   "outputs": [],
   "source": [
    "import _ \"image/png\"  // register PNG decoder"
   ]
  },
  {
   "cell_type": "code",
   "execution_count": 5,
   "metadata": {
    "slideshow": {
     "slide_type": "subslide"
    }
   },
   "outputs": [],
   "source": [
    "//gopl.io/ch10/jpg\n",
    "//package main\n",
    "import (\n",
    "    \"fmt\"\n",
    "    \"image\"\n",
    "    \"image/jpeg\"\n",
    "    _ \"image/png\" // register PNG decoder\n",
    "    \"io\"\n",
    "    \"os\"\n",
    ")"
   ]
  },
  {
   "cell_type": "code",
   "execution_count": 6,
   "metadata": {
    "slideshow": {
     "slide_type": "subslide"
    }
   },
   "outputs": [],
   "source": [
    "// Copyright © 2016 Alan A. A. Donovan & Brian W. Kernighan.\n",
    "// License: https://creativecommons.org/licenses/by-nc-sa/4.0/\n",
    "\n",
    "// See page 287.\n",
    "\n",
    "//!+main\n",
    "\n",
    "// The jpeg command reads a PNG image from the standard input\n",
    "// and writes it as a JPEG image to the standard output.\n",
    "//package main\n",
    "\n",
    "import (\n",
    "\t\"fmt\"\n",
    "\t\"image\"\n",
    "\t\"image/jpeg\"\n",
    "\t_ \"image/png\" // register PNG decoder\n",
    "\t\"io\"\n",
    "\t\"os\"\n",
    ")\n",
    "\n",
    "func main() {\n",
    "\tif err := toJPEG(os.Stdin, os.Stdout); err != nil {\n",
    "\t\tfmt.Fprintf(os.Stderr, \"jpeg: %v\\n\", err)\n",
    "\t\tos.Exit(1)\n",
    "\t}\n",
    "}\n",
    "\n",
    "func toJPEG(in io.Reader, out io.Writer) error {\n",
    "\timg, kind, err := image.Decode(in)\n",
    "\tif err != nil {\n",
    "\t\treturn err\n",
    "\t}\n",
    "\tfmt.Fprintln(os.Stderr, \"Input format =\", kind)\n",
    "\treturn jpeg.Encode(out, img, &jpeg.Options{Quality: 95})\n",
    "}\n",
    "\n",
    "//!-main\n",
    "\n",
    "/*\n",
    "//!+with\n",
    "$ go build gopl.io/ch3/mandelbrot\n",
    "$ go build gopl.io/ch10/jpeg\n",
    "$ ./mandelbrot | ./jpeg >mandelbrot.jpg\n",
    "Input format = png\n",
    "//!-with\n",
    "\n",
    "//!+without\n",
    "$ go build gopl.io/ch10/jpeg\n",
    "$ ./mandelbrot | ./jpeg >mandelbrot.jpg\n",
    "jpeg: image: unknown format\n",
    "//!-without\n",
    "*/"
   ]
  },
  {
   "cell_type": "markdown",
   "metadata": {
    "slideshow": {
     "slide_type": "subslide"
    }
   },
   "source": [
    "* database/ql package lets users install just the database drivers they need"
   ]
  },
  {
   "cell_type": "code",
   "execution_count": 7,
   "metadata": {
    "slideshow": {
     "slide_type": "subslide"
    }
   },
   "outputs": [],
   "source": [
    "import (\n",
    "    \"database/sql\"\n",
    "    _ \"github.com/lib/pq\"\n",
    "    _ \"github.com/go-sql-driver/mysql\"\n",
    ")"
   ]
  },
  {
   "cell_type": "code",
   "execution_count": 11,
   "metadata": {},
   "outputs": [],
   "source": [
    "dbname := \"mydb\"\n",
    "db, err := sql.Open(\"postgres\", dbname)\n",
    "db, err = sql.Open(\"mysql\", dbname)\n",
    "db, err = sql.Open(\"sqlite3\", dbname)"
   ]
  },
  {
   "cell_type": "markdown",
   "metadata": {
    "slideshow": {
     "slide_type": "slide"
    }
   },
   "source": [
    "## Packages and Naming"
   ]
  },
  {
   "cell_type": "markdown",
   "metadata": {
    "slideshow": {
     "slide_type": "slide"
    }
   },
   "source": [
    "## The Go Tool\n",
    "<code>\n",
    "    $go \n",
    "    ...\n",
    "    build       compile packages and dependencies\n",
    "    clean       remove object files\n",
    "    doc         show documentation for package or symbol\n",
    "    env         print Go environment information \n",
    "    fmt         run gofmt on package sources\n",
    "    get         download and install packages and dependencies\n",
    "    install     compile and install packages and dependencies\n",
    "    list        list packages\n",
    "    run         compile and run Go program\n",
    "    test        test packages\n",
    "    version     print Go version\n",
    "    vet         run go tool vet on packages\n",
    "  Use \"go help [command]\" for more information about a command.\n",
    "</code>"
   ]
  },
  {
   "cell_type": "markdown",
   "metadata": {
    "slideshow": {
     "slide_type": "subslide"
    }
   },
   "source": [
    "### Workspace Organization"
   ]
  },
  {
   "cell_type": "markdown",
   "metadata": {
    "slideshow": {
     "slide_type": "subslide"
    }
   },
   "source": [
    "### Downloading Packages"
   ]
  },
  {
   "cell_type": "markdown",
   "metadata": {
    "slideshow": {
     "slide_type": "subslide"
    }
   },
   "source": [
    "### Building Packages"
   ]
  },
  {
   "cell_type": "code",
   "execution_count": 8,
   "metadata": {
    "slideshow": {
     "slide_type": "subslide"
    }
   },
   "outputs": [
    {
     "name": "stdout",
     "output_type": "stream",
     "text": [
      "linux amd64\n"
     ]
    }
   ],
   "source": [
    "// Copyright © 2016 Alan A. A. Donovan & Brian W. Kernighan.\n",
    "// License: https://creativecommons.org/licenses/by-nc-sa/4.0/\n",
    "\n",
    "// See page 295.\n",
    "\n",
    "// The cross command prints the values of GOOS and GOARCH for this target.\n",
    "//package main\n",
    "\n",
    "import (\n",
    "\t\"fmt\"\n",
    "\t\"runtime\"\n",
    ")\n",
    "\n",
    "//!+\n",
    "func main() {\n",
    "\tfmt.Println(runtime.GOOS, runtime.GOARCH)\n",
    "}\n",
    "main()\n",
    "//!-"
   ]
  },
  {
   "cell_type": "markdown",
   "metadata": {},
   "source": []
  }
 ],
 "metadata": {
  "celltoolbar": "Slideshow",
  "kernelspec": {
   "display_name": "Go",
   "language": "go",
   "name": "gophernotes"
  },
  "language_info": {
   "codemirror_mode": "",
   "file_extension": ".go",
   "mimetype": "",
   "name": "go",
   "nbconvert_exporter": "",
   "pygments_lexer": "",
   "version": "go1.13"
  },
  "latex_envs": {
   "LaTeX_envs_menu_present": true,
   "autoclose": false,
   "autocomplete": true,
   "bibliofile": "biblio.bib",
   "cite_by": "apalike",
   "current_citInitial": 1,
   "eqLabelWithNumbers": true,
   "eqNumInitial": 1,
   "hotkeys": {
    "equation": "Ctrl-E",
    "itemize": "Ctrl-I"
   },
   "labels_anchors": false,
   "latex_user_defs": false,
   "report_style_numbering": false,
   "user_envs_cfg": false
  },
  "toc": {
   "base_numbering": "10",
   "nav_menu": {},
   "number_sections": true,
   "sideBar": true,
   "skip_h1_title": false,
   "title_cell": "Table of Contents",
   "title_sidebar": "Contents",
   "toc_cell": true,
   "toc_position": {},
   "toc_section_display": true,
   "toc_window_display": false
  }
 },
 "nbformat": 4,
 "nbformat_minor": 2
}
