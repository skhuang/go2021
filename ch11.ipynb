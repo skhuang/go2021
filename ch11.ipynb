{
 "cells": [
  {
   "cell_type": "markdown",
   "metadata": {
    "toc": true
   },
   "source": [
    "<h1>Table of Contents<span class=\"tocSkip\"></span></h1>\n",
    "<div class=\"toc\"><ul class=\"toc-item\"><li><span><a href=\"#Testing\" data-toc-modified-id=\"Testing-11\"><span class=\"toc-item-num\">11&nbsp;&nbsp;</span>Testing</a></span><ul class=\"toc-item\"><li><span><a href=\"#The-go-test-Tool\" data-toc-modified-id=\"The-go-test-Tool-11.1\"><span class=\"toc-item-num\">11.1&nbsp;&nbsp;</span>The go test Tool</a></span></li><li><span><a href=\"#Test-Functions\" data-toc-modified-id=\"Test-Functions-11.2\"><span class=\"toc-item-num\">11.2&nbsp;&nbsp;</span>Test Functions</a></span><ul class=\"toc-item\"><li><span><a href=\"#Randomized-Testing\" data-toc-modified-id=\"Randomized-Testing-11.2.1\"><span class=\"toc-item-num\">11.2.1&nbsp;&nbsp;</span>Randomized Testing</a></span></li><li><span><a href=\"#Testing-a-Command\" data-toc-modified-id=\"Testing-a-Command-11.2.2\"><span class=\"toc-item-num\">11.2.2&nbsp;&nbsp;</span>Testing a Command</a></span></li><li><span><a href=\"#White-Box-Testing\" data-toc-modified-id=\"White-Box-Testing-11.2.3\"><span class=\"toc-item-num\">11.2.3&nbsp;&nbsp;</span>White-Box Testing</a></span></li></ul></li><li><span><a href=\"#Coverage\" data-toc-modified-id=\"Coverage-11.3\"><span class=\"toc-item-num\">11.3&nbsp;&nbsp;</span>Coverage</a></span></li><li><span><a href=\"#Benchmark-Functions\" data-toc-modified-id=\"Benchmark-Functions-11.4\"><span class=\"toc-item-num\">11.4&nbsp;&nbsp;</span>Benchmark Functions</a></span></li><li><span><a href=\"#Profiling\" data-toc-modified-id=\"Profiling-11.5\"><span class=\"toc-item-num\">11.5&nbsp;&nbsp;</span>Profiling</a></span></li><li><span><a href=\"#Example-Functions\" data-toc-modified-id=\"Example-Functions-11.6\"><span class=\"toc-item-num\">11.6&nbsp;&nbsp;</span>Example Functions</a></span></li></ul></li></ul></div>"
   ]
  },
  {
   "cell_type": "markdown",
   "metadata": {},
   "source": [
    "# Testing"
   ]
  },
  {
   "cell_type": "markdown",
   "metadata": {},
   "source": [
    "## The go test Tool"
   ]
  },
  {
   "cell_type": "markdown",
   "metadata": {},
   "source": [
    "## Test Functions"
   ]
  },
  {
   "cell_type": "code",
   "execution_count": 1,
   "metadata": {},
   "outputs": [],
   "source": [
    "import \"unicode\"\n",
    "func IsPalindrome(s string) bool {\n",
    "\tvar letters []rune\n",
    "\tfor _, r := range s {\n",
    "\t\tif unicode.IsLetter(r) {\n",
    "\t\t\tletters = append(letters, unicode.ToLower(r))\n",
    "\t\t}\n",
    "\t}\n",
    "\tfor i := range letters {\n",
    "\t\tif letters[i] != letters[len(letters)-1-i] {\n",
    "\t\t\treturn false\n",
    "\t\t}\n",
    "\t}\n",
    "\treturn true\n",
    "}"
   ]
  },
  {
   "cell_type": "code",
   "execution_count": 34,
   "metadata": {},
   "outputs": [],
   "source": [
    "package word\n",
    "\n",
    "import \"testing\"\n",
    "\n",
    "func TestPalindrome(t *testing.T) {\n",
    "        if !IsPalindrome(\"detartrated\") {\n",
    "                t.Error(`IsPalindrome(\"detartrated\") = false`)\n",
    "        }\n",
    "        if !IsPalindrome(\"kayak\") {\n",
    "                t.Error(`IsPalindrome(\"kayak\") = false`)\n",
    "        }\n",
    "}\n",
    "\n",
    "func TestNonPalindrome(t *testing.T) {\n",
    "        if IsPalindrome(\"palindrome\") {\n",
    "                t.Error(`IsPalindrome(\"palindrome\") = true`)\n",
    "        }\n",
    "}"
   ]
  },
  {
   "cell_type": "markdown",
   "metadata": {},
   "source": [
    "<code>\n",
    "$ go test $GOPATH/src/gopl.io/ch11/word1\n",
    "</code>"
   ]
  },
  {
   "cell_type": "code",
   "execution_count": 39,
   "metadata": {},
   "outputs": [],
   "source": [
    "// IsPalindrome reports whether s reads the same forward and backward.\n",
    "// Letter case is ignored, as are non-letters.\n",
    "func IsPalindrome(s string) bool {\n",
    "        //var letters []rune\n",
    "        letters := make([]rune,0, len(s))\n",
    "        for _, r := range s {\n",
    "                if unicode.IsLetter(r) {\n",
    "                        letters = append(letters, unicode.ToLower(r))\n",
    "                }\n",
    "        }\n",
    "        //for i := range letters {\n",
    "        n := len(letters)/2\n",
    "        for i :=0; i<n; i++ {\n",
    "                if letters[i] != letters[len(letters)-1-i] {\n",
    "                        return false\n",
    "                }\n",
    "        }\n",
    "        return true\n",
    "}\n"
   ]
  },
  {
   "cell_type": "code",
   "execution_count": 41,
   "metadata": {},
   "outputs": [],
   "source": [
    "import (\n",
    "        \"fmt\"\n",
    "        \"math/rand\"\n",
    "        \"time\"\n",
    ")\n",
    "\n",
    "//!+bench\n",
    "\n",
    "import \"testing\"\n",
    "\n",
    "//!-bench\n",
    "\n",
    "//!+test\n",
    "func TestIsPalindrome(t *testing.T) {\n",
    "        var tests = []struct {\n",
    "                input string\n",
    "                want  bool\n",
    "        }{\n",
    "                {\"\", true},\n",
    "                {\"a\", true},\n",
    "                {\"aa\", true},\n",
    "                {\"ab\", false},\n",
    "                {\"kayak\", true},\n",
    "                   {\"detartrated\", true},\n",
    "                {\"A man, a plan, a canal: Panama\", true},\n",
    "                {\"Evil I did dwell; lewd did I live.\", true},\n",
    "                {\"Able was I ere I saw Elba\", true},\n",
    "                {\"été\", true},\n",
    "                {\"Et se resservir, ivresse reste.\", true},\n",
    "                {\"palindrome\", false}, // non-palindrome\n",
    "                {\"desserts\", false},   // semi-palindrome\n",
    "        }\n",
    "        for _, test := range tests {\n",
    "                if got := IsPalindrome(test.input); got != test.want {\n",
    "                        t.Errorf(\"IsPalindrome(%q) = %v\", test.input, got)\n",
    "                }\n",
    "        }\n",
    "}\n"
   ]
  },
  {
   "cell_type": "markdown",
   "metadata": {},
   "source": [
    "### Randomized Testing"
   ]
  },
  {
   "cell_type": "code",
   "execution_count": 42,
   "metadata": {},
   "outputs": [],
   "source": [
    "import \"math/rand\"\n",
    "func randomPalindrome(rng *rand.Rand) string {\n",
    "\tn := rng.Intn(25) // random length up to 24\n",
    "\trunes := make([]rune, n)\n",
    "\tfor i := 0; i < (n+1)/2; i++ {\n",
    "\t\tr := rune(rng.Intn(0x1000)) // random rune up to '\\u0999'\n",
    "\t\trunes[i] = r\n",
    "\t\trunes[n-1-i] = r\n",
    "\t}\n",
    "\treturn string(runes)\n",
    "}"
   ]
  },
  {
   "cell_type": "code",
   "execution_count": 43,
   "metadata": {},
   "outputs": [],
   "source": [
    "import \"testing\"\n",
    "import \"time\"\n",
    "func TestRandomPalindromes(t *testing.T) {\n",
    "\t// Initialize a pseudo-random number generator.\n",
    "\tseed := time.Now().UTC().UnixNano()\n",
    "\tt.Logf(\"Random seed: %d\", seed)\n",
    "\trng := rand.New(rand.NewSource(seed))\n",
    "\n",
    "\tfor i := 0; i < 1000; i++ {\n",
    "\t\tp := randomPalindrome(rng)\n",
    "\t\tif !IsPalindrome(p) {\n",
    "\t\t\tt.Errorf(\"IsPalindrome(%q) = false\", p)\n",
    "\t\t}\n",
    "\t}\n",
    "}"
   ]
  },
  {
   "cell_type": "markdown",
   "metadata": {},
   "source": [
    "### Testing a Command"
   ]
  },
  {
   "cell_type": "code",
   "execution_count": 44,
   "metadata": {
    "code_folding": []
   },
   "outputs": [],
   "source": [
    "//gopl.io/ch11/echo\n",
    "import (\n",
    "\t\"flag\"\n",
    "\t\"fmt\"\n",
    "\t\"io\"\n",
    "\t\"os\"\n",
    "\t\"strings\"\n",
    ")\n",
    "\n",
    "var (\n",
    "\tn = flag.Bool(\"n\", false, \"omit trailing newline\")\n",
    "\ts = flag.String(\"s\", \" \", \"separator\")\n",
    ")\n",
    "var out io.Writer = os.Stdout // modified during testing\n",
    "\n",
    "func main() {\n",
    "\tflag.Parse()\n",
    "\tif err := echo(!*n, *s, flag.Args()); err != nil {\n",
    "\t\tfmt.Fprintf(os.Stderr, \"echo: %v\\n\", err)\n",
    "\t\tos.Exit(1)\n",
    "\t}\n",
    "}\n",
    "\n",
    "func echo(newline bool, sep string, args []string) error {\n",
    "\tfmt.Fprint(out, strings.Join(args, sep))\n",
    "\tif newline {\n",
    "\t\tfmt.Fprintln(out)\n",
    "\t}\n",
    "\treturn nil\n",
    "}"
   ]
  },
  {
   "cell_type": "code",
   "execution_count": 45,
   "metadata": {
    "code_folding": [
     0
    ]
   },
   "outputs": [],
   "source": [
    "// Test of echo command.  Run with: go test gopl.io/ch11/echo\n",
    "\n",
    "//!+\n",
    "//package main\n",
    "\n",
    "import (\n",
    "\t\"bytes\"\n",
    "\t\"fmt\"\n",
    "\t\"testing\"\n",
    ")\n",
    "\n",
    "func TestEcho(t *testing.T) {\n",
    "\tvar tests = []struct {\n",
    "\t\tnewline bool\n",
    "\t\tsep     string\n",
    "\t\targs    []string\n",
    "\t\twant    string\n",
    "\t}{\n",
    "\t\t{true, \"\", []string{}, \"\\n\"},\n",
    "\t\t{false, \"\", []string{}, \"\"},\n",
    "\t\t{true, \"\\t\", []string{\"one\", \"two\", \"three\"}, \"one\\ttwo\\tthree\\n\"},\n",
    "\t\t{true, \",\", []string{\"a\", \"b\", \"c\"}, \"a,b,c\\n\"},\n",
    "\t\t{false, \":\", []string{\"1\", \"2\", \"3\"}, \"1:2:3\"},\n",
    "\t}\n",
    "\n",
    "\tfor _, test := range tests {\n",
    "\t\tdescr := fmt.Sprintf(\"echo(%v, %q, %q)\",\n",
    "\t\t\ttest.newline, test.sep, test.args)\n",
    "\n",
    "\t\tout = new(bytes.Buffer) // captured output\n",
    "\t\tif err := echo(test.newline, test.sep, test.args); err != nil {\n",
    "\t\t\tt.Errorf(\"%s failed: %v\", descr, err)\n",
    "\t\t\tcontinue\n",
    "\t\t}\n",
    "\t\tgot := out.(*bytes.Buffer).String()\n",
    "\t\tif got != test.want {\n",
    "\t\t\tt.Errorf(\"%s = %q, want %q\", descr, got, test.want)\n",
    "\t\t}\n",
    "\t}\n",
    "}\n"
   ]
  },
  {
   "cell_type": "markdown",
   "metadata": {},
   "source": [
    "### White-Box Testing"
   ]
  },
  {
   "cell_type": "code",
   "execution_count": 20,
   "metadata": {
    "code_folding": [
     0
    ]
   },
   "outputs": [],
   "source": [
    "//gopl.io/ch11/storage1\n",
    "// Copyright © 2016 Alan A. A. Donovan & Brian W. Kernighan.\n",
    "// License: https://creativecommons.org/licenses/by-nc-sa/4.0/\n",
    "\n",
    "// See page 311.\n",
    "\n",
    "// Package storage is part of a hypothetical cloud storage server.\n",
    "//!+main\n",
    "//package storage\n",
    "\n",
    "import (\n",
    "\t\"fmt\"\n",
    "\t\"log\"\n",
    "\t\"net/smtp\"\n",
    ")\n",
    "\n",
    "var usage = make(map[string]int64)\n",
    "\n",
    "func bytesInUse(username string) int64 { return usage[username] }\n",
    "\n",
    "// Email sender configuration.\n",
    "// NOTE: never put passwords in source code!\n",
    "const sender = \"notifications@example.com\"\n",
    "const password = \"correcthorsebatterystaple\"\n",
    "const hostname = \"smtp.example.com\"\n",
    "\n",
    "const template = `Warning: you are using %d bytes of storage,\n",
    "%d%% of your quota.`\n",
    "\n",
    "func CheckQuota(username string) {\n",
    "\tused := bytesInUse(username)\n",
    "\tconst quota = 1000000000 // 1GB\n",
    "\tpercent := 100 * used / quota\n",
    "\tif percent < 90 {\n",
    "\t\treturn // OK\n",
    "\t}\n",
    "\tmsg := fmt.Sprintf(template, used, percent)\n",
    "\tauth := smtp.PlainAuth(\"\", sender, password, hostname)\n",
    "\terr := smtp.SendMail(hostname+\":587\", auth, sender,\n",
    "\t\t[]string{username}, []byte(msg))\n",
    "\tif err != nil {\n",
    "\t\tlog.Printf(\"smtp.SendMail(%s) failed: %s\", username, err)\n",
    "\t}\n",
    "}\n",
    "\n",
    "//!-main"
   ]
  },
  {
   "cell_type": "code",
   "execution_count": 28,
   "metadata": {
    "code_folding": [
     0
    ]
   },
   "outputs": [],
   "source": [
    "//gopl.io/ch11/storage2\n",
    "// Copyright © 2016 Alan A. A. Donovan & Brian W. Kernighan.\n",
    "// License: https://creativecommons.org/licenses/by-nc-sa/4.0/\n",
    "\n",
    "// See page 312.\n",
    "\n",
    "// Package storage is part of a hypothetical cloud storage server.\n",
    "//package storage\n",
    "\n",
    "import (\n",
    "\t\"fmt\"\n",
    "\t\"log\"\n",
    "\t\"net/smtp\"\n",
    ")\n",
    "\n",
    "var usage = make(map[string]int64)\n",
    "\n",
    "func bytesInUse(username string) int64 { return usage[username] }\n",
    "\n",
    "// E-mail sender configuration.\n",
    "// NOTE: never put passwords in source code!\n",
    "const sender = \"notifications@example.com\"\n",
    "const password = \"correcthorsebatterystaple\"\n",
    "const hostname = \"smtp.example.com\"\n",
    "\n",
    "const template = `Warning: you are using %d bytes of storage,\n",
    "%d%% of your quota.`\n",
    "\n",
    "//!+factored\n",
    "var notifyUser = func(username, msg string) {\n",
    "\tauth := smtp.PlainAuth(\"\", sender, password, hostname)\n",
    "\terr := smtp.SendMail(hostname+\":587\", auth, sender,\n",
    "\t\t[]string{username}, []byte(msg))\n",
    "\tif err != nil {\n",
    "\t\tlog.Printf(\"smtp.SendMail(%s) failed: %s\", username, err)\n",
    "\t}\n",
    "}\n",
    "\n",
    "func CheckQuota(username string) {\n",
    "\tused := bytesInUse(username)\n",
    "\tconst quota = 1000000000 // 1GB\n",
    "\tpercent := 100 * used / quota\n",
    "\tif percent < 90 {\n",
    "\t\treturn // OK\n",
    "\t}\n",
    "\tmsg := fmt.Sprintf(template, used, percent)\n",
    "\tnotifyUser(username, msg)\n",
    "}\n",
    "\n",
    "//!-factored"
   ]
  },
  {
   "cell_type": "code",
   "execution_count": 29,
   "metadata": {
    "code_folding": [
     0
    ]
   },
   "outputs": [],
   "source": [
    "//gopl.io/ch11/quota_test.go\n",
    "// Copyright © 2016 Alan A. A. Donovan & Brian W. Kernighan.\n",
    "// License: https://creativecommons.org/licenses/by-nc-sa/4.0/\n",
    "\n",
    "//!+test\n",
    "//package storage\n",
    "\n",
    "import (\n",
    "\t\"strings\"\n",
    "\t\"testing\"\n",
    ")\n",
    "\n",
    "func TestCheckQuotaNotifiesUser(t *testing.T) {\n",
    "\tvar notifiedUser, notifiedMsg string\n",
    "\tnotifyUser = func(user, msg string) {\n",
    "\t\tnotifiedUser, notifiedMsg = user, msg\n",
    "\t}\n",
    "\n",
    "\tconst user = \"joe@example.org\"\n",
    "\tusage[user] = 980000000 // simulate a 980MB-used condition\n",
    "\n",
    "\tCheckQuota(user)\n",
    "\tif notifiedUser == \"\" && notifiedMsg == \"\" {\n",
    "\t\tt.Fatalf(\"notifyUser not called\")\n",
    "\t}\n",
    "\tif notifiedUser != user {\n",
    "\t\tt.Errorf(\"wrong user (%s) notified, want %s\",\n",
    "\t\t\tnotifiedUser, user)\n",
    "\t}\n",
    "\tconst wantSubstring = \"98% of your quota\"\n",
    "\tif !strings.Contains(notifiedMsg, wantSubstring) {\n",
    "\t\tt.Errorf(\"unexpected notification message <<%s>>, \"+\n",
    "\t\t\t\"want substring %q\", notifiedMsg, wantSubstring)\n",
    "\t}\n",
    "}\n",
    "\n",
    "//!-test\n",
    "\n",
    "/*\n",
    "//!+defer\n",
    "func TestCheckQuotaNotifiesUser(t *testing.T) {\n",
    "\t// Save and restore original notifyUser.\n",
    "\tsaved := notifyUser\n",
    "\tdefer func() { notifyUser = saved }()\n",
    "\t// Install the test's fake notifyUser.\n",
    "\tvar notifiedUser, notifiedMsg string\n",
    "\tnotifyUser = func(user, msg string) {\n",
    "\t\tnotifiedUser, notifiedMsg = user, msg\n",
    "\t}\n",
    "\t// ...rest of test...\n",
    "}\n",
    "//!-defer\n",
    "*/"
   ]
  },
  {
   "cell_type": "markdown",
   "metadata": {},
   "source": [
    "## Coverage"
   ]
  },
  {
   "cell_type": "code",
   "execution_count": 47,
   "metadata": {},
   "outputs": [
    {
     "ename": "ERROR",
     "evalue": "repl.go:5:22: undefined identifier: Env",
     "output_type": "error",
     "traceback": [
      "repl.go:5:22: undefined identifier: Env"
     ]
    }
   ],
   "source": [
    "import (\"fmt\";\"math\";\"testing\")\n",
    "func TestEval(t *testing.T) {\n",
    "        tests := []struct {\n",
    "                expr string\n",
    "                env  Env\n",
    "                want string\n",
    "        }{\n",
    "                {\"sqrt(A / pi)\", Env{\"A\": 87616, \"pi\": math.Pi}, \"167\"},\n",
    "                {\"pow(x, 3) + pow(y, 3)\", Env{\"x\": 12, \"y\": 1}, \"1729\"},\n",
    "                {\"pow(x, 3) + pow(y, 3)\", Env{\"x\": 9, \"y\": 10}, \"1729\"},\n",
    "                {\"5 / 9 * (F - 32)\", Env{\"F\": -40}, \"-40\"},\n",
    "                {\"5 / 9 * (F - 32)\", Env{\"F\": 32}, \"0\"},\n",
    "                {\"5 / 9 * (F - 32)\", Env{\"F\": 212}, \"100\"},\n",
    "                //!-Eval\n",
    "                // additional tests that don't appear in the book\n",
    "                {\"-1 + -x\", Env{\"x\": 1}, \"-2\"},\n",
    "                {\"-1 - x\", Env{\"x\": 1}, \"-2\"},\n",
    "                //!+Eval\n",
    "        }\n",
    "        var prevExpr string\n",
    "        for _, test := range tests {\n",
    "                // Print expr only when it changes.\n",
    "                if test.expr != prevExpr {\n",
    "                        fmt.Printf(\"\\n%s\\n\", test.expr)\n",
    "                        prevExpr = test.expr\n",
    "                }\n",
    "                expr, err := Parse(test.expr)\n",
    "                if err != nil {\n",
    "                        t.Error(err) // parse error\n",
    "                        continue\n",
    "                }\n",
    "                got := fmt.Sprintf(\"%.6g\", expr.Eval(test.env))\n",
    "                fmt.Printf(\"\\t%v => %s\\n\", test.env, got)\n",
    "                if got != test.want {\n",
    "                        t.Errorf(\"%s.Eval() in %v = %q, want %q\\n\",\n",
    "                                test.expr, test.env, got, test.want)\n",
    "                }\n",
    "        }\n",
    "}"
   ]
  },
  {
   "cell_type": "markdown",
   "metadata": {},
   "source": [
    "<code>\n",
    "$ go test -v -run=Coverage gopl.io/ch7/eval \n",
    "=== RUN   TestCoverage\n",
    "--- PASS: TestCoverage (0.00s)\n",
    "PASS\n",
    "ok      gopl.io/ch7/eval    0.011s\n",
    "</code>"
   ]
  },
  {
   "cell_type": "markdown",
   "metadata": {},
   "source": [
    "<code>\n",
    "$ go test -v -run=Coverage -coverprofile=c.out gopl.io/ch7/eval\n",
    "=== RUN   TestCoverage\n",
    "--- PASS: TestCoverage (0.00s)\n",
    "PASS\n",
    "coverage: 63.8% of statements\n",
    "ok      gopl.io/ch7/eval        0.018s  coverage: 63.8% of statements\n",
    "</code>"
   ]
  },
  {
   "cell_type": "markdown",
   "metadata": {},
   "source": [
    "<code>\n",
    "$ go tool cover -html=c.out\n",
    "HTML output written to /tmp/cover854632247/coverage.html\n",
    "</code>"
   ]
  },
  {
   "cell_type": "markdown",
   "metadata": {},
   "source": [
    "[coverage.html](cover120216535/coverage.html)"
   ]
  },
  {
   "cell_type": "markdown",
   "metadata": {},
   "source": [
    "## Benchmark Functions"
   ]
  },
  {
   "cell_type": "code",
   "execution_count": 49,
   "metadata": {},
   "outputs": [],
   "source": [
    "func BenchmarkIsPalindrome(b *testing.B) {\n",
    "        for i := 0; i < b.N; i++ {\n",
    "                IsPalindrome(\"A man, a plan, a canal: Panama\")\n",
    "        }\n",
    "}"
   ]
  },
  {
   "cell_type": "code",
   "execution_count": 50,
   "metadata": {
    "cell_style": "split"
   },
   "outputs": [],
   "source": [
    "//word.go.1\n",
    "func IsPalindrome(s string) bool {\n",
    "        var letters []rune\n",
    "        for _, r := range s {\n",
    "                if unicode.IsLetter(r) {\n",
    "                        letters = append(letters, unicode.ToLower(r))\n",
    "                }\n",
    "        }\n",
    "        for i := range letters {\n",
    "                if letters[i] != letters[len(letters)-1-i] {\n",
    "                        return false\n",
    "                }\n",
    "        }\n",
    "        return true\n",
    "}"
   ]
  },
  {
   "cell_type": "markdown",
   "metadata": {
    "cell_style": "split"
   },
   "source": [
    "<code>\n",
    "$ rm word.go; ln -s word.go.1 word.go; go test -bench=.\n",
    "goos: linux\n",
    "goarch: amd64\n",
    "pkg: gopl.io/ch11/word2\n",
    "cpu: Intel(R) Core(TM) i5-7200U CPU @ 2.50GHz\n",
    "BenchmarkIsPalindrome-4          3274288               376.9 ns/op\n",
    "PASS\n",
    "ok      gopl.io/ch11/word2      1.627s\n",
    "</code>"
   ]
  },
  {
   "cell_type": "markdown",
   "metadata": {
    "cell_style": "split"
   },
   "source": [
    "<code>\n",
    "rm word.go; ln -s word.go.1 word.go; go test -bench=. -benchmem\n",
    "goos: linux\n",
    "goarch: amd64\n",
    "pkg: gopl.io/ch11/word2\n",
    "cpu: Intel(R) Core(TM) i5-7200U CPU @ 2.50GHz\n",
    "BenchmarkIsPalindrome-4          2169936               545.5 ns/op           248 B/op          5 allocs/op\n",
    "PASS\n",
    "ok      gopl.io/ch11/word2      1.773s\n",
    "</code>"
   ]
  },
  {
   "cell_type": "markdown",
   "metadata": {},
   "source": [
    "-----------"
   ]
  },
  {
   "cell_type": "code",
   "execution_count": 51,
   "metadata": {
    "cell_style": "split"
   },
   "outputs": [],
   "source": [
    "//word.go.2\n",
    "func IsPalindrome(s string) bool {\n",
    "        var letters []rune\n",
    "        for _, r := range s {\n",
    "                if unicode.IsLetter(r) {\n",
    "                        letters = append(letters, unicode.ToLower(r))\n",
    "                }\n",
    "        }\n",
    "        //for i := range letters {\n",
    "        n := len(letters)/2\n",
    "        for i :=0; i<n; i++ {\n",
    "                if letters[i] != letters[len(letters)-1-i] {\n",
    "                        return false\n",
    "                }\n",
    "        }\n",
    "        return true\n",
    "}"
   ]
  },
  {
   "cell_type": "markdown",
   "metadata": {
    "cell_style": "split"
   },
   "source": [
    "<code>\n",
    "$ rm word.go; ln -s word.go.2 word.go; go test -bench=.\n",
    "goos: linux\n",
    "goarch: amd64\n",
    "pkg: gopl.io/ch11/word2\n",
    "cpu: Intel(R) Core(TM) i5-7200U CPU @ 2.50GHz\n",
    "BenchmarkIsPalindrome-4          3230330               363.3 ns/op\n",
    "PASS\n",
    "ok      gopl.io/ch11/word2      1.571s\n",
    "</code>"
   ]
  },
  {
   "cell_type": "markdown",
   "metadata": {
    "cell_style": "split"
   },
   "source": [
    "<code>\n",
    "rm word.go; ln -s word.go.2 word.go; go test -bench=. -benchmem\n",
    "goos: linux\n",
    "goarch: amd64\n",
    "pkg: gopl.io/ch11/word2\n",
    "cpu: Intel(R) Core(TM) i5-7200U CPU @ 2.50GHz\n",
    "BenchmarkIsPalindrome-4          3204992               364.9 ns/op           248 B/op          5 allocs/op\n",
    "PASS\n",
    "ok      gopl.io/ch11/word2      1.574s\n",
    "    </code>"
   ]
  },
  {
   "cell_type": "markdown",
   "metadata": {},
   "source": [
    "----"
   ]
  },
  {
   "cell_type": "code",
   "execution_count": 52,
   "metadata": {
    "cell_style": "split"
   },
   "outputs": [],
   "source": [
    "//word.go.3\n",
    "func IsPalindrome(s string) bool {\n",
    "        //var letters []rune\n",
    "        letters := make([]rune,0, len(s))\n",
    "        for _, r := range s {\n",
    "                if unicode.IsLetter(r) {\n",
    "                        letters = append(letters, unicode.ToLower(r))\n",
    "                }\n",
    "        }\n",
    "        for i := range letters {\n",
    "                if letters[i] != letters[len(letters)-1-i] {\n",
    "                        return false\n",
    "                }\n",
    "        }\n",
    "        return true\n",
    "}"
   ]
  },
  {
   "cell_type": "markdown",
   "metadata": {
    "cell_style": "split"
   },
   "source": [
    "<code>\n",
    "$ rm word.go; ln -s word.go.3 word.go; go test -bench=.\n",
    "goos: linux\n",
    "goarch: amd64\n",
    "pkg: gopl.io/ch11/word2\n",
    "cpu: Intel(R) Core(TM) i5-7200U CPU @ 2.50GHz\n",
    "BenchmarkIsPalindrome-4          5476538               209.7 ns/op\n",
    "PASS\n",
    "ok      gopl.io/ch11/word2      1.390s\n",
    "</code>"
   ]
  },
  {
   "cell_type": "markdown",
   "metadata": {
    "cell_style": "split"
   },
   "source": [
    "<code>\n",
    "rm word.go; ln -s word.go.3 word.go; go test -bench=. -benchmem\n",
    "goos: linux\n",
    "goarch: amd64\n",
    "pkg: gopl.io/ch11/word2\n",
    "cpu: Intel(R) Core(TM) i5-7200U CPU @ 2.50GHz\n",
    "BenchmarkIsPalindrome-4          5408686               211.7 ns/op           128 B/op          1 allocs/op\n",
    "PASS\n",
    "ok      gopl.io/ch11/word2      1.390s\n",
    "</code>"
   ]
  },
  {
   "cell_type": "markdown",
   "metadata": {},
   "source": [
    "------"
   ]
  },
  {
   "cell_type": "code",
   "execution_count": 53,
   "metadata": {
    "cell_style": "split"
   },
   "outputs": [],
   "source": [
    "//word.go.4\n",
    "func IsPalindrome(s string) bool {\n",
    "        //var letters []rune\n",
    "        letters := make([]rune,0, len(s))\n",
    "        for _, r := range s {\n",
    "                if unicode.IsLetter(r) {\n",
    "                        letters = append(letters, unicode.ToLower(r))\n",
    "                }\n",
    "        }\n",
    "        //for i := range letters {\n",
    "        n := len(letters)/2\n",
    "        for i :=0; i<n; i++ {\n",
    "                if letters[i] != letters[len(letters)-1-i] {\n",
    "                        return false\n",
    "                }\n",
    "        }\n",
    "        return true\n",
    "}"
   ]
  },
  {
   "cell_type": "markdown",
   "metadata": {
    "cell_style": "split"
   },
   "source": [
    "<code>\n",
    "rm word.go; ln -s word.go.4 word.go; go test -bench=.\n",
    "goos: linux\n",
    "goarch: amd64\n",
    "pkg: gopl.io/ch11/word2\n",
    "cpu: Intel(R) Core(TM) i5-7200U CPU @ 2.50GHz\n",
    "BenchmarkIsPalindrome-4          5644834               191.5 ns/op\n",
    "PASS\n",
    "ok      gopl.io/ch11/word2      1.319s\n",
    "</code>"
   ]
  },
  {
   "cell_type": "markdown",
   "metadata": {
    "cell_style": "split"
   },
   "source": [
    "<code>\n",
    "rm word.go; ln -s word.go.4 word.go; go test -bench=. -benchmem\n",
    "goos: linux\n",
    "goarch: amd64\n",
    "pkg: gopl.io/ch11/word2\n",
    "cpu: Intel(R) Core(TM) i5-7200U CPU @ 2.50GHz\n",
    "BenchmarkIsPalindrome-4          5759314               194.2 ns/op           128 B/op          1 allocs/op\n",
    "PASS\n",
    "ok      gopl.io/ch11/word2      1.354s\n",
    "</code>"
   ]
  },
  {
   "cell_type": "markdown",
   "metadata": {},
   "source": [
    "## Profiling"
   ]
  },
  {
   "cell_type": "markdown",
   "metadata": {},
   "source": [
    "<code>\n",
    "$ ulimit -n 4000\n",
    "$ go test -run=NONE -bench=ClientServerParallelTLS64 -cpuprofile=cpu.log net/http\n",
    "PASS\n",
    "goos: linux\n",
    "goarch: amd64\n",
    "pkg: net/http\n",
    "cpu: Intel(R) Xeon(R) CPU           X5675  @ 3.07GHz\n",
    "BenchmarkClientServerParallelTLS64-4    2021/12/21 16:37:16 http: TLS handshake error fr\n",
    "om 127.0.0.1:42421: read tcp 127.0.0.1:36819->127.0.0.1:42421: use of closed network con\n",
    "nection\n",
    "2021/12/21 16:37:16 http: TLS handshake error from 127.0.0.1:42450: read tcp 127.0.0.1:3\n",
    "6819->127.0.0.1:42450: use of closed network connection\n",
    "2021/12/21 16:37:16 http: TLS handshake error from 127.0.0.1:42463: read tcp 127.0.0.1:3\n",
    "6819->127.0.0.1:42463: use of closed network connection\n",
    "2021/12/21 16:37:16 http: TLS handshake error from 127.0.0.1:42454: write tcp 127.0.0.1:\n",
    "36819->127.0.0.1:42454: use of closed network connection\n",
    "2021/12/21 16:37:16 http: TLS handshake error from 127.0.0.1:42481: read tcp 127.0.0.1:3\n",
    "6819->127.0.0.1:42481: use of closed network connection\n",
    "2021/12/21 16:37:16 http: TLS handshake error from 127.0.0.1:42483: read tcp 127.0.0.1:3\n",
    "6819->127.0.0.1:42483: use of closed network connection\n",
    "2021/12/21 16:37:16 http: TLS handshake error from 127.0.0.1:42456: write tcp 127.0.0.1:\n",
    "36819->127.0.0.1:42456: use of closed network connection\n",
    "2021/12/21 16:37:16 http: TLS handshake error from 127.0.0.1:42479: write tcp 127.0.0.1:\n",
    "36819->127.0.0.1:42479: use of closed network connection\n",
    "2021/12/21 16:37:16 http: TLS handshake error from 127.0.0.1:42471: write tcp 127.0.0.1:\n",
    "36819->127.0.0.1:42471: use of closed network connection\n",
    "</code>"
   ]
  },
  {
   "cell_type": "markdown",
   "metadata": {},
   "source": [
    "<code>\n",
    "go tool pprof -text -nodecount=10 ./http.test cpu.log\n",
    "File: http.test\n",
    "Type: cpu\n",
    "Time: Dec 21, 2021 at 4:37pm (CST)\n",
    "Duration: 3.95s, Total samples = 9300ms (235.73%)\n",
    "Showing nodes accounting for 6210ms, 66.77% of 9300ms total\n",
    "Dropped 355 nodes (cum <= 46.50ms)\n",
    "Showing top 10 nodes out of 229\n",
    "      flat  flat%   sum%        cum   cum%\n",
    "    1840ms 19.78% 19.78%     1840ms 19.78%  math/big.addMulVVW\n",
    "    1340ms 14.41% 34.19%     1340ms 14.41%  vendor/golang.org/x/crypto/curve25519.ladderstep\n",
    "    1060ms 11.40% 45.59%     1080ms 11.61%  syscall.Syscall\n",
    "     560ms  6.02% 51.61%     2400ms 25.81%  math/big.nat.montgomery\n",
    "     550ms  5.91% 57.53%      550ms  5.91%  crypto/sha256.block\n",
    "     220ms  2.37% 59.89%      440ms  4.73%  runtime.pcvalue\n",
    "     180ms  1.94% 61.83%      210ms  2.26%  runtime.step\n",
    "     160ms  1.72% 63.55%      160ms  1.72%  vendor/golang.org/x/crypto/curve25519.square\n",
    "     150ms  1.61% 65.16%      170ms  1.83%  runtime.findObject\n",
    "     150ms  1.61% 66.77%      850ms  9.14%  runtime.mallocgc\n",
    "</code>"
   ]
  },
  {
   "cell_type": "markdown",
   "metadata": {},
   "source": [
    "## Example Functions"
   ]
  },
  {
   "cell_type": "code",
   "execution_count": 56,
   "metadata": {},
   "outputs": [],
   "source": [
    "func ExampleIsPalindrome() {\n",
    "        fmt.Println(IsPalindrome(\"A man, a plan, a canal: Panama\"))\n",
    "        fmt.Println(IsPalindrome(\"palindrome\"))\n",
    "        // Output:\n",
    "        // true\n",
    "        // false\n",
    "}\n"
   ]
  }
 ],
 "metadata": {
  "kernelspec": {
   "display_name": "Go",
   "language": "go",
   "name": "gophernotes"
  },
  "language_info": {
   "codemirror_mode": "",
   "file_extension": ".go",
   "mimetype": "",
   "name": "go",
   "nbconvert_exporter": "",
   "pygments_lexer": "",
   "version": "go1.17.1"
  },
  "latex_envs": {
   "LaTeX_envs_menu_present": true,
   "autoclose": false,
   "autocomplete": true,
   "bibliofile": "biblio.bib",
   "cite_by": "apalike",
   "current_citInitial": 1,
   "eqLabelWithNumbers": true,
   "eqNumInitial": 1,
   "hotkeys": {
    "equation": "Ctrl-E",
    "itemize": "Ctrl-I"
   },
   "labels_anchors": false,
   "latex_user_defs": false,
   "report_style_numbering": false,
   "user_envs_cfg": false
  },
  "toc": {
   "base_numbering": "11",
   "nav_menu": {},
   "number_sections": true,
   "sideBar": true,
   "skip_h1_title": false,
   "title_cell": "Table of Contents",
   "title_sidebar": "Contents",
   "toc_cell": true,
   "toc_position": {},
   "toc_section_display": true,
   "toc_window_display": false
  }
 },
 "nbformat": 4,
 "nbformat_minor": 2
}
