{
 "cells": [
  {
   "cell_type": "markdown",
   "metadata": {
    "toc": true
   },
   "source": [
    "<h1>Table of Contents<span class=\"tocSkip\"></span></h1>\n",
    "<div class=\"toc\"><ul class=\"toc-item\"><li><span><a href=\"#Testing\" data-toc-modified-id=\"Testing-11\"><span class=\"toc-item-num\">11&nbsp;&nbsp;</span>Testing</a></span><ul class=\"toc-item\"><li><span><a href=\"#The-go-test-Tool\" data-toc-modified-id=\"The-go-test-Tool-11.1\"><span class=\"toc-item-num\">11.1&nbsp;&nbsp;</span>The go test Tool</a></span></li><li><span><a href=\"#Test-Functions\" data-toc-modified-id=\"Test-Functions-11.2\"><span class=\"toc-item-num\">11.2&nbsp;&nbsp;</span>Test Functions</a></span><ul class=\"toc-item\"><li><span><a href=\"#Randomized-Testing\" data-toc-modified-id=\"Randomized-Testing-11.2.1\"><span class=\"toc-item-num\">11.2.1&nbsp;&nbsp;</span>Randomized Testing</a></span></li><li><span><a href=\"#Testing-a-Command\" data-toc-modified-id=\"Testing-a-Command-11.2.2\"><span class=\"toc-item-num\">11.2.2&nbsp;&nbsp;</span>Testing a Command</a></span></li><li><span><a href=\"#White-Box-Testing\" data-toc-modified-id=\"White-Box-Testing-11.2.3\"><span class=\"toc-item-num\">11.2.3&nbsp;&nbsp;</span>White-Box Testing</a></span></li></ul></li><li><span><a href=\"#Coverage\" data-toc-modified-id=\"Coverage-11.3\"><span class=\"toc-item-num\">11.3&nbsp;&nbsp;</span>Coverage</a></span></li><li><span><a href=\"#Benchmark-Functions\" data-toc-modified-id=\"Benchmark-Functions-11.4\"><span class=\"toc-item-num\">11.4&nbsp;&nbsp;</span>Benchmark Functions</a></span></li><li><span><a href=\"#Profiling\" data-toc-modified-id=\"Profiling-11.5\"><span class=\"toc-item-num\">11.5&nbsp;&nbsp;</span>Profiling</a></span></li><li><span><a href=\"#Example-Functions\" data-toc-modified-id=\"Example-Functions-11.6\"><span class=\"toc-item-num\">11.6&nbsp;&nbsp;</span>Example Functions</a></span></li></ul></li></ul></div>"
   ]
  },
  {
   "cell_type": "markdown",
   "metadata": {},
   "source": [
    "# Testing"
   ]
  },
  {
   "cell_type": "markdown",
   "metadata": {},
   "source": [
    "## The go test Tool"
   ]
  },
  {
   "cell_type": "markdown",
   "metadata": {},
   "source": [
    "## Test Functions"
   ]
  },
  {
   "cell_type": "code",
   "execution_count": 8,
   "metadata": {},
   "outputs": [],
   "source": [
    "import \"unicode\"\n",
    "func IsPalindrome(s string) bool {\n",
    "\tvar letters []rune\n",
    "\tfor _, r := range s {\n",
    "\t\tif unicode.IsLetter(r) {\n",
    "\t\t\tletters = append(letters, unicode.ToLower(r))\n",
    "\t\t}\n",
    "\t}\n",
    "\tfor i := range letters {\n",
    "\t\tif letters[i] != letters[len(letters)-1-i] {\n",
    "\t\t\treturn false\n",
    "\t\t}\n",
    "\t}\n",
    "\treturn true\n",
    "}"
   ]
  },
  {
   "cell_type": "markdown",
   "metadata": {},
   "source": [
    "### Randomized Testing"
   ]
  },
  {
   "cell_type": "code",
   "execution_count": 3,
   "metadata": {},
   "outputs": [],
   "source": [
    "import \"math/rand\"\n",
    "func randomPalindrome(rng *rand.Rand) string {\n",
    "\tn := rng.Intn(25) // random length up to 24\n",
    "\trunes := make([]rune, n)\n",
    "\tfor i := 0; i < (n+1)/2; i++ {\n",
    "\t\tr := rune(rng.Intn(0x1000)) // random rune up to '\\u0999'\n",
    "\t\trunes[i] = r\n",
    "\t\trunes[n-1-i] = r\n",
    "\t}\n",
    "\treturn string(runes)\n",
    "}"
   ]
  },
  {
   "cell_type": "code",
   "execution_count": 10,
   "metadata": {},
   "outputs": [],
   "source": [
    "import \"testing\"\n",
    "import \"time\"\n",
    "func TestRandomPalindromes(t *testing.T) {\n",
    "\t// Initialize a pseudo-random number generator.\n",
    "\tseed := time.Now().UTC().UnixNano()\n",
    "\tt.Logf(\"Random seed: %d\", seed)\n",
    "\trng := rand.New(rand.NewSource(seed))\n",
    "\n",
    "\tfor i := 0; i < 1000; i++ {\n",
    "\t\tp := randomPalindrome(rng)\n",
    "\t\tif !IsPalindrome(p) {\n",
    "\t\t\tt.Errorf(\"IsPalindrome(%q) = false\", p)\n",
    "\t\t}\n",
    "\t}\n",
    "}"
   ]
  },
  {
   "cell_type": "markdown",
   "metadata": {},
   "source": [
    "### Testing a Command"
   ]
  },
  {
   "cell_type": "code",
   "execution_count": 14,
   "metadata": {
    "code_folding": []
   },
   "outputs": [
    {
     "name": "stderr",
     "output_type": "stream",
     "text": [
      "gophernotes flag redefined: n\n"
     ]
    },
    {
     "ename": "ERROR",
     "evalue": "gophernotes flag redefined: n",
     "output_type": "error",
     "traceback": [
      "gophernotes flag redefined: n"
     ]
    }
   ],
   "source": [
    "//gopl.io/ch11/echo\n",
    "import (\n",
    "\t\"flag\"\n",
    "\t\"fmt\"\n",
    "\t\"io\"\n",
    "\t\"os\"\n",
    "\t\"strings\"\n",
    ")\n",
    "\n",
    "var (\n",
    "\tn = flag.Bool(\"n\", false, \"omit trailing newline\")\n",
    "\ts = flag.String(\"s\", \" \", \"separator\")\n",
    ")\n",
    "var out io.Writer = os.Stdout // modified during testing\n",
    "\n",
    "func main() {\n",
    "\tflag.Parse()\n",
    "\tif err := echo(!*n, *s, flag.Args()); err != nil {\n",
    "\t\tfmt.Fprintf(os.Stderr, \"echo: %v\\n\", err)\n",
    "\t\tos.Exit(1)\n",
    "\t}\n",
    "}\n",
    "\n",
    "func echo(newline bool, sep string, args []string) error {\n",
    "\tfmt.Fprint(out, strings.Join(args, sep))\n",
    "\tif newline {\n",
    "\t\tfmt.Fprintln(out)\n",
    "\t}\n",
    "\treturn nil\n",
    "}"
   ]
  },
  {
   "cell_type": "code",
   "execution_count": 17,
   "metadata": {
    "code_folding": [
     0
    ]
   },
   "outputs": [],
   "source": [
    "// Test of echo command.  Run with: go test gopl.io/ch11/echo\n",
    "\n",
    "//!+\n",
    "//package main\n",
    "\n",
    "import (\n",
    "\t\"bytes\"\n",
    "\t\"fmt\"\n",
    "\t\"testing\"\n",
    ")\n",
    "\n",
    "func TestEcho(t *testing.T) {\n",
    "\tvar tests = []struct {\n",
    "\t\tnewline bool\n",
    "\t\tsep     string\n",
    "\t\targs    []string\n",
    "\t\twant    string\n",
    "\t}{\n",
    "\t\t{true, \"\", []string{}, \"\\n\"},\n",
    "\t\t{false, \"\", []string{}, \"\"},\n",
    "\t\t{true, \"\\t\", []string{\"one\", \"two\", \"three\"}, \"one\\ttwo\\tthree\\n\"},\n",
    "\t\t{true, \",\", []string{\"a\", \"b\", \"c\"}, \"a,b,c\\n\"},\n",
    "\t\t{false, \":\", []string{\"1\", \"2\", \"3\"}, \"1:2:3\"},\n",
    "\t}\n",
    "\n",
    "\tfor _, test := range tests {\n",
    "\t\tdescr := fmt.Sprintf(\"echo(%v, %q, %q)\",\n",
    "\t\t\ttest.newline, test.sep, test.args)\n",
    "\n",
    "\t\tout = new(bytes.Buffer) // captured output\n",
    "\t\tif err := echo(test.newline, test.sep, test.args); err != nil {\n",
    "\t\t\tt.Errorf(\"%s failed: %v\", descr, err)\n",
    "\t\t\tcontinue\n",
    "\t\t}\n",
    "\t\tgot := out.(*bytes.Buffer).String()\n",
    "\t\tif got != test.want {\n",
    "\t\t\tt.Errorf(\"%s = %q, want %q\", descr, got, test.want)\n",
    "\t\t}\n",
    "\t}\n",
    "}\n"
   ]
  },
  {
   "cell_type": "markdown",
   "metadata": {},
   "source": [
    "### White-Box Testing"
   ]
  },
  {
   "cell_type": "code",
   "execution_count": 20,
   "metadata": {
    "code_folding": [
     0
    ]
   },
   "outputs": [],
   "source": [
    "//gopl.io/ch11/storage1\n",
    "// Copyright © 2016 Alan A. A. Donovan & Brian W. Kernighan.\n",
    "// License: https://creativecommons.org/licenses/by-nc-sa/4.0/\n",
    "\n",
    "// See page 311.\n",
    "\n",
    "// Package storage is part of a hypothetical cloud storage server.\n",
    "//!+main\n",
    "//package storage\n",
    "\n",
    "import (\n",
    "\t\"fmt\"\n",
    "\t\"log\"\n",
    "\t\"net/smtp\"\n",
    ")\n",
    "\n",
    "var usage = make(map[string]int64)\n",
    "\n",
    "func bytesInUse(username string) int64 { return usage[username] }\n",
    "\n",
    "// Email sender configuration.\n",
    "// NOTE: never put passwords in source code!\n",
    "const sender = \"notifications@example.com\"\n",
    "const password = \"correcthorsebatterystaple\"\n",
    "const hostname = \"smtp.example.com\"\n",
    "\n",
    "const template = `Warning: you are using %d bytes of storage,\n",
    "%d%% of your quota.`\n",
    "\n",
    "func CheckQuota(username string) {\n",
    "\tused := bytesInUse(username)\n",
    "\tconst quota = 1000000000 // 1GB\n",
    "\tpercent := 100 * used / quota\n",
    "\tif percent < 90 {\n",
    "\t\treturn // OK\n",
    "\t}\n",
    "\tmsg := fmt.Sprintf(template, used, percent)\n",
    "\tauth := smtp.PlainAuth(\"\", sender, password, hostname)\n",
    "\terr := smtp.SendMail(hostname+\":587\", auth, sender,\n",
    "\t\t[]string{username}, []byte(msg))\n",
    "\tif err != nil {\n",
    "\t\tlog.Printf(\"smtp.SendMail(%s) failed: %s\", username, err)\n",
    "\t}\n",
    "}\n",
    "\n",
    "//!-main"
   ]
  },
  {
   "cell_type": "code",
   "execution_count": 28,
   "metadata": {
    "code_folding": [
     0
    ]
   },
   "outputs": [],
   "source": [
    "//gopl.io/ch11/storage2\n",
    "// Copyright © 2016 Alan A. A. Donovan & Brian W. Kernighan.\n",
    "// License: https://creativecommons.org/licenses/by-nc-sa/4.0/\n",
    "\n",
    "// See page 312.\n",
    "\n",
    "// Package storage is part of a hypothetical cloud storage server.\n",
    "//package storage\n",
    "\n",
    "import (\n",
    "\t\"fmt\"\n",
    "\t\"log\"\n",
    "\t\"net/smtp\"\n",
    ")\n",
    "\n",
    "var usage = make(map[string]int64)\n",
    "\n",
    "func bytesInUse(username string) int64 { return usage[username] }\n",
    "\n",
    "// E-mail sender configuration.\n",
    "// NOTE: never put passwords in source code!\n",
    "const sender = \"notifications@example.com\"\n",
    "const password = \"correcthorsebatterystaple\"\n",
    "const hostname = \"smtp.example.com\"\n",
    "\n",
    "const template = `Warning: you are using %d bytes of storage,\n",
    "%d%% of your quota.`\n",
    "\n",
    "//!+factored\n",
    "var notifyUser = func(username, msg string) {\n",
    "\tauth := smtp.PlainAuth(\"\", sender, password, hostname)\n",
    "\terr := smtp.SendMail(hostname+\":587\", auth, sender,\n",
    "\t\t[]string{username}, []byte(msg))\n",
    "\tif err != nil {\n",
    "\t\tlog.Printf(\"smtp.SendMail(%s) failed: %s\", username, err)\n",
    "\t}\n",
    "}\n",
    "\n",
    "func CheckQuota(username string) {\n",
    "\tused := bytesInUse(username)\n",
    "\tconst quota = 1000000000 // 1GB\n",
    "\tpercent := 100 * used / quota\n",
    "\tif percent < 90 {\n",
    "\t\treturn // OK\n",
    "\t}\n",
    "\tmsg := fmt.Sprintf(template, used, percent)\n",
    "\tnotifyUser(username, msg)\n",
    "}\n",
    "\n",
    "//!-factored"
   ]
  },
  {
   "cell_type": "code",
   "execution_count": 29,
   "metadata": {
    "code_folding": [
     0
    ]
   },
   "outputs": [],
   "source": [
    "//gopl.io/ch11/quota_test.go\n",
    "// Copyright © 2016 Alan A. A. Donovan & Brian W. Kernighan.\n",
    "// License: https://creativecommons.org/licenses/by-nc-sa/4.0/\n",
    "\n",
    "//!+test\n",
    "//package storage\n",
    "\n",
    "import (\n",
    "\t\"strings\"\n",
    "\t\"testing\"\n",
    ")\n",
    "\n",
    "func TestCheckQuotaNotifiesUser(t *testing.T) {\n",
    "\tvar notifiedUser, notifiedMsg string\n",
    "\tnotifyUser = func(user, msg string) {\n",
    "\t\tnotifiedUser, notifiedMsg = user, msg\n",
    "\t}\n",
    "\n",
    "\tconst user = \"joe@example.org\"\n",
    "\tusage[user] = 980000000 // simulate a 980MB-used condition\n",
    "\n",
    "\tCheckQuota(user)\n",
    "\tif notifiedUser == \"\" && notifiedMsg == \"\" {\n",
    "\t\tt.Fatalf(\"notifyUser not called\")\n",
    "\t}\n",
    "\tif notifiedUser != user {\n",
    "\t\tt.Errorf(\"wrong user (%s) notified, want %s\",\n",
    "\t\t\tnotifiedUser, user)\n",
    "\t}\n",
    "\tconst wantSubstring = \"98% of your quota\"\n",
    "\tif !strings.Contains(notifiedMsg, wantSubstring) {\n",
    "\t\tt.Errorf(\"unexpected notification message <<%s>>, \"+\n",
    "\t\t\t\"want substring %q\", notifiedMsg, wantSubstring)\n",
    "\t}\n",
    "}\n",
    "\n",
    "//!-test\n",
    "\n",
    "/*\n",
    "//!+defer\n",
    "func TestCheckQuotaNotifiesUser(t *testing.T) {\n",
    "\t// Save and restore original notifyUser.\n",
    "\tsaved := notifyUser\n",
    "\tdefer func() { notifyUser = saved }()\n",
    "\t// Install the test's fake notifyUser.\n",
    "\tvar notifiedUser, notifiedMsg string\n",
    "\tnotifyUser = func(user, msg string) {\n",
    "\t\tnotifiedUser, notifiedMsg = user, msg\n",
    "\t}\n",
    "\t// ...rest of test...\n",
    "}\n",
    "//!-defer\n",
    "*/"
   ]
  },
  {
   "cell_type": "markdown",
   "metadata": {},
   "source": [
    "## Coverage"
   ]
  },
  {
   "cell_type": "markdown",
   "metadata": {},
   "source": [
    "[coverage.html](cover120216535/coverage.html)"
   ]
  },
  {
   "cell_type": "markdown",
   "metadata": {},
   "source": [
    "## Benchmark Functions"
   ]
  },
  {
   "cell_type": "markdown",
   "metadata": {},
   "source": [
    "## Profiling"
   ]
  },
  {
   "cell_type": "markdown",
   "metadata": {},
   "source": [
    "## Example Functions"
   ]
  }
 ],
 "metadata": {
  "kernelspec": {
   "display_name": "Go",
   "language": "go",
   "name": "gophernotes"
  },
  "language_info": {
   "codemirror_mode": "",
   "file_extension": ".go",
   "mimetype": "",
   "name": "go",
   "nbconvert_exporter": "",
   "pygments_lexer": "",
   "version": "go1.13"
  },
  "latex_envs": {
   "LaTeX_envs_menu_present": true,
   "autoclose": false,
   "autocomplete": true,
   "bibliofile": "biblio.bib",
   "cite_by": "apalike",
   "current_citInitial": 1,
   "eqLabelWithNumbers": true,
   "eqNumInitial": 1,
   "hotkeys": {
    "equation": "Ctrl-E",
    "itemize": "Ctrl-I"
   },
   "labels_anchors": false,
   "latex_user_defs": false,
   "report_style_numbering": false,
   "user_envs_cfg": false
  },
  "toc": {
   "base_numbering": "11",
   "nav_menu": {},
   "number_sections": true,
   "sideBar": true,
   "skip_h1_title": false,
   "title_cell": "Table of Contents",
   "title_sidebar": "Contents",
   "toc_cell": true,
   "toc_position": {},
   "toc_section_display": true,
   "toc_window_display": false
  }
 },
 "nbformat": 4,
 "nbformat_minor": 2
}
